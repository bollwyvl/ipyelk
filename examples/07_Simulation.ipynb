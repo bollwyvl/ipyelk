{
 "cells": [
  {
   "cell_type": "markdown",
   "metadata": {},
   "source": [
    "# 🦌 ELK Simulation 🐺\n",
    "\n",
    "`IPyElk` can serve as a rich, interactive frontend for complex systems that change over\n",
    "time."
   ]
  },
  {
   "cell_type": "code",
   "execution_count": null,
   "metadata": {},
   "outputs": [],
   "source": [
    "import json\n",
    "import math\n",
    "import re\n",
    "from datetime import datetime, timedelta\n",
    "from pathlib import Path\n",
    "\n",
    "import ipywidgets as W\n",
    "import networkx\n",
    "from IPython.display import display\n",
    "from numpy.random import normal, uniform\n",
    "\n",
    "import ipyelk\n",
    "import ipyelk.nx\n",
    "import ipyelk.tools\n",
    "from ipyelk import Elk\n",
    "from ipyelk.diagram import layout_options\n",
    "from ipyelk.diagram.elk_model import ElkLabel, ElkNode, ElkPort"
   ]
  },
  {
   "cell_type": "code",
   "execution_count": null,
   "metadata": {},
   "outputs": [],
   "source": [
    "earth, grass, deer, wolves, corpses, poop = populations = [\n",
    "    W.IntSlider(value=v, description=d, min_value=0, max_value=1000)\n",
    "    for d, v in {\"🌎\": 10, \"🌱\": 60, \"🦌\": 30, \"🐺\": 2, \"💀\": 5, \"💩\": 5}.items()\n",
    "]\n",
    "history = []\n",
    "play = W.Play(description=\"Simulate\", interval=1000)"
   ]
  },
  {
   "cell_type": "markdown",
   "metadata": {},
   "source": [
    "Date related-things."
   ]
  },
  {
   "cell_type": "code",
   "execution_count": null,
   "metadata": {},
   "outputs": [],
   "source": [
    "date = W.DatePicker(value=datetime.now(), description=\"📆\")\n",
    "months = [(datetime(month=m, year=2020, day=1).strftime(\"%b\"), m) for m in range(1, 13)]"
   ]
  },
  {
   "cell_type": "markdown",
   "metadata": {},
   "source": [
    "For some visualization, we'll use [vega](https://vega.github.io)."
   ]
  },
  {
   "cell_type": "code",
   "execution_count": null,
   "metadata": {},
   "outputs": [],
   "source": [
    "history = []\n",
    "\n",
    "\n",
    "def update_history():\n",
    "    d = date.value.strftime(\"%b %d %Y\")\n",
    "    history.extend(\n",
    "        [{\"Date\": d, \"Name\": p.description, \"Population\": p.value} for p in populations]\n",
    "    )"
   ]
  },
  {
   "cell_type": "code",
   "execution_count": null,
   "metadata": {},
   "outputs": [],
   "source": [
    "def get_vega_spec():\n",
    "    vega = {\n",
    "        \"$schema\": \"https://vega.github.io/schema/vega-lite/v3.json\",\n",
    "        \"description\": \"Populations over time\",\n",
    "        \"width\": \"650\",\n",
    "        \"data\": {\"values\": history},\n",
    "        \"mark\": \"line\",\n",
    "        \"encoding\": {\n",
    "            \"x\": {\"field\": \"Date\", \"type\": \"temporal\"},\n",
    "            \"y\": {\"field\": \"Population\", \"type\": \"quantitative\"},\n",
    "            \"color\": {\"field\": \"Name\", \"type\": \"nominal\"},\n",
    "        },\n",
    "    }\n",
    "    return {\"application/vnd.vegalite.v3+json\": vega}"
   ]
  },
  {
   "cell_type": "code",
   "execution_count": null,
   "metadata": {},
   "outputs": [],
   "source": [
    "out = W.Output(layout=dict(height=\"260px\", width=\"800px\"))"
   ]
  },
  {
   "cell_type": "code",
   "execution_count": null,
   "metadata": {},
   "outputs": [],
   "source": [
    "def update_plot():\n",
    "    out.clear_output()\n",
    "    with out:\n",
    "        display(get_vega_spec(), raw=True)"
   ]
  },
  {
   "cell_type": "code",
   "execution_count": null,
   "metadata": {},
   "outputs": [],
   "source": [
    "if __name__ == \"__main__\":\n",
    "    update_plot()\n",
    "    display(out)"
   ]
  },
  {
   "cell_type": "code",
   "execution_count": null,
   "metadata": {},
   "outputs": [],
   "source": [
    "def square_label(txt):\n",
    "    d = math.ceil(math.sqrt(len(txt)))\n",
    "    return re.sub(f\"(.{{,{d}}})\", r\"\\1\\n\", txt).strip().splitlines()"
   ]
  },
  {
   "cell_type": "markdown",
   "metadata": {},
   "source": [
    "Build up the new elk graph from the poulations."
   ]
  },
  {
   "cell_type": "code",
   "execution_count": null,
   "metadata": {},
   "outputs": [],
   "source": [
    "def make_graph():\n",
    "    graph = networkx.MultiDiGraph()\n",
    "    [\n",
    "        graph.add_node(\n",
    "            p.description,\n",
    "            labels=[\n",
    "                ElkLabel(\n",
    "                    id=f\"l_{p.description}_{i}\",\n",
    "                    text=line,\n",
    "                    layoutOptions={\n",
    "                        layout_options.NodeLabelPlacement.identifier: \"H_CENTER V_CENTER INSIDE\",\n",
    "                    },\n",
    "                )\n",
    "                for i, line in enumerate(square_label(p.description * p.value))\n",
    "            ],\n",
    "            layoutOptions={\n",
    "                layout_options.NodeSizeConstraints: \"NODE_LABELS FORCE_TABULAR_NODE_LABELS\",\n",
    "                layout_options.NodeLabelPlacement.identifier: \"H_CENTER V_CENTER\",\n",
    "            },\n",
    "        )\n",
    "        for p in populations\n",
    "        if p.value\n",
    "    ]\n",
    "\n",
    "    [\n",
    "        graph.add_edge(\n",
    "            eaten.description,\n",
    "            eater.description,\n",
    "            id=f\"e_{eater.description}_eats_{eaten.description}\",\n",
    "            labels=[\n",
    "                ElkLabel(\n",
    "                    text=text,\n",
    "                    id=f\"l_{eater.description}_eats_{eaten.description}\",\n",
    "                    layoutOptions={\n",
    "                        layout_options.edge_options.InlineEdgeLabels.identifier: \"true\"\n",
    "                    },\n",
    "                )\n",
    "            ],\n",
    "        )\n",
    "        for eaten, text, eater in [\n",
    "            [grass, \"eaten by\", deer],\n",
    "            [deer, \"eaten by\", wolves],\n",
    "            [deer, \"becomes\", corpses],\n",
    "            [wolves, \"make\", poop],\n",
    "            [deer, \"make\", poop],\n",
    "            [corpses, \"eaten by\", wolves],\n",
    "            [wolves, \"becomes\", corpses],\n",
    "            [corpses, \"decomposes into\", earth],\n",
    "            [poop, \"decomposes into\", earth],\n",
    "            [earth, \"grows\", grass],\n",
    "        ]\n",
    "        if eater.value and eaten.value\n",
    "    ]\n",
    "    return graph"
   ]
  },
  {
   "cell_type": "code",
   "execution_count": null,
   "metadata": {},
   "outputs": [],
   "source": [
    "graph = make_graph()\n",
    "elk = ipyelk.ElkDiagram()\n",
    "xelk = ipyelk.nx.XELK(source=(graph, None), label_key=\"labels\")\n",
    "xelk.layouts[None][\"parents\"].update(\n",
    "    {\n",
    "        layout_options.EdgeRouting.identifier: \"SPLINES\",\n",
    "        layout_options.NodeSizeConstraints.identifier: \"NODE_LABELS\",\n",
    "    }\n",
    ")\n",
    "xelk.connect(elk)\n",
    "elk_app = ipyelk.Elk(\n",
    "    transformer=xelk,\n",
    "    layout=dict(display=\"flex\", flex=\"1\"),\n",
    "    style={\n",
    "        \" rect.elknode\": {\n",
    "            \"stroke\": \"transparent !important\",\n",
    "            \"fill\": \"transparent !important\",\n",
    "        },\n",
    "        \" .sprotty-edge\": {\"font-weight\": \"bold\"},\n",
    "    },\n",
    ")"
   ]
  },
  {
   "cell_type": "markdown",
   "metadata": {},
   "source": [
    "Add simulation behaviors."
   ]
  },
  {
   "cell_type": "code",
   "execution_count": null,
   "metadata": {},
   "outputs": [],
   "source": [
    "knobs = []"
   ]
  },
  {
   "cell_type": "code",
   "execution_count": null,
   "metadata": {},
   "outputs": [],
   "source": [
    "sprout_season = W.SelectionRangeSlider(description=\"🌱📆\", value=(3, 10), options=months)\n",
    "sprout_rate = W.IntSlider(10, description=\"🌱📶\")\n",
    "knobs += [sprout_season, sprout_rate]"
   ]
  },
  {
   "cell_type": "code",
   "execution_count": null,
   "metadata": {},
   "outputs": [],
   "source": [
    "def grass_tick():\n",
    "    start, end = sprout_season.value\n",
    "    if start <= date.value.month <= end:\n",
    "        grass.value += sprout_rate.value\n",
    "        earth.value -= 1"
   ]
  },
  {
   "cell_type": "code",
   "execution_count": null,
   "metadata": {},
   "outputs": [],
   "source": [
    "deer_appetite = W.FloatSlider(0.15, description=\"🦌🍽️\")\n",
    "fawn_season = W.SelectionRangeSlider(description=\"🦌📆\", value=(4, 7), options=months)\n",
    "fawn_rate = W.FloatSlider(0.25, description=\"🦌🍼\")\n",
    "knobs += [deer_appetite, fawn_season, fawn_rate]"
   ]
  },
  {
   "cell_type": "code",
   "execution_count": null,
   "metadata": {},
   "outputs": [],
   "source": [
    "def deer_tick():\n",
    "    if not deer.value:\n",
    "        return\n",
    "    start, end = fawn_season.value\n",
    "    if start <= date.value.month <= end:\n",
    "        new_deer = (deer.value * fawn_rate.value) or 1\n",
    "        deer.value += new_deer\n",
    "    eaten = deer.value * deer_appetite.value\n",
    "    grass.value -= eaten\n",
    "    poop.value += eaten\n",
    "    if not grass.value:\n",
    "        died = deer.value / 4\n",
    "        deer.value -= died\n",
    "        corpses.value += died\n",
    "    if uniform() > 0.8:\n",
    "        deer.value -= 1\n",
    "        corpses.value += 1"
   ]
  },
  {
   "cell_type": "code",
   "execution_count": null,
   "metadata": {},
   "outputs": [],
   "source": [
    "wolf_appetite = W.FloatSlider(0.1, description=\"🐺🍽️\")\n",
    "pup_season = W.SelectionRangeSlider(description=\"🐺📆\", value=(4, 4), options=months)\n",
    "pup_rate = W.FloatSlider(0.25, description=\"🐺🍼\")\n",
    "pack_size = W.IntSlider(6, description=\"🐺🐺\", min_value=1)\n",
    "knobs += [wolf_appetite, pup_season, pup_rate, pack_size]"
   ]
  },
  {
   "cell_type": "code",
   "execution_count": null,
   "metadata": {},
   "outputs": [],
   "source": [
    "def wolf_tick():\n",
    "    if not wolves.value:\n",
    "        return\n",
    "    start, end = pup_season.value\n",
    "    if start <= date.value.month <= end:\n",
    "        wolves.value += pup_rate.value\n",
    "    hungry = wolves.value\n",
    "\n",
    "    if uniform() > 0.1:\n",
    "        kills = min(deer.value, wolves.value / pack_size.value)\n",
    "        deer.value -= kills\n",
    "        corpses.value += kills\n",
    "        hungry -= kills * pack_size.value\n",
    "        poop.value += kills\n",
    "\n",
    "    if hungry > 0 and corpses.value:\n",
    "        corpses.value -= 1\n",
    "        hungry = hungry - pack_size.value\n",
    "        poop.value += 1\n",
    "\n",
    "    if hungry > 0:\n",
    "        corpses.value += 1\n",
    "        wolves.value -= 1"
   ]
  },
  {
   "cell_type": "code",
   "execution_count": null,
   "metadata": {},
   "outputs": [],
   "source": [
    "def corpses_tick():\n",
    "    if not corpses.value:\n",
    "        return\n",
    "    decayed = corpses.value / 4\n",
    "    earth.value += decayed\n",
    "    corpses.value -= decayed"
   ]
  },
  {
   "cell_type": "code",
   "execution_count": null,
   "metadata": {},
   "outputs": [],
   "source": [
    "def poop_tick():\n",
    "    if not poop.value:\n",
    "        return\n",
    "    decayed = poop.value / 2\n",
    "    earth.value += decayed\n",
    "    poop.value -= decayed"
   ]
  },
  {
   "cell_type": "code",
   "execution_count": null,
   "metadata": {},
   "outputs": [],
   "source": [
    "def update_graph(change=None):\n",
    "    xelk.source = (make_graph(), None)"
   ]
  },
  {
   "cell_type": "code",
   "execution_count": null,
   "metadata": {},
   "outputs": [],
   "source": [
    "def tick(*args):\n",
    "    date.value = date.value + timedelta(days=7)\n",
    "    poop_tick()\n",
    "    corpses_tick()\n",
    "    grass_tick()\n",
    "    deer_tick()\n",
    "    wolf_tick()\n",
    "    update_history()\n",
    "    update_graph()\n",
    "    update_plot()"
   ]
  },
  {
   "cell_type": "markdown",
   "metadata": {},
   "source": [
    "Wire up observers."
   ]
  },
  {
   "cell_type": "code",
   "execution_count": null,
   "metadata": {},
   "outputs": [],
   "source": [
    "[p.observe(update_graph, \"value\") for p in populations]\n",
    "play.observe(tick, \"value\")"
   ]
  },
  {
   "cell_type": "markdown",
   "metadata": {},
   "source": [
    "Actually draw the app."
   ]
  },
  {
   "cell_type": "code",
   "execution_count": null,
   "metadata": {},
   "outputs": [],
   "source": [
    "app = W.HBox(\n",
    "    [\n",
    "        W.VBox([play, date, *populations, *knobs]),\n",
    "        W.VBox([elk_app, out], layout=dict(flex=\"1\")),\n",
    "    ],\n",
    "    layout=dict(flex=\"1\", height=\"100%\", min_height=\"80vh\"),\n",
    ")"
   ]
  },
  {
   "cell_type": "code",
   "execution_count": null,
   "metadata": {},
   "outputs": [],
   "source": [
    "if __name__ == \"__main__\":\n",
    "    display(app)\n",
    "    tick()"
   ]
  },
  {
   "cell_type": "markdown",
   "metadata": {},
   "source": [
    "## 🦌 Learn More 📖\n",
    "\n",
    "See the [other examples](./_index.ipynb)."
   ]
  }
 ],
 "metadata": {
  "kernelspec": {
   "display_name": "Python 3",
   "language": "python",
   "name": "python3"
  },
  "language_info": {
   "codemirror_mode": {
    "name": "ipython",
    "version": 3
   },
   "file_extension": ".py",
   "mimetype": "text/x-python",
   "name": "python",
   "nbconvert_exporter": "python",
   "pygments_lexer": "ipython3",
   "version": "3.7.8"
  }
 },
 "nbformat": 4,
 "nbformat_minor": 4
}
