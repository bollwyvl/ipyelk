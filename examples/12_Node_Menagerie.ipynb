{
 "cells": [
  {
   "cell_type": "markdown",
   "metadata": {},
   "source": [
    "# 🦌 Node Menagerie ⚡\n",
    "\n",
    "Demonstrating the variety of Node Shapes"
   ]
  },
  {
   "cell_type": "code",
   "execution_count": 2,
   "metadata": {},
   "outputs": [],
   "source": [
    "import json\n",
    "import pathlib\n",
    "from dataclasses import asdict\n",
    "\n",
    "import importnb\n",
    "import ipywidgets as W\n",
    "import ipywidgets\n",
    "import networkx as nx\n",
    "import traitlets\n",
    "from IPython.display import JSON, SVG\n",
    "\n",
    "import ipyelk\n",
    "import ipyelk.contrib.shapes.connectors as conn\n",
    "import ipyelk.diagram.elk_export\n",
    "import ipyelk.nx\n",
    "import ipyelk.tools\n",
    "from ipyelk import Elk\n",
    "from ipyelk.diagram import layout_options as opt\n",
    "from ipyelk.diagram.defs import (\n",
    "    Circle,\n",
    "    ConnectorDef,\n",
    "    Def,\n",
    "    Ellipse,\n",
    "    Path,\n",
    "    Point,\n",
    "    RawSVG,\n",
    "    Rect,\n",
    ")\n",
    "from ipyelk.diagram.elk_model import ElkLabel, ElkNode, ElkPort"
   ]
  },
  {
   "cell_type": "markdown",
   "metadata": {},
   "source": [
    "\n",
    "# I want to be able to:\n",
    "\n",
    "```Python\n",
    "class Ellipse(Symbol):\n",
    "    pass\n",
    "\n",
    "class Diamond(Symbol):\n",
    "    pass\n",
    "\n",
    "class Rect(Symbol): # default\n",
    "    pass\n",
    "\n",
    "class Compartment(Symbol):\n",
    "    pass\n",
    "\n",
    "\n",
    "\n",
    "\n",
    "```"
   ]
  },
  {
   "cell_type": "code",
   "execution_count": 3,
   "metadata": {},
   "outputs": [
    {
     "data": {
      "application/vnd.jupyter.widget-view+json": {
       "model_id": "c68640256e294710a0f6a74134072828",
       "version_major": 2,
       "version_minor": 0
      },
      "text/plain": [
       "LayoutAlgorithm(children=(Dropdown(description='Layout Algorithm', index=4, options=(('Draw2D Layout', 'org.ec…"
      ]
     },
     "metadata": {},
     "output_type": "display_data"
    }
   ],
   "source": [
    "from ipyelk.diagram.layout_options.layout import ELKRectanglePacking\n",
    "l = opt.LayoutAlgorithm(value=ELKRectanglePacking.identifier)\n",
    "l"
   ]
  },
  {
   "cell_type": "code",
   "execution_count": 20,
   "metadata": {},
   "outputs": [
    {
     "data": {
      "application/vnd.jupyter.widget-view+json": {
       "model_id": "87fb6cdf30fa4a66ab6abb305ba7ea38",
       "version_major": 2,
       "version_minor": 0
      },
      "text/plain": [
       "Elk(children=[HTML(value='<style>.styled-widget-140334144061200 .hidden{}</style>', layout=Layout(display='Non…"
      ]
     },
     "metadata": {},
     "output_type": "display_data"
    }
   ],
   "source": [
    "g = nx.Graph()\n",
    "tree = nx.DiGraph()\n",
    "\n",
    "record_layout = opt.OptionsWidget(\n",
    "    options=[\n",
    "        opt.LayoutAlgorithm(value=ELKRectanglePacking.identifier),\n",
    "        opt.HierarchyHandling(),\n",
    "        opt.Padding(left=0, right=0, bottom=0, top=0),\n",
    "        opt.NodeSpacing(spacing=0),\n",
    "        opt.EdgeNodeSpacing(spacing=0),\n",
    "        opt.AspectRatio(),\n",
    "        opt.ExpandNodes(activate=True),\n",
    "    ]\n",
    ").value\n",
    "\n",
    "compartment_opts = opt.OptionsWidget(\n",
    "    options=[\n",
    "        opt.NodeLabelPlacement(),\n",
    "        opt.NodeSizeConstraints()\n",
    "    ]\n",
    ").value\n",
    "g.add_node(\n",
    "    'record',\n",
    "#     properties={\n",
    "#         \"type\": \"node:compartment\",\n",
    "#     },\n",
    "    layoutOptions=record_layout\n",
    ")\n",
    "\n",
    "compartments = [\"a\", \"b\"]\n",
    "for i, c in enumerate(compartments):\n",
    "    g.add_node(\n",
    "        c,\n",
    "#         properties={\n",
    "#         \"type\": \"node:compartment\",\n",
    "#         },\n",
    "        layoutOptions=compartment_opts\n",
    "    )\n",
    "    \n",
    "    tree.add_edge('record', c)\n",
    "    \n",
    "#     if i == 0:\n",
    "#         tree.add_edge('record', compartments[i])\n",
    "#     if i >= 1:\n",
    "#         g.add_edge(\n",
    "#             compartments[i-1], compartments[i],\n",
    "#             properties={\n",
    "#                 \"cssClasses\": \"hidden\",\n",
    "#             },\n",
    "#         )\n",
    "#         tree.add_edge(\n",
    "#             compartments[i-1], compartments[i],\n",
    "#             properties={\n",
    "#                 \"cssClasses\": \"hidden\",\n",
    "#             },\n",
    "#         )\n",
    "        \n",
    "#         TODO need to add artificial edges between compartments?\n",
    "\n",
    "# configure app\n",
    "app = Elk(\n",
    "    transformer=ipyelk.nx.XELK(\n",
    "        layouts={\n",
    "            ipyelk.diagram.elk_model.ElkRoot:{\n",
    "                \"parents\":opt.OptionsWidget(\n",
    "\n",
    "                    options=[\n",
    "                        opt.LayoutAlgorithm(),\n",
    "                        opt.HierarchyHandling(),\n",
    "#                         opt.Direction(value=\"UP\"),\n",
    "#                         opt.NodeLabelPlacement(),\n",
    "#                         opt.ConsiderModelOrder(value=\"NODES_AND_EDGES\"),\n",
    "                    ]\n",
    "                ).value,\n",
    "            }\n",
    "        }, \n",
    "        source=(g, tree)\n",
    "    ),\n",
    "    layout={\"height\": \"100%\"},\n",
    "    style={\n",
    "        \" .hidden\": {\n",
    "#             \"display\": \"none\",\n",
    "        }\n",
    "    }\n",
    ")\n",
    "app"
   ]
  },
  {
   "cell_type": "code",
   "execution_count": 21,
   "metadata": {},
   "outputs": [
    {
     "data": {
      "text/plain": [
       "{'id': 'root',\n",
       " 'children': [{'id': 'record',\n",
       "   'children': [{'id': 'a',\n",
       "     'children': [],\n",
       "     'labels': [{'id': 'a_label_0_a',\n",
       "       'text': 'a',\n",
       "       'height': 13.015625,\n",
       "       'width': 9.0}],\n",
       "     'layoutOptions': {'org.eclipse.elk.nodeLabels.placement': 'H_LEFT V_TOP INSIDE',\n",
       "      'org.eclipse.elk.nodeSize.constraints': 'NODE_LABELS PORTS PORT_LABELS MINIMUM_SIZE'}},\n",
       "    {'id': 'b',\n",
       "     'children': [],\n",
       "     'labels': [{'id': 'b_label_0_b',\n",
       "       'text': 'b',\n",
       "       'height': 13.015625,\n",
       "       'width': 8.0}],\n",
       "     'layoutOptions': {'org.eclipse.elk.nodeLabels.placement': 'H_LEFT V_TOP INSIDE',\n",
       "      'org.eclipse.elk.nodeSize.constraints': 'NODE_LABELS PORTS PORT_LABELS MINIMUM_SIZE'}}],\n",
       "   'labels': [{'id': 'record_label_0_record',\n",
       "     'text': 'record',\n",
       "     'height': 13.015625,\n",
       "     'width': 34.5625}],\n",
       "   'layoutOptions': {'org.eclipse.elk.algorithm': 'org.eclipse.elk.rectpacking',\n",
       "    'org.eclipse.elk.hierarchyHandling': 'INCLUDE_CHILDREN',\n",
       "    'org.eclipse.elk.padding': '[top=0.0,bottom=0.0,left=0.0,right=0.0]',\n",
       "    'org.eclipse.elk.spacing.nodeNode': '0.0',\n",
       "    'org.eclipse.elk.edge.edgeNode': '0.0',\n",
       "    'org.eclipse.elk.aspectRatio': '0.0',\n",
       "    'org.eclipse.elk.expandNodes': 'true'}}],\n",
       " 'layoutOptions': {'org.eclipse.elk.algorithm': 'org.eclipse.elk.layered',\n",
       "  'org.eclipse.elk.hierarchyHandling': 'INCLUDE_CHILDREN'},\n",
       " 'labels': [{'id': '140334156074592', 'text': ''}]}"
      ]
     },
     "execution_count": 21,
     "metadata": {},
     "output_type": "execute_result"
    }
   ],
   "source": [
    "app.transformer.value"
   ]
  },
  {
   "cell_type": "code",
   "execution_count": 10,
   "metadata": {},
   "outputs": [
    {
     "ename": "TypeError",
     "evalue": "get() takes 2 positional arguments but 3 were given",
     "output_type": "error",
     "traceback": [
      "\u001b[0;31m---------------------------------------------------------------------------\u001b[0m",
      "\u001b[0;31mTypeError\u001b[0m                                 Traceback (most recent call last)",
      "\u001b[0;32m<ipython-input-10-2b4688c94974>\u001b[0m in \u001b[0;36masync-def-wrapper\u001b[0;34m()\u001b[0m\n",
      "\u001b[0;32m~/Documents/ipyelk/py_src/ipyelk/transform.py\u001b[0m in \u001b[0;36m_refresh\u001b[0;34m(self)\u001b[0m\n\u001b[1;32m     76\u001b[0m \u001b[0;34m\u001b[0m\u001b[0m\n\u001b[1;32m     77\u001b[0m     \u001b[0;32masync\u001b[0m \u001b[0;32mdef\u001b[0m \u001b[0m_refresh\u001b[0m\u001b[0;34m(\u001b[0m\u001b[0mself\u001b[0m\u001b[0;34m)\u001b[0m\u001b[0;34m:\u001b[0m\u001b[0;34m\u001b[0m\u001b[0;34m\u001b[0m\u001b[0m\n\u001b[0;32m---> 78\u001b[0;31m         \u001b[0mroot_node\u001b[0m \u001b[0;34m=\u001b[0m \u001b[0;32mawait\u001b[0m \u001b[0mself\u001b[0m\u001b[0;34m.\u001b[0m\u001b[0mtransform\u001b[0m\u001b[0;34m(\u001b[0m\u001b[0;34m)\u001b[0m\u001b[0;34m\u001b[0m\u001b[0;34m\u001b[0m\u001b[0m\n\u001b[0m\u001b[1;32m     79\u001b[0m         \u001b[0mvalue\u001b[0m \u001b[0;34m=\u001b[0m \u001b[0mroot_node\u001b[0m\u001b[0;34m.\u001b[0m\u001b[0mto_dict\u001b[0m\u001b[0;34m(\u001b[0m\u001b[0;34m)\u001b[0m\u001b[0;34m\u001b[0m\u001b[0;34m\u001b[0m\u001b[0m\n\u001b[1;32m     80\u001b[0m \u001b[0;34m\u001b[0m\u001b[0m\n",
      "\u001b[0;32m~/Documents/ipyelk/py_src/ipyelk/nx/transformer.py\u001b[0m in \u001b[0;36mtransform\u001b[0;34m(self)\u001b[0m\n\u001b[1;32m    138\u001b[0m         \u001b[0mports\u001b[0m\u001b[0;34m:\u001b[0m \u001b[0mPortMap\u001b[0m \u001b[0;34m=\u001b[0m \u001b[0;34m{\u001b[0m\u001b[0;34m}\u001b[0m\u001b[0;34m\u001b[0m\u001b[0;34m\u001b[0m\u001b[0m\n\u001b[1;32m    139\u001b[0m         \u001b[0;32mfor\u001b[0m \u001b[0mnode\u001b[0m \u001b[0;32min\u001b[0m \u001b[0mvisible_nodes\u001b[0m\u001b[0;34m:\u001b[0m\u001b[0;34m\u001b[0m\u001b[0;34m\u001b[0m\u001b[0m\n\u001b[0;32m--> 140\u001b[0;31m             \u001b[0melknode\u001b[0m\u001b[0;34m,\u001b[0m \u001b[0mnode_ports\u001b[0m \u001b[0;34m=\u001b[0m \u001b[0;32mawait\u001b[0m \u001b[0mself\u001b[0m\u001b[0;34m.\u001b[0m\u001b[0mmake_elknode\u001b[0m\u001b[0;34m(\u001b[0m\u001b[0mnode\u001b[0m\u001b[0;34m)\u001b[0m\u001b[0;34m\u001b[0m\u001b[0;34m\u001b[0m\u001b[0m\n\u001b[0m\u001b[1;32m    141\u001b[0m             \u001b[0;32mfor\u001b[0m \u001b[0mkey\u001b[0m\u001b[0;34m,\u001b[0m \u001b[0mvalue\u001b[0m \u001b[0;32min\u001b[0m \u001b[0mnode_ports\u001b[0m\u001b[0;34m.\u001b[0m\u001b[0mitems\u001b[0m\u001b[0;34m(\u001b[0m\u001b[0;34m)\u001b[0m\u001b[0;34m:\u001b[0m\u001b[0;34m\u001b[0m\u001b[0;34m\u001b[0m\u001b[0m\n\u001b[1;32m    142\u001b[0m                 \u001b[0mports\u001b[0m\u001b[0;34m[\u001b[0m\u001b[0mkey\u001b[0m\u001b[0;34m]\u001b[0m \u001b[0;34m=\u001b[0m \u001b[0mvalue\u001b[0m\u001b[0;34m\u001b[0m\u001b[0;34m\u001b[0m\u001b[0m\n",
      "\u001b[0;32m~/Documents/ipyelk/py_src/ipyelk/nx/transformer.py\u001b[0m in \u001b[0;36mmake_elknode\u001b[0;34m(self, node)\u001b[0m\n\u001b[1;32m    193\u001b[0m         layout = merge(\n\u001b[1;32m    194\u001b[0m             \u001b[0mnode_data\u001b[0m\u001b[0;34m.\u001b[0m\u001b[0mget\u001b[0m\u001b[0;34m(\u001b[0m\u001b[0;34m\"layoutOptions\"\u001b[0m\u001b[0;34m,\u001b[0m \u001b[0;34m{\u001b[0m\u001b[0;34m}\u001b[0m\u001b[0;34m)\u001b[0m\u001b[0;34m,\u001b[0m\u001b[0;34m\u001b[0m\u001b[0;34m\u001b[0m\u001b[0m\n\u001b[0;32m--> 195\u001b[0;31m             \u001b[0mself\u001b[0m\u001b[0;34m.\u001b[0m\u001b[0mget_layout\u001b[0m\u001b[0;34m(\u001b[0m\u001b[0mnode\u001b[0m\u001b[0;34m,\u001b[0m \u001b[0mElkNode\u001b[0m\u001b[0;34m)\u001b[0m\u001b[0;34m,\u001b[0m\u001b[0;34m\u001b[0m\u001b[0;34m\u001b[0m\u001b[0m\n\u001b[0m\u001b[1;32m    196\u001b[0m         )\n\u001b[1;32m    197\u001b[0m         \u001b[0mlabels\u001b[0m \u001b[0;34m=\u001b[0m \u001b[0;32mawait\u001b[0m \u001b[0mself\u001b[0m\u001b[0;34m.\u001b[0m\u001b[0mmake_labels\u001b[0m\u001b[0;34m(\u001b[0m\u001b[0mnode\u001b[0m\u001b[0;34m)\u001b[0m\u001b[0;34m\u001b[0m\u001b[0;34m\u001b[0m\u001b[0m\n",
      "\u001b[0;32m~/Documents/ipyelk/py_src/ipyelk/transform.py\u001b[0m in \u001b[0;36mmerge\u001b[0;34m(d1, d2)\u001b[0m\n\u001b[1;32m    157\u001b[0m         \u001b[0md2\u001b[0m \u001b[0;34m=\u001b[0m \u001b[0;34m{\u001b[0m\u001b[0;34m}\u001b[0m\u001b[0;34m\u001b[0m\u001b[0;34m\u001b[0m\u001b[0m\n\u001b[1;32m    158\u001b[0m \u001b[0;34m\u001b[0m\u001b[0m\n\u001b[0;32m--> 159\u001b[0;31m     \u001b[0mcl1\u001b[0m \u001b[0;34m=\u001b[0m \u001b[0md1\u001b[0m\u001b[0;34m.\u001b[0m\u001b[0mget\u001b[0m\u001b[0;34m(\u001b[0m\u001b[0;34m\"cssClasses\"\u001b[0m\u001b[0;34m,\u001b[0m \u001b[0;34m\"\"\u001b[0m\u001b[0;34m)\u001b[0m\u001b[0;34m\u001b[0m\u001b[0;34m\u001b[0m\u001b[0m\n\u001b[0m\u001b[1;32m    160\u001b[0m     \u001b[0mcl2\u001b[0m \u001b[0;34m=\u001b[0m \u001b[0md2\u001b[0m\u001b[0;34m.\u001b[0m\u001b[0mget\u001b[0m\u001b[0;34m(\u001b[0m\u001b[0;34m\"cssClasses\"\u001b[0m\u001b[0;34m,\u001b[0m \u001b[0;34m\"\"\u001b[0m\u001b[0;34m)\u001b[0m\u001b[0;34m\u001b[0m\u001b[0;34m\u001b[0m\u001b[0m\n\u001b[1;32m    161\u001b[0m     \u001b[0mcl\u001b[0m \u001b[0;34m=\u001b[0m \u001b[0;34m\" \"\u001b[0m\u001b[0;34m.\u001b[0m\u001b[0mjoin\u001b[0m\u001b[0;34m(\u001b[0m\u001b[0msorted\u001b[0m\u001b[0;34m(\u001b[0m\u001b[0mset\u001b[0m\u001b[0;34m(\u001b[0m\u001b[0;34m[\u001b[0m\u001b[0;34m*\u001b[0m\u001b[0mcl1\u001b[0m\u001b[0;34m.\u001b[0m\u001b[0msplit\u001b[0m\u001b[0;34m(\u001b[0m\u001b[0;34m)\u001b[0m\u001b[0;34m,\u001b[0m \u001b[0;34m*\u001b[0m\u001b[0mcl2\u001b[0m\u001b[0;34m.\u001b[0m\u001b[0msplit\u001b[0m\u001b[0;34m(\u001b[0m\u001b[0;34m)\u001b[0m\u001b[0;34m]\u001b[0m\u001b[0;34m)\u001b[0m\u001b[0;34m)\u001b[0m\u001b[0;34m)\u001b[0m\u001b[0;34m.\u001b[0m\u001b[0mstrip\u001b[0m\u001b[0;34m(\u001b[0m\u001b[0;34m)\u001b[0m\u001b[0;34m\u001b[0m\u001b[0;34m\u001b[0m\u001b[0m\n",
      "\u001b[0;31mTypeError\u001b[0m: get() takes 2 positional arguments but 3 were given"
     ]
    }
   ],
   "source": [
    "app.transformer.text_sizer = None\n",
    "await app.transformer._refresh()"
   ]
  },
  {
   "cell_type": "code",
   "execution_count": 11,
   "metadata": {},
   "outputs": [
    {
     "name": "stdout",
     "output_type": "stream",
     "text": [
      "> \u001b[0;32m/home/dfreeman6/Documents/ipyelk/py_src/ipyelk/transform.py\u001b[0m(159)\u001b[0;36mmerge\u001b[0;34m()\u001b[0m\n",
      "\u001b[0;32m    157 \u001b[0;31m        \u001b[0md2\u001b[0m \u001b[0;34m=\u001b[0m \u001b[0;34m{\u001b[0m\u001b[0;34m}\u001b[0m\u001b[0;34m\u001b[0m\u001b[0;34m\u001b[0m\u001b[0m\n",
      "\u001b[0m\u001b[0;32m    158 \u001b[0;31m\u001b[0;34m\u001b[0m\u001b[0m\n",
      "\u001b[0m\u001b[0;32m--> 159 \u001b[0;31m    \u001b[0mcl1\u001b[0m \u001b[0;34m=\u001b[0m \u001b[0md1\u001b[0m\u001b[0;34m.\u001b[0m\u001b[0mget\u001b[0m\u001b[0;34m(\u001b[0m\u001b[0;34m\"cssClasses\"\u001b[0m\u001b[0;34m,\u001b[0m \u001b[0;34m\"\"\u001b[0m\u001b[0;34m)\u001b[0m\u001b[0;34m\u001b[0m\u001b[0;34m\u001b[0m\u001b[0m\n",
      "\u001b[0m\u001b[0;32m    160 \u001b[0;31m    \u001b[0mcl2\u001b[0m \u001b[0;34m=\u001b[0m \u001b[0md2\u001b[0m\u001b[0;34m.\u001b[0m\u001b[0mget\u001b[0m\u001b[0;34m(\u001b[0m\u001b[0;34m\"cssClasses\"\u001b[0m\u001b[0;34m,\u001b[0m \u001b[0;34m\"\"\u001b[0m\u001b[0;34m)\u001b[0m\u001b[0;34m\u001b[0m\u001b[0;34m\u001b[0m\u001b[0m\n",
      "\u001b[0m\u001b[0;32m    161 \u001b[0;31m    \u001b[0mcl\u001b[0m \u001b[0;34m=\u001b[0m \u001b[0;34m\" \"\u001b[0m\u001b[0;34m.\u001b[0m\u001b[0mjoin\u001b[0m\u001b[0;34m(\u001b[0m\u001b[0msorted\u001b[0m\u001b[0;34m(\u001b[0m\u001b[0mset\u001b[0m\u001b[0;34m(\u001b[0m\u001b[0;34m[\u001b[0m\u001b[0;34m*\u001b[0m\u001b[0mcl1\u001b[0m\u001b[0;34m.\u001b[0m\u001b[0msplit\u001b[0m\u001b[0;34m(\u001b[0m\u001b[0;34m)\u001b[0m\u001b[0;34m,\u001b[0m \u001b[0;34m*\u001b[0m\u001b[0mcl2\u001b[0m\u001b[0;34m.\u001b[0m\u001b[0msplit\u001b[0m\u001b[0;34m(\u001b[0m\u001b[0;34m)\u001b[0m\u001b[0;34m]\u001b[0m\u001b[0;34m)\u001b[0m\u001b[0;34m)\u001b[0m\u001b[0;34m)\u001b[0m\u001b[0;34m.\u001b[0m\u001b[0mstrip\u001b[0m\u001b[0;34m(\u001b[0m\u001b[0;34m)\u001b[0m\u001b[0;34m\u001b[0m\u001b[0;34m\u001b[0m\u001b[0m\n",
      "\u001b[0m\n"
     ]
    },
    {
     "name": "stdin",
     "output_type": "stream",
     "text": [
      "ipdb>  d1\n"
     ]
    },
    {
     "name": "stdout",
     "output_type": "stream",
     "text": [
      "OptionsWidget()\n"
     ]
    },
    {
     "name": "stdin",
     "output_type": "stream",
     "text": [
      "ipdb>  d2\n"
     ]
    },
    {
     "name": "stdout",
     "output_type": "stream",
     "text": [
      "{}\n"
     ]
    },
    {
     "name": "stdin",
     "output_type": "stream",
     "text": [
      "ipdb>  c\n"
     ]
    }
   ],
   "source": [
    "%debug"
   ]
  },
  {
   "cell_type": "code",
   "execution_count": 22,
   "metadata": {},
   "outputs": [
    {
     "data": {
      "application/vnd.jupyter.widget-view+json": {
       "model_id": "8d27c64e5d8e42dcadda8336dbc5ab3f",
       "version_major": 2,
       "version_minor": 0
      },
      "text/plain": [
       "Elk(children=[HTML(value='<style>.styled-widget-140334145061904 .hidden{}</style>', layout=Layout(display='Non…"
      ]
     },
     "metadata": {},
     "output_type": "display_data"
    }
   ],
   "source": [
    "g = nx.Graph()\n",
    "tree = nx.DiGraph()\n",
    "\n",
    "layout = opt.OptionsWidget(\n",
    "    options=[\n",
    "            opt.Direction(value=\"DOWN\"),\n",
    "#             opt.HierarchyHandling(),\n",
    "        opt.NodeSizeConstraints(),\n",
    "        opt.NodeLabelPlacement(horizontal=\"center\"),\n",
    "        opt.Padding(left=0, right=0, bottom=0, top=0),\n",
    "        opt.NodeSpacing(spacing=0),\n",
    "        opt.EdgeNodeSpacing(spacing=0),\n",
    "        opt.ExpandNodes(activate=True),\n",
    "    ]\n",
    ").value\n",
    "# layout = {}\n",
    "\n",
    "g.add_node(\n",
    "    'record',\n",
    "#     properties={\n",
    "#         \"type\": \"node:compartment\",\n",
    "#     },\n",
    "    layoutOptions=layout\n",
    ")\n",
    "\n",
    "compartments = [\"a\", \"b\"]\n",
    "for i, c in enumerate(compartments):\n",
    "    g.add_node(\n",
    "        c,\n",
    "#         properties={\n",
    "#         \"type\": \"node:compartment\",\n",
    "#         },\n",
    "        layoutOptions=layout\n",
    "    ),\n",
    "    tree.add_edge('record', c)\n",
    "    \n",
    "#     if i == 0:\n",
    "#         tree.add_edge('record', compartments[i])\n",
    "    if i >= 1:\n",
    "        g.add_edge(\n",
    "            compartments[i-1], compartments[i],\n",
    "            properties={\n",
    "                \"cssClasses\": \"hidden\",\n",
    "            },\n",
    "        )\n",
    "#         tree.add_edge(\n",
    "#             compartments[i-1], compartments[i],\n",
    "#             properties={\n",
    "#                 \"cssClasses\": \"hidden\",\n",
    "#             },\n",
    "#         )\n",
    "        \n",
    "#         TODO need to add artificial edges between compartments?\n",
    "opt.Direction\n",
    "\n",
    "# configure app\n",
    "app = Elk(\n",
    "    transformer=ipyelk.nx.XELK(\n",
    "        layouts={\n",
    "            ipyelk.diagram.elk_model.ElkRoot:{\n",
    "                \"parents\":opt.OptionsWidget(\n",
    "\n",
    "                    options=[\n",
    "                        opt.LayoutAlgorithm(),\n",
    "                        opt.HierarchyHandling(),\n",
    "                        opt.Direction(value=\"UP\"),\n",
    "#                         opt.NodeLabelPlacement(),\n",
    "#                         opt.ConsiderModelOrder(value=\"NODES_AND_EDGES\"),\n",
    "                    ]\n",
    "                ).value,\n",
    "            }\n",
    "        }, \n",
    "        source=(g, tree)\n",
    "    ),\n",
    "    layout={\"height\": \"100%\"},\n",
    "    style={\n",
    "        \" .hidden\": {\n",
    "#             \"display\": \"none\",\n",
    "        }\n",
    "    }\n",
    ")\n",
    "app"
   ]
  },
  {
   "cell_type": "code",
   "execution_count": 7,
   "metadata": {},
   "outputs": [
    {
     "data": {
      "text/plain": [
       "{'id': 'root',\n",
       " 'children': [{'id': 'record',\n",
       "   'children': [{'id': 'a',\n",
       "     'children': [],\n",
       "     'labels': [{'id': 'a_label_0_a',\n",
       "       'text': 'a',\n",
       "       'height': 13.015625,\n",
       "       'width': 9.0}],\n",
       "     'layoutOptions': {'org.eclipse.elk.direction': 'DOWN',\n",
       "      'org.eclipse.elk.nodeSize.constraints': 'NODE_LABELS PORTS PORT_LABELS MINIMUM_SIZE',\n",
       "      'org.eclipse.elk.nodeLabels.placement': 'H_CENTER V_TOP INSIDE',\n",
       "      'org.eclipse.elk.padding': '[top=0.0,bottom=0.0,left=0.0,right=0.0]',\n",
       "      'org.eclipse.elk.spacing.nodeNode': '0.0',\n",
       "      'org.eclipse.elk.edge.edgeNode': '0.0',\n",
       "      'org.eclipse.elk.expandNodes': 'true'}},\n",
       "    {'id': 'b',\n",
       "     'children': [],\n",
       "     'labels': [{'id': 'b_label_0_b',\n",
       "       'text': 'b',\n",
       "       'height': 13.015625,\n",
       "       'width': 8.0}],\n",
       "     'layoutOptions': {'org.eclipse.elk.direction': 'DOWN',\n",
       "      'org.eclipse.elk.nodeSize.constraints': 'NODE_LABELS PORTS PORT_LABELS MINIMUM_SIZE',\n",
       "      'org.eclipse.elk.nodeLabels.placement': 'H_CENTER V_TOP INSIDE',\n",
       "      'org.eclipse.elk.padding': '[top=0.0,bottom=0.0,left=0.0,right=0.0]',\n",
       "      'org.eclipse.elk.spacing.nodeNode': '0.0',\n",
       "      'org.eclipse.elk.edge.edgeNode': '0.0',\n",
       "      'org.eclipse.elk.expandNodes': 'true'}}],\n",
       "   'edges': [{'id': 'a__None___b__None',\n",
       "     'sources': ['a'],\n",
       "     'targets': ['b'],\n",
       "     'properties': {'cssClasses': 'hidden'}}],\n",
       "   'labels': [{'id': 'record_label_0_record',\n",
       "     'text': 'record',\n",
       "     'height': 13.015625,\n",
       "     'width': 34.5625}],\n",
       "   'layoutOptions': {'org.eclipse.elk.direction': 'DOWN',\n",
       "    'org.eclipse.elk.nodeSize.constraints': 'NODE_LABELS PORTS PORT_LABELS MINIMUM_SIZE',\n",
       "    'org.eclipse.elk.nodeLabels.placement': 'H_CENTER V_TOP INSIDE',\n",
       "    'org.eclipse.elk.padding': '[top=0.0,bottom=0.0,left=0.0,right=0.0]',\n",
       "    'org.eclipse.elk.spacing.nodeNode': '0.0',\n",
       "    'org.eclipse.elk.edge.edgeNode': '0.0',\n",
       "    'org.eclipse.elk.expandNodes': 'true'}}],\n",
       " 'layoutOptions': {'org.eclipse.elk.algorithm': 'org.eclipse.elk.layered',\n",
       "  'org.eclipse.elk.hierarchyHandling': 'INCLUDE_CHILDREN',\n",
       "  'org.eclipse.elk.direction': 'UP'},\n",
       " 'labels': [{'id': '140703182369888', 'text': ''}]}"
      ]
     },
     "execution_count": 7,
     "metadata": {},
     "output_type": "execute_result"
    }
   ],
   "source": [
    "app.diagram.value"
   ]
  },
  {
   "cell_type": "code",
   "execution_count": 26,
   "metadata": {},
   "outputs": [
    {
     "data": {
      "application/vnd.jupyter.widget-view+json": {
       "model_id": "5241bb82f0fd4710b0389406d9fee9ef",
       "version_major": 2,
       "version_minor": 0
      },
      "text/plain": [
       "Elk(children=[HTML(value='<style>.styled-widget-140334149359312 .hidden{}</style>', layout=Layout(display='Non…"
      ]
     },
     "metadata": {},
     "output_type": "display_data"
    }
   ],
   "source": [
    "g = nx.Graph()\n",
    "tree = nx.DiGraph()\n",
    "\n",
    "node_types = {\n",
    "    'node:diamond': {},\n",
    "    'node:round': {},\n",
    "    \"node:image\":{\n",
    "#         'use':\"./static/base/images/favicon.ico\"#/untitled_example.svg\n",
    "#             \"use\": \"https://d15omoko64skxi.cloudfront.net/wp-content/uploads/2020/12/Big-Wins-Feature-Image-Final-1200x686.jpg\"\n",
    "        'use':\"./files/examples/untitled_example.svg\"\n",
    "    },\n",
    "    'node:comment':{},\n",
    "    \"node:path\": {\n",
    "        'use': \"M 0,0 L 0,100 L 20,30 Z\"\n",
    "    },\n",
    "    \"node:raw\": {\n",
    "#         \"use\": '<polygon points=\"50,0 100,50 50,100 0,50\"></polygon>'\n",
    "        \"use\": \"\"\"<g><rect fill=\"none\" height=\"24\" width=\"24\"/><path d=\"M17,15l1.55,1.55c-0.96,1.69-3.33,3.04-5.55,3.37V11h3V9h-3V7.82C14.16,7.4,15,6.3,15,5c0-1.65-1.35-3-3-3S9,3.35,9,5 c0,1.3,0.84,2.4,2,2.82V9H8v2h3v8.92c-2.22-0.33-4.59-1.68-5.55-3.37L7,15l-4-3v3c0,3.88,4.92,7,9,7s9-3.12,9-7v-3L17,15z M12,4 c0.55,0,1,0.45,1,1s-0.45,1-1,1s-1-0.45-1-1S11.45,4,12,4z\"/></g>\"\"\"\n",
    "    },\n",
    "    \"node:foreignobject\": {\n",
    "        \"use\": \"<input/>\"\n",
    "    },\n",
    "}\n",
    "for n_type, attrs in node_types.items():\n",
    "    g.add_node(\n",
    "        n_type,\n",
    "        width=100,\n",
    "        height=100,\n",
    "        properties = {\n",
    "            \"type\":n_type,\n",
    "            \"shape\": attrs,\n",
    "        }\n",
    "    )\n",
    "    \n",
    "    \n",
    "tree.add_edge('node:round', \"node:image\")\n",
    "g.add_edge(\"node:comment\", \"node:path\")\n",
    "\n",
    "\n",
    "\n",
    "# compartment experiments\n",
    "g.add_node(\n",
    "    'record',\n",
    "    properties={\n",
    "        \"type\": \"node:compartment\",\n",
    "    },\n",
    "    layoutOptions=opt.OptionsWidget(\n",
    "        options=[\n",
    "#             opt.Direction(value=\"DOWN\"),\n",
    "#             opt.HierarchyHandling(),\n",
    "            opt.NodeSizeConstraints(),\n",
    "            opt.NodeLabelPlacement(),\n",
    "            opt.Padding(left=0, right=0, bottom=0, top=0),\n",
    "            opt.NodeSpacing(spacing=0),\n",
    "            opt.EdgeNodeSpacing(spacing=0),\n",
    "        ]\n",
    "    ).value\n",
    ")\n",
    "\n",
    "compartments = [\"a\", \"b\", \"c\", \"d\"]\n",
    "for i, c in enumerate(compartments):\n",
    "    g.add_node(\n",
    "        c,\n",
    "        properties={\n",
    "        \"type\": \"node:compartment\",\n",
    "        },\n",
    "        layoutOptions=opt.OptionsWidget(\n",
    "            options=[\n",
    "#                 opt.Direction(value=\"LEFT\"),\n",
    "                opt.NodeSizeConstraints(),\n",
    "                opt.NodeLabelPlacement(),\n",
    "                opt.Padding(left=0, right=0, bottom=0, top=0),\n",
    "                opt.NodeSpacing(spacing=0),\n",
    "                opt.EdgeNodeSpacing(spacing=0),\n",
    "            ]\n",
    "        ).value\n",
    "    ),\n",
    "    \n",
    "    if i == 0:\n",
    "        tree.add_edge('record', compartments[i])\n",
    "    if i >= 1:\n",
    "        tree.add_edge(\n",
    "            compartments[i-1], compartments[i],\n",
    "            properties={\n",
    "                \"cssClasses\": \"hidden\",\n",
    "            },\n",
    "        )\n",
    "        \n",
    "#         TODO need to add artificial edges between compartments?\n",
    "opt.Direction\n",
    "\n",
    "# configure app\n",
    "app = Elk(\n",
    "    transformer=ipyelk.nx.XELK(\n",
    "        layouts={\n",
    "            ipyelk.diagram.elk_model.ElkRoot:{\n",
    "                \"parents\":opt.OptionsWidget(\n",
    "\n",
    "                    options=[\n",
    "                        opt.LayoutAlgorithm(),\n",
    "                        opt.HierarchyHandling(),\n",
    "#                         opt.Direction(value=\"UP\"),\n",
    "                        opt.NodeLabelPlacement(),\n",
    "#                         opt.ConsiderModelOrder(value=\"NODES_AND_EDGES\"),\n",
    "                    ]\n",
    "                ).value,\n",
    "            }\n",
    "        }, \n",
    "        source=(g, tree)\n",
    "    ),\n",
    "    layout={\"height\": \"100%\"},\n",
    "    style={\n",
    "        \" .hidden\": {\n",
    "#             \"display\": \"none\",\n",
    "        }\n",
    "    }\n",
    ")\n",
    "app\n",
    "\n"
   ]
  },
  {
   "cell_type": "code",
   "execution_count": 23,
   "metadata": {},
   "outputs": [
    {
     "data": {
      "application/vnd.jupyter.widget-view+json": {
       "model_id": "8a775fefeb874b0ca051798c6a9f2915",
       "version_major": 2,
       "version_minor": 0
      },
      "text/plain": [
       "EdgeNodeSpacing(children=(FloatSlider(value=0.0, description='Edge Node Spacing'),))"
      ]
     },
     "metadata": {},
     "output_type": "display_data"
    }
   ],
   "source": []
  },
  {
   "cell_type": "code",
   "execution_count": 10,
   "metadata": {},
   "outputs": [],
   "source": [
    "app.refresh()"
   ]
  },
  {
   "cell_type": "code",
   "execution_count": 4,
   "metadata": {},
   "outputs": [
    {
     "data": {
      "text/plain": [
       "'Werw'"
      ]
     },
     "execution_count": 4,
     "metadata": {},
     "output_type": "execute_result"
    }
   ],
   "source": [
    "a = \"werw\"\n",
    "a.title()"
   ]
  },
  {
   "cell_type": "code",
   "execution_count": 33,
   "metadata": {},
   "outputs": [
    {
     "data": {
      "application/json": {
       "children": [
        {
         "children": [
          {
           "children": [],
           "height": 100,
           "id": "node:image",
           "labels": [
            {
             "height": 13.015625,
             "id": "node:image_label_0_node:image",
             "text": "node:image",
             "width": 62.4375
            }
           ],
           "properties": {
            "shape": {
             "use": "./static/base/images/favicon.ico"
            },
            "type": "node:image"
           },
           "width": 100
          }
         ],
         "height": 100,
         "id": "node:round",
         "labels": [
          {
           "height": 13.015625,
           "id": "node:round_label_0_node:round",
           "text": "node:round",
           "width": 60.5
          }
         ],
         "properties": {
          "shape": {},
          "type": "node:round"
         },
         "width": 100
        },
        {
         "children": [
          {
           "children": [],
           "id": "a",
           "labels": [
            {
             "height": 13.015625,
             "id": "a_label_0_a",
             "text": "a",
             "width": 9
            }
           ],
           "layoutOptions": {
            "org.eclipse.elk.direction": "LEFT",
            "org.eclipse.elk.edge.edgeNode": "0.0",
            "org.eclipse.elk.nodeLabels.placement": "H_LEFT V_TOP INSIDE",
            "org.eclipse.elk.nodeSize.constraints": "NODE_LABELS PORTS PORT_LABELS MINIMUM_SIZE",
            "org.eclipse.elk.padding": "[top=0.0,bottom=0.0,left=0.0,right=0.0]",
            "org.eclipse.elk.spacing.nodeNode": "0.0"
           },
           "properties": {
            "type": "node:compartment"
           }
          },
          {
           "children": [],
           "id": "b",
           "labels": [
            {
             "height": 13.015625,
             "id": "b_label_0_b",
             "text": "b",
             "width": 8
            }
           ],
           "layoutOptions": {
            "org.eclipse.elk.direction": "LEFT",
            "org.eclipse.elk.edge.edgeNode": "0.0",
            "org.eclipse.elk.nodeLabels.placement": "H_LEFT V_TOP INSIDE",
            "org.eclipse.elk.nodeSize.constraints": "NODE_LABELS PORTS PORT_LABELS MINIMUM_SIZE",
            "org.eclipse.elk.padding": "[top=0.0,bottom=0.0,left=0.0,right=0.0]",
            "org.eclipse.elk.spacing.nodeNode": "0.0"
           },
           "properties": {
            "type": "node:compartment"
           }
          },
          {
           "children": [],
           "id": "c",
           "labels": [
            {
             "height": 13.015625,
             "id": "c_label_0_c",
             "text": "c",
             "width": 8
            }
           ],
           "layoutOptions": {
            "org.eclipse.elk.direction": "LEFT",
            "org.eclipse.elk.edge.edgeNode": "0.0",
            "org.eclipse.elk.nodeLabels.placement": "H_LEFT V_TOP INSIDE",
            "org.eclipse.elk.nodeSize.constraints": "NODE_LABELS PORTS PORT_LABELS MINIMUM_SIZE",
            "org.eclipse.elk.padding": "[top=0.0,bottom=0.0,left=0.0,right=0.0]",
            "org.eclipse.elk.spacing.nodeNode": "0.0"
           },
           "properties": {
            "type": "node:compartment"
           }
          },
          {
           "children": [],
           "id": "d",
           "labels": [
            {
             "height": 13.015625,
             "id": "d_label_0_d",
             "text": "d",
             "width": 8
            }
           ],
           "layoutOptions": {
            "org.eclipse.elk.direction": "LEFT",
            "org.eclipse.elk.edge.edgeNode": "0.0",
            "org.eclipse.elk.nodeLabels.placement": "H_LEFT V_TOP INSIDE",
            "org.eclipse.elk.nodeSize.constraints": "NODE_LABELS PORTS PORT_LABELS MINIMUM_SIZE",
            "org.eclipse.elk.padding": "[top=0.0,bottom=0.0,left=0.0,right=0.0]",
            "org.eclipse.elk.spacing.nodeNode": "0.0"
           },
           "properties": {
            "type": "node:compartment"
           }
          }
         ],
         "edges": [
          {
           "id": "a__None___b__None",
           "properties": {
            "cssClasses": "hidden"
           },
           "sources": [
            "a"
           ],
           "targets": [
            "b"
           ]
          },
          {
           "id": "b__None___c__None",
           "properties": {
            "cssClasses": "hidden"
           },
           "sources": [
            "b"
           ],
           "targets": [
            "c"
           ]
          },
          {
           "id": "c__None___d__None",
           "properties": {
            "cssClasses": "hidden"
           },
           "sources": [
            "c"
           ],
           "targets": [
            "d"
           ]
          }
         ],
         "id": "record",
         "labels": [
          {
           "height": 13.015625,
           "id": "record_label_0_record",
           "text": "record",
           "width": 34.5625
          }
         ],
         "layoutOptions": {
          "org.eclipse.elk.direction": "LEFT",
          "org.eclipse.elk.edge.edgeNode": "0.0",
          "org.eclipse.elk.nodeLabels.placement": "H_LEFT V_TOP INSIDE",
          "org.eclipse.elk.nodeSize.constraints": "NODE_LABELS PORTS PORT_LABELS MINIMUM_SIZE",
          "org.eclipse.elk.padding": "[top=0.0,bottom=0.0,left=0.0,right=0.0]",
          "org.eclipse.elk.spacing.nodeNode": "0.0"
         },
         "properties": {
          "type": "node:compartment"
         }
        },
        {
         "height": 100,
         "id": "node:diamond",
         "labels": [
          {
           "height": 13.015625,
           "id": "node:diamond_label_0_node:diamond",
           "text": "node:diamond",
           "width": 75.40625
          }
         ],
         "properties": {
          "shape": {},
          "type": "node:diamond"
         },
         "width": 100
        },
        {
         "height": 100,
         "id": "node:comment",
         "labels": [
          {
           "height": 13.015625,
           "id": "node:comment_label_0_node:comment",
           "text": "node:comment",
           "width": 79.875
          }
         ],
         "properties": {
          "shape": {},
          "type": "node:comment"
         },
         "width": 100
        },
        {
         "height": 100,
         "id": "node:path",
         "labels": [
          {
           "height": 13.015625,
           "id": "node:path_label_0_node:path",
           "text": "node:path",
           "width": 53.375
          }
         ],
         "properties": {
          "shape": {
           "use": "M 0,0 L 0,100 L 20,30 Z"
          },
          "type": "node:path"
         },
         "width": 100
        },
        {
         "height": 100,
         "id": "node:raw",
         "labels": [
          {
           "height": 13.015625,
           "id": "node:raw_label_0_node:raw",
           "text": "node:raw",
           "width": 50.546875
          }
         ],
         "properties": {
          "shape": {
           "use": "<polygon points=\"50,0 100,50 50,100 0,50\"></polygon>"
          },
          "type": "node:raw"
         },
         "width": 100
        },
        {
         "height": 100,
         "id": "node:foreignobject",
         "labels": [
          {
           "height": 13.015625,
           "id": "node:foreignobject_label_0_node:foreignobject",
           "text": "node:foreignobject",
           "width": 98.6875
          }
         ],
         "properties": {
          "shape": {
           "use": "<input/>"
          },
          "type": "node:foreignobject"
         },
         "width": 100
        }
       ],
       "id": "root",
       "labels": [
        {
         "id": "139905099129552",
         "text": ""
        }
       ],
       "layoutOptions": {
        "org.eclipse.elk.algorithm": "org.eclipse.elk.layered",
        "org.eclipse.elk.direction": "DOWN",
        "org.eclipse.elk.hierarchyHandling": "INCLUDE_CHILDREN",
        "org.eclipse.elk.nodeLabels.placement": "H_LEFT V_TOP INSIDE"
       }
      },
      "text/plain": [
       "<IPython.core.display.JSON object>"
      ]
     },
     "execution_count": 33,
     "metadata": {
      "application/json": {
       "expanded": false,
       "root": "root"
      }
     },
     "output_type": "execute_result"
    }
   ],
   "source": [
    "JSON(app.diagram.value)"
   ]
  },
  {
   "cell_type": "code",
   "execution_count": 8,
   "metadata": {},
   "outputs": [
    {
     "data": {
      "text/plain": [
       "{ElkRootNode(): {'parents': {'org.eclipse.elk.algorithm': 'org.eclipse.elk.layered',\n",
       "   'org.eclipse.elk.hierarchyHandling': 'INCLUDE_CHILDREN',\n",
       "   'org.eclipse.elk.direction': 'DOWN'}}}"
      ]
     },
     "execution_count": 8,
     "metadata": {},
     "output_type": "execute_result"
    }
   ],
   "source": [
    "app.transformer.layouts"
   ]
  },
  {
   "cell_type": "code",
   "execution_count": 11,
   "metadata": {},
   "outputs": [
    {
     "name": "stderr",
     "output_type": "stream",
     "text": [
      "Task exception was never retrieved\n",
      "future: <Task finished coro=<ElkTransformer._refresh() done, defined at /home/dfreeman6/Documents/ipyelk/py_src/ipyelk/transform.py:77> exception=AttributeError(\"'generator' object has no attribute 'items'\")>\n",
      "Traceback (most recent call last):\n",
      "  File \"/home/dfreeman6/Documents/ipyelk/py_src/ipyelk/transform.py\", line 78, in _refresh\n",
      "    root_node = await self.transform()\n",
      "  File \"/home/dfreeman6/Documents/ipyelk/py_src/ipyelk/nx/transformer.py\", line 129, in transform\n",
      "    visible_edges, hidden_edges = self.collect_edges()\n",
      "  File \"/home/dfreeman6/Documents/ipyelk/py_src/ipyelk/nx/transformer.py\", line 503, in collect_edges\n",
      "    closest_visible = map_visible(g, tree, attr)\n",
      "  File \"/home/dfreeman6/Documents/ipyelk/py_src/ipyelk/nx/nx.py\", line 154, in map_visible\n",
      "    if not is_hidden(tree, n, attr):\n",
      "  File \"/home/dfreeman6/Documents/ipyelk/py_src/ipyelk/nx/nx.py\", line 90, in is_hidden\n",
      "    for ancestor in nx.ancestors(tree, node):\n",
      "  File \"/home/dfreeman6/Documents/ipyelk/envs/default/lib/python3.7/site-packages/networkx/algorithms/dag.py\", line 80, in ancestors\n",
      "    anc = {n for n, d in nx.shortest_path_length(G, target=source).items()}\n",
      "AttributeError: 'generator' object has no attribute 'items'\n"
     ]
    }
   ],
   "source": [
    "app.refresh()"
   ]
  },
  {
   "cell_type": "code",
   "execution_count": 13,
   "metadata": {},
   "outputs": [
    {
     "data": {
      "text/plain": [
       "NodeView(('node:round', 'node:image', None, 'a', 'b', 'c', 'd'))"
      ]
     },
     "execution_count": 13,
     "metadata": {},
     "output_type": "execute_result"
    }
   ],
   "source": [
    "tree.nodes()"
   ]
  }
 ],
 "metadata": {
  "kernelspec": {
   "display_name": "Python 3",
   "language": "python",
   "name": "python3"
  },
  "language_info": {
   "codemirror_mode": {
    "name": "ipython",
    "version": 3
   },
   "file_extension": ".py",
   "mimetype": "text/x-python",
   "name": "python",
   "nbconvert_exporter": "python",
   "pygments_lexer": "ipython3",
   "version": "3.7.9"
  }
 },
 "nbformat": 4,
 "nbformat_minor": 4
}
