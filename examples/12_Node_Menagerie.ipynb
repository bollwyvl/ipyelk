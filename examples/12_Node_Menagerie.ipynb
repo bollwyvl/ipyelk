{
 "cells": [
  {
   "cell_type": "markdown",
   "metadata": {},
   "source": [
    "# 🦌 Node Menagerie ⚡\n",
    "\n",
    "Demonstrating the variety of Node Shapes and introduce the `Symbol` classes:\n",
    "* Rect - A rectangular node\n",
    "* Circle - A circlular node\n",
    "* Ellipse - An elliptical node\n",
    "* Diamond - A diamond node\n",
    "* Comment - A mostly rectangular node that has been notched in the upper right corner \n",
    "* Image - Wrapper for a `image` svg tag\n",
    "* Path - Wrapper for a `path` svg tag\n",
    "* SVG - embed raw svg\n",
    "\n",
    "* Widget - embed other jupyterlab widgets \n",
    "* HTML - embed a html sting \n",
    "\n",
    "These classes help to generate the valid ElkJSON structures that can be added to a networkx graphs and passed to the Elk display widgets. The generated JSON has `properties` -> `type` set to a value that will be inspected on the frontend to render the appropriate shape. When calling a shapes `to_json` method an `id` arguement should be supplied and will be included in the output dictionary. "
   ]
  },
  {
   "cell_type": "code",
   "execution_count": 1,
   "metadata": {},
   "outputs": [],
   "source": [
    "import importnb\n",
    "import networkx as nx\n",
    "from IPython.display import SVG\n",
    "\n",
    "import ipyelk\n",
    "import ipyelk.nx\n",
    "import ipyelk.tools\n",
    "import ipyelk.tools.tools\n",
    "\n",
    "# from ipyelk.contrib.library import logic_gates as logic\n",
    "from ipyelk import Elk\n",
    "from ipyelk.contrib.shapes import connectors as conn\n",
    "from ipyelk.contrib.shapes import shapes\n",
    "from ipyelk.diagram import elk_export, elk_model\n",
    "from ipyelk.diagram import layout_options as opt\n",
    "from ipyelk.diagram.defs import ConnectorDef, Def\n",
    "from ipyelk.diagram.layout_options.layout import ELKRectanglePacking\n",
    "from ipyelk.diagram import symbol\n",
    "# import ipyelk.diagram.elk_export\n",
    "import ipywidgets as W\n",
    "\n"
   ]
  },
  {
   "cell_type": "markdown",
   "metadata": {},
   "source": [
    "### Symbol Example"
   ]
  },
  {
   "cell_type": "code",
   "execution_count": 2,
   "metadata": {},
   "outputs": [],
   "source": [
    "def symbol_example():\n",
    "    g = nx.Graph()\n",
    "    tree = nx.DiGraph()\n",
    "\n",
    "    width = 150\n",
    "    height = 100\n",
    "\n",
    "    symbols = [\n",
    "        symbol.Image(\n",
    "            value=\"./files/examples/untitled_example.svg\",\n",
    "        ),\n",
    "        symbol.SVG(\n",
    "            value=\"\"\"<g><rect fill=\"none\" height=\"24\" width=\"24\"/><path d=\"M17,15l1.55,1.55c-0.96,1.69-3.33,3.04-5.55,3.37V11h3V9h-3V7.82C14.16,7.4,15,6.3,15,5c0-1.65-1.35-3-3-3S9,3.35,9,5 c0,1.3,0.84,2.4,2,2.82V9H8v2h3v8.92c-2.22-0.33-4.59-1.68-5.55-3.37L7,15l-4-3v3c0,3.88,4.92,7,9,7s9-3.12,9-7v-3L17,15z M12,4 c0.55,0,1,0.45,1,1s-0.45,1-1,1s-1-0.45-1-1S11.45,4,12,4z\"/></g>\"\"\"\n",
    "        ),\n",
    "        symbol.Path(\n",
    "            value=\"M 0,0 L 0,100 L 20,30 Z\",\n",
    "        ),\n",
    "        symbol.ForeignObject(\n",
    "            value=\"<input/>\"\n",
    "        ),\n",
    "        symbol.Rect(),\n",
    "        symbol.Diamond(),\n",
    "        symbol.Comment(),\n",
    "        symbol.Circle(radius=width/2),\n",
    "        symbol.Ellipse(rx=width/2, ry=height/2),\n",
    "        symbol.HTML(value=\"<h1>Hello World</h1>\")\n",
    "    ]\n",
    "\n",
    "    for i, s in enumerate(symbols):\n",
    "        id = str(i)\n",
    "        s.width = width\n",
    "        s.height = height\n",
    "        data = s.to_json(id=id)\n",
    "        data[\"labels\"] = [s.__class__.__name__]\n",
    "        g.add_node(id, **data)\n",
    "\n",
    "    # configure app\n",
    "    app = Elk(\n",
    "        transformer=ipyelk.nx.XELK(\n",
    "            layouts={\n",
    "                ipyelk.diagram.elk_model.ElkRoot: {\n",
    "                    \"parents\": opt.OptionsWidget(\n",
    "                        options=[\n",
    "                            opt.LayoutAlgorithm(),\n",
    "                            opt.HierarchyHandling(),\n",
    "                            opt.NodeLabelPlacement(),\n",
    "                        ]\n",
    "                    ).value,\n",
    "                }\n",
    "            },\n",
    "            source=(g, tree),\n",
    "        ),\n",
    "        layout={\"height\": \"100%\"},\n",
    "    )\n",
    "    return app"
   ]
  },
  {
   "cell_type": "code",
   "execution_count": 3,
   "metadata": {},
   "outputs": [
    {
     "data": {
      "application/vnd.jupyter.widget-view+json": {
       "model_id": "97fc6f3ef8b34d97a9ad133aa35f2027",
       "version_major": 2,
       "version_minor": 0
      },
      "text/plain": [
       "Elk(children=[HTML(value='<style></style>', layout=Layout(display='None')), ElkDiagram(layouter=ElkJS(), value…"
      ]
     },
     "metadata": {},
     "output_type": "display_data"
    }
   ],
   "source": [
    "if __name__ == \"__main__\":\n",
    "    symbol_app = symbol_example()\n",
    "    display(symbol_app)"
   ]
  },
  {
   "cell_type": "markdown",
   "metadata": {},
   "source": [
    "### Widget Example\n",
    "Demonstate how to attach jupyterlab widgets for use in diagram nodes."
   ]
  },
  {
   "cell_type": "code",
   "execution_count": 4,
   "metadata": {},
   "outputs": [],
   "source": [
    "def widget_example():\n",
    "    slider_box = W.VBox(children=[W.FloatSlider() for i in range(5)])\n",
    "\n",
    "    g = nx.Graph()\n",
    "    tree = nx.DiGraph()\n",
    "\n",
    "    g.add_node(\"sliders\")\n",
    "\n",
    "    g.add_node(\"slider_box\", \n",
    "               **symbol.Widget(\n",
    "                    width=320,\n",
    "                    height=200,\n",
    "                    widget=slider_box\n",
    "               ).to_json(id=\"slider_box\")\n",
    "              )\n",
    "    g.add_edge(\"sliders\", \"slider_box\")\n",
    "\n",
    "    for i, slider in enumerate(slider_box.children):\n",
    "        id = str(i)\n",
    "        g.add_node(id, \n",
    "                   **symbol.Widget(\n",
    "                        width=320,\n",
    "                        height=70,\n",
    "                        widget=slider\n",
    "                    ).to_json(id=id)\n",
    "                  )\n",
    "        tree.add_edge(\"sliders\", id)\n",
    "\n",
    "    # configure app\n",
    "    app = Elk(\n",
    "        transformer=ipyelk.nx.XELK(\n",
    "            layouts={\n",
    "                ipyelk.diagram.elk_model.ElkRoot: {\n",
    "                    \"parents\": opt.OptionsWidget(\n",
    "                        options=[\n",
    "                            opt.LayoutAlgorithm(),\n",
    "                            opt.HierarchyHandling(),\n",
    "                            opt.NodeLabelPlacement(),\n",
    "                        ]\n",
    "                    ).value,\n",
    "                }\n",
    "            },\n",
    "            source=(g, tree),\n",
    "        ),\n",
    "        layout={\"height\": \"100%\"},\n",
    "    )\n",
    "    toggle = ipyelk.tools.tools.ToggleCollapsedBtn(app=app)\n",
    "    fit = ipyelk.tools.tools.FitBtn(app=app)\n",
    "    app.toolbar.commands = [fit, toggle]\n",
    "    return app"
   ]
  },
  {
   "cell_type": "code",
   "execution_count": 5,
   "metadata": {},
   "outputs": [
    {
     "data": {
      "application/vnd.jupyter.widget-view+json": {
       "model_id": "d7b74ff3f272450da0ed2e15e9b6de63",
       "version_major": 2,
       "version_minor": 0
      },
      "text/plain": [
       "Elk(children=[HTML(value='<style></style>', layout=Layout(display='None')), ElkDiagram(layouter=ElkJS(), value…"
      ]
     },
     "metadata": {},
     "output_type": "display_data"
    }
   ],
   "source": [
    "if __name__ == \"__main__\":\n",
    "    widget_app = widget_example()\n",
    "    display(widget_app)"
   ]
  },
  {
   "cell_type": "markdown",
   "metadata": {},
   "source": [
    "### Nesting Diagrams "
   ]
  },
  {
   "cell_type": "code",
   "execution_count": 6,
   "metadata": {},
   "outputs": [],
   "source": [
    "def nesting_diagram_example():\n",
    "    # build graphs\n",
    "    slider_diagram = widget_example()\n",
    "    g = nx.Graph()\n",
    "    tree = nx.DiGraph()\n",
    "\n",
    "    g.add_node(\"n1\", width=40, height=40)\n",
    "    tree.add_node(\"slider_diagram\", hidden=True)\n",
    "\n",
    "    g.add_node(\n",
    "        \"slider_diagram\",\n",
    "        **symbol.Widget(\n",
    "            width=400,\n",
    "            height=700,\n",
    "            widget=slider_diagram\n",
    "        ).to_json(id=\"slider_diagram\")\n",
    "    )\n",
    "    tree.add_edge(\"n1\", \"slider_diagram\")\n",
    "\n",
    "    \n",
    "    # configure app\n",
    "    app = Elk(\n",
    "        transformer=ipyelk.nx.XELK(\n",
    "            layouts={\n",
    "                ipyelk.diagram.elk_model.ElkRoot: {\n",
    "                    \"parents\": opt.OptionsWidget(\n",
    "                        options=[\n",
    "                            opt.LayoutAlgorithm(),\n",
    "                            opt.HierarchyHandling(),\n",
    "                            opt.NodeLabelPlacement(),\n",
    "                        ]\n",
    "                    ).value,\n",
    "                }\n",
    "            },\n",
    "            source=(g, tree),\n",
    "        ),\n",
    "        layout={\"height\": \"100%\"},\n",
    "    )\n",
    "    toggle = ipyelk.tools.tools.ToggleCollapsedBtn(app=app)\n",
    "    fit = ipyelk.tools.tools.FitBtn(app=app)\n",
    "    app.toolbar.commands = [fit, toggle]\n",
    "    return app"
   ]
  },
  {
   "cell_type": "code",
   "execution_count": 10,
   "metadata": {},
   "outputs": [
    {
     "data": {
      "application/vnd.jupyter.widget-view+json": {
       "model_id": "16079cec69544f51bbc18b24c80337a5",
       "version_major": 2,
       "version_minor": 0
      },
      "text/plain": [
       "Elk(children=[HTML(value='<style></style>', layout=Layout(display='None')), ElkDiagram(layouter=ElkJS(), value…"
      ]
     },
     "metadata": {},
     "output_type": "display_data"
    }
   ],
   "source": [
    "if __name__ == \"__main__\":\n",
    "    nested_app = nesting_diagram_example()\n",
    "    display(nested_app)"
   ]
  },
  {
   "cell_type": "markdown",
   "metadata": {},
   "source": [
    "# Waiting on ElkJS 0.7.1 for hopeful bug fixes"
   ]
  },
  {
   "cell_type": "code",
   "execution_count": 8,
   "metadata": {},
   "outputs": [
    {
     "data": {
      "application/vnd.jupyter.widget-view+json": {
       "model_id": "204d462aea394ac5a6101646ee861f09",
       "version_major": 2,
       "version_minor": 0
      },
      "text/plain": [
       "Elk(children=[HTML(value='<style>.styled-widget-140599362595600 .hidden{}</style>', layout=Layout(display='Non…"
      ]
     },
     "metadata": {},
     "output_type": "display_data"
    }
   ],
   "source": [
    "app = Elk(\n",
    "    transformer=ipyelk.nx.XELK(\n",
    "#         layouts={\n",
    "#             elk_model.ElkRoot: {\n",
    "#                 \"parents\": diagram_opts,\n",
    "#             },\n",
    "#         },\n",
    "#         source=(g, tree),\n",
    "    ),\n",
    "    layout={\"height\": \"100%\"},\n",
    "    style={\n",
    "        \" .hidden\": {\n",
    "            #             \"display\": \"none\",\n",
    "        }\n",
    "    },\n",
    ")\n",
    "app"
   ]
  },
  {
   "cell_type": "code",
   "execution_count": 9,
   "metadata": {},
   "outputs": [
    {
     "ename": "SyntaxError",
     "evalue": "invalid syntax (<ipython-input-9-664b6ddb04c4>, line 21)",
     "output_type": "error",
     "traceback": [
      "\u001b[0;36m  File \u001b[0;32m\"<ipython-input-9-664b6ddb04c4>\"\u001b[0;36m, line \u001b[0;32m21\u001b[0m\n\u001b[0;31m    .to_json()\u001b[0m\n\u001b[0m    ^\u001b[0m\n\u001b[0;31mSyntaxError\u001b[0m\u001b[0;31m:\u001b[0m invalid syntax\n"
     ]
    }
   ],
   "source": [
    "from dataclasses import dataclass\n",
    "from typing import Dict\n",
    "@dataclass\n",
    "class Record(symbol.Symbol):\n",
    "    def get_layoutOptions(self) -> Dict:\n",
    "        return opt.OptionsWidget(\n",
    "            options=[\n",
    "                opt.HierarchyHandling(),\n",
    "                opt.Padding(left=0, right=0, bottom=0, top=0),\n",
    "                opt.NodeSpacing(spacing=0),\n",
    "                opt.EdgeNodeSpacing(spacing=0),\n",
    "                opt.AspectRatio(),\n",
    "                opt.ExpandNodes(activate=True),\n",
    "                opt.NodeLabelPlacement(horizontal=\"center\", vertical=\"center\"),\n",
    "                #         opt.NodeSizeConstraints(),\n",
    "                opt.ComponentsSpacing(spacing=0),\n",
    "                opt.NodeSpacing(spacing=0),\n",
    "            ]\n",
    "        ).value\n",
    "            \n",
    ".to_json()\n",
    "g = nx.Graph()\n",
    "tree = nx.DiGraph()\n",
    "r = Record()\n",
    "g.add_node(\"a\", r.to_json(id=\"a\"))"
   ]
  },
  {
   "cell_type": "code",
   "execution_count": 11,
   "metadata": {},
   "outputs": [
    {
     "data": {
      "text/plain": [
       "\u001b[0;31mInit signature:\u001b[0m\n",
       "\u001b[0msymbol\u001b[0m\u001b[0;34m.\u001b[0m\u001b[0mSymbol\u001b[0m\u001b[0;34m(\u001b[0m\u001b[0;34m\u001b[0m\n",
       "\u001b[0;34m\u001b[0m    \u001b[0mwidth\u001b[0m\u001b[0;34m:\u001b[0m \u001b[0mUnion\u001b[0m\u001b[0;34m[\u001b[0m\u001b[0mfloat\u001b[0m\u001b[0;34m,\u001b[0m \u001b[0mNoneType\u001b[0m\u001b[0;34m]\u001b[0m \u001b[0;34m=\u001b[0m \u001b[0;32mNone\u001b[0m\u001b[0;34m,\u001b[0m\u001b[0;34m\u001b[0m\n",
       "\u001b[0;34m\u001b[0m    \u001b[0mheight\u001b[0m\u001b[0;34m:\u001b[0m \u001b[0mUnion\u001b[0m\u001b[0;34m[\u001b[0m\u001b[0mfloat\u001b[0m\u001b[0;34m,\u001b[0m \u001b[0mNoneType\u001b[0m\u001b[0;34m]\u001b[0m \u001b[0;34m=\u001b[0m \u001b[0;32mNone\u001b[0m\u001b[0;34m,\u001b[0m\u001b[0;34m\u001b[0m\n",
       "\u001b[0;34m\u001b[0m    \u001b[0mchildren\u001b[0m\u001b[0;34m:\u001b[0m \u001b[0mList\u001b[0m\u001b[0;34m[\u001b[0m\u001b[0mForwardRef\u001b[0m\u001b[0;34m(\u001b[0m\u001b[0;34m'Symbol'\u001b[0m\u001b[0;34m)\u001b[0m\u001b[0;34m]\u001b[0m \u001b[0;34m=\u001b[0m \u001b[0;34m<\u001b[0m\u001b[0mfactory\u001b[0m\u001b[0;34m>\u001b[0m\u001b[0;34m,\u001b[0m\u001b[0;34m\u001b[0m\n",
       "\u001b[0;34m\u001b[0m    \u001b[0mx\u001b[0m\u001b[0;34m:\u001b[0m \u001b[0mUnion\u001b[0m\u001b[0;34m[\u001b[0m\u001b[0mfloat\u001b[0m\u001b[0;34m,\u001b[0m \u001b[0mNoneType\u001b[0m\u001b[0;34m]\u001b[0m \u001b[0;34m=\u001b[0m \u001b[0;32mNone\u001b[0m\u001b[0;34m,\u001b[0m\u001b[0;34m\u001b[0m\n",
       "\u001b[0;34m\u001b[0m    \u001b[0my\u001b[0m\u001b[0;34m:\u001b[0m \u001b[0mUnion\u001b[0m\u001b[0;34m[\u001b[0m\u001b[0mfloat\u001b[0m\u001b[0;34m,\u001b[0m \u001b[0mNoneType\u001b[0m\u001b[0;34m]\u001b[0m \u001b[0;34m=\u001b[0m \u001b[0;32mNone\u001b[0m\u001b[0;34m,\u001b[0m\u001b[0;34m\u001b[0m\n",
       "\u001b[0;34m\u001b[0m\u001b[0;34m)\u001b[0m \u001b[0;34m->\u001b[0m \u001b[0;32mNone\u001b[0m\u001b[0;34m\u001b[0m\u001b[0;34m\u001b[0m\u001b[0m\n",
       "\u001b[0;31mDocstring:\u001b[0m      Symbol(width: Union[float, NoneType] = None, height: Union[float, NoneType] = None, children: List[ForwardRef('Symbol')] = <factory>, x: Union[float, NoneType] = None, y: Union[float, NoneType] = None)\n",
       "\u001b[0;31mSource:\u001b[0m        \n",
       "\u001b[0;32mclass\u001b[0m \u001b[0mSymbol\u001b[0m\u001b[0;34m(\u001b[0m\u001b[0mABC\u001b[0m\u001b[0;34m)\u001b[0m\u001b[0;34m:\u001b[0m\u001b[0;34m\u001b[0m\n",
       "\u001b[0;34m\u001b[0m    \u001b[0midentifier\u001b[0m\u001b[0;34m:\u001b[0m \u001b[0mClassVar\u001b[0m\u001b[0;34m[\u001b[0m\u001b[0mstr\u001b[0m\u001b[0;34m]\u001b[0m \u001b[0;34m=\u001b[0m \u001b[0;32mNone\u001b[0m\u001b[0;34m\u001b[0m\n",
       "\u001b[0;34m\u001b[0m    \u001b[0mtype\u001b[0m\u001b[0;34m:\u001b[0m \u001b[0mClassVar\u001b[0m\u001b[0;34m[\u001b[0m\u001b[0mstr\u001b[0m\u001b[0;34m]\u001b[0m \u001b[0;34m=\u001b[0m \u001b[0;32mNone\u001b[0m\u001b[0;34m\u001b[0m\n",
       "\u001b[0;34m\u001b[0m\u001b[0;34m\u001b[0m\n",
       "\u001b[0;34m\u001b[0m    \u001b[0mwidth\u001b[0m\u001b[0;34m:\u001b[0m \u001b[0mOptional\u001b[0m\u001b[0;34m[\u001b[0m\u001b[0mfloat\u001b[0m\u001b[0;34m]\u001b[0m \u001b[0;34m=\u001b[0m \u001b[0;32mNone\u001b[0m\u001b[0;34m\u001b[0m\n",
       "\u001b[0;34m\u001b[0m    \u001b[0mheight\u001b[0m\u001b[0;34m:\u001b[0m \u001b[0mOptional\u001b[0m\u001b[0;34m[\u001b[0m\u001b[0mfloat\u001b[0m\u001b[0;34m]\u001b[0m \u001b[0;34m=\u001b[0m \u001b[0;32mNone\u001b[0m\u001b[0;34m\u001b[0m\n",
       "\u001b[0;34m\u001b[0m    \u001b[0mchildren\u001b[0m\u001b[0;34m:\u001b[0m \u001b[0mList\u001b[0m\u001b[0;34m[\u001b[0m\u001b[0;34m\"Symbol\"\u001b[0m\u001b[0;34m]\u001b[0m \u001b[0;34m=\u001b[0m \u001b[0mfield\u001b[0m\u001b[0;34m(\u001b[0m\u001b[0mdefault_factory\u001b[0m\u001b[0;34m=\u001b[0m\u001b[0mlist\u001b[0m\u001b[0;34m)\u001b[0m\u001b[0;34m\u001b[0m\n",
       "\u001b[0;34m\u001b[0m    \u001b[0mx\u001b[0m\u001b[0;34m:\u001b[0m \u001b[0mOptional\u001b[0m\u001b[0;34m[\u001b[0m\u001b[0mfloat\u001b[0m\u001b[0;34m]\u001b[0m \u001b[0;34m=\u001b[0m \u001b[0;32mNone\u001b[0m\u001b[0;34m\u001b[0m\n",
       "\u001b[0;34m\u001b[0m    \u001b[0my\u001b[0m\u001b[0;34m:\u001b[0m \u001b[0mOptional\u001b[0m\u001b[0;34m[\u001b[0m\u001b[0mfloat\u001b[0m\u001b[0;34m]\u001b[0m \u001b[0;34m=\u001b[0m \u001b[0;32mNone\u001b[0m\u001b[0;34m\u001b[0m\n",
       "\u001b[0;34m\u001b[0m\u001b[0;34m\u001b[0m\n",
       "\u001b[0;34m\u001b[0m    \u001b[0;32mdef\u001b[0m \u001b[0m__hash__\u001b[0m\u001b[0;34m(\u001b[0m\u001b[0mself\u001b[0m\u001b[0;34m)\u001b[0m\u001b[0;34m:\u001b[0m\u001b[0;34m\u001b[0m\n",
       "\u001b[0;34m\u001b[0m        \u001b[0;34m\"\"\"Simple hashing function to make it easier to use as a networkx node\"\"\"\u001b[0m\u001b[0;34m\u001b[0m\n",
       "\u001b[0;34m\u001b[0m        \u001b[0;32mreturn\u001b[0m \u001b[0mhash\u001b[0m\u001b[0;34m(\u001b[0m\u001b[0mself\u001b[0m\u001b[0;34m.\u001b[0m\u001b[0mid\u001b[0m\u001b[0;34m)\u001b[0m\u001b[0;34m\u001b[0m\n",
       "\u001b[0;34m\u001b[0m\u001b[0;34m\u001b[0m\n",
       "\u001b[0;34m\u001b[0m    \u001b[0;32mdef\u001b[0m \u001b[0mto_json\u001b[0m\u001b[0;34m(\u001b[0m\u001b[0mself\u001b[0m\u001b[0;34m,\u001b[0m \u001b[0mid\u001b[0m\u001b[0;34m=\u001b[0m\u001b[0;32mNone\u001b[0m\u001b[0;34m)\u001b[0m\u001b[0;34m:\u001b[0m\u001b[0;34m\u001b[0m\n",
       "\u001b[0;34m\u001b[0m        \u001b[0;34m\"\"\"Returns a valid elk node dictionary\"\"\"\u001b[0m\u001b[0;34m\u001b[0m\n",
       "\u001b[0;34m\u001b[0m        \u001b[0mdata\u001b[0m \u001b[0;34m=\u001b[0m \u001b[0;34m{\u001b[0m\u001b[0;34m\u001b[0m\n",
       "\u001b[0;34m\u001b[0m            \u001b[0;34m\"id\"\u001b[0m\u001b[0;34m:\u001b[0m \u001b[0mid\u001b[0m\u001b[0;34m,\u001b[0m\u001b[0;34m\u001b[0m\n",
       "\u001b[0;34m\u001b[0m            \u001b[0;34m\"children\"\u001b[0m\u001b[0;34m:\u001b[0m \u001b[0;34m[\u001b[0m\u001b[0mc\u001b[0m\u001b[0;34m(\u001b[0m\u001b[0;34m)\u001b[0m \u001b[0;32mfor\u001b[0m \u001b[0mc\u001b[0m \u001b[0;32min\u001b[0m \u001b[0mgetattr\u001b[0m\u001b[0;34m(\u001b[0m\u001b[0mself\u001b[0m\u001b[0;34m,\u001b[0m \u001b[0;34m\"children\"\u001b[0m\u001b[0;34m,\u001b[0m \u001b[0;34m[\u001b[0m\u001b[0;34m]\u001b[0m\u001b[0;34m)\u001b[0m\u001b[0;34m]\u001b[0m\u001b[0;34m,\u001b[0m\u001b[0;34m\u001b[0m\n",
       "\u001b[0;34m\u001b[0m            \u001b[0;34m\"properties\"\u001b[0m\u001b[0;34m:\u001b[0m \u001b[0mself\u001b[0m\u001b[0;34m.\u001b[0m\u001b[0mget_properties\u001b[0m\u001b[0;34m(\u001b[0m\u001b[0;34m)\u001b[0m\u001b[0;34m,\u001b[0m\u001b[0;34m\u001b[0m\n",
       "\u001b[0;34m\u001b[0m            \u001b[0;34m\"labels\"\u001b[0m\u001b[0;34m:\u001b[0m \u001b[0mself\u001b[0m\u001b[0;34m.\u001b[0m\u001b[0mget_labels\u001b[0m\u001b[0;34m(\u001b[0m\u001b[0mid\u001b[0m\u001b[0;34m=\u001b[0m\u001b[0mid\u001b[0m\u001b[0;34m)\u001b[0m\u001b[0;34m,\u001b[0m\u001b[0;34m\u001b[0m\n",
       "\u001b[0;34m\u001b[0m            \u001b[0;34m\"layoutOptions\"\u001b[0m\u001b[0;34m:\u001b[0m \u001b[0mself\u001b[0m\u001b[0;34m.\u001b[0m\u001b[0mget_layoutOptions\u001b[0m\u001b[0;34m(\u001b[0m\u001b[0;34m)\u001b[0m\u001b[0;34m,\u001b[0m\u001b[0;34m\u001b[0m\n",
       "\u001b[0;34m\u001b[0m            \u001b[0;34m\"ports\"\u001b[0m\u001b[0;34m:\u001b[0m \u001b[0mself\u001b[0m\u001b[0;34m.\u001b[0m\u001b[0mget_ports\u001b[0m\u001b[0;34m(\u001b[0m\u001b[0mid\u001b[0m\u001b[0;34m=\u001b[0m\u001b[0mid\u001b[0m\u001b[0;34m)\u001b[0m\u001b[0;34m,\u001b[0m\u001b[0;34m\u001b[0m\n",
       "\u001b[0;34m\u001b[0m            \u001b[0;34m**\u001b[0m\u001b[0mself\u001b[0m\u001b[0;34m.\u001b[0m\u001b[0mbounds\u001b[0m\u001b[0;34m(\u001b[0m\u001b[0;34m)\u001b[0m\u001b[0;34m,\u001b[0m\u001b[0;34m\u001b[0m\n",
       "\u001b[0;34m\u001b[0m        \u001b[0;34m}\u001b[0m\u001b[0;34m\u001b[0m\n",
       "\u001b[0;34m\u001b[0m        \u001b[0;32mreturn\u001b[0m \u001b[0mstrip_none\u001b[0m\u001b[0;34m(\u001b[0m\u001b[0mdata\u001b[0m\u001b[0;34m)\u001b[0m\u001b[0;34m\u001b[0m\n",
       "\u001b[0;34m\u001b[0m\u001b[0;34m\u001b[0m\n",
       "\u001b[0;34m\u001b[0m    \u001b[0;32mdef\u001b[0m \u001b[0mposition\u001b[0m\u001b[0;34m(\u001b[0m\u001b[0mself\u001b[0m\u001b[0;34m)\u001b[0m\u001b[0;34m:\u001b[0m\u001b[0;34m\u001b[0m\n",
       "\u001b[0;34m\u001b[0m        \u001b[0;32mreturn\u001b[0m \u001b[0;34m{\u001b[0m\u001b[0;34m\u001b[0m\n",
       "\u001b[0;34m\u001b[0m            \u001b[0;34m\"x\"\u001b[0m\u001b[0;34m:\u001b[0m \u001b[0mself\u001b[0m\u001b[0;34m.\u001b[0m\u001b[0mx\u001b[0m \u001b[0;32mor\u001b[0m \u001b[0;36m0\u001b[0m\u001b[0;34m,\u001b[0m\u001b[0;34m\u001b[0m\n",
       "\u001b[0;34m\u001b[0m            \u001b[0;34m\"y\"\u001b[0m\u001b[0;34m:\u001b[0m \u001b[0mself\u001b[0m\u001b[0;34m.\u001b[0m\u001b[0my\u001b[0m \u001b[0;32mor\u001b[0m \u001b[0;36m0\u001b[0m\u001b[0;34m,\u001b[0m\u001b[0;34m\u001b[0m\n",
       "\u001b[0;34m\u001b[0m        \u001b[0;34m}\u001b[0m\u001b[0;34m\u001b[0m\n",
       "\u001b[0;34m\u001b[0m\u001b[0;34m\u001b[0m\n",
       "\u001b[0;34m\u001b[0m    \u001b[0;32mdef\u001b[0m \u001b[0mbounds\u001b[0m\u001b[0;34m(\u001b[0m\u001b[0mself\u001b[0m\u001b[0;34m)\u001b[0m \u001b[0;34m->\u001b[0m \u001b[0mDict\u001b[0m\u001b[0;34m:\u001b[0m\u001b[0;34m\u001b[0m\n",
       "\u001b[0;34m\u001b[0m        \u001b[0;32mreturn\u001b[0m \u001b[0;34m{\u001b[0m\u001b[0;34m\u001b[0m\n",
       "\u001b[0;34m\u001b[0m            \u001b[0;34m\"width\"\u001b[0m\u001b[0;34m:\u001b[0m \u001b[0mself\u001b[0m\u001b[0;34m.\u001b[0m\u001b[0mwidth\u001b[0m \u001b[0;32mor\u001b[0m \u001b[0;36m0\u001b[0m\u001b[0;34m,\u001b[0m\u001b[0;34m\u001b[0m\n",
       "\u001b[0;34m\u001b[0m            \u001b[0;34m\"height\"\u001b[0m\u001b[0;34m:\u001b[0m \u001b[0mself\u001b[0m\u001b[0;34m.\u001b[0m\u001b[0mheight\u001b[0m \u001b[0;32mor\u001b[0m \u001b[0;36m0\u001b[0m\u001b[0;34m,\u001b[0m\u001b[0;34m\u001b[0m\n",
       "\u001b[0;34m\u001b[0m        \u001b[0;34m}\u001b[0m\u001b[0;34m\u001b[0m\n",
       "\u001b[0;34m\u001b[0m\u001b[0;34m\u001b[0m\n",
       "\u001b[0;34m\u001b[0m    \u001b[0;32mdef\u001b[0m \u001b[0mget_labels\u001b[0m\u001b[0;34m(\u001b[0m\u001b[0mself\u001b[0m\u001b[0;34m,\u001b[0m \u001b[0mid\u001b[0m\u001b[0;34m=\u001b[0m\u001b[0;32mNone\u001b[0m\u001b[0;34m)\u001b[0m \u001b[0;34m->\u001b[0m \u001b[0mList\u001b[0m\u001b[0;34m:\u001b[0m\u001b[0;34m\u001b[0m\n",
       "\u001b[0;34m\u001b[0m        \u001b[0;32mreturn\u001b[0m \u001b[0;34m[\u001b[0m\u001b[0;34m]\u001b[0m\u001b[0;34m\u001b[0m\n",
       "\u001b[0;34m\u001b[0m\u001b[0;34m\u001b[0m\n",
       "\u001b[0;34m\u001b[0m    \u001b[0;32mdef\u001b[0m \u001b[0mget_layoutOptions\u001b[0m\u001b[0;34m(\u001b[0m\u001b[0mself\u001b[0m\u001b[0;34m)\u001b[0m \u001b[0;34m->\u001b[0m \u001b[0mDict\u001b[0m\u001b[0;34m:\u001b[0m\u001b[0;34m\u001b[0m\n",
       "\u001b[0;34m\u001b[0m        \u001b[0;32mreturn\u001b[0m \u001b[0;34m{\u001b[0m\u001b[0;34m}\u001b[0m\u001b[0;34m\u001b[0m\n",
       "\u001b[0;34m\u001b[0m\u001b[0;34m\u001b[0m\n",
       "\u001b[0;34m\u001b[0m    \u001b[0;32mdef\u001b[0m \u001b[0mget_ports\u001b[0m\u001b[0;34m(\u001b[0m\u001b[0mself\u001b[0m\u001b[0;34m,\u001b[0m \u001b[0mid\u001b[0m\u001b[0;34m=\u001b[0m\u001b[0;32mNone\u001b[0m\u001b[0;34m)\u001b[0m \u001b[0;34m->\u001b[0m \u001b[0mList\u001b[0m\u001b[0;34m:\u001b[0m\u001b[0;34m\u001b[0m\n",
       "\u001b[0;34m\u001b[0m        \u001b[0;32mreturn\u001b[0m \u001b[0;34m[\u001b[0m\u001b[0;34m]\u001b[0m\u001b[0;34m\u001b[0m\n",
       "\u001b[0;34m\u001b[0m\u001b[0;34m\u001b[0m\n",
       "\u001b[0;34m\u001b[0m    \u001b[0;32mdef\u001b[0m \u001b[0mget_properties\u001b[0m\u001b[0;34m(\u001b[0m\u001b[0mself\u001b[0m\u001b[0;34m)\u001b[0m \u001b[0;34m->\u001b[0m \u001b[0mDict\u001b[0m\u001b[0;34m:\u001b[0m\u001b[0;34m\u001b[0m\n",
       "\u001b[0;34m\u001b[0m        \u001b[0mproperties\u001b[0m \u001b[0;34m=\u001b[0m \u001b[0;34m{\u001b[0m\u001b[0;34m}\u001b[0m\u001b[0;34m\u001b[0m\n",
       "\u001b[0;34m\u001b[0m        \u001b[0mtyped\u001b[0m \u001b[0;34m=\u001b[0m \u001b[0mself\u001b[0m\u001b[0;34m.\u001b[0m\u001b[0mtype\u001b[0m\u001b[0;34m\u001b[0m\n",
       "\u001b[0;34m\u001b[0m        \u001b[0;32mif\u001b[0m \u001b[0mtyped\u001b[0m\u001b[0;34m:\u001b[0m\u001b[0;34m\u001b[0m\n",
       "\u001b[0;34m\u001b[0m            \u001b[0mproperties\u001b[0m\u001b[0;34m[\u001b[0m\u001b[0;34m\"type\"\u001b[0m\u001b[0;34m]\u001b[0m \u001b[0;34m=\u001b[0m \u001b[0mtyped\u001b[0m\u001b[0;34m\u001b[0m\n",
       "\u001b[0;34m\u001b[0m        \u001b[0mshape_data\u001b[0m \u001b[0;34m=\u001b[0m \u001b[0mself\u001b[0m\u001b[0;34m.\u001b[0m\u001b[0mget_shape_props\u001b[0m\u001b[0;34m(\u001b[0m\u001b[0;34m)\u001b[0m\u001b[0;34m\u001b[0m\n",
       "\u001b[0;34m\u001b[0m        \u001b[0;32mif\u001b[0m \u001b[0mshape_data\u001b[0m\u001b[0;34m:\u001b[0m\u001b[0;34m\u001b[0m\n",
       "\u001b[0;34m\u001b[0m            \u001b[0mproperties\u001b[0m\u001b[0;34m[\u001b[0m\u001b[0;34m\"shape\"\u001b[0m\u001b[0;34m]\u001b[0m \u001b[0;34m=\u001b[0m \u001b[0mshape_data\u001b[0m\u001b[0;34m\u001b[0m\n",
       "\u001b[0;34m\u001b[0m        \u001b[0;31m# TODO css classes?\u001b[0m\u001b[0;34m\u001b[0m\n",
       "\u001b[0;34m\u001b[0m        \u001b[0;32mreturn\u001b[0m \u001b[0mproperties\u001b[0m\u001b[0;34m\u001b[0m\n",
       "\u001b[0;34m\u001b[0m\u001b[0;34m\u001b[0m\n",
       "\u001b[0;34m\u001b[0m    \u001b[0;32mdef\u001b[0m \u001b[0mget_shape_props\u001b[0m\u001b[0;34m(\u001b[0m\u001b[0mself\u001b[0m\u001b[0;34m)\u001b[0m \u001b[0;34m->\u001b[0m \u001b[0mOptional\u001b[0m\u001b[0;34m[\u001b[0m\u001b[0mDict\u001b[0m\u001b[0;34m]\u001b[0m\u001b[0;34m:\u001b[0m\u001b[0;34m\u001b[0m\n",
       "\u001b[0;34m\u001b[0m        \u001b[0;32mreturn\u001b[0m \u001b[0mself\u001b[0m\u001b[0;34m.\u001b[0m\u001b[0mposition\u001b[0m\u001b[0;34m(\u001b[0m\u001b[0;34m)\u001b[0m\u001b[0;34m\u001b[0m\n",
       "\u001b[0;34m\u001b[0m\u001b[0;34m\u001b[0m\n",
       "\u001b[0;34m\u001b[0m    \u001b[0;32mdef\u001b[0m \u001b[0m__call__\u001b[0m\u001b[0;34m(\u001b[0m\u001b[0mself\u001b[0m\u001b[0;34m,\u001b[0m \u001b[0mid\u001b[0m\u001b[0;34m=\u001b[0m\u001b[0;32mNone\u001b[0m\u001b[0;34m)\u001b[0m\u001b[0;34m:\u001b[0m\u001b[0;34m\u001b[0m\n",
       "\u001b[0;34m\u001b[0m        \u001b[0;32mif\u001b[0m \u001b[0mid\u001b[0m \u001b[0;32mis\u001b[0m \u001b[0;32mNone\u001b[0m\u001b[0;34m:\u001b[0m\u001b[0;34m\u001b[0m\n",
       "\u001b[0;34m\u001b[0m            \u001b[0mid\u001b[0m \u001b[0;34m=\u001b[0m \u001b[0mstr\u001b[0m\u001b[0;34m(\u001b[0m\u001b[0muuid4\u001b[0m\u001b[0;34m(\u001b[0m\u001b[0;34m)\u001b[0m\u001b[0;34m)\u001b[0m\u001b[0;34m\u001b[0m\n",
       "\u001b[0;34m\u001b[0m        \u001b[0;32mreturn\u001b[0m \u001b[0mself\u001b[0m\u001b[0;34m.\u001b[0m\u001b[0mto_json\u001b[0m\u001b[0;34m(\u001b[0m\u001b[0mid\u001b[0m\u001b[0;34m)\u001b[0m\u001b[0;34m\u001b[0m\u001b[0;34m\u001b[0m\u001b[0m\n",
       "\u001b[0;31mFile:\u001b[0m           ~/Documents/ipyelk/py_src/ipyelk/diagram/symbol.py\n",
       "\u001b[0;31mType:\u001b[0m           ABCMeta\n",
       "\u001b[0;31mSubclasses:\u001b[0m     Path, Circle, SVG, Ellipse, Diamond, Comment, Rect, Image, ForeignObject, Widget, ...\n"
      ]
     },
     "metadata": {},
     "output_type": "display_data"
    }
   ],
   "source": [
    "symbol.Symbol??"
   ]
  },
  {
   "cell_type": "code",
   "execution_count": 10,
   "metadata": {},
   "outputs": [
    {
     "data": {
      "application/vnd.jupyter.widget-view+json": {
       "model_id": "5c319d0f973648c8820e849b438fcf9d",
       "version_major": 2,
       "version_minor": 0
      },
      "text/plain": [
       "Elk(children=[HTML(value='<style>.styled-widget-140218978542032 .hidden{}</style>', layout=Layout(display='Non…"
      ]
     },
     "metadata": {},
     "output_type": "display_data"
    }
   ],
   "source": [
    "g = nx.Graph()\n",
    "tree = nx.DiGraph()\n",
    "\n",
    "diagram_opts = opt.OptionsWidget(\n",
    "    options=[\n",
    "        opt.LayoutAlgorithm(),\n",
    "        opt.HierarchyHandling(),\n",
    "        #         opt.NodeSpacing(spacing=0),\n",
    "    ]\n",
    ").value\n",
    "record_layout = opt.OptionsWidget(\n",
    "    options=[\n",
    "        #         opt.LayoutAlgorithm(value=ELKRectanglePacking.identifier),\n",
    "        opt.HierarchyHandling(),\n",
    "        opt.Padding(left=0, right=0, bottom=0, top=0),\n",
    "        opt.NodeSpacing(spacing=0),\n",
    "        opt.EdgeNodeSpacing(spacing=0),\n",
    "        opt.AspectRatio(),\n",
    "        opt.ExpandNodes(activate=True),\n",
    "        opt.NodeLabelPlacement(horizontal=\"center\", vertical=\"center\"),\n",
    "        #         opt.NodeSizeConstraints(),\n",
    "        opt.ComponentsSpacing(spacing=0),\n",
    "        opt.NodeSpacing(spacing=0),\n",
    "    ]\n",
    ").value\n",
    "\n",
    "compartment_opts = opt.OptionsWidget(\n",
    "    options=[\n",
    "        opt.NodeLabelPlacement(horizontal=\"center\", vertical=\"center\"),\n",
    "        #         opt.NodeSizeConstraints(),\n",
    "        opt.NodeSpacing(spacing=0),\n",
    "    ]\n",
    ").value\n",
    "\n",
    "g.add_node(\"record\", labels=[], layoutOptions=record_layout)\n",
    "\n",
    "compartments = [\"a\", \"b\"]\n",
    "for i, c in enumerate(compartments):\n",
    "    g.add_node(\n",
    "        c, width=40, height=36, layoutOptions=compartment_opts, ports=[c + str(i)]\n",
    "    )\n",
    "    tree.add_edge(\"record\", c)\n",
    "\n",
    "# g.add_node(\"n1\")\n",
    "\n",
    "# configure app\n",
    "app = Elk(\n",
    "    transformer=ipyelk.nx.XELK(\n",
    "        layouts={\n",
    "            elk_model.ElkRoot: {\n",
    "                \"parents\": diagram_opts,\n",
    "            },\n",
    "        },\n",
    "        source=(g, tree),\n",
    "    ),\n",
    "    layout={\"height\": \"100%\"},\n",
    "    style={\n",
    "        \" .hidden\": {\n",
    "            #             \"display\": \"none\",\n",
    "        }\n",
    "    },\n",
    ")\n",
    "app"
   ]
  },
  {
   "cell_type": "code",
   "execution_count": null,
   "metadata": {},
   "outputs": [],
   "source": [
    "app.diagram.mark_layout"
   ]
  },
  {
   "cell_type": "code",
   "execution_count": null,
   "metadata": {},
   "outputs": [],
   "source": [
    "g = nx.Graph()\n",
    "tree = nx.DiGraph()\n",
    "\n",
    "record_layout = opt.OptionsWidget(\n",
    "    options=[\n",
    "        opt.LayoutAlgorithm(value=ELKRectanglePacking.identifier),\n",
    "        opt.HierarchyHandling(),\n",
    "        opt.Padding(left=0, right=0, bottom=0, top=0),\n",
    "        opt.NodeSpacing(spacing=0),\n",
    "        opt.EdgeNodeSpacing(spacing=0),\n",
    "        opt.AspectRatio(),\n",
    "        opt.ExpandNodes(activate=True),\n",
    "    ]\n",
    ").value\n",
    "\n",
    "compartment_opts = opt.OptionsWidget(\n",
    "    options=[\n",
    "        opt.NodeLabelPlacement(horizontal=\"center\", vertical=\"center\"),\n",
    "        opt.NodeSizeConstraints(),\n",
    "    ]\n",
    ").value\n",
    "\n",
    "compartments = [\"a\", \"b\"]\n",
    "for i, c in enumerate(compartments):\n",
    "    g.add_node(\n",
    "        c,\n",
    "        width=40 + 2 * i,\n",
    "        height=30,\n",
    "        layoutOptions=compartment_opts,\n",
    "        #         ports=[c + str(i)]\n",
    "    )\n",
    "\n",
    "\n",
    "# configure app\n",
    "app = Elk(\n",
    "    transformer=ipyelk.nx.XELK(\n",
    "        layouts={\n",
    "            elk_model.ElkRoot: {\n",
    "                \"parents\": record_layout,\n",
    "            },\n",
    "        },\n",
    "        source=(g, tree),\n",
    "    ),\n",
    "    layout={\"height\": \"100%\"},\n",
    "    style={\n",
    "        \" .hidden\": {\n",
    "            #             \"display\": \"none\",\n",
    "        }\n",
    "    },\n",
    ")\n",
    "app"
   ]
  }
 ],
 "metadata": {
  "kernelspec": {
   "display_name": "Python 3",
   "language": "python",
   "name": "python3"
  },
  "language_info": {
   "codemirror_mode": {
    "name": "ipython",
    "version": 3
   },
   "file_extension": ".py",
   "mimetype": "text/x-python",
   "name": "python",
   "nbconvert_exporter": "python",
   "pygments_lexer": "ipython3",
   "version": "3.7.9"
  }
 },
 "nbformat": 4,
 "nbformat_minor": 4
}
