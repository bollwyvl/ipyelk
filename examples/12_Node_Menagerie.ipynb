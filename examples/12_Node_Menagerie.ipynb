{
 "cells": [
  {
   "cell_type": "markdown",
   "metadata": {},
   "source": [
    "# 🦌 Node Menagerie ⚡\n",
    "\n",
    "Demonstrating the variety of Node Shapes"
   ]
  },
  {
   "cell_type": "code",
   "execution_count": 1,
   "metadata": {},
   "outputs": [
    {
     "data": {
      "application/vnd.jupyter.widget-view+json": {
       "model_id": "264021adb58c4225a24a80b144e4e355",
       "version_major": 2,
       "version_minor": 0
      },
      "text/plain": [
       "VBox(children=(FloatSlider(value=0.0), FloatSlider(value=0.0), FloatSlider(value=0.0), FloatSlider(value=0.0),…"
      ]
     },
     "metadata": {},
     "output_type": "display_data"
    }
   ],
   "source": [
    "import ipywidgets as W\n",
    "\n",
    "f = W.VBox(children=[\n",
    "    W.FloatSlider() for i in range (5)])\n",
    "f"
   ]
  },
  {
   "cell_type": "code",
   "execution_count": 18,
   "metadata": {},
   "outputs": [],
   "source": [
    "import importnb\n",
    "import networkx as nx\n",
    "from IPython.display import SVG\n",
    "\n",
    "import ipyelk\n",
    "import ipyelk.nx\n",
    "\n",
    "# from ipyelk.contrib.library import logic_gates as logic\n",
    "from ipyelk import Elk\n",
    "from ipyelk.contrib.shapes import connectors as conn\n",
    "from ipyelk.contrib.shapes import shapes\n",
    "from ipyelk.diagram import elk_export, elk_model\n",
    "from ipyelk.diagram import layout_options as opt\n",
    "from ipyelk.diagram.defs import ConnectorDef, Def\n",
    "from ipyelk.diagram.layout_options.layout import ELKRectanglePacking\n",
    "from ipyelk.diagram.symbol import (\n",
    "    Circle,\n",
    "    Diamond,\n",
    "    Ellipse,\n",
    "    Image,\n",
    "    Path,\n",
    "    Point,\n",
    "    RawSVG,\n",
    "    Rect,\n",
    "    Widget\n",
    ")\n",
    "\n",
    "import ipyelk.tools\n",
    "import ipyelk.tools.tools\n",
    "# import ipyelk.diagram.elk_export"
   ]
  },
  {
   "cell_type": "code",
   "execution_count": 21,
   "metadata": {},
   "outputs": [
    {
     "data": {
      "application/vnd.jupyter.widget-view+json": {
       "model_id": "7eae2457d27649b0b41eb2a8924950f4",
       "version_major": 2,
       "version_minor": 0
      },
      "text/plain": [
       "Elk(children=[HTML(value='<style></style>', layout=Layout(display='None')), ElkDiagram(layouter=ElkJS(), value…"
      ]
     },
     "metadata": {},
     "output_type": "display_data"
    }
   ],
   "source": [
    "# configure app\n",
    "app = Elk(\n",
    "    transformer=ipyelk.nx.XELK(\n",
    "        layouts={\n",
    "            ipyelk.diagram.elk_model.ElkRoot: {\n",
    "                \"parents\": opt.OptionsWidget(\n",
    "                    options=[\n",
    "                        opt.LayoutAlgorithm(),\n",
    "                        opt.HierarchyHandling(),\n",
    "                        opt.NodeLabelPlacement(),\n",
    "                    ]\n",
    "                ).value,\n",
    "            }\n",
    "        },\n",
    "        source=(nx.Graph(), None),\n",
    "    ),\n",
    "    layout={\"height\": \"100%\"},\n",
    ")\n",
    "toggle = ipyelk.tools.tools.ToggleCollapsedBtn(app=app)\n",
    "fit = ipyelk.tools.tools.FitBtn(app=app)\n",
    "app.toolbar.commands = [fit, toggle]\n",
    "app"
   ]
  },
  {
   "cell_type": "code",
   "execution_count": 22,
   "metadata": {},
   "outputs": [],
   "source": [
    "g = nx.Graph()\n",
    "tree = nx.DiGraph()\n",
    "\n",
    "g.add_node(\"sliders\")\n",
    "\n",
    "for i, child in enumerate(f.children):\n",
    "    g.add_node(\n",
    "        f\"n{i+1}\",\n",
    "        width=300,\n",
    "        height=70,\n",
    "        labels=[],\n",
    "        properties={\n",
    "            \"type\": \"node:widget\",\n",
    "            \"shape\": {\"use\": str(child.model_id)},\n",
    "        },\n",
    "    )\n",
    "    tree.add_edge(\"sliders\", f\"n{i+1}\")\n",
    "\n",
    "g.add_node(\n",
    "    \"all_sliders\",\n",
    "    width=320,\n",
    "    height=300,\n",
    "    labels=[],\n",
    "    properties={\n",
    "        \"type\": \"node:widget\",\n",
    "        \"shape\": {\"use\": str(f.model_id)},\n",
    "    },\n",
    ")\n",
    "g.add_edge(\"sliders\", \"all_sliders\")\n",
    "\n",
    "\n",
    "app.transformer.source=(g, tree)"
   ]
  },
  {
   "cell_type": "code",
   "execution_count": 17,
   "metadata": {},
   "outputs": [],
   "source": []
  },
  {
   "cell_type": "code",
   "execution_count": 19,
   "metadata": {},
   "outputs": [
    {
     "data": {
      "application/vnd.jupyter.widget-view+json": {
       "model_id": "5311fa175324472b9bddb7b2732623aa",
       "version_major": 2,
       "version_minor": 0
      },
      "text/plain": [
       "Elk(children=[HTML(value='<style></style>', layout=Layout(display='None')), ElkDiagram(layouter=ElkJS(), value…"
      ]
     },
     "metadata": {},
     "output_type": "display_data"
    }
   ],
   "source": [
    "# configure app\n",
    "\n",
    "app2 = Elk(\n",
    "    transformer=ipyelk.nx.XELK(\n",
    "        layouts={\n",
    "            ipyelk.diagram.elk_model.ElkRoot: {\n",
    "                \"parents\": opt.OptionsWidget(\n",
    "                    options=[\n",
    "                        opt.LayoutAlgorithm(),\n",
    "                        opt.HierarchyHandling(),\n",
    "                        opt.NodeLabelPlacement(),\n",
    "                    ]\n",
    "                ).value,\n",
    "            }\n",
    "        },\n",
    "        source=(nx.Graph(), None),\n",
    "    ),\n",
    "    layout={\"height\": \"100%\"},\n",
    ")\n",
    "toggle = ipyelk.tools.tools.ToggleCollapsedBtn(app=app2)\n",
    "fit = ipyelk.tools.tools.FitBtn(app=app2)\n",
    "app2.toolbar.commands = [fit, toggle]\n",
    "app2"
   ]
  },
  {
   "cell_type": "code",
   "execution_count": 20,
   "metadata": {},
   "outputs": [],
   "source": [
    "g2 = nx.Graph()\n",
    "tree2 = nx.DiGraph()\n",
    "\n",
    "g2.add_node(\"dia\", width=40, height=40)\n",
    "tree2.add_node(\"dia2\", hidden=True)\n",
    "\n",
    "g2.add_node(\n",
    "    f\"dia2\",\n",
    "    width=400,\n",
    "    height=700,\n",
    "    labels=[],\n",
    "    properties={\n",
    "        \"type\": \"node:widget\",\n",
    "        \"shape\": {\"use\": str(app.model_id)},\n",
    "    },\n",
    ")\n",
    "tree2.add_edge(\"dia\", f\"dia2\")\n",
    "\n",
    "# g.add_node(\n",
    "#     \"all_sliders\",\n",
    "#     width=320,\n",
    "#     height=300,\n",
    "#     labels=[],\n",
    "#     properties={\n",
    "#         \"type\": \"node:widget\",\n",
    "#         \"shape\": {\"use\": str(f.model_id)},\n",
    "#     },\n",
    "# )\n",
    "# g.add_edge(\"sliders\", \"all_sliders\")\n",
    "\n",
    "\n",
    "app2.transformer.source=(g2, tree2)"
   ]
  },
  {
   "cell_type": "code",
   "execution_count": 11,
   "metadata": {},
   "outputs": [
    {
     "data": {
      "text/plain": [
       "Widget(id=None, width=300, height=300, children=[], x=None, y=None, widget=VBox(children=(FloatSlider(value=0.0), FloatSlider(value=0.0), FloatSlider(value=0.0), FloatSlider(value=0.0), FloatSlider(value=0.0))))"
      ]
     },
     "execution_count": 11,
     "metadata": {},
     "output_type": "execute_result"
    }
   ],
   "source": [
    "slider_symbol = Widget(widget=f, width=300, height=300)\n",
    "slider_symbol"
   ]
  },
  {
   "cell_type": "code",
   "execution_count": 12,
   "metadata": {},
   "outputs": [
    {
     "data": {
      "text/plain": [
       "('e3418896-9c7e-402e-b909-5746b19a1c7d',\n",
       " {'id': 'e3418896-9c7e-402e-b909-5746b19a1c7d',\n",
       "  'children': [],\n",
       "  'properties': {'type': 'node:widget',\n",
       "   'shape': {'use': 'f85b44a5478349a0b37b5c890ec7cc6b'}},\n",
       "  'labels': [],\n",
       "  'layoutOptions': {},\n",
       "  'ports': [],\n",
       "  'width': 300,\n",
       "  'height': 300,\n",
       "  'x': 0,\n",
       "  'y': 0})"
      ]
     },
     "execution_count": 12,
     "metadata": {},
     "output_type": "execute_result"
    }
   ],
   "source": [
    "slider_symbol()"
   ]
  },
  {
   "cell_type": "code",
   "execution_count": 14,
   "metadata": {},
   "outputs": [],
   "source": [
    "def add_symbol(symbol):\n",
    "    g.add_nodes"
   ]
  },
  {
   "cell_type": "code",
   "execution_count": null,
   "metadata": {},
   "outputs": [],
   "source": [
    "# class Record(Symbol):\n",
    "    "
   ]
  },
  {
   "cell_type": "markdown",
   "metadata": {},
   "source": [
    "# I want to be able to:\n",
    "\n",
    "```Python\n",
    "class Ellipse(Symbol):\n",
    "    pass\n",
    "\n",
    "class Diamond(Symbol):\n",
    "    pass\n",
    "\n",
    "class Rect(Symbol): # default\n",
    "    pass\n",
    "\n",
    "class Compartment(Symbol):\n",
    "    pass\n",
    "\n",
    "\n",
    "\n",
    "\n",
    "```"
   ]
  },
  {
   "cell_type": "markdown",
   "metadata": {},
   "source": [
    "# Waiting on ElkJS 0.7.1 for hopeful bug fixes"
   ]
  },
  {
   "cell_type": "code",
   "execution_count": 36,
   "metadata": {},
   "outputs": [
    {
     "data": {
      "application/vnd.jupyter.widget-view+json": {
       "model_id": "12ebc76630c64d4db068a6c82308ad0f",
       "version_major": 2,
       "version_minor": 0
      },
      "text/plain": [
       "Elk(children=[HTML(value='<style>.styled-widget-139903182972048 .hidden{}</style>', layout=Layout(display='Non…"
      ]
     },
     "metadata": {},
     "output_type": "display_data"
    }
   ],
   "source": [
    "g = nx.Graph()\n",
    "tree = nx.DiGraph()\n",
    "\n",
    "diagram_opts = opt.OptionsWidget(\n",
    "    options=[\n",
    "        opt.LayoutAlgorithm(),\n",
    "        opt.HierarchyHandling(),\n",
    "#         opt.NodeSpacing(spacing=0),\n",
    "    ]\n",
    ").value\n",
    "record_layout = opt.OptionsWidget(\n",
    "    options=[\n",
    "#         opt.LayoutAlgorithm(value=ELKRectanglePacking.identifier),\n",
    "        opt.HierarchyHandling(),\n",
    "        opt.Padding(left=0, right=0, bottom=0, top=0),\n",
    "        opt.NodeSpacing(spacing=0),\n",
    "        opt.EdgeNodeSpacing(spacing=0),\n",
    "        opt.AspectRatio(),\n",
    "        opt.ExpandNodes(activate=True),\n",
    "        opt.NodeLabelPlacement(horizontal=\"center\", vertical=\"center\"),\n",
    "#         opt.NodeSizeConstraints(),\n",
    "        opt.ComponentsSpacing(spacing=0),\n",
    "        opt.NodeSpacing(spacing=0),\n",
    "    ]\n",
    ").value\n",
    "\n",
    "compartment_opts = opt.OptionsWidget(\n",
    "    options=[\n",
    "        opt.NodeLabelPlacement(horizontal=\"center\", vertical=\"center\"),\n",
    "#         opt.NodeSizeConstraints(),\n",
    "        opt.NodeSpacing(spacing=0),\n",
    "    ]\n",
    ").value\n",
    "\n",
    "g.add_node(\"record\", labels=[], layoutOptions=record_layout)\n",
    "\n",
    "compartments = [\"a\", \"b\"]\n",
    "for i, c in enumerate(compartments):\n",
    "    g.add_node(\n",
    "        c,\n",
    "        width=40,\n",
    "        height=36,\n",
    "        layoutOptions=compartment_opts,\n",
    "        ports=[c + str(i)]\n",
    "    )\n",
    "    tree.add_edge(\"record\", c)\n",
    "\n",
    "# g.add_node(\"n1\")\n",
    "\n",
    "# configure app\n",
    "app = Elk(\n",
    "    transformer=ipyelk.nx.XELK(\n",
    "        layouts={\n",
    "            elk_model.ElkRoot: {\n",
    "                \"parents\": diagram_opts,\n",
    "            },\n",
    "        },\n",
    "        source=(g, tree),\n",
    "    ),\n",
    "    layout={\"height\": \"100%\"},\n",
    "    style={\n",
    "        \" .hidden\": {\n",
    "            #             \"display\": \"none\",\n",
    "        }\n",
    "    },\n",
    ")\n",
    "app"
   ]
  },
  {
   "cell_type": "code",
   "execution_count": 30,
   "metadata": {},
   "outputs": [
    {
     "data": {
      "text/plain": [
       "{'id': 'root',\n",
       " 'children': [{'id': 'record',\n",
       "   'children': [{'id': 'a',\n",
       "     'children': [],\n",
       "     'height': 25,\n",
       "     'labels': [{'id': 'a_label_0_a',\n",
       "       'text': 'a',\n",
       "       'height': 12.828125,\n",
       "       'width': 8.8125,\n",
       "       'x': 5.59375,\n",
       "       'y': 6.0859375}],\n",
       "     'layoutOptions': {'org.eclipse.elk.nodeLabels.placement': 'H_CENTER V_CENTER INSIDE',\n",
       "      'org.eclipse.elk.nodeSize.constraints': 'NODE_LABELS PORTS PORT_LABELS MINIMUM_SIZE',\n",
       "      'org.eclipse.elk.spacing.nodeNode': '0.0'},\n",
       "     'ports': [{'id': 'a.a0',\n",
       "       'height': 5,\n",
       "       'labels': [{'id': 'a0_label_0',\n",
       "         'text': 'a0',\n",
       "         'height': 12.828125,\n",
       "         'width': 14.5,\n",
       "         'x': -15.5,\n",
       "         'y': 6}],\n",
       "       'width': 5,\n",
       "       'x': -5,\n",
       "       'y': 10}],\n",
       "     'width': 20,\n",
       "     '$H': 286,\n",
       "     'x': 20.5,\n",
       "     'y': 0},\n",
       "    {'id': 'b',\n",
       "     'children': [],\n",
       "     'height': 25,\n",
       "     'labels': [{'id': 'b_label_0_b',\n",
       "       'text': 'b',\n",
       "       'height': 12.828125,\n",
       "       'width': 8.015625,\n",
       "       'x': 5.9921875,\n",
       "       'y': 6.0859375}],\n",
       "     'layoutOptions': {'org.eclipse.elk.nodeLabels.placement': 'H_CENTER V_CENTER INSIDE',\n",
       "      'org.eclipse.elk.nodeSize.constraints': 'NODE_LABELS PORTS PORT_LABELS MINIMUM_SIZE',\n",
       "      'org.eclipse.elk.spacing.nodeNode': '0.0'},\n",
       "     'ports': [{'id': 'b.b1',\n",
       "       'height': 5,\n",
       "       'labels': [{'id': 'b1_label_0',\n",
       "         'text': 'b1',\n",
       "         'height': 12.828125,\n",
       "         'width': 14.5,\n",
       "         'x': -15.5,\n",
       "         'y': 6}],\n",
       "       'width': 5,\n",
       "       'x': -5,\n",
       "       'y': 10}],\n",
       "     'width': 20,\n",
       "     '$H': 292,\n",
       "     'x': 20.5,\n",
       "     'y': 28.828125}],\n",
       "   'labels': [],\n",
       "   'layoutOptions': {'org.eclipse.elk.hierarchyHandling': 'INCLUDE_CHILDREN',\n",
       "    'org.eclipse.elk.padding': '[top=0.0,bottom=0.0,left=0.0,right=0.0]',\n",
       "    'org.eclipse.elk.spacing.nodeNode': '0.0',\n",
       "    'org.eclipse.elk.edge.edgeNode': '0.0',\n",
       "    'org.eclipse.elk.aspectRatio': '0.01',\n",
       "    'org.eclipse.elk.expandNodes': 'true',\n",
       "    'org.eclipse.elk.nodeLabels.placement': 'H_CENTER V_CENTER INSIDE',\n",
       "    'org.eclipse.elk.nodeSize.constraints': 'NODE_LABELS PORTS PORT_LABELS MINIMUM_SIZE',\n",
       "    'org.eclipse.elk.spacing.componentComponent': '0.0'},\n",
       "   '$H': 284,\n",
       "   'x': 12,\n",
       "   'y': 12,\n",
       "   'width': 40.5,\n",
       "   'height': 57.65625}],\n",
       " 'layoutOptions': {'org.eclipse.elk.algorithm': 'org.eclipse.elk.layered',\n",
       "  'org.eclipse.elk.hierarchyHandling': 'INCLUDE_CHILDREN'},\n",
       " 'labels': [{'id': '139903203640736',\n",
       "   'text': '',\n",
       "   'x': 0,\n",
       "   'y': 0,\n",
       "   'width': 0,\n",
       "   'height': 0}],\n",
       " '$H': 279,\n",
       " 'x': 0,\n",
       " 'y': 0,\n",
       " 'width': 64.5,\n",
       " 'height': 81.65625}"
      ]
     },
     "execution_count": 30,
     "metadata": {},
     "output_type": "execute_result"
    }
   ],
   "source": [
    "app.diagram.mark_layout"
   ]
  },
  {
   "cell_type": "code",
   "execution_count": 37,
   "metadata": {},
   "outputs": [
    {
     "data": {
      "application/vnd.jupyter.widget-view+json": {
       "model_id": "d2389beca3c245eeace521bd05ac4666",
       "version_major": 2,
       "version_minor": 0
      },
      "text/plain": [
       "Elk(children=[HTML(value='<style>.styled-widget-139903183589648 .hidden{}</style>', layout=Layout(display='Non…"
      ]
     },
     "metadata": {},
     "output_type": "display_data"
    }
   ],
   "source": [
    "g = nx.Graph()\n",
    "tree = nx.DiGraph()\n",
    "\n",
    "record_layout = opt.OptionsWidget(\n",
    "    options=[\n",
    "        opt.LayoutAlgorithm(value=ELKRectanglePacking.identifier),\n",
    "        opt.HierarchyHandling(),\n",
    "        opt.Padding(left=0, right=0, bottom=0, top=0),\n",
    "        opt.NodeSpacing(spacing=0),\n",
    "        opt.EdgeNodeSpacing(spacing=0),\n",
    "        opt.AspectRatio(),\n",
    "        opt.ExpandNodes(activate=True),\n",
    "    ]\n",
    ").value\n",
    "\n",
    "compartment_opts = opt.OptionsWidget(\n",
    "    options=[\n",
    "        opt.NodeLabelPlacement(horizontal=\"center\", vertical=\"center\"),\n",
    "        opt.NodeSizeConstraints(),\n",
    "    ]\n",
    ").value\n",
    "\n",
    "compartments = [\"a\", \"b\"]\n",
    "for i, c in enumerate(compartments):\n",
    "    g.add_node(\n",
    "        c,\n",
    "        width=40 + 2 * i,\n",
    "        height=30,\n",
    "        layoutOptions=compartment_opts,\n",
    "        #         ports=[c + str(i)]\n",
    "    )\n",
    "\n",
    "\n",
    "# configure app\n",
    "app = Elk(\n",
    "    transformer=ipyelk.nx.XELK(\n",
    "        layouts={\n",
    "            elk_model.ElkRoot: {\n",
    "                \"parents\": record_layout,\n",
    "            },\n",
    "        },\n",
    "        source=(g, tree),\n",
    "    ),\n",
    "    layout={\"height\": \"100%\"},\n",
    "    style={\n",
    "        \" .hidden\": {\n",
    "            #             \"display\": \"none\",\n",
    "        }\n",
    "    },\n",
    ")\n",
    "app"
   ]
  },
  {
   "cell_type": "code",
   "execution_count": 38,
   "metadata": {},
   "outputs": [],
   "source": [
    "g = nx.Graph()\n",
    "tree = nx.DiGraph()\n",
    "\n",
    "c1 = Circle(radius=10)\n",
    "c2 = Circle(radius=10)\n",
    "\n",
    "g.add_node(c1.id, **c1.to_json())\n",
    "g.add_node(c2.id, **c2.to_json())"
   ]
  },
  {
   "cell_type": "code",
   "execution_count": 39,
   "metadata": {},
   "outputs": [
    {
     "data": {
      "text/plain": [
       "{'children': [],\n",
       " 'properties': {'type': 'node:round'},\n",
       " 'labels': [],\n",
       " 'layoutOptions': {},\n",
       " 'ports': [],\n",
       " 'width': 20,\n",
       " 'height': 20,\n",
       " 'x': 10,\n",
       " 'y': 10}"
      ]
     },
     "execution_count": 39,
     "metadata": {},
     "output_type": "execute_result"
    }
   ],
   "source": [
    "c1.to_json()"
   ]
  },
  {
   "cell_type": "code",
   "execution_count": 40,
   "metadata": {},
   "outputs": [
    {
     "data": {
      "text/plain": [
       "NodeView((None,))"
      ]
     },
     "execution_count": 40,
     "metadata": {},
     "output_type": "execute_result"
    }
   ],
   "source": [
    "g.nodes()"
   ]
  },
  {
   "cell_type": "code",
   "execution_count": 41,
   "metadata": {},
   "outputs": [
    {
     "data": {
      "text/plain": [
       "'b'"
      ]
     },
     "execution_count": 41,
     "metadata": {},
     "output_type": "execute_result"
    }
   ],
   "source": [
    "c"
   ]
  },
  {
   "cell_type": "code",
   "execution_count": 42,
   "metadata": {},
   "outputs": [
    {
     "data": {
      "application/vnd.jupyter.widget-view+json": {
       "model_id": "22dacf848bb346a68d1049e8d307b886",
       "version_major": 2,
       "version_minor": 0
      },
      "text/plain": [
       "Elk(children=[HTML(value='<style></style>', layout=Layout(display='None')), ElkDiagram(layouter=ElkJS(), value…"
      ]
     },
     "metadata": {},
     "output_type": "display_data"
    }
   ],
   "source": [
    "g = nx.Graph()\n",
    "tree = nx.DiGraph()\n",
    "\n",
    "node_types = {\n",
    "    \"node:diamond\": {},\n",
    "    \"node:round\": {},\n",
    "    \"node:image\": {\n",
    "        #         'use':\"./static/base/images/favicon.ico\"#/untitled_example.svg\n",
    "        #             \"use\": \"https://d15omoko64skxi.cloudfront.net/wp-content/uploads/2020/12/Big-Wins-Feature-Image-Final-1200x686.jpg\"\n",
    "        \"use\": \"./files/examples/untitled_example.svg\"\n",
    "    },\n",
    "    \"node:comment\": {},\n",
    "    \"node:path\": {\"use\": \"M 0,0 L 0,100 L 20,30 Z\"},\n",
    "    \"node:raw\": {\n",
    "        \"use\": \"\"\"<g><rect fill=\"none\" height=\"24\" width=\"24\"/><path d=\"M17,15l1.55,1.55c-0.96,1.69-3.33,3.04-5.55,3.37V11h3V9h-3V7.82C14.16,7.4,15,6.3,15,5c0-1.65-1.35-3-3-3S9,3.35,9,5 c0,1.3,0.84,2.4,2,2.82V9H8v2h3v8.92c-2.22-0.33-4.59-1.68-5.55-3.37L7,15l-4-3v3c0,3.88,4.92,7,9,7s9-3.12,9-7v-3L17,15z M12,4 c0.55,0,1,0.45,1,1s-0.45,1-1,1s-1-0.45-1-1S11.45,4,12,4z\"/></g>\"\"\"\n",
    "    },\n",
    "    \"node:foreignobject\": {\"use\": \"<input/>\"},\n",
    "    \"node:html\": {\"use\": \"<h1>hello</h1>\"}\n",
    "}\n",
    "for n_type, attrs in node_types.items():\n",
    "    g.add_node(\n",
    "        n_type,\n",
    "        width=100,\n",
    "        height=100,\n",
    "        properties={\n",
    "            \"type\": n_type,\n",
    "            \"shape\": attrs,\n",
    "        },\n",
    "    )\n",
    "\n",
    "\n",
    "tree.add_edge(\"node:round\", \"node:image\")\n",
    "g.add_edge(\"node:comment\", \"node:path\")\n",
    "\n",
    "\n",
    "# configure app\n",
    "app = Elk(\n",
    "    transformer=ipyelk.nx.XELK(\n",
    "        layouts={\n",
    "            ipyelk.diagram.elk_model.ElkRoot: {\n",
    "                \"parents\": opt.OptionsWidget(\n",
    "                    options=[\n",
    "                        opt.LayoutAlgorithm(),\n",
    "                        opt.HierarchyHandling(),\n",
    "                        opt.NodeLabelPlacement(),\n",
    "                    ]\n",
    "                ).value,\n",
    "            }\n",
    "        },\n",
    "        source=(g, tree),\n",
    "    ),\n",
    "    layout={\"height\": \"100%\"},\n",
    ")\n",
    "app\n"
   ]
  },
  {
   "cell_type": "code",
   "execution_count": null,
   "metadata": {},
   "outputs": [],
   "source": []
  }
 ],
 "metadata": {
  "kernelspec": {
   "display_name": "Python 3",
   "language": "python",
   "name": "python3"
  },
  "language_info": {
   "codemirror_mode": {
    "name": "ipython",
    "version": 3
   },
   "file_extension": ".py",
   "mimetype": "text/x-python",
   "name": "python",
   "nbconvert_exporter": "python",
   "pygments_lexer": "ipython3",
   "version": "3.7.9"
  }
 },
 "nbformat": 4,
 "nbformat_minor": 4
}
