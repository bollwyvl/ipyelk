{
 "cells": [
  {
   "cell_type": "markdown",
   "metadata": {},
   "source": [
    "# 🦌 Node Menagerie ⚡\n",
    "\n",
    "Demonstrating the variety of Node Shapes"
   ]
  },
  {
   "cell_type": "code",
   "execution_count": null,
   "metadata": {},
   "outputs": [],
   "source": [
    "import importnb\n",
    "import networkx as nx\n",
    "from IPython.display import SVG\n",
    "\n",
    "import ipyelk\n",
    "import ipyelk.nx\n",
    "\n",
    "# from ipyelk.contrib.library import logic_gates as logic\n",
    "from ipyelk import Elk\n",
    "from ipyelk.contrib.shapes import connectors as conn\n",
    "from ipyelk.contrib.shapes import shapes\n",
    "from ipyelk.diagram import elk_export, elk_model\n",
    "from ipyelk.diagram import layout_options as opt\n",
    "from ipyelk.diagram.defs import ConnectorDef, Def\n",
    "from ipyelk.diagram.layout_options.layout import ELKRectanglePacking\n",
    "from ipyelk.diagram.symbol import (\n",
    "    Circle,\n",
    "    Diamond,\n",
    "    Ellipse,\n",
    "    Image,\n",
    "    Path,\n",
    "    Point,\n",
    "    RawSVG,\n",
    "    Rect,\n",
    ")\n",
    "\n",
    "# import ipyelk.diagram.elk_export"
   ]
  },
  {
   "cell_type": "markdown",
   "metadata": {},
   "source": [
    "# I want to be able to:\n",
    "\n",
    "```Python\n",
    "class Ellipse(Symbol):\n",
    "    pass\n",
    "\n",
    "class Diamond(Symbol):\n",
    "    pass\n",
    "\n",
    "class Rect(Symbol): # default\n",
    "    pass\n",
    "\n",
    "class Compartment(Symbol):\n",
    "    pass\n",
    "\n",
    "\n",
    "\n",
    "\n",
    "```"
   ]
  },
  {
   "cell_type": "markdown",
   "metadata": {},
   "source": [
    "# Waiting on ElkJS 0.7.1 for hopeful bug fixes"
   ]
  },
  {
   "cell_type": "code",
   "execution_count": null,
   "metadata": {},
   "outputs": [],
   "source": [
    "g = nx.Graph()\n",
    "tree = nx.DiGraph()\n",
    "\n",
    "record_layout = opt.OptionsWidget(\n",
    "    options=[\n",
    "        opt.LayoutAlgorithm(value=ELKRectanglePacking.identifier),\n",
    "        opt.HierarchyHandling(),\n",
    "        opt.Padding(left=0, right=0, bottom=0, top=0),\n",
    "        opt.NodeSpacing(spacing=0),\n",
    "        opt.EdgeNodeSpacing(spacing=0),\n",
    "        opt.AspectRatio(),\n",
    "        opt.ExpandNodes(activate=True),\n",
    "    ]\n",
    ").value\n",
    "\n",
    "compartment_opts = opt.OptionsWidget(\n",
    "    options=[\n",
    "        opt.NodeLabelPlacement(horizontal=\"center\", vertical=\"center\"),\n",
    "        opt.NodeSizeConstraints(),\n",
    "    ]\n",
    ").value\n",
    "\n",
    "compartments = [\"a\", \"b\"]\n",
    "for i, c in enumerate(compartments):\n",
    "    g.add_node(\n",
    "        c,\n",
    "        width=40 + 2 * i,\n",
    "        height=30,\n",
    "        layoutOptions=compartment_opts,\n",
    "        #         ports=[c + str(i)]\n",
    "    )\n",
    "\n",
    "\n",
    "# configure app\n",
    "app = Elk(\n",
    "    transformer=ipyelk.nx.XELK(\n",
    "        layouts={\n",
    "            elk_model.ElkRoot: {\n",
    "                \"parents\": record_layout,\n",
    "            },\n",
    "        },\n",
    "        source=(g, tree),\n",
    "    ),\n",
    "    layout={\"height\": \"100%\"},\n",
    "    style={\n",
    "        \" .hidden\": {\n",
    "            #             \"display\": \"none\",\n",
    "        }\n",
    "    },\n",
    ")\n",
    "app"
   ]
  },
  {
   "cell_type": "code",
   "execution_count": null,
   "metadata": {},
   "outputs": [],
   "source": [
    "g = nx.Graph()\n",
    "tree = nx.DiGraph()\n",
    "\n",
    "c1 = Circle(radius=10)\n",
    "c2 = Circle(radius=10)\n",
    "\n",
    "g.add_node(c1.id, **c1.to_json())\n",
    "g.add_node(c2.id, **c2.to_json())"
   ]
  },
  {
   "cell_type": "code",
   "execution_count": null,
   "metadata": {},
   "outputs": [],
   "source": [
    "c1.to_json()"
   ]
  },
  {
   "cell_type": "code",
   "execution_count": null,
   "metadata": {},
   "outputs": [],
   "source": [
    "g.nodes()"
   ]
  },
  {
   "cell_type": "code",
   "execution_count": null,
   "metadata": {},
   "outputs": [],
   "source": [
    "c"
   ]
  },
  {
   "cell_type": "code",
   "execution_count": null,
   "metadata": {},
   "outputs": [],
   "source": [
    "g = nx.Graph()\n",
    "tree = nx.DiGraph()\n",
    "\n",
    "node_types = {\n",
    "    \"node:diamond\": {},\n",
    "    \"node:round\": {},\n",
    "    \"node:image\": {\n",
    "        #         'use':\"./static/base/images/favicon.ico\"#/untitled_example.svg\n",
    "        #             \"use\": \"https://d15omoko64skxi.cloudfront.net/wp-content/uploads/2020/12/Big-Wins-Feature-Image-Final-1200x686.jpg\"\n",
    "        \"use\": \"./files/examples/untitled_example.svg\"\n",
    "    },\n",
    "    \"node:comment\": {},\n",
    "    \"node:path\": {\"use\": \"M 0,0 L 0,100 L 20,30 Z\"},\n",
    "    \"node:raw\": {\n",
    "        \"use\": \"\"\"<g><rect fill=\"none\" height=\"24\" width=\"24\"/><path d=\"M17,15l1.55,1.55c-0.96,1.69-3.33,3.04-5.55,3.37V11h3V9h-3V7.82C14.16,7.4,15,6.3,15,5c0-1.65-1.35-3-3-3S9,3.35,9,5 c0,1.3,0.84,2.4,2,2.82V9H8v2h3v8.92c-2.22-0.33-4.59-1.68-5.55-3.37L7,15l-4-3v3c0,3.88,4.92,7,9,7s9-3.12,9-7v-3L17,15z M12,4 c0.55,0,1,0.45,1,1s-0.45,1-1,1s-1-0.45-1-1S11.45,4,12,4z\"/></g>\"\"\"\n",
    "    },\n",
    "    \"node:foreignobject\": {\"use\": \"<input/>\"},\n",
    "}\n",
    "for n_type, attrs in node_types.items():\n",
    "    g.add_node(\n",
    "        n_type,\n",
    "        width=100,\n",
    "        height=100,\n",
    "        properties={\n",
    "            \"type\": n_type,\n",
    "            \"shape\": attrs,\n",
    "        },\n",
    "    )\n",
    "\n",
    "\n",
    "tree.add_edge(\"node:round\", \"node:image\")\n",
    "g.add_edge(\"node:comment\", \"node:path\")\n",
    "\n",
    "\n",
    "# configure app\n",
    "app = Elk(\n",
    "    transformer=ipyelk.nx.XELK(\n",
    "        layouts={\n",
    "            ipyelk.diagram.elk_model.ElkRoot: {\n",
    "                \"parents\": opt.OptionsWidget(\n",
    "                    options=[\n",
    "                        opt.LayoutAlgorithm(),\n",
    "                        opt.HierarchyHandling(),\n",
    "                        opt.NodeLabelPlacement(),\n",
    "                    ]\n",
    "                ).value,\n",
    "            }\n",
    "        },\n",
    "        source=(g, tree),\n",
    "    ),\n",
    "    layout={\"height\": \"100%\"},\n",
    ")\n",
    "app"
   ]
  }
 ],
 "metadata": {
  "kernelspec": {
   "display_name": "Python 3",
   "language": "python",
   "name": "python3"
  },
  "language_info": {
   "codemirror_mode": {
    "name": "ipython",
    "version": 3
   },
   "file_extension": ".py",
   "mimetype": "text/x-python",
   "name": "python",
   "nbconvert_exporter": "python",
   "pygments_lexer": "ipython3",
   "version": "3.7.9"
  }
 },
 "nbformat": 4,
 "nbformat_minor": 4
}
