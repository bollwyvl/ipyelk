{
 "cells": [
  {
   "cell_type": "markdown",
   "metadata": {},
   "source": [
    "# 🦌 SVG Exporter 🥡\n",
    "\n",
    "The `ElkExporter` can capture the SVG generated in the browser, making it available for\n",
    "offline usage.\n",
    "\n",
    "> Note: this requires a browser in the loop to do the rendering."
   ]
  },
  {
   "cell_type": "code",
   "execution_count": null,
   "metadata": {},
   "outputs": [],
   "source": [
    "import json\n",
    "import pathlib\n",
    "\n",
    "import IPython\n",
    "import ipywidgets\n",
    "import traitlets\n",
    "\n",
    "import ipyelk.diagram.elk_export"
   ]
  },
  {
   "cell_type": "code",
   "execution_count": null,
   "metadata": {},
   "outputs": [],
   "source": [
    "elk_json = json.loads(pathlib.Path(\"simple.json\").read_text(encoding=\"utf-8\"))\n",
    "simple = ipyelk.ElkDiagram(elk_json)\n",
    "ipywidgets.VBox([simple], layout=dict(height=\"100%\", min_height=\"400px\"))"
   ]
  },
  {
   "cell_type": "code",
   "execution_count": null,
   "metadata": {},
   "outputs": [],
   "source": [
    "out = ipywidgets.Output()\n",
    "exporter = ipyelk.diagram.elk_export.ElkExporter(diagram=simple)\n",
    "on_disk = pathlib.Path(\"untitled_example.svg\")\n",
    "\n",
    "\n",
    "def _on_export(*args):\n",
    "    out.clear_output()\n",
    "    with out:\n",
    "        on_disk.write_text(exporter.value)\n",
    "        IPython.display.display(IPython.display.SVG(exporter.value))\n",
    "\n",
    "\n",
    "exporter.observe(_on_export, \"value\")\n",
    "out"
   ]
  },
  {
   "cell_type": "markdown",
   "metadata": {},
   "source": [
    "Once written out to disk, the SVG can be used in Markdown cells.\n",
    "![](./untitled_example.svg)"
   ]
  },
  {
   "cell_type": "markdown",
   "metadata": {},
   "source": [
    "## 🦌 Learn More 📖\n",
    "\n",
    "- [🦌 Introducing ELK 👋](./00_Introduction.ipynb)\n",
    "- [🦌 Linking ELK Diagrams 🔗](./01_Linking.ipynb)\n",
    "- [🦌 ELK Transformer 🤖](./02_Transformer.ipynb)\n",
    "- [🦌 ELK App 🚀](./03_App.ipynb)\n",
    "- [🦌 Interactive ELK App 🕹️](./04_Interactive.ipynb)\n",
    "- [🦌 SVG Exporter 🥡](./05_SVG_Exporter.ipynb)\n",
    "- [🦌 Node Label Placement 🏷️](./100_node_label_placement.ipynb)\n",
    "- [🦌 Text Sizer 📏](./101_text_sizer.ipynb)"
   ]
  }
 ],
 "metadata": {
  "kernelspec": {
   "display_name": "Python 3",
   "language": "python",
   "name": "python3"
  },
  "language_info": {
   "codemirror_mode": {
    "name": "ipython",
    "version": 3
   },
   "file_extension": ".py",
   "mimetype": "text/x-python",
   "name": "python",
   "nbconvert_exporter": "python",
   "pygments_lexer": "ipython3",
   "version": "3.7.8"
  }
 },
 "nbformat": 4,
 "nbformat_minor": 4
}
