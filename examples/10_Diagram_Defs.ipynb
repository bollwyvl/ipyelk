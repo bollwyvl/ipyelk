{
 "cells": [
  {
   "cell_type": "markdown",
   "metadata": {},
   "source": [
    "# 🦌 SVG Defs 🏹\n",
    "\n",
    "This notebook demonstrates how to define custom symbols and attach them to the ipyelk\n",
    "diagram."
   ]
  },
  {
   "cell_type": "code",
   "execution_count": 1,
   "metadata": {},
   "outputs": [],
   "source": [
    "import importnb\n",
    "import networkx as nx\n",
    "from IPython.display import SVG\n",
    "\n",
    "import ipyelk\n",
    "import ipyelk.nx\n",
    "from ipyelk.contrib.library import logic_gates as logic\n",
    "from ipyelk.contrib.shapes import connectors as conn\n",
    "from ipyelk.contrib.shapes import shapes\n",
    "\n",
    "# import ipyelk.diagram.elk_export\n",
    "\n",
    "from ipyelk.diagram import elk_export\n",
    "from ipyelk.diagram import layout_options as opt\n",
    "\n",
    "from ipyelk.diagram.defs import (\n",
    "    Circle,\n",
    "    ConnectorDef,\n",
    "    Def,\n",
    "    Ellipse,\n",
    "    Path,\n",
    "    Point,\n",
    "    RawSVG,\n",
    "    Rect,\n",
    ")"
   ]
  },
  {
   "cell_type": "markdown",
   "metadata": {},
   "source": [
    "\n",
    "\n",
    "# Defining some custom arrows\n",
    "\n",
    "The `ConnectorDef` class allows a list of svg children to be specified. These children\n",
    "define the custom svg shape. The `ConnectorDef` also takes two other parameters,\n",
    "`correction` and `offset`. The `correction` parameter adjusts the anchor endpoint and\n",
    "the `offset` moves the endpoint of the calculated path."
   ]
  },
  {
   "cell_type": "code",
   "execution_count": 2,
   "metadata": {},
   "outputs": [],
   "source": [
    "arrow = ConnectorDef(\n",
    "    children=[\n",
    "        Path(\n",
    "            segments=[\n",
    "                Point(5, -5),\n",
    "                Point(0, 0),\n",
    "                Point(5, 5),\n",
    "            ],\n",
    "            closed=False,\n",
    "        ),\n",
    "    ],\n",
    "    correction=Point(-1, 0),  # moves the arrow endpoint nearer the outside of the node\n",
    "    offset={\"x\": -5, \"y\": 0},  # shortens the path\n",
    ")\n",
    "\n",
    "# this connector is composed of two svg shapes\n",
    "circle = ConnectorDef(\n",
    "    children=[\n",
    "        Path(\n",
    "            segments=[Point(5, -5), Point(5, 5)],\n",
    "            closed=False,\n",
    "        ),\n",
    "        Circle(radius=4, position={\"x\": 4, \"y\": 0}),\n",
    "    ],\n",
    ")"
   ]
  },
  {
   "cell_type": "markdown",
   "metadata": {},
   "source": [
    "# Wiring up ElkDiagram with def library"
   ]
  },
  {
   "cell_type": "code",
   "execution_count": 4,
   "metadata": {},
   "outputs": [
    {
     "data": {
      "application/vnd.jupyter.widget-view+json": {
       "model_id": "ce0ec61ac0b94a96b8b07c1a67aa5cf2",
       "version_major": 2,
       "version_minor": 0
      },
      "text/plain": [
       "Elk(children=[HTML(value='<style></style>', layout=Layout(display='None')), ElkDiagram(defs={'arrow': Connecto…"
      ]
     },
     "metadata": {},
     "output_type": "display_data"
    }
   ],
   "source": [
    "def use_simple_custom_arrows():\n",
    "    # build graph\n",
    "    g = nx.Graph()\n",
    "\n",
    "    g.add_edge(\n",
    "        \"n1\",\n",
    "        \"n2\",\n",
    "        properties={\n",
    "            \"shape\":{\n",
    "                \"start\": \"arrow\",  # key of the shape in the def dictionary\n",
    "                \"end\": \"arrow2\",  # key of the shape in the def dictionary\n",
    "            }\n",
    "            \n",
    "        },\n",
    "    )\n",
    "\n",
    "    # configure app\n",
    "    app = ipyelk.Elk(\n",
    "        transformer=ipyelk.nx.XELK(source=(g, None)), layout={\"height\": \"100%\"}\n",
    "    )\n",
    "\n",
    "    app.diagram.defs = {\n",
    "        \"arrow\": arrow,\n",
    "        \"arrow2\": circle,\n",
    "    }\n",
    "    return app\n",
    "\n",
    "\n",
    "if __name__ == \"__main__\":\n",
    "    app = use_simple_custom_arrows()\n",
    "    display(app)"
   ]
  },
  {
   "cell_type": "markdown",
   "metadata": {},
   "source": [
    "# Shape functions\n",
    "\n",
    "It can be helpful to parametarize the svg def shapes"
   ]
  },
  {
   "cell_type": "code",
   "execution_count": 5,
   "metadata": {},
   "outputs": [],
   "source": [
    "def Interface(r=6):\n",
    "    return Def(\n",
    "        children=[\n",
    "            Rect(width=r, height=r),\n",
    "            Path(\n",
    "                segments=[\n",
    "                    Point(1, 0.25 * r),\n",
    "                    Point(r - 0.25 * r, r / 2),\n",
    "                    Point(1, r - 0.25 * r),\n",
    "                ]\n",
    "            ),\n",
    "        ]\n",
    "    )\n",
    "\n",
    "\n",
    "def Activity(r=6):\n",
    "    return Def(children=[Ellipse(rx=r, ry=r / 2, position=Point(r, r / 2))])\n",
    "\n",
    "\n",
    "shape_library = {\n",
    "    # connector shapes\n",
    "    \"composition\": conn.Rhomb(r=4),\n",
    "    \"aggregation\": conn.Rhomb(r=4),\n",
    "    \"containment\": conn.Containment(r=4),\n",
    "    \"arrow\": conn.StraightArrow(r=4),\n",
    "    # node shape,\n",
    "    \"final_state\": shapes.DoubleCircle(r=6),\n",
    "    # port shape\n",
    "    \"interface_port\": Interface(r=5),\n",
    "}"
   ]
  },
  {
   "cell_type": "markdown",
   "metadata": {},
   "source": [
    "# Shape defs can also be used on nodes and ports"
   ]
  },
  {
   "cell_type": "code",
   "execution_count": 8,
   "metadata": {},
   "outputs": [
    {
     "data": {
      "application/vnd.jupyter.widget-view+json": {
       "model_id": "a6ea434a16d3435d9b0ea10a3670f51e",
       "version_major": 2,
       "version_minor": 0
      },
      "text/plain": [
       "Elk(children=[HTML(value='<style>.styled-widget-139699927342736 .elkarrow.aggregation{fill: var(--jp-elk-node-…"
      ]
     },
     "metadata": {},
     "output_type": "display_data"
    }
   ],
   "source": [
    "def example_with_ports():\n",
    "    # build graph\n",
    "    g = nx.Graph()\n",
    "\n",
    "    g.add_node(\"n1\")\n",
    "    g.add_node(\n",
    "        \"n4\",\n",
    "        labels=[\"\"],  # no label will be used\n",
    "        properties={\n",
    "            \"type\": \"node:use\",\n",
    "            \"shape\":{\n",
    "                \"use\": \"final_state\",  # key of the shape in the def dictionary\n",
    "            },\n",
    "        },\n",
    "    )\n",
    "\n",
    "    g.add_node(\n",
    "        \"n2\",\n",
    "        ports=[\n",
    "            {\n",
    "                \"id\": \"n2.x\",\n",
    "                \"properties\": {\n",
    "                    \"shape\":{\n",
    "                        \"use\": \"interface_port\"  # key of the shape in the def dictionary\n",
    "                    }\n",
    "                },\n",
    "            },\n",
    "            {\n",
    "                \"id\": \"n2.y\",\n",
    "                \"properties\": {\n",
    "                    \"shape\":{\n",
    "                        \"use\": \"interface_port\"  # key of the shape in the def dictionary\n",
    "                    }\n",
    "                },\n",
    "            },\n",
    "        ],\n",
    "    )\n",
    "\n",
    "    g.add_edge(\n",
    "        \"n1\",\n",
    "        \"n2\",\n",
    "        sourcePort=\"x\",\n",
    "        targetPort=\"x\",\n",
    "        properties={\n",
    "            \"shape\":{\n",
    "                \"start\": \"containment\",\n",
    "                \"end\": \"arrow\",   \n",
    "            }\n",
    "        },\n",
    "    )\n",
    "\n",
    "    g.add_edge(\n",
    "        \"n1\",\n",
    "        \"n3\",\n",
    "        properties={\n",
    "            \"shape\":{\n",
    "                \"start\": \"aggregation\",\n",
    "                \"end\": \"arrow\",\n",
    "            }\n",
    "        },\n",
    "    )\n",
    "\n",
    "    g.add_edge(\n",
    "        \"n2\",\n",
    "        \"n3\",\n",
    "        properties={\n",
    "            \"shape\":{\n",
    "                \"start\": \"composition\",\n",
    "            }\n",
    "        },\n",
    "    )\n",
    "    g.add_edge(\n",
    "        \"n4\",\n",
    "        \"n1\",\n",
    "    )\n",
    "    # configure app\n",
    "    app = ipyelk.Elk(\n",
    "        transformer=ipyelk.nx.XELK(source=(g, None)),\n",
    "        layout={\"height\": \"100%\"},\n",
    "        style={\n",
    "            \" .elkarrow.aggregation\": {\"fill\": \"var(--jp-elk-node-stroke)\"},\n",
    "            \" .final_state > circle:nth-child(2)\": {\n",
    "                \"fill\": \"var(--jp-elk-node-stroke)\"\n",
    "            },\n",
    "        },\n",
    "    )\n",
    "\n",
    "    app.diagram.defs = shape_library\n",
    "\n",
    "    return app\n",
    "\n",
    "\n",
    "if __name__ == \"__main__\":\n",
    "    app = example_with_ports()\n",
    "    display(app)"
   ]
  },
  {
   "cell_type": "markdown",
   "metadata": {},
   "source": [
    "# Exported SVG image still maintains refs"
   ]
  },
  {
   "cell_type": "code",
   "execution_count": 9,
   "metadata": {},
   "outputs": [
    {
     "data": {
      "application/vnd.jupyter.widget-view+json": {
       "model_id": "d6f7292c4c4342ffb187a8299251d728",
       "version_major": 2,
       "version_minor": 0
      },
      "text/plain": [
       "Elk(children=[HTML(value='<style>.styled-widget-139699927022352 .elkarrow.aggregation{fill: var(--jp-elk-node-…"
      ]
     },
     "metadata": {},
     "output_type": "display_data"
    },
    {
     "data": {
      "application/vnd.jupyter.widget-view+json": {
       "model_id": "59d5f7cf70534e1795c1339115605c8f",
       "version_major": 2,
       "version_minor": 0
      },
      "text/plain": [
       "Output()"
      ]
     },
     "metadata": {},
     "output_type": "display_data"
    }
   ],
   "source": [
    "def exporter_example(app):\n",
    "    import ipywidgets as W\n",
    "\n",
    "    exporter = elk_export.ElkExporter(diagram=app.diagram, app=app, strip_ids=False)\n",
    "    out = W.Output()\n",
    "\n",
    "    def update(change=None):\n",
    "        out.clear_output()\n",
    "        with out:\n",
    "            display(SVG(exporter.value))\n",
    "\n",
    "    exporter.observe(update, \"value\")\n",
    "    update()\n",
    "    return out\n",
    "\n",
    "\n",
    "if __name__ == \"__main__\":\n",
    "    app = example_with_ports()\n",
    "    out = exporter_example(app)\n",
    "    display(app)\n",
    "    display(out)"
   ]
  },
  {
   "cell_type": "markdown",
   "metadata": {},
   "source": [
    "# Shape Library\n",
    "\n",
    "Create a simple graph from a def dictionary to display all of the shapes."
   ]
  },
  {
   "cell_type": "code",
   "execution_count": 11,
   "metadata": {},
   "outputs": [
    {
     "data": {
      "application/vnd.jupyter.widget-view+json": {
       "model_id": "1cd065cc23d848fe8e1b49769e11e91e",
       "version_major": 2,
       "version_minor": 0
      },
      "text/plain": [
       "Elk(children=[HTML(value='<style>.styled-widget-139699925310672 .aggregation{fill: var(--jp-elk-node-stroke);}…"
      ]
     },
     "metadata": {},
     "output_type": "display_data"
    }
   ],
   "source": [
    "def shape_library_diagram(shape_library, style):\n",
    "    # configure app\n",
    "    app = ipyelk.Elk(\n",
    "        transformer=ipyelk.nx.XELK(), layout={\"height\": \"100%\"}, style=style\n",
    "    )\n",
    "\n",
    "    app.diagram.defs = shape_library\n",
    "\n",
    "    # build graph\n",
    "    g = nx.Graph()\n",
    "\n",
    "    for key in shape_library.keys():\n",
    "        g.add_node(\"mark_\" + key, properties={\n",
    "            \"type\": \"node:use\",\n",
    "            \"shape\":{\n",
    "                \"use\": key\n",
    "            }\n",
    "        })\n",
    "\n",
    "    app.transformer.source = (g, None)\n",
    "\n",
    "    return app\n",
    "\n",
    "\n",
    "if __name__ == \"__main__\":\n",
    "    app = shape_library_diagram(\n",
    "        shape_library={\n",
    "            \"composition\": conn.Rhomb(r=4),\n",
    "            \"aggregation\": conn.Rhomb(r=4),\n",
    "            \"containment\": conn.Containment(r=4),\n",
    "            \"arrow\": conn.StraightArrow(r=4),\n",
    "            \"inheritance\": conn.StraightArrow(r=4, closed=True),\n",
    "            \"space\": conn.Space(r=2),\n",
    "            # activity nodes,\n",
    "            \"decision\": shapes.Diamond(r=12),\n",
    "            \"merge\": shapes.Diamond(r=12),\n",
    "            \"final_state\": shapes.DoubleCircle(r=6),\n",
    "            \"start_state\": shapes.SingleCircle(r=6),\n",
    "            \"exit_state\": shapes.XCircle(r=6),\n",
    "            # port interface\n",
    "            \"interface_port\": Interface(r=5),\n",
    "            \"activity\": Activity(r=20),\n",
    "        },\n",
    "        style={\n",
    "            \" .aggregation\": {\"fill\": \"var(--jp-elk-node-stroke)\"},\n",
    "            \" .final_state > circle:nth-child(2)\": {\n",
    "                \"fill\": \"var(--jp-elk-node-stroke)\"\n",
    "            },\n",
    "        },\n",
    "    )\n",
    "    display(app)"
   ]
  },
  {
   "cell_type": "code",
   "execution_count": null,
   "metadata": {},
   "outputs": [],
   "source": []
  }
 ],
 "metadata": {
  "kernelspec": {
   "display_name": "Python 3",
   "language": "python",
   "name": "python3"
  },
  "language_info": {
   "codemirror_mode": {
    "name": "ipython",
    "version": 3
   },
   "file_extension": ".py",
   "mimetype": "text/x-python",
   "name": "python",
   "nbconvert_exporter": "python",
   "pygments_lexer": "ipython3",
   "version": "3.7.9"
  }
 },
 "nbformat": 4,
 "nbformat_minor": 4
}
