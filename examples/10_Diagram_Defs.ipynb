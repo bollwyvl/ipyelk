{
 "cells": [
  {
   "cell_type": "code",
   "execution_count": 1,
   "metadata": {},
   "outputs": [],
   "source": [
    "import json\n",
    "import pathlib\n",
    "\n",
    "import ipywidgets\n",
    "import networkx\n",
    "import traitlets\n",
    "from IPython.display import JSON\n",
    "\n",
    "import ipyelk\n",
    "import ipyelk.nx\n",
    "import ipyelk.tools\n",
    "\n",
    "from ipyelk import Elk\n",
    "from ipyelk.diagram import layout_options\n",
    "from ipyelk.diagram.elk_model import ElkLabel, ElkNode, ElkPort\n",
    "\n",
    "from ipyelk.diagram.svg import Path, ConnectorDef, Def, Point"
   ]
  },
  {
   "cell_type": "code",
   "execution_count": 34,
   "metadata": {},
   "outputs": [
    {
     "data": {
      "application/vnd.jupyter.widget-view+json": {
       "model_id": "1ec0d86e02e74aabbfa01bd2b7b92ad7",
       "version_major": 2,
       "version_minor": 0
      },
      "text/plain": [
       "Elk(children=[HTML(value='<style>.styled-widget-139713292945296 .sprotty .sprotty-edge use.edge.arrow{stroke-w…"
      ]
     },
     "metadata": {},
     "output_type": "display_data"
    }
   ],
   "source": [
    "import networkx as nx\n",
    "g = nx.Graph()\n",
    "\n",
    "g.add_node(\n",
    "    \"n1\"\n",
    ")\n",
    "g.add_node(\n",
    "    \"n2\",\n",
    "    properties={\n",
    "        \"use\": \"arrow\"\n",
    "    }\n",
    ")\n",
    "\n",
    "g.add_edge(\n",
    "    \"n1\",\n",
    "    \"n2\",\n",
    "    properties={\n",
    "        \"start\": \"arrow\",\n",
    "        \"end\": \"arrow\",\n",
    "    }\n",
    ")\n",
    "xelk = ipyelk.nx.XELK(\n",
    "    source=(g, None)\n",
    ")\n",
    "\n",
    "\n",
    "\n",
    "conn = ConnectorDef(\n",
    "    children = [\n",
    "        Path(\n",
    "            segments=[Point(5, -5), Point(0,0),Point(5, 5)],\n",
    "            closed=True,\n",
    "        )\n",
    "    ],\n",
    ")\n",
    "\n",
    "conn2 = ConnectorDef(\n",
    "    children = [\n",
    "        Path(\n",
    "            segments=[Point(5, -5), Point(0,0),Point(5, 5)],\n",
    "            closed=False,\n",
    "        )\n",
    "    ],\n",
    ")\n",
    "\n",
    "conn3 = ConnectorDef(\n",
    "    children = [\n",
    "        Path(\n",
    "            segments=[Point(5, -5), Point(5, 5)],\n",
    "            closed=False,\n",
    "        )\n",
    "    ],\n",
    ")\n",
    "\n",
    "dg = ipyelk.diagram.ElkDiagram(\n",
    "    defs={\n",
    "        'arrow': conn,\n",
    "        'gate': Def(),\n",
    "    }\n",
    ")\n",
    "xelk.connect(dg)\n",
    "\n",
    "app = Elk(\n",
    "    transformer=xelk,\n",
    "    diagram=dg,\n",
    "    style={\n",
    "        \" .sprotty .sprotty-edge use.edge.arrow\": {\n",
    "            \"stroke-width\": \"1px\",\n",
    "            \"stroke\": \"green\",\n",
    "        }\n",
    "    }\n",
    ")\n",
    "app"
   ]
  },
  {
   "cell_type": "code",
   "execution_count": 39,
   "metadata": {},
   "outputs": [],
   "source": [
    "dg.defs = {\n",
    "    \"arrow\": conn2,\n",
    "    \"arrow2\": conn3,\n",
    "}\n",
    "\n",
    "g.edges[\"n1\",'n2'][\"properties\"][\"end\"]=\"arrow\"\n",
    "xelk.source=(nx.Graph(), None)\n",
    "xelk.source=(g, None)"
   ]
  },
  {
   "cell_type": "code",
   "execution_count": 25,
   "metadata": {},
   "outputs": [
    {
     "data": {
      "text/plain": [
       "{'properties': {'start': 'arrow', 'end': 'arrow'}, 'end': 'arrow2'}"
      ]
     },
     "execution_count": 25,
     "metadata": {},
     "output_type": "execute_result"
    }
   ],
   "source": [
    "g.edges[\"n1\", \"n2\"]"
   ]
  },
  {
   "cell_type": "code",
   "execution_count": 4,
   "metadata": {},
   "outputs": [
    {
     "ename": "SyntaxError",
     "evalue": "invalid syntax (<ipython-input-4-2bca865857a0>, line 5)",
     "output_type": "error",
     "traceback": [
      "\u001b[0;36m  File \u001b[0;32m\"<ipython-input-4-2bca865857a0>\"\u001b[0;36m, line \u001b[0;32m5\u001b[0m\n\u001b[0;31m    id=\"pin1\",\u001b[0m\n\u001b[0m      ^\u001b[0m\n\u001b[0;31mSyntaxError\u001b[0m\u001b[0;31m:\u001b[0m invalid syntax\n"
     ]
    }
   ],
   "source": [
    "g.add_node(\n",
    "    \"gate\",\n",
    "    ports=[\n",
    "        {\n",
    "            id=\"pin1\",\n",
    "            layoutOptions={\n",
    "                \"portside\": \"WEST\",\n",
    "                \"PORT_ORDER\": \"1\",\n",
    "            }\n",
    "        },\n",
    "        {\n",
    "            id=\"pin2\",\n",
    "            layoutOptions={\n",
    "                \"portside\": \"WEST\",\n",
    "                \"PORT_ORDER\": \"2\",\n",
    "            }\n",
    "        },\n",
    "        {\n",
    "            id=\"pout\",\n",
    "            layoutOptions={\n",
    "                \"portside\": \"EAST\",\n",
    "            }\n",
    "        },        \n",
    "    ],\n",
    "    properties={\n",
    "        \"cssClass\":\" \",\n",
    "        \"def\":\"gate\"\n",
    "    }\n",
    ")\n",
    "\n",
    "def make_gate(node):\n",
    "    #TODO build pin_ids\n",
    "    return {\n",
    "                ports=[\n",
    "            {\n",
    "                id=\"pin1\",\n",
    "                layoutOptions={\n",
    "                    \"portside\": \"WEST\",\n",
    "                    \"PORT_ORDER\": \"1\",\n",
    "                }\n",
    "            },\n",
    "            {\n",
    "                id=\"pin2\",\n",
    "                layoutOptions={\n",
    "                    \"portside\": \"WEST\",\n",
    "                    \"PORT_ORDER\": \"2\",\n",
    "                }\n",
    "            },\n",
    "            {\n",
    "                id=\"pout\",\n",
    "                layoutOptions={\n",
    "                    \"portside\": \"EAST\",\n",
    "                }\n",
    "            },        \n",
    "        ],\n",
    "        width=20,\n",
    "        height=20,\n",
    "        properties={\n",
    "            \"cssClass\":\" \",\n",
    "            \"def\":\"gate\"\n",
    "        }\n",
    "    }"
   ]
  },
  {
   "cell_type": "code",
   "execution_count": 5,
   "metadata": {},
   "outputs": [],
   "source": [
    "def an_example_explicit_edge_labels(layouts=None):\n",
    "    layouts = layouts or ipyelk.nx.XELKTypedLayout()\n",
    "\n",
    "    g = networkx.Graph()\n",
    "    g.add_edge(\n",
    "        \"n1\",\n",
    "        \"n2\",\n",
    "        labels=[\n",
    "            \"cool edge\",  # layout options will be applied based on `XELKTypedLayout`\n",
    "            ElkLabel(\n",
    "                id=\"ex_label_head\",\n",
    "                text=\"heads\",\n",
    "                layoutOptions={\n",
    "                    \"org.eclipse.elk.edgeLabels.placement\": \"HEAD\",\n",
    "                },\n",
    "            ),\n",
    "            ElkLabel(\n",
    "                id=\"ex_label_tail\",\n",
    "                text=\"tails\",\n",
    "                layoutOptions={\n",
    "                    \"org.eclipse.elk.edgeLabels.placement\": \"TAIL\",\n",
    "                },\n",
    "            ),\n",
    "        ],\n",
    "        layoutOptions={\n",
    "            \"org.eclipse.elk.edge.type\": \"UNDIRECTED\",\n",
    "        },\n",
    "#         properties={\n",
    "#             \"cssClass\": \"custom-edge\",\n",
    "#             \"start\":\"rhomb\",\n",
    "#             \"end\":\"\",\n",
    "#         }\n",
    "    )\n",
    "\n",
    "    elk = Elk(\n",
    "        transformer=ipyelk.nx.XELK(\n",
    "            source=(g, None),\n",
    "            label_key=\"labels\",\n",
    "            layouts=layouts.value,\n",
    "        ),\n",
    "        style={\n",
    "            \" text.elklabel.node_type_label\": {\n",
    "                \"font-style\": \"italic\",\n",
    "            }\n",
    "        },\n",
    "    )\n",
    "\n",
    "    def _element_type_opt_change(change):\n",
    "        elk.transformer.layouts = layouts.value\n",
    "        elk.refresh()\n",
    "\n",
    "    layouts.observe(_element_type_opt_change, \"value\")\n",
    "    elk.layout.flex = \"1\"\n",
    "\n",
    "    box = ipywidgets.HBox([elk, layouts], layout=dict(height=\"60vh\"))\n",
    "    return box, elk, layouts"
   ]
  },
  {
   "cell_type": "code",
   "execution_count": 6,
   "metadata": {},
   "outputs": [
    {
     "data": {
      "application/vnd.jupyter.widget-view+json": {
       "model_id": "c6f2af16cc5648fbb7672b94e8be1dde",
       "version_major": 2,
       "version_minor": 0
      },
      "text/plain": [
       "HBox(children=(Elk(children=[HTML(value='<style>.styled-widget-140415711807824 text.elklabel.node_type_label{f…"
      ]
     },
     "metadata": {},
     "output_type": "display_data"
    }
   ],
   "source": [
    "if __name__ == \"__main__\":\n",
    "    ex = an_example_explicit_edge_labels()\n",
    "    display(ex[0])"
   ]
  },
  {
   "cell_type": "code",
   "execution_count": null,
   "metadata": {},
   "outputs": [],
   "source": []
  }
 ],
 "metadata": {
  "kernelspec": {
   "display_name": "Python 3",
   "language": "python",
   "name": "python3"
  },
  "language_info": {
   "codemirror_mode": {
    "name": "ipython",
    "version": 3
   },
   "file_extension": ".py",
   "mimetype": "text/x-python",
   "name": "python",
   "nbconvert_exporter": "python",
   "pygments_lexer": "ipython3",
   "version": "3.7.9"
  }
 },
 "nbformat": 4,
 "nbformat_minor": 4
}
