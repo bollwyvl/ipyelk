{
 "cells": [
  {
   "cell_type": "markdown",
   "metadata": {},
   "source": [
    "# 🦌 Logic Gate Symbol Library 🔣\n",
    "\n",
    "`IPyElk` can serve as a jumpping off point for building different types of diagrams\n",
    "based on defined shapes. This notebook demonstrates importing the logic gate symbol\n",
    "library."
   ]
  },
  {
   "cell_type": "code",
   "execution_count": null,
   "metadata": {},
   "outputs": [],
   "source": [
    "import json\n",
    "import pathlib\n",
    "from dataclasses import asdict\n",
    "\n",
    "import importnb\n",
    "import ipywidgets\n",
    "import networkx as nx\n",
    "import traitlets\n",
    "from IPython.display import JSON, SVG\n",
    "\n",
    "import ipyelk\n",
    "import ipyelk.diagram.defs.connectors as conn\n",
    "import ipyelk.diagram.elk_export\n",
    "import ipyelk.nx\n",
    "import ipyelk.tools\n",
    "from ipyelk import Elk\n",
    "from ipyelk.diagram import layout_options as opt\n",
    "from ipyelk.diagram.defs.svg import (\n",
    "    Circle,\n",
    "    ConnectorDef,\n",
    "    Def,\n",
    "    Ellipse,\n",
    "    Path,\n",
    "    Point,\n",
    "    RawSVG,\n",
    "    Rect,\n",
    ")\n",
    "from ipyelk.diagram.elk_model import ElkLabel, ElkNode, ElkPort"
   ]
  },
  {
   "cell_type": "markdown",
   "metadata": {},
   "source": [
    "# Wiring up ElkDiagram with def library"
   ]
  },
  {
   "cell_type": "markdown",
   "metadata": {},
   "source": [
    "# Logic Gates\n",
    "\n",
    "https://upload.wikimedia.org/wikipedia/commons/c/cb/Circuit_elements.svg"
   ]
  },
  {
   "cell_type": "code",
   "execution_count": null,
   "metadata": {},
   "outputs": [],
   "source": [
    "from ipyelk.contrib.library import logic_gates as logic\n",
    "\n",
    "gate_library = {c.identifier: c.shape for c in logic.Gate.__subclasses__()}"
   ]
  },
  {
   "cell_type": "markdown",
   "metadata": {},
   "source": [
    "# Simple Graph to draw the Logic Gate Symbol Library"
   ]
  },
  {
   "cell_type": "code",
   "execution_count": null,
   "metadata": {},
   "outputs": [],
   "source": [
    "def logic_library():\n",
    "    # build graph\n",
    "    marks = [symbol(id=symbol.__name__) for symbol in logic.Gate.__subclasses__()]\n",
    "    g = nx.Graph()\n",
    "    for mark in marks:\n",
    "        g.add_node(mark.id, **mark.data)\n",
    "\n",
    "    # configure app\n",
    "    app = Elk(\n",
    "        transformer=ipyelk.nx.XELK(layouts={}, source=(g, None)),\n",
    "        layout={\"height\": \"100%\"},\n",
    "    )\n",
    "    app.diagram.defs = gate_library\n",
    "    return app\n",
    "\n",
    "\n",
    "if __name__ == \"__main__\":\n",
    "    app = logic_library()\n",
    "    display(app)"
   ]
  },
  {
   "cell_type": "markdown",
   "metadata": {},
   "source": [
    "# 1-bit memory circuit"
   ]
  },
  {
   "cell_type": "code",
   "execution_count": null,
   "metadata": {},
   "outputs": [],
   "source": [
    "def onebit_memory_example():\n",
    "    # build graph\n",
    "    sizing_opts = opt.OptionsWidget(\n",
    "        options=[\n",
    "            opt.NodeSizeConstraints(),\n",
    "            opt.NodeLabelPlacement(horizontal=\"center\", vertical=\"center\"),\n",
    "        ]\n",
    "    ).value\n",
    "\n",
    "    gates = [\n",
    "        logic.Nor_Gate(id=\"nor 1\"),\n",
    "        logic.Nor_Gate(id=\"nor 2\"),\n",
    "    ]\n",
    "\n",
    "    g = nx.MultiDiGraph()\n",
    "    for node in gates:\n",
    "        g.add_node(node.id, **node.data)\n",
    "\n",
    "    g.add_node(\"set\", layoutOptions=sizing_opts)\n",
    "    g.add_node(\"reset\", layoutOptions=sizing_opts)\n",
    "    g.add_node(\"output\", layoutOptions=sizing_opts)\n",
    "\n",
    "    g.add_edge(\"set\", \"nor 1\", targetPort=\"b\")\n",
    "    g.add_edge(\"reset\", \"nor 2\", targetPort=\"a\")\n",
    "    g.add_edge(\"nor 1\", \"nor 2\", sourcePort=\"out\", targetPort=\"b\")\n",
    "    g.add_edge(\"nor 2\", \"nor 1\", sourcePort=\"out\", targetPort=\"a\")\n",
    "    g.add_edge(\"nor 2\", \"output\", sourcePort=\"out\")\n",
    "\n",
    "    # configure app\n",
    "    app = Elk(\n",
    "        transformer=ipyelk.nx.XELK(layouts={}, source=(g, None)),\n",
    "        layout={\"height\": \"100%\"},\n",
    "        style={\" rect.elknode\": {\"fill\": \"lightgrey\"}},\n",
    "    )\n",
    "    app.diagram.defs = gate_library\n",
    "    return app\n",
    "\n",
    "\n",
    "if __name__ == \"__main__\":\n",
    "    app = onebit_memory_example()\n",
    "    display(app)"
   ]
  }
 ],
 "metadata": {
  "kernelspec": {
   "display_name": "Python 3",
   "language": "python",
   "name": "python3"
  },
  "language_info": {
   "codemirror_mode": {
    "name": "ipython",
    "version": 3
   },
   "file_extension": ".py",
   "mimetype": "text/x-python",
   "name": "python",
   "nbconvert_exporter": "python",
   "pygments_lexer": "ipython3",
   "version": "3.7.9"
  }
 },
 "nbformat": 4,
 "nbformat_minor": 4
}
