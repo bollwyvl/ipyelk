{
 "cells": [
  {
   "cell_type": "markdown",
   "metadata": {},
   "source": [
    "# Widget Experiments for Creating UI to control Label Placement"
   ]
  },
  {
   "cell_type": "code",
   "execution_count": null,
   "metadata": {},
   "outputs": [],
   "source": [
    "import asyncio\n",
    "import json\n",
    "import pathlib\n",
    "\n",
    "import ipywidgets as W\n",
    "import traitlets as T\n",
    "\n",
    "import ipyelk\n",
    "from ipyelk.diagram import layout_options"
   ]
  },
  {
   "cell_type": "code",
   "execution_count": null,
   "metadata": {},
   "outputs": [],
   "source": [
    "nlp = layout_options.NodeLabelPlacement()\n",
    "nsc = layout_options.NodeSizeConstraints()\n",
    "nsm = layout_options.NodeSizeMinimum()\n",
    "\n",
    "options_widgets = layout_options.OptionsWidget(options=[nlp, nsc, nsm])\n",
    "options_widgets"
   ]
  },
  {
   "cell_type": "markdown",
   "metadata": {},
   "source": [
    "### Elk Layout options are available off the `value` trait"
   ]
  },
  {
   "cell_type": "code",
   "execution_count": null,
   "metadata": {},
   "outputs": [],
   "source": [
    "options_widgets.value"
   ]
  },
  {
   "cell_type": "markdown",
   "metadata": {},
   "source": [
    "ELKJSON build acceptable value for the label placement"
   ]
  },
  {
   "cell_type": "markdown",
   "metadata": {},
   "source": [
    "### Example connecting Layout Options widget value to the Simple Diagram"
   ]
  },
  {
   "cell_type": "code",
   "execution_count": null,
   "metadata": {},
   "outputs": [],
   "source": [
    "simple = ipyelk.ElkDiagram()\n",
    "sizer = ipyelk.diagram.ElkTextSizer()\n",
    "\n",
    "\n",
    "async def update_label_layout_options(node, options):\n",
    "    \"Recurse through the nodes and update layout options\"\n",
    "    node.pop(\"width\", None)\n",
    "    node.pop(\"height\", None)\n",
    "    node[\"layoutOptions\"] = options_widgets.value\n",
    "    for label in node.get(\"labels\", []):\n",
    "        if \"layoutOptions\" in label:\n",
    "            label[\"layoutOptions\"].update(options)\n",
    "        else:\n",
    "            label[\"layoutOptions\"] = options\n",
    "\n",
    "        # removing rigid x and y placement\n",
    "        label.pop(\"x\", None)\n",
    "        label.pop(\"y\", None)\n",
    "\n",
    "        # updating label size with measured values from the DOM\n",
    "        size = await sizer.measure(label.get(\"text\"))\n",
    "        label[\"height\"] = size.height\n",
    "        label[\"width\"] = size.width\n",
    "    for child in node.get(\"children\", []):\n",
    "        await update_label_layout_options(child, options)\n",
    "\n",
    "\n",
    "async def update_json():\n",
    "    elk_json = json.loads(pathlib.Path(\"simple.json\").read_text(encoding=\"utf-8\"))\n",
    "    elk_json[\"properties\"] = {\"algorithm\": \"layered\"}\n",
    "    layoutOptions = {nlp.identifier: nlp.value}\n",
    "    await update_label_layout_options(elk_json, layoutOptions)\n",
    "    simple.value = elk_json\n",
    "\n",
    "\n",
    "def refresh(change=None):\n",
    "    \"\"\"Wrapper function for scheduling the async update_json function\"\"\"\n",
    "    asyncio.create_task(update_json())\n",
    "\n",
    "\n",
    "options_widgets.observe(refresh, \"value\")\n",
    "refresh()\n",
    "W.HBox([simple, options_widgets], layout={\"height\": \"400px\"})"
   ]
  },
  {
   "cell_type": "code",
   "execution_count": null,
   "metadata": {},
   "outputs": [],
   "source": [
    "options_widgets.value"
   ]
  },
  {
   "cell_type": "code",
   "execution_count": null,
   "metadata": {},
   "outputs": [],
   "source": [
    "from IPython.display import JSON\n",
    "\n",
    "JSON(simple.value)"
   ]
  }
 ],
 "metadata": {
  "kernelspec": {
   "display_name": "Python 3",
   "language": "python",
   "name": "python3"
  },
  "language_info": {
   "codemirror_mode": {
    "name": "ipython",
    "version": 3
   },
   "file_extension": ".py",
   "mimetype": "text/x-python",
   "name": "python",
   "nbconvert_exporter": "python",
   "pygments_lexer": "ipython3",
   "version": "3.7.8"
  }
 },
 "nbformat": 4,
 "nbformat_minor": 4
}
