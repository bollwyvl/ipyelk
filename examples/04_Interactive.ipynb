{
 "cells": [
  {
   "cell_type": "markdown",
   "metadata": {},
   "source": [
    "# 🦌 Make the ELK App Interactive 🕹️\n",
    "This notebook shows how you can make the ELK App work dynamically with various types of graphs"
   ]
  },
  {
   "cell_type": "code",
   "execution_count": null,
   "metadata": {},
   "outputs": [],
   "source": [
    "import random\n",
    "\n",
    "import ipywidgets as W\n",
    "import networkx as nx\n",
    "\n",
    "from pprint import pprint\n",
    "from collections import defaultdict\n",
    "\n",
    "import elk\n",
    "from elk import nx as elknx"
   ]
  },
  {
   "cell_type": "code",
   "execution_count": null,
   "metadata": {},
   "outputs": [],
   "source": [
    "elk_app = elk.Elk(\n",
    "    style = {\" \": {'height': \"100%\"}},\n",
    "    transformer=elknx.transformer.XELK(),\n",
    ")\n",
    "elk_app"
   ]
  },
  {
   "cell_type": "code",
   "execution_count": null,
   "metadata": {},
   "outputs": [],
   "source": [
    "@W.interact\n",
    "def make_graph(\n",
    "    number_of_nodes=(5, 100),\n",
    "    percent_of_edges=(1, 99),\n",
    "    hierarchical=False,\n",
    "    seed=(0, 1024),\n",
    "    debug=False,\n",
    "    fit=False,\n",
    "    padding=(0, 100),\n",
    "    port_scale=(1, 20),\n",
    "    text_scale=(1, 20),\n",
    "    label_offset=(1, 10)\n",
    "):\n",
    "    tree = None\n",
    "    if hierarchical:\n",
    "        tree = nx.generators.trees.random_tree(number_of_nodes, seed=seed)\n",
    "        \n",
    "    number_of_edges = max(1, int(number_of_nodes * 0.01 * percent_of_edges))\n",
    "\n",
    "    graph = nx.generators.random_graphs.barabasi_albert_graph(\n",
    "        n=number_of_nodes,\n",
    "        m=number_of_edges,\n",
    "        seed=seed,\n",
    "    )\n",
    "    \n",
    "    for edge in sorted(graph.edges):\n",
    "        graph.edges[edge][\"sourcePort\"] = edge\n",
    "        graph.edges[edge][\"targetPort\"] = edge\n",
    "    \n",
    "    elk_app.transformer.port_scale = port_scale\n",
    "    elk_app.transformer.label_offset = label_offset\n",
    "    elk_app.transformer.text_scale = text_scale\n",
    "    elk_app.transformer.source = (\n",
    "        graph,\n",
    "        tree,\n",
    "    )\n",
    "    if fit:\n",
    "        elk_app.diagram.fit('root', padding=padding)\n",
    "    \n",
    "    if debug:\n",
    "        counter = defaultdict(list)\n",
    "        [counter[src].append(tgt) for src, tgt in graph.edges]\n",
    "        pprint(dict(counter))\n",
    "        pprint(elk_app.transformer.value[\"edges\"])"
   ]
  },
  {
   "cell_type": "markdown",
   "metadata": {},
   "source": [
    "## 🦌 Learn More 📖 \n",
    "\n",
    "- [🦌 Introducing ELK 👋](./00_Introduction.ipynb)\n",
    "- [🦌 Linking ELK Diagrams 🔗](./01_Linking.ipynb)\n",
    "- [🦌 ELK Transformer 🤖](./02_Transformer.ipynb)\n",
    "- [🦌 ELK App 🚀](./03_App.ipynb)\n",
    "- [🦌 Interactive ELK App 🕹️](./04_Interactive.ipynb)"
   ]
  }
 ],
 "metadata": {
  "kernelspec": {
   "display_name": "Python 3",
   "language": "python",
   "name": "python3"
  },
  "language_info": {
   "codemirror_mode": {
    "name": "ipython",
    "version": 3
   },
   "file_extension": ".py",
   "mimetype": "text/x-python",
   "name": "python",
   "nbconvert_exporter": "python",
   "pygments_lexer": "ipython3",
   "version": "3.8.2"
  }
 },
 "nbformat": 4,
 "nbformat_minor": 4
}
