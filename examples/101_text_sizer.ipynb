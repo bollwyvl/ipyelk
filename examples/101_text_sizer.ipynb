{
 "cells": [
  {
   "cell_type": "code",
   "execution_count": null,
   "metadata": {},
   "outputs": [],
   "source": [
    "import asyncio\n",
    "\n",
    "import ipywidgets\n",
    "\n",
    "import ipyelk"
   ]
  },
  {
   "cell_type": "code",
   "execution_count": null,
   "metadata": {},
   "outputs": [],
   "source": [
    "sizer = ipyelk.diagram.ElkTextSizer(custom_css=[])\n",
    "button = ipywidgets.Button(description=\"Size\")\n",
    "txt = ipywidgets.Text(description=\"Input Text\")\n",
    "output = ipywidgets.Label(description=\"Text Size\")\n",
    "\n",
    "\n",
    "async def call_measurement(*args):\n",
    "    size = await sizer.measure(txt.value)\n",
    "    output.value = f\"width:{size.width} height:{size.height}\"\n",
    "\n",
    "\n",
    "button.on_click(lambda *args: asyncio.create_task(call_measurement()))\n",
    "ipywidgets.HBox([txt, button, output])"
   ]
  },
  {
   "cell_type": "code",
   "execution_count": null,
   "metadata": {},
   "outputs": [],
   "source": [
    "sizer.futures"
   ]
  }
 ],
 "metadata": {
  "kernelspec": {
   "display_name": "Python 3",
   "language": "python",
   "name": "python3"
  },
  "language_info": {
   "codemirror_mode": {
    "name": "ipython",
    "version": 3
   },
   "file_extension": ".py",
   "mimetype": "text/x-python",
   "name": "python",
   "nbconvert_exporter": "python",
   "pygments_lexer": "ipython3",
   "version": "3.7.8"
  }
 },
 "nbformat": 4,
 "nbformat_minor": 4
}
