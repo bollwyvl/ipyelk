{
 "cells": [
  {
   "cell_type": "markdown",
   "metadata": {},
   "source": [
    "# 🦌 Text Sizer 📏\n",
    "\n",
    "This widget is used to send text strings to the browser for sizing. The resulting sizes\n",
    "are be included in the ElkLabel objects so ELKjs can accuratly place labels in the\n",
    "diagram."
   ]
  },
  {
   "cell_type": "code",
   "execution_count": null,
   "metadata": {},
   "outputs": [],
   "source": [
    "import asyncio\n",
    "\n",
    "import ipywidgets\n",
    "\n",
    "import ipyelk"
   ]
  },
  {
   "cell_type": "code",
   "execution_count": null,
   "metadata": {},
   "outputs": [],
   "source": [
    "sizer = ipyelk.diagram.ElkTextSizer(\n",
    "    custom_css=[], max_size=1,\n",
    ")  # TODO implement custom css class injection so styles are correctly applied\n",
    "button = ipywidgets.Button(description=\"Size\")\n",
    "txt = ipywidgets.Text(description=\"Input Text\")\n",
    "output = ipywidgets.Label(description=\"Text Size\")\n",
    "\n",
    "\n",
    "async def call_measurement(*args):\n",
    "    size = await sizer.measure(txt.value)\n",
    "    output.value = f\"width:{size.width} height:{size.height}\"\n",
    "\n",
    "\n",
    "button.on_click(lambda *args: asyncio.create_task(call_measurement()))\n",
    "ipywidgets.HBox([txt, button, output])"
   ]
  },
  {
   "cell_type": "markdown",
   "metadata": {},
   "source": [
    "### Responses are cached so that multiple requests for the same label will only be send to the DOM once"
   ]
  },
  {
   "cell_type": "code",
   "execution_count": null,
   "metadata": {},
   "outputs": [],
   "source": [
    "sizer.futures"
   ]
  },
  {
   "cell_type": "markdown",
   "metadata": {},
   "source": [
    "### Bulk measurements\n",
    "\n",
    "Can send several requests"
   ]
  },
  {
   "cell_type": "code",
   "execution_count": null,
   "metadata": {},
   "outputs": [],
   "source": [
    "num = 10\n",
    "bulk_sizer = ipyelk.diagram.ElkTextSizer(max_size=num,)\n",
    "\n",
    "texts = [str(i) for i in range(num)]\n",
    "asyncio.create_task(bulk_sizer.measure(texts))"
   ]
  },
  {
   "cell_type": "markdown",
   "metadata": {},
   "source": [
    "after running expect to see 10 additional requests captured in the `bulk_sizer.futures`"
   ]
  },
  {
   "cell_type": "code",
   "execution_count": null,
   "metadata": {},
   "outputs": [],
   "source": [
    "bulk_sizer.futures"
   ]
  },
  {
   "cell_type": "markdown",
   "metadata": {},
   "source": [
    "## 🦌 Learn More 📖\n",
    "\n",
    "- [🦌 Introducing ELK 👋](./00_Introduction.ipynb)\n",
    "- [🦌 Linking ELK Diagrams 🔗](./01_Linking.ipynb)\n",
    "- [🦌 ELK Transformer 🤖](./02_Transformer.ipynb)\n",
    "- [🦌 ELK App 🚀](./03_App.ipynb)\n",
    "- [🦌 Interactive ELK App 🕹️](./04_Interactive.ipynb)\n",
    "- [🦌 Node Label Placement 🏷️](./100_node_label_placement.ipynb)\n",
    "- [🦌 Text Sizer 📏](./101_text_sizer.ipynb)"
   ]
  }
 ],
 "metadata": {
  "kernelspec": {
   "display_name": "Python 3",
   "language": "python",
   "name": "python3"
  },
  "language_info": {
   "codemirror_mode": {
    "name": "ipython",
    "version": 3
   },
   "file_extension": ".py",
   "mimetype": "text/x-python",
   "name": "python",
   "nbconvert_exporter": "python",
   "pygments_lexer": "ipython3",
   "version": "3.7.8"
  }
 },
 "nbformat": 4,
 "nbformat_minor": 4
}
