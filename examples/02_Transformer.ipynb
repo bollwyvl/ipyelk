{
 "cells": [
  {
   "cell_type": "markdown",
   "metadata": {},
   "source": [
    "# 🦌 ELK Transformer 🤖\n",
    "A transformer object that will convert some input source into valid Elk Json.\n",
    "This example using a transformer around a networkx graph."
   ]
  },
  {
   "cell_type": "code",
   "execution_count": 2,
   "metadata": {},
   "outputs": [],
   "source": [
    "import networkx, ipyelk, ipyelk.nx, ipyelk.tools, ipywidgets, pathlib, json"
   ]
  },
  {
   "cell_type": "markdown",
   "metadata": {},
   "source": [
    "## Flat structure\n",
    "\n",
    "A `networkx.MultiDiagraph` can be used to create a flat graph.\n",
    "\n",
    "> _TODO: There should be an option to specify if ports should be created or only connect edges between the nodes_"
   ]
  },
  {
   "cell_type": "code",
   "execution_count": 3,
   "metadata": {},
   "outputs": [
    {
     "data": {
      "application/vnd.jupyter.widget-view+json": {
       "model_id": "e11a7a38dc81450d8145acf9c8384dfe",
       "version_major": 2,
       "version_minor": 0
      },
      "text/plain": [
       "ElkDiagram(value={'id': 'root', 'children': [{'id': 'n1', 'height': 18.0, 'labels': [{'id': 'n1_label_n1', 'te…"
      ]
     },
     "metadata": {},
     "output_type": "display_data"
    }
   ],
   "source": [
    "flat_graph = networkx.readwrite.json_graph.node_link_graph(\n",
    "    json.loads(pathlib.Path(\"flat_graph.json\").read_text(encoding=\"utf-8\"))\n",
    ")\n",
    "\n",
    "flat_xelk = ipyelk.nx.XELK(source=(flat_graph, None))\n",
    "flat_elk = ipyelk.ElkDiagram(flat_xelk.to_dict())\n",
    "flat_elk"
   ]
  },
  {
   "cell_type": "markdown",
   "metadata": {},
   "source": [
    "## Hierarchical Diagram with Ports "
   ]
  },
  {
   "cell_type": "code",
   "execution_count": 5,
   "metadata": {},
   "outputs": [
    {
     "data": {
      "application/vnd.jupyter.widget-view+json": {
       "model_id": "57e048eb85b84856854559ed5f516b03",
       "version_major": 2,
       "version_minor": 0
      },
      "text/plain": [
       "VBox(children=(HBox(children=(HTML(value='<h2>👇 click a group node then click 👉</h2>'), Button(description='To…"
      ]
     },
     "metadata": {},
     "output_type": "display_data"
    }
   ],
   "source": [
    "hier_tree = networkx.readwrite.json_graph.node_link_graph(\n",
    "    json.loads(pathlib.Path(\"hier_tree.json\").read_text(encoding=\"utf-8\"))\n",
    ")\n",
    "hier_ports = networkx.readwrite.json_graph.node_link_graph(\n",
    "    json.loads(pathlib.Path(\"hier_ports.json\").read_text())\n",
    ")\n",
    "\n",
    "hier_xelk = ipyelk.nx.XELK(source=(hier_ports, hier_tree))\n",
    "hier_elk = ipyelk.ElkDiagram(hier_xelk.to_dict())\n",
    "\n",
    "toggle = ipywidgets.Button(description=\"Toggle Collapsed\")\n",
    "\n",
    "@toggle.on_click\n",
    "def toggle_node(widget):\n",
    "    for element_id in hier_elk.selected:\n",
    "        if element_id in hier_tree:\n",
    "            for child in hier_tree.neighbors(element_id):\n",
    "                state = hier_tree.nodes[child].get('hidden', False)\n",
    "                hier_tree.nodes[child]['hidden'] = not state\n",
    "            hier_elk.value = hier_xelk.to_dict()\n",
    "\n",
    "ipywidgets.VBox([\n",
    "    ipywidgets.HBox([\n",
    "        ipywidgets.HTML(\"<h2>👇 click a group node then click 👉</h2>\"), \n",
    "        toggle\n",
    "    ]), \n",
    "    hier_elk\n",
    "])"
   ]
  },
  {
   "cell_type": "markdown",
   "metadata": {},
   "source": [
    "## 🦌 Learn More 📖 \n",
    "\n",
    "- [🦌 Introducing ELK 👋](./00_Introduction.ipynb)\n",
    "- [🦌 Linking ELK Diagrams 🔗](./01_Linking.ipynb)\n",
    "- [🦌 ELK Transformer 🤖](./02_Transformer.ipynb)\n",
    "- [🦌 ELK App 🚀](./03_App.ipynb)\n",
    "- [🦌 Interactive ELK App 🕹️](./04_Interactive.ipynb)"
   ]
  }
 ],
 "metadata": {
  "kernelspec": {
   "display_name": "Python 3",
   "language": "python",
   "name": "python3"
  },
  "language_info": {
   "codemirror_mode": {
    "name": "ipython",
    "version": 3
   },
   "file_extension": ".py",
   "mimetype": "text/x-python",
   "name": "python",
   "nbconvert_exporter": "python",
   "pygments_lexer": "ipython3",
   "version": "3.7.7"
  }
 },
 "nbformat": 4,
 "nbformat_minor": 4
}
