{
 "cells": [
  {
   "cell_type": "markdown",
   "metadata": {},
   "source": [
    "# 🦌 Introducing ELK 👋 \n",
    "This is a brief introduction to the jupyterlab widget wrapper for displaying diagrams using the Eclipse Layout Kernel - [elkjs](https://github.com/kieler/elkjs). "
   ]
  },
  {
   "cell_type": "code",
   "execution_count": 3,
   "metadata": {},
   "outputs": [],
   "source": [
    "import elk, json, pathlib, ipywidgets, traitlets\n",
    "new_view_for_output = \"\"\"<h2><a href=\"https://jupyter.org\" \n",
    "data-commandlinker-command=\"notebook:create-output-view\">\n",
    "📤 Pop out</a></h2>\"\"\""
   ]
  },
  {
   "cell_type": "markdown",
   "metadata": {},
   "source": [
    "# ElkDiagram\n",
    "The `ElkDiagram` is a low-level widget that accepts and validates a dictionary against the [Elk JSON Schema](../elk/schema/elkschema.json)."
   ]
  },
  {
   "cell_type": "code",
   "execution_count": 4,
   "metadata": {},
   "outputs": [
    {
     "data": {
      "application/vnd.jupyter.widget-view+json": {
       "model_id": "ea65f3f5ae4b4b4fb9f03f448aaa254a",
       "version_major": 2,
       "version_minor": 0
      },
      "text/plain": [
       "VBox(children=(HTML(value='<h2><a href=\"https://jupyter.org\" \\ndata-commandlinker-command=\"notebook:create-out…"
      ]
     },
     "metadata": {},
     "output_type": "display_data"
    }
   ],
   "source": [
    "elk_json = json.loads(pathlib.Path(\"simple.json\").read_text())\n",
    "simple = elk.ElkDiagram(elk_json)\n",
    "ipywidgets.VBox([ipywidgets.HTML(new_view_for_output), simple])"
   ]
  },
  {
   "cell_type": "markdown",
   "metadata": {},
   "source": [
    "## Interaction\n",
    "\n",
    "Elk diagrams are highly interactive. Some these interactions are even-driven, while others are available as _traits_ which can be modified directly, or linked between diagrams."
   ]
  },
  {
   "cell_type": "markdown",
   "metadata": {},
   "source": [
    "## Centering Diagram\n",
    "Center of root element"
   ]
  },
  {
   "cell_type": "code",
   "execution_count": 5,
   "metadata": {},
   "outputs": [],
   "source": [
    "simple.center(\"root\")"
   ]
  },
  {
   "cell_type": "markdown",
   "metadata": {},
   "source": [
    "Center on multiple elements"
   ]
  },
  {
   "cell_type": "code",
   "execution_count": 6,
   "metadata": {},
   "outputs": [],
   "source": [
    "simple.center([\"n3\", \"n2\"])"
   ]
  },
  {
   "cell_type": "markdown",
   "metadata": {},
   "source": [
    "## Selection\n",
    "The currently-selected nodes and edges are available"
   ]
  },
  {
   "cell_type": "code",
   "execution_count": 14,
   "metadata": {},
   "outputs": [
    {
     "data": {
      "application/vnd.jupyter.widget-view+json": {
       "model_id": "7f9c761f1f1a471081629c74f4026dfc",
       "version_major": 2,
       "version_minor": 0
      },
      "text/plain": [
       "Text(value='n2', description='selected', disabled=True)"
      ]
     },
     "metadata": {},
     "output_type": "display_data"
    }
   ],
   "source": [
    "selected = ipywidgets.Text(description=\"selected\", disabled=True)\n",
    "traitlets.dlink((simple, \"selected\"), (selected, \"value\"), \" and \".join)\n",
    "selected"
   ]
  },
  {
   "cell_type": "markdown",
   "metadata": {},
   "source": [
    "Clicking a single element will mark it as _selected_. "
   ]
  },
  {
   "cell_type": "code",
   "execution_count": 8,
   "metadata": {},
   "outputs": [],
   "source": [
    "simple.selected = ['n1']"
   ]
  },
  {
   "cell_type": "markdown",
   "metadata": {},
   "source": [
    "Holding down <kbd>Ctrl</kbd> while clicking will select multiple nodes."
   ]
  },
  {
   "cell_type": "code",
   "execution_count": 9,
   "metadata": {},
   "outputs": [],
   "source": [
    "simple.selected = [\"n2\", \"n3\"]"
   ]
  },
  {
   "cell_type": "markdown",
   "metadata": {},
   "source": [
    "Clicking outside of any node will clear the selection."
   ]
  },
  {
   "cell_type": "code",
   "execution_count": 10,
   "metadata": {},
   "outputs": [],
   "source": [
    "simple.selected = []"
   ]
  },
  {
   "cell_type": "markdown",
   "metadata": {},
   "source": [
    "## Hovering \n",
    "The element currently being hovered is also traited"
   ]
  },
  {
   "cell_type": "code",
   "execution_count": 16,
   "metadata": {},
   "outputs": [
    {
     "data": {
      "application/vnd.jupyter.widget-view+json": {
       "model_id": "48ec6e7937dc4d648990a637949afbf7",
       "version_major": 2,
       "version_minor": 0
      },
      "text/plain": [
       "Text(value='root', description='hovered', disabled=True)"
      ]
     },
     "metadata": {},
     "output_type": "display_data"
    }
   ],
   "source": [
    "hovered = ipywidgets.Text(description=\"hovered\", disabled=True)\n",
    "traitlets.dlink((simple, \"hovered\"), (hovered, \"value\"), str)\n",
    "hovered"
   ]
  },
  {
   "cell_type": "code",
   "execution_count": 17,
   "metadata": {},
   "outputs": [],
   "source": [
    "simple.hovered = \"n2\""
   ]
  },
  {
   "cell_type": "markdown",
   "metadata": {},
   "source": [
    "## 🦌 Learn More 📖 \n",
    "\n",
    "- [🦌 Introducing ELK 👋](./00_Introduction.ipynb)\n",
    "- [🦌 Linking ELK Diagrams 🔗](./01_Linking.ipynb)\n",
    "- [🦌 ELK Transformer 🤖](./02_Transformer.ipynb)\n",
    "- [🦌 ELK App 🚀](./03_App.ipynb)"
   ]
  }
 ],
 "metadata": {
  "kernelspec": {
   "display_name": "Python 3",
   "language": "python",
   "name": "python3"
  },
  "language_info": {
   "codemirror_mode": {
    "name": "ipython",
    "version": 3
   },
   "file_extension": ".py",
   "mimetype": "text/x-python",
   "name": "python",
   "nbconvert_exporter": "python",
   "pygments_lexer": "ipython3",
   "version": "3.8.2"
  }
 },
 "nbformat": 4,
 "nbformat_minor": 4
}
