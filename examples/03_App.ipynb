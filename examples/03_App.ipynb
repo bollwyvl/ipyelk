{
 "cells": [
  {
   "cell_type": "markdown",
   "metadata": {},
   "source": [
    "# 🦌 ELK App 🚀\n",
    "This is a high-level widget for interacting with ELK Transformers and ELK Diagrams"
   ]
  },
  {
   "cell_type": "code",
   "execution_count": null,
   "metadata": {},
   "outputs": [],
   "source": [
    "import json, pathlib, traitlets, ipywidgets, networkx, ipyelk, ipyelk.nx, ipyelk.tools"
   ]
  },
  {
   "cell_type": "code",
   "execution_count": null,
   "metadata": {},
   "outputs": [],
   "source": [
    "hier_tree = networkx.readwrite.json_graph.node_link_graph(\n",
    "    json.loads(pathlib.Path(\"hier_tree.json\").read_text())\n",
    ")\n",
    "hier_ports = networkx.readwrite.json_graph.node_link_graph(\n",
    "    json.loads(pathlib.Path(\"hier_ports.json\").read_text())\n",
    ")\n",
    "\n",
    "hier_xelk = ipyelk.nx.XELK(source=(hier_ports, hier_tree))\n",
    "hier_elk = ipyelk.ElkDiagram(hier_xelk.to_dict())"
   ]
  },
  {
   "cell_type": "code",
   "execution_count": null,
   "metadata": {},
   "outputs": [],
   "source": [
    "class ToggleCollapsedBtn(ipyelk.tools.ToolButton):\n",
    "\n",
    "    @traitlets.default(\"description\")\n",
    "    def _default_description(self):\n",
    "        return \"Toggle Collapsed\"\n",
    "\n",
    "    def handler(self, *args):\n",
    "        diagram = self.app.diagram\n",
    "        transformer = self.app.transformer\n",
    "        graph, tree = transformer.source\n",
    "\n",
    "        for element_id in diagram.selected:\n",
    "            if element_id in tree:\n",
    "                for child in tree.neighbors(element_id):\n",
    "                    state = tree.nodes[child].get('hidden', False)\n",
    "                    tree.nodes[child]['hidden'] = not state\n",
    "                diagram.value = transformer.to_dict()"
   ]
  },
  {
   "cell_type": "code",
   "execution_count": null,
   "metadata": {},
   "outputs": [],
   "source": [
    "elk_app = ipyelk.Elk(transformer=hier_xelk, layout=dict(display=\"flex\", flex=\"1\"))\n",
    "toggle = ipyelk.tools.ToggleCollapsedBtn(app=elk_app)\n",
    "box = ipywidgets.VBox([\n",
    "    ipywidgets.HBox([\n",
    "        ipywidgets.HTML(\"<h2>👇 click a group node then click 👉</h2>\"), \n",
    "        toggle\n",
    "    ]), \n",
    "    elk_app\n",
    "], layout=dict(height=\"100%\"))\n",
    "box"
   ]
  },
  {
   "cell_type": "markdown",
   "metadata": {},
   "source": [
    "## Custom Styling For Collaping Hierarchical Example\n",
    "The style dictionary takes the first key and adds a parent selector based on the current `StyleWidget`'s id. This helps to namespace the css selectors but also means that the leading space in the style dictionary keys is intentional and is a descendant selector from the root.\n",
    "\n",
    "The `.slack-port` and `.slack-edge` are custom css classes applied by the XELK transformer when collapsing a node causes either a source or destination of a tunneling edges to disapear requiring the introduction of a new edge and port at a higher level."
   ]
  },
  {
   "cell_type": "code",
   "execution_count": null,
   "metadata": {},
   "outputs": [],
   "source": [
    "elk_app.style = {\n",
    "    \" rect\": {'opacity':'.75', 'transition': 'all 0.2s'},\n",
    "    \" .slack-port>rect\": {'fill':'red', 'opacity':'.25', 'transition': 'all 0.2s'},\n",
    "    \" .slack-edge>path\": {'stroke':'red', 'opacity':'.25', 'stroke-dasharray': '4', 'transition': 'all 0.2s', 'stroke-width': '2px'},\n",
    "    \" .slack-edge>path.edge.arrow\":{'fill': 'red', 'opacity':'.25'}\n",
    "}"
   ]
  },
  {
   "cell_type": "markdown",
   "metadata": {},
   "source": [
    "## 🦌 Learn More 📖 \n",
    "\n",
    "- [🦌 Introducing ELK 👋](./00_Introduction.ipynb)\n",
    "- [🦌 Linking ELK Diagrams 🔗](./01_Linking.ipynb)\n",
    "- [🦌 ELK Transformer 🤖](./02_Transformer.ipynb)\n",
    "- [🦌 ELK App 🚀](./03_App.ipynb)\n",
    "- [🦌 Interactive ELK App 🕹️](./04_Interactive.ipynb)"
   ]
  }
 ],
 "metadata": {
  "kernelspec": {
   "display_name": "Python 3",
   "language": "python",
   "name": "python3"
  },
  "language_info": {
   "codemirror_mode": {
    "name": "ipython",
    "version": 3
   },
   "file_extension": ".py",
   "mimetype": "text/x-python",
   "name": "python",
   "nbconvert_exporter": "python",
   "pygments_lexer": "ipython3",
   "version": "3.7.6"
  }
 },
 "nbformat": 4,
 "nbformat_minor": 4
}
