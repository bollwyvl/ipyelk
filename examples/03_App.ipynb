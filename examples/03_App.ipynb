{
 "cells": [
  {
   "cell_type": "markdown",
   "metadata": {},
   "source": [
    "# 🦌 ELK App 🚀\n",
    "\n",
    "This is a high-level widget for interacting with ELK Transformers and ELK Diagrams"
   ]
  },
  {
   "cell_type": "code",
   "execution_count": 1,
   "metadata": {},
   "outputs": [
    {
     "ename": "ModuleNotFoundError",
     "evalue": "No module named 'importnb'",
     "output_type": "error",
     "traceback": [
      "\u001b[0;31m---------------------------------------------------------------------------\u001b[0m",
      "\u001b[0;31mModuleNotFoundError\u001b[0m                       Traceback (most recent call last)",
      "\u001b[0;32m<ipython-input-1-a430cfc11609>\u001b[0m in \u001b[0;36m<module>\u001b[0;34m\u001b[0m\n\u001b[1;32m      2\u001b[0m \u001b[0;32mimport\u001b[0m \u001b[0mpathlib\u001b[0m\u001b[0;34m\u001b[0m\u001b[0;34m\u001b[0m\u001b[0m\n\u001b[1;32m      3\u001b[0m \u001b[0;34m\u001b[0m\u001b[0m\n\u001b[0;32m----> 4\u001b[0;31m \u001b[0;32mimport\u001b[0m \u001b[0mimportnb\u001b[0m\u001b[0;34m\u001b[0m\u001b[0;34m\u001b[0m\u001b[0m\n\u001b[0m\u001b[1;32m      5\u001b[0m \u001b[0;32mimport\u001b[0m \u001b[0mipywidgets\u001b[0m\u001b[0;34m\u001b[0m\u001b[0;34m\u001b[0m\u001b[0m\n\u001b[1;32m      6\u001b[0m \u001b[0;32mimport\u001b[0m \u001b[0mnetworkx\u001b[0m\u001b[0;34m\u001b[0m\u001b[0;34m\u001b[0m\u001b[0m\n",
      "\u001b[0;31mModuleNotFoundError\u001b[0m: No module named 'importnb'"
     ]
    }
   ],
   "source": [
    "import json\n",
    "import pathlib\n",
    "\n",
    "import importnb\n",
    "import ipywidgets\n",
    "import networkx\n",
    "import traitlets\n",
    "\n",
    "import ipyelk\n",
    "import ipyelk.nx\n",
    "import ipyelk.tools\n",
    "import ipyelk.tools.tools"
   ]
  },
  {
   "cell_type": "code",
   "execution_count": 2,
   "metadata": {},
   "outputs": [
    {
     "data": {
      "application/vnd.jupyter.widget-view+json": {
       "model_id": "fda0ca2bb2b24a50b7e8e5101d3dfb2b",
       "version_major": 2,
       "version_minor": 0
      },
      "text/plain": [
       "ElkDiagram(value={'id': 'root'})"
      ]
     },
     "metadata": {},
     "output_type": "display_data"
    }
   ],
   "source": [
    "with importnb.Notebook():\n",
    "    from __02_Transformer import a_hierarchical_elk_example"
   ]
  },
  {
   "cell_type": "code",
   "execution_count": 3,
   "metadata": {},
   "outputs": [
    {
     "data": {
      "application/vnd.jupyter.widget-view+json": {
       "model_id": "712a0ccab9a54a2b85f1c6b974915e06",
       "version_major": 2,
       "version_minor": 0
      },
      "text/plain": [
       "VBox(children=(HBox(children=(HTML(value='<h2>👇 click a group node then click 👉</h2>'), ToggleCollapsedBtn(des…"
      ]
     },
     "metadata": {},
     "output_type": "display_data"
    }
   ],
   "source": [
    "def an_elk_app_example(elk_xelk=None):\n",
    "    elk, xelk = elk_xelk or a_hierarchical_elk_example()\n",
    "    app = ipyelk.Elk(transformer=xelk, layout=dict(display=\"flex\", flex=\"1\"))\n",
    "    toggle = ipyelk.tools.tools.ToggleCollapsedBtn(app=app)\n",
    "    fit = ipyelk.tools.tools.FitBtn(app=app)\n",
    "    app.toolbar.commands = [fit, toggle]\n",
    "    box = ipywidgets.VBox(\n",
    "        [\n",
    "            ipywidgets.HBox(\n",
    "                [ipywidgets.HTML(\"<h2>👇 click a group node then click 👉</h2>\"), toggle]\n",
    "            ),\n",
    "            app,\n",
    "        ],\n",
    "        layout=dict(height=\"100%\"),\n",
    "    )\n",
    "    return app, box, xelk, elk"
   ]
  },
  {
   "cell_type": "code",
   "execution_count": null,
   "metadata": {},
   "outputs": [],
   "source": [
    "if __name__ == \"__main__\":\n",
    "    app, box, xelk, elk = an_elk_app_example()\n",
    "    display(box)"
   ]
  },
  {
   "cell_type": "markdown",
   "metadata": {},
   "source": [
    "#### Command Buttons can be customized to tailor the look and feel"
   ]
  },
  {
   "cell_type": "code",
   "execution_count": 4,
   "metadata": {},
   "outputs": [],
   "source": [
    "def an_elk_app_with_a_custom_tool_button():\n",
    "    app, box, xelk, elk = an_elk_app_example()\n",
    "    fit = app.toolbar.commands[0]\n",
    "    fit.icon = \"arrows-alt\"\n",
    "    fit.tooltip = \"Fit Diagram\"\n",
    "    fit.layout.width = \"5em\"\n",
    "    fit.description = \"\"\n",
    "    return app, box, xelk, elk"
   ]
  },
  {
   "cell_type": "code",
   "execution_count": null,
   "metadata": {},
   "outputs": [],
   "source": [
    "if __name__ == \"__main__\":\n",
    "    display(an_elk_app_with_a_custom_tool_button()[1])"
   ]
  },
  {
   "cell_type": "markdown",
   "metadata": {},
   "source": [
    "#### Demonstrating adding close button\n",
    "\n",
    "Adding a callable to an `Elk` Application's Toolbar `on_close` will result in a close\n",
    "button appearing in the toolbar which will fire that function when pressed."
   ]
  },
  {
   "cell_type": "code",
   "execution_count": 5,
   "metadata": {},
   "outputs": [
    {
     "data": {
      "application/vnd.jupyter.widget-view+json": {
       "model_id": "a3be105667a14c96afa1ebfd613f6960",
       "version_major": 2,
       "version_minor": 0
      },
      "text/plain": [
       "Output()"
      ]
     },
     "metadata": {},
     "output_type": "display_data"
    }
   ],
   "source": [
    "def an_elk_app_with_custom_close():\n",
    "    app, box, xelk, elk = an_elk_app_example()\n",
    "\n",
    "    out = ipywidgets.Output()\n",
    "    with out:\n",
    "        print(\"  ┌ Press the close button!\\n\" \"  │\\n\" \"  │\\n\" \"  │\\n\" \"◀─╯\")\n",
    "\n",
    "    def simulating_close():\n",
    "        with out:\n",
    "            print(\"─▸Toolbar close button pressed!\")\n",
    "\n",
    "    app.toolbar.on_close = simulating_close\n",
    "    return app, ipywidgets.HBox([box, out]), xelk, elk"
   ]
  },
  {
   "cell_type": "code",
   "execution_count": null,
   "metadata": {},
   "outputs": [],
   "source": [
    "if __name__ == \"__main__\":\n",
    "    display(an_elk_app_with_custom_close()[1])"
   ]
  },
  {
   "cell_type": "markdown",
   "metadata": {},
   "source": [
    "## Custom Styling For Collaping Hierarchical Example\n",
    "\n",
    "The style dictionary takes the first key and adds a parent selector based on the current\n",
    "`StyleWidget`'s id. This helps to namespace the css selectors but also means that the\n",
    "leading space in the style dictionary keys is intentional and is a descendant selector\n",
    "from the root.\n",
    "\n",
    "The `.slack-port` and `.slack-edge` are custom css classes applied by the XELK\n",
    "transformer when collapsing a node causes either a source or destination of a tunneling\n",
    "edges to disapear requiring the introduction of a new edge and port at a higher level."
   ]
  },
  {
   "cell_type": "code",
   "execution_count": 6,
   "metadata": {},
   "outputs": [],
   "source": [
    "def a_styled_elk_app_example():\n",
    "    app, box, xelk, elk = an_elk_app_example()\n",
    "    app.style = {\n",
    "        \" rect\": {\"opacity\": \".75\", \"transition\": \"all 0.2s\"},\n",
    "        \" .slack-port>rect\": {\n",
    "            \"fill\": \"red\",\n",
    "            \"opacity\": \".25\",\n",
    "            \"transition\": \"all 0.2s\",\n",
    "        },\n",
    "        \" .slack-edge>path\": {\n",
    "            \"stroke\": \"red\",\n",
    "            \"opacity\": \".25\",\n",
    "            \"stroke-dasharray\": \"4\",\n",
    "            \"transition\": \"all 0.2s\",\n",
    "            \"stroke-width\": \"2px\",\n",
    "        },\n",
    "        \" .slack-edge>path.edge.arrow\": {\"fill\": \"red\", \"opacity\": \".25\"},\n",
    "    }\n",
    "    return app, box, xelk, elk"
   ]
  },
  {
   "cell_type": "code",
   "execution_count": null,
   "metadata": {},
   "outputs": [],
   "source": [
    "if __name__ == \"__main__\":\n",
    "    display(a_styled_elk_app_example()[1])"
   ]
  },
  {
   "cell_type": "markdown",
   "metadata": {},
   "source": [
    "### Custom `ElkNode` css classes\n",
    "\n",
    "Custom css classes can be passed to `ElkNode`, `ElkPort`, and `ElkEdge`. The `XELK`\n",
    "transformer has a nested dictionary where the keys are nodes in the source networkx\n",
    "graph and the values are another dictionary with Elk types as keys and values are sets\n",
    "of strings. This set gets applied to the Elk types that are generated for the given\n",
    "networkx node."
   ]
  },
  {
   "cell_type": "code",
   "execution_count": 7,
   "metadata": {},
   "outputs": [],
   "source": [
    "from ipyelk.diagram.elk_model import ElkEdge, ElkNode, ElkLabel\n",
    "\n",
    "elk_app.transformer.css_classes = {\n",
    "    \"n1\": {\n",
    "        ElkNode: set([\"example-custom-class\"]),\n",
    "        ElkLabel: set([\"example-custom-text\"]),\n",
    "#         shape:\"shoe\",\n",
    "    },\n",
    "    None: {\n",
    "        ElkEdge: set(\n",
    "            [\"example-styled-edge\"]\n",
    "        ),  # colors edges under the root ElkJson Node\n",
    "    },\n",
    "}\n",
    "\n",
    "elktyped_css = {\n",
    "    \" .example-custom-class>rect.elknode\": {\"fill\": \"grey\", \"opacity\": \".25\"},\n",
    "    \" .example-styled-edge>.elkedge\": {\"stroke\": \"green\"},\n",
    "    \" text.example-custom-text.elklabel\": {\"fill\":\"red\"}\n",
    "}\n",
    "elk_app.style = {**elk_app.style, **elktyped_css}\n",
    "elk_app.refresh()\n",
    "def a_more_stylish_elk_app_example():\n",
    "    app, box, xelk, elk = a_styled_elk_app_example()\n",
    "    app.transformer.css_classes = {\n",
    "        \"n1\": {\n",
    "            ElkNode: set([\"example-custom-class\"]),\n",
    "        },\n",
    "        None: {\n",
    "            ElkEdge: set(\n",
    "                [\"example-styled-edge\"]\n",
    "            ),  # colors edges under the root ElkJson Node\n",
    "        },\n",
    "    }\n",
    "\n",
    "    elktyped_css = {\n",
    "        \" .example-custom-class>rect.elknode\": {\"fill\": \"grey\", \"opacity\": \".25\"},\n",
    "        \" .example-styled-edge>.elkedge\": {\"stroke\": \"green\"},\n",
    "    }\n",
    "    app.style = {**app.style, **elktyped_css}\n",
    "    app.refresh()\n",
    "    return app, box, xelk, elk"
   ]
  },
  {
   "cell_type": "code",
   "execution_count": null,
   "metadata": {},
   "outputs": [],
   "source": [
    "if __name__ == \"__main__\":\n",
    "    display(a_more_stylish_elk_app_example()[1])"
   ]
  },
  {
   "cell_type": "markdown",
   "metadata": {},
   "source": [
    "## 🦌 Learn More 📖\n",
    "\n",
    "See the [other examples](./_index.ipynb)."
   ]
  }
 ],
 "metadata": {
  "kernelspec": {
   "display_name": "Python 3",
   "language": "python",
   "name": "python3"
  },
  "language_info": {
   "codemirror_mode": {
    "name": "ipython",
    "version": 3
   },
   "file_extension": ".py",
   "mimetype": "text/x-python",
   "name": "python",
   "nbconvert_exporter": "python",
   "pygments_lexer": "ipython3",
   "version": "3.7.8"
  }
 },
 "nbformat": 4,
 "nbformat_minor": 4
}
