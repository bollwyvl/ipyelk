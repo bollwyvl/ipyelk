{
 "cells": [
  {
   "cell_type": "markdown",
   "metadata": {},
   "source": [
    "# 🦌 ELK App 🚀\n",
    "\n",
    "This is a high-level widget for interacting with ELK Transformers and ELK Diagrams"
   ]
  },
  {
   "cell_type": "code",
   "execution_count": null,
   "metadata": {},
   "outputs": [],
   "source": [
    "import json\n",
    "import pathlib\n",
    "\n",
    "import ipywidgets\n",
    "import networkx\n",
    "import traitlets\n",
    "\n",
    "import ipyelk\n",
    "import ipyelk.nx\n",
    "import ipyelk.tools"
   ]
  },
  {
   "cell_type": "code",
   "execution_count": null,
   "metadata": {},
   "outputs": [],
   "source": [
    "hier_tree = networkx.readwrite.json_graph.node_link_graph(\n",
    "    json.loads(pathlib.Path(\"hier_tree.json\").read_text(encoding=\"utf-8\"))\n",
    ")\n",
    "hier_ports = networkx.readwrite.json_graph.node_link_graph(\n",
    "    json.loads(pathlib.Path(\"hier_ports.json\").read_text(encoding=\"utf-8\"))\n",
    ")\n",
    "\n",
    "hier_elk = ipyelk.ElkDiagram()\n",
    "hier_xelk = ipyelk.nx.XELK(source=(hier_ports, hier_tree))\n",
    "hier_xelk.connect(hier_elk)\n",
    "hier_elk"
   ]
  },
  {
   "cell_type": "code",
   "execution_count": null,
   "metadata": {},
   "outputs": [],
   "source": [
    "import ipyelk.tools.tools\n",
    "\n",
    "elk_app = ipyelk.Elk(transformer=hier_xelk, layout=dict(display=\"flex\", flex=\"1\"))\n",
    "toggle = ipyelk.tools.tools.ToggleCollapsedBtn(app=elk_app)\n",
    "fit = ipyelk.tools.tools.FitBtn(app=elk_app)\n",
    "elk_app.toolbar.commands = [fit, toggle]\n",
    "box = ipywidgets.VBox(\n",
    "    [\n",
    "        ipywidgets.HBox(\n",
    "            [ipywidgets.HTML(\"<h2>👇 click a group node then click 👉</h2>\"), toggle]\n",
    "        ),\n",
    "        elk_app,\n",
    "    ],\n",
    "    layout=dict(height=\"100%\"),\n",
    ")\n",
    "box"
   ]
  },
  {
   "cell_type": "markdown",
   "metadata": {},
   "source": [
    "#### Command Buttons can be customized to tailor the look and feel"
   ]
  },
  {
   "cell_type": "code",
   "execution_count": null,
   "metadata": {},
   "outputs": [],
   "source": [
    "fit.icon = \"arrows-alt\"\n",
    "fit.tooltip = \"Fit Diagram\"\n",
    "fit.layout.width = \"5em\"\n",
    "fit.description = \"\""
   ]
  },
  {
   "cell_type": "markdown",
   "metadata": {},
   "source": [
    "#### Demonstrating adding close button\n",
    "\n",
    "Adding a callable to an `Elk` Application's Toolbar `on_close` will result in a close\n",
    "button appearing in the toolbar which will fire that function when pressed."
   ]
  },
  {
   "cell_type": "code",
   "execution_count": null,
   "metadata": {},
   "outputs": [],
   "source": [
    "out = ipywidgets.Output()\n",
    "\n",
    "\n",
    "def simulating_close():\n",
    "    with out:\n",
    "        print(\"Toolbar close button pressed\")\n",
    "\n",
    "\n",
    "elk_app.toolbar.on_close = simulating_close\n",
    "out"
   ]
  },
  {
   "cell_type": "markdown",
   "metadata": {},
   "source": [
    "## Custom Styling For Collaping Hierarchical Example\n",
    "\n",
    "The style dictionary takes the first key and adds a parent selector based on the current\n",
    "`StyleWidget`'s id. This helps to namespace the css selectors but also means that the\n",
    "leading space in the style dictionary keys is intentional and is a descendant selector\n",
    "from the root.\n",
    "\n",
    "The `.slack-port` and `.slack-edge` are custom css classes applied by the XELK\n",
    "transformer when collapsing a node causes either a source or destination of a tunneling\n",
    "edges to disapear requiring the introduction of a new edge and port at a higher level."
   ]
  },
  {
   "cell_type": "code",
   "execution_count": null,
   "metadata": {},
   "outputs": [],
   "source": [
    "elk_app.style = {\n",
    "    \" rect\": {\"opacity\": \".75\", \"transition\": \"all 0.2s\"},\n",
    "    \" .slack-port>rect\": {\"fill\": \"red\", \"opacity\": \".25\", \"transition\": \"all 0.2s\"},\n",
    "    \" .slack-edge>path\": {\n",
    "        \"stroke\": \"red\",\n",
    "        \"opacity\": \".25\",\n",
    "        \"stroke-dasharray\": \"4\",\n",
    "        \"transition\": \"all 0.2s\",\n",
    "        \"stroke-width\": \"2px\",\n",
    "    },\n",
    "    \" .slack-edge>path.edge.arrow\": {\"fill\": \"red\", \"opacity\": \".25\"},\n",
    "}"
   ]
  },
  {
   "cell_type": "markdown",
   "metadata": {},
   "source": [
    "## 🦌 Learn More 📖\n",
    "\n",
    "- [🦌 Introducing ELK 👋](./00_Introduction.ipynb)\n",
    "- [🦌 Linking ELK Diagrams 🔗](./01_Linking.ipynb)\n",
    "- [🦌 ELK Transformer 🤖](./02_Transformer.ipynb)\n",
    "- [🦌 ELK App 🚀](./03_App.ipynb)\n",
    "- [🦌 Interactive ELK App 🕹️](./04_Interactive.ipynb)\n",
    "- [🦌 Node Label Placement 🏷️](./100_node_label_placement.ipynb)\n",
    "- [🦌 Text Sizer 📏](./101_text_sizer.ipynb)"
   ]
  }
 ],
 "metadata": {
  "kernelspec": {
   "display_name": "Python 3",
   "language": "python",
   "name": "python3"
  },
  "language_info": {
   "codemirror_mode": {
    "name": "ipython",
    "version": 3
   },
   "file_extension": ".py",
   "mimetype": "text/x-python",
   "name": "python",
   "nbconvert_exporter": "python",
   "pygments_lexer": "ipython3",
   "version": "3.7.8"
  }
 },
 "nbformat": 4,
 "nbformat_minor": 4
}
