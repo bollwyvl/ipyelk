{
 "cells": [
  {
   "cell_type": "markdown",
   "metadata": {},
   "source": [
    "# Introduction"
   ]
  },
  {
   "cell_type": "code",
   "execution_count": 1,
   "metadata": {},
   "outputs": [],
   "source": [
    "import elk"
   ]
  },
  {
   "cell_type": "code",
   "execution_count": 2,
   "metadata": {},
   "outputs": [],
   "source": [
    "w = elk.ELKWidget()"
   ]
  },
  {
   "cell_type": "code",
   "execution_count": 3,
   "metadata": {},
   "outputs": [],
   "source": [
    "w.value = {\n",
    "  'id': \"root\",\n",
    "  'properties': { 'algorithm': 'layered' },\n",
    "  'children': [\n",
    "    { 'id': \"n1\", 'width': 30, 'height': 30 },\n",
    "    { 'id': \"n2\", 'width': 30, 'height': 30 },\n",
    "    { 'id': \"n3\", 'width': 30, 'height': 30 }\n",
    "  ],\n",
    "  'edges': [\n",
    "    { 'id': \"e1\", 'sources': [ \"n1\" ], 'targets': [ \"n2\" ] },\n",
    "    { 'id': \"e2\", 'sources': [ \"n1\" ], 'targets': [ \"n3\" ] } \n",
    "  ]\n",
    "}"
   ]
  },
  {
   "cell_type": "code",
   "execution_count": 4,
   "metadata": {},
   "outputs": [
    {
     "data": {
      "text/plain": [
       "ELKWidget(value={'id': 'root', 'properties': {'algorithm': 'layered'}, 'children': [{'id': 'n1', 'width': 30, …"
      ]
     },
     "metadata": {},
     "output_type": "display_data"
    }
   ],
   "source": [
    "w"
   ]
  },
  {
   "cell_type": "code",
   "execution_count": 5,
   "metadata": {},
   "outputs": [
    {
     "data": {
      "text/plain": [
       "{}"
      ]
     },
     "execution_count": 5,
     "metadata": {},
     "output_type": "execute_result"
    }
   ],
   "source": [
    "w.diagram"
   ]
  },
  {
   "cell_type": "code",
   "execution_count": 26,
   "metadata": {},
   "outputs": [],
   "source": [
    "w.value= {'test':'test'}"
   ]
  }
 ],
 "metadata": {
  "kernelspec": {
   "display_name": "Python 3",
   "language": "python",
   "name": "python3"
  },
  "language_info": {
   "codemirror_mode": {
    "name": "ipython",
    "version": 3
   },
   "file_extension": ".py",
   "mimetype": "text/x-python",
   "name": "python",
   "nbconvert_exporter": "python",
   "pygments_lexer": "ipython3",
   "version": "3.6.6"
  }
 },
 "nbformat": 4,
 "nbformat_minor": 2
}