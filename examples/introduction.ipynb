{
 "cells": [
  {
   "cell_type": "markdown",
   "metadata": {},
   "source": [
    "# Introduction\n",
    "This is a brief introduction to the jupyterlab widget wrapper for displaying diagrams using the Eclipse Layout Kernel - [elkjs](https://github.com/kieler/elkjs). "
   ]
  },
  {
   "cell_type": "code",
   "execution_count": 1,
   "metadata": {},
   "outputs": [],
   "source": [
    "import elk"
   ]
  },
  {
   "cell_type": "markdown",
   "metadata": {},
   "source": [
    "# ElkDiagram\n",
    "The `ElkDiagram` is a lower level widget that accepts and validates a dictionary against the Elk JSON Schema."
   ]
  },
  {
   "cell_type": "code",
   "execution_count": 2,
   "metadata": {},
   "outputs": [],
   "source": [
    "w = elk.ElkDiagram()"
   ]
  },
  {
   "cell_type": "code",
   "execution_count": 3,
   "metadata": {},
   "outputs": [],
   "source": [
    "w.value = {\n",
    "  'id': \"root\",\n",
    "  'properties': { 'algorithm': 'layered' },\n",
    "  'children': [\n",
    "    { 'id': \"n1\", 'width': 30, 'height': 30 },\n",
    "    { 'id': \"n2\", 'width': 30, 'height': 30 },\n",
    "    { 'id': \"n3\", 'width': 30, 'height': 30 }\n",
    "  ],\n",
    "  'edges': [\n",
    "    { 'id': \"e1\", 'sources': [ \"n1\" ], 'targets': [ \"n2\" ] },\n",
    "    { 'id': \"e2\", 'sources': [ \"n1\" ], 'targets': [ \"n3\" ] } \n",
    "  ]\n",
    "}"
   ]
  },
  {
   "cell_type": "code",
   "execution_count": 4,
   "metadata": {},
   "outputs": [
    {
     "data": {
      "application/vnd.jupyter.widget-view+json": {
       "model_id": "f213862439e048378af4b918c22f797c",
       "version_major": 2,
       "version_minor": 0
      },
      "text/plain": [
       "ElkDiagram(value={'id': 'root', 'properties': {'algorithm': 'layered'}, 'children': [{'id': 'n1', 'width': 30,…"
      ]
     },
     "metadata": {},
     "output_type": "display_data"
    }
   ],
   "source": [
    "w"
   ]
  },
  {
   "cell_type": "markdown",
   "metadata": {},
   "source": [
    "## Centering Diagram\n",
    "Center of root element"
   ]
  },
  {
   "cell_type": "code",
   "execution_count": 5,
   "metadata": {},
   "outputs": [],
   "source": [
    "w.center(\"root\")"
   ]
  },
  {
   "cell_type": "markdown",
   "metadata": {},
   "source": [
    "Center on multiple elements"
   ]
  },
  {
   "cell_type": "code",
   "execution_count": 6,
   "metadata": {},
   "outputs": [],
   "source": [
    "w.center([\"n3\", \"n2\"])"
   ]
  },
  {
   "cell_type": "markdown",
   "metadata": {},
   "source": [
    "## Selection\n",
    "Select a single element"
   ]
  },
  {
   "cell_type": "code",
   "execution_count": 7,
   "metadata": {},
   "outputs": [],
   "source": [
    "w.selected = ['n1']"
   ]
  },
  {
   "cell_type": "markdown",
   "metadata": {},
   "source": [
    "Select multiple elements"
   ]
  },
  {
   "cell_type": "code",
   "execution_count": 8,
   "metadata": {},
   "outputs": [],
   "source": [
    "w.selected = [\"n2\", \"n3\"]"
   ]
  },
  {
   "cell_type": "markdown",
   "metadata": {},
   "source": [
    "Clear selection"
   ]
  },
  {
   "cell_type": "code",
   "execution_count": 9,
   "metadata": {},
   "outputs": [],
   "source": [
    "w.selected = []"
   ]
  },
  {
   "cell_type": "markdown",
   "metadata": {},
   "source": [
    "## Hovering \n",
    "The element currently being hovered is also traited"
   ]
  },
  {
   "cell_type": "code",
   "execution_count": 10,
   "metadata": {},
   "outputs": [],
   "source": [
    "w.hovered = \"n2\""
   ]
  },
  {
   "cell_type": "code",
   "execution_count": 11,
   "metadata": {},
   "outputs": [
    {
     "data": {
      "text/plain": [
       "'n2'"
      ]
     },
     "execution_count": 11,
     "metadata": {},
     "output_type": "execute_result"
    }
   ],
   "source": [
    "w.hovered"
   ]
  },
  {
   "cell_type": "markdown",
   "metadata": {},
   "source": [
    "## Linking Diagrams\n",
    "Example of using one diagram's hovered state to control another diagram's view"
   ]
  },
  {
   "cell_type": "code",
   "execution_count": 12,
   "metadata": {},
   "outputs": [
    {
     "data": {
      "application/vnd.jupyter.widget-view+json": {
       "model_id": "48756d01222a4ed58f5814f188a88218",
       "version_major": 2,
       "version_minor": 0
      },
      "text/plain": [
       "HBox(children=(ElkDiagram(hovered='n2', value={'id': 'root', 'properties': {'algorithm': 'layered'}, 'children…"
      ]
     },
     "metadata": {},
     "output_type": "display_data"
    }
   ],
   "source": [
    "import ipywidgets as W\n",
    "\n",
    "w2 = elk.ElkDiagram(value=w.value)\n",
    "\n",
    "def centering(*args):\n",
    "    if w.hovered != \"root\":\n",
    "        w2.center(w.hovered)\n",
    "w.observe(centering, \"hovered\")\n",
    "\n",
    "W.HBox([w, w2])\n"
   ]
  },
  {
   "cell_type": "markdown",
   "metadata": {},
   "source": [
    "# Elk Transformer\n",
    "A transformer object that will convert some input source into valid Elk Json.\n",
    "This example using a transformer around a networkx graph."
   ]
  },
  {
   "cell_type": "code",
   "execution_count": 13,
   "metadata": {},
   "outputs": [],
   "source": [
    "import networkx as nx\n",
    "\n",
    "from elk.nx import XELK\n",
    "from elk.tools import ToggleCollapsedBtn, ToolButton"
   ]
  },
  {
   "cell_type": "markdown",
   "metadata": {},
   "source": [
    "## Flat structure\n",
    "TODO: There should be an option to specify if ports should be created or only connect edges between the nodes"
   ]
  },
  {
   "cell_type": "code",
   "execution_count": 14,
   "metadata": {},
   "outputs": [
    {
     "data": {
      "application/vnd.jupyter.widget-view+json": {
       "model_id": "f6a41b52eb7e47db9bef4e2e105e5c49",
       "version_major": 2,
       "version_minor": 0
      },
      "text/plain": [
       "ElkDiagram(value={'id': 'root', 'children': [{'id': 'n1', 'height': 18.0, 'labels': [{'id': 'n1_label_n1', 'te…"
      ]
     },
     "metadata": {},
     "output_type": "display_data"
    }
   ],
   "source": [
    "import networkx as nx\n",
    "import ipywidgets as W\n",
    "\n",
    "from elk import ElkDiagram\n",
    "from elk.nx import XELK\n",
    "\n",
    "\n",
    "G = nx.MultiDiGraph()\n",
    "\n",
    "# connections\n",
    "G.add_nodes_from(['n1', 'n2', 'n3'])\n",
    "G.add_edge('n1', 'n2')\n",
    "G.add_edge('n1', 'n2')\n",
    "G.add_edge('n2', 'n3')\n",
    "G.add_edge('n1', 'n3')\n",
    "\n",
    "\n",
    "xelk = XELK(source=(G, None))\n",
    "ew = ElkDiagram(value=xelk.to_dict())\n",
    "ew"
   ]
  },
  {
   "cell_type": "markdown",
   "metadata": {},
   "source": [
    "## Hierarchical Diagram with Ports "
   ]
  },
  {
   "cell_type": "code",
   "execution_count": 15,
   "metadata": {},
   "outputs": [
    {
     "data": {
      "application/vnd.jupyter.widget-view+json": {
       "model_id": "1d551711e21e49488ce9e6a8d23a1723",
       "version_major": 2,
       "version_minor": 0
      },
      "text/plain": [
       "ElkDiagram(value={'id': 'root', 'children': [{'id': 'n0', 'children': [{'id': 'n1', 'children': [{'id': 'n2', …"
      ]
     },
     "metadata": {},
     "output_type": "display_data"
    }
   ],
   "source": [
    "tree = nx.DiGraph()  # hierarchical graph\n",
    "G = nx.MultiDiGraph()  # port connections\n",
    "\n",
    "# heirarchy\n",
    "tree.add_nodes_from(['n0', 'n1', 'n2', 'n3'])\n",
    "tree.add_edge('n1', 'n2')\n",
    "tree.add_edge('n0', 'n1')\n",
    "\n",
    "# connections\n",
    "G.add_nodes_from(['n0', 'n1', 'n2', 'n3'])\n",
    "G.add_edge('n1', 'n2', sourcePort='x', targetPort='x')\n",
    "G.add_edge('n1', 'n2', port='y')\n",
    "G.add_edge('n2', 'n3', sourcePort='z', targetPort='x')\n",
    "G.add_edge('n2', 'n3', port='x', targetPort='w')\n",
    "G.add_edge('n1', 'n3', port='y')\n",
    "G.add_edge('n1', 'n3', port='z')\n",
    "\n",
    "xelk = XELK(source=(G, tree))\n",
    "ew = elk.ElkDiagram(value=xelk.to_dict())\n",
    "ew"
   ]
  },
  {
   "cell_type": "code",
   "execution_count": 16,
   "metadata": {},
   "outputs": [
    {
     "data": {
      "application/vnd.jupyter.widget-view+json": {
       "model_id": "da3c4e51694d423997f56ea5df4f9fdf",
       "version_major": 2,
       "version_minor": 0
      },
      "text/plain": [
       "VBox(children=(ElkDiagram(hovered='root', selected=('n2',), value={'id': 'root', 'children': [{'id': 'n0', 'ch…"
      ]
     },
     "metadata": {},
     "output_type": "display_data"
    }
   ],
   "source": [
    "\n",
    "toggle = W.Button(description=\"Toggle Collapsed\")\n",
    "out = W.Output()\n",
    "\n",
    "def toggle_node(widget):\n",
    "    with out:\n",
    "        for element_id in ew.selected:\n",
    "            print(element_id)\n",
    "            if element_id in tree:\n",
    "                for child in tree.neighbors(element_id):\n",
    "                    state = tree.nodes[child].get('hidden', False)\n",
    "                    tree.nodes[child]['hidden'] = not state\n",
    "                ew.value = xelk.to_dict()\n",
    "    \n",
    "toggle.on_click(toggle_node)\n",
    "W.VBox([ew, toggle])"
   ]
  },
  {
   "cell_type": "markdown",
   "metadata": {},
   "source": [
    "# Hierarchical Example Using the Elk App\n",
    "This is a higher level widget for interacting with Elk Transformers and Elk Diagrams"
   ]
  },
  {
   "cell_type": "code",
   "execution_count": 17,
   "metadata": {},
   "outputs": [
    {
     "data": {
      "application/vnd.jupyter.widget-view+json": {
       "model_id": "3d9c3cd72e42458695dfb197f189ac1b",
       "version_major": 2,
       "version_minor": 0
      },
      "text/plain": [
       "VBox(children=(Elk(children=[HTML(value='<style></style>', layout=Layout(display='None')), ElkDiagram(value={'…"
      ]
     },
     "metadata": {},
     "output_type": "display_data"
    }
   ],
   "source": [
    "from elk import Elk\n",
    "import ipywidgets as W\n",
    "import traitlets as T\n",
    "out = W.Output()\n",
    "class ToggleCollapsedBtn(ToolButton):\n",
    "\n",
    "    @T.default(\"description\")\n",
    "    def _default_description(self):\n",
    "        return \"Toggle Collapsed\"\n",
    "\n",
    "    def handler(self, *args):\n",
    "        with out:\n",
    "            diagram:ElkDiagram = self.app.diagram\n",
    "            transformer:XELK = self.app.transformer\n",
    "            graph, tree = transformer.source\n",
    "            # tree = self.app.source\n",
    "            for element_id in diagram.selected:\n",
    "                print(element_id)\n",
    "                if element_id in tree:\n",
    "                    for child in tree.neighbors(element_id):\n",
    "                        state = tree.nodes[child].get('hidden', False)\n",
    "                        tree.nodes[child]['hidden'] = not state\n",
    "                        print(child, not state)\n",
    "                    diagram.value = transformer.to_dict()\n",
    "\n",
    "\n",
    "ek = Elk(transformer=xelk)\n",
    "toggle = ToggleCollapsedBtn(app=ek)\n",
    "W.VBox([ek, toggle, out])"
   ]
  },
  {
   "cell_type": "markdown",
   "metadata": {},
   "source": [
    "## Custom Styling For Collaping Hierarchical Example\n",
    "The style dictionary takes the first key and adds a parent selector based on the current `StyleWidget`'s id. This helps to namespace the css selectors but also means that the leading space in the style dictionary keys is intentional and is a descendant selector from the root.\n",
    "\n",
    "The `.slack-port` and `.slack-edge` are custom css classes applied by the XELK transformer when collapsing a node causes either a source or destination of a tunneling edges to disapear requiring the introduction of a new edge and port at a higher level."
   ]
  },
  {
   "cell_type": "code",
   "execution_count": 18,
   "metadata": {},
   "outputs": [],
   "source": [
    "ek.style = {\n",
    "    \" rect\": {'opacity':'.75'},\n",
    "    \" .slack-port>rect\": {'fill':'red', 'opacity':'.25'},\n",
    "    \" .slack-edge>path\": {'stroke':'red', 'opacity':'.25'},\n",
    "    \" .slack-edge>path.edge.arrow\":{'fill':'red', 'opacity':'.25'}\n",
    "}"
   ]
  }
 ],
 "metadata": {
  "kernelspec": {
   "display_name": "Python 3",
   "language": "python",
   "name": "python3"
  },
  "language_info": {
   "codemirror_mode": {
    "name": "ipython",
    "version": 3
   },
   "file_extension": ".py",
   "mimetype": "text/x-python",
   "name": "python",
   "nbconvert_exporter": "python",
   "pygments_lexer": "ipython3",
   "version": "3.8.2"
  }
 },
 "nbformat": 4,
 "nbformat_minor": 4
}
