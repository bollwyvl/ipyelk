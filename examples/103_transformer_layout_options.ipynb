{
 "cells": [
  {
   "cell_type": "markdown",
   "metadata": {},
   "source": [
    "# 🦌 ELK XELK Transformer Layout Options 🤖\n",
    "\n",
    "The `XELKTypedLayout` generates a nested dictionary that controls various\n",
    "[Layout Options](https://www.eclipse.org/elk/reference/options.html) that can be passed\n",
    "to Elk. Currently only a subset of Layout Options are implemented and not all\n",
    "interdepenencies are taken into account."
   ]
  },
  {
   "cell_type": "code",
   "execution_count": null,
   "metadata": {},
   "outputs": [],
   "source": [
    "import json\n",
    "import pathlib\n",
    "\n",
    "import ipywidgets\n",
    "import networkx\n",
    "import traitlets\n",
    "from IPython.display import JSON\n",
    "\n",
    "import ipyelk\n",
    "import ipyelk.nx\n",
    "import ipyelk.tools\n",
    "from ipyelk.diagram import layout_options"
   ]
  },
  {
   "cell_type": "code",
   "execution_count": null,
   "metadata": {},
   "outputs": [],
   "source": [
    "xelk_typed_layout = ipyelk.nx.XELKTypedLayout()"
   ]
  },
  {
   "cell_type": "markdown",
   "metadata": {},
   "source": [
    "The output `value` of the widget is a nested dictionary. Top level keys are nodes in\n",
    "networkx. The keys of the next level are `ElkGraphElements` e.g. (`ElkNode`, `ElkLabel`,\n",
    "...). The last layer are actual Elk layout options key value pairs.\n",
    "\n",
    "The `XELK` transformer will look to this structure to identify layout options based on\n",
    "Networkx node and which ElkGraphElements generated from the node."
   ]
  },
  {
   "cell_type": "code",
   "execution_count": null,
   "metadata": {},
   "outputs": [],
   "source": [
    "JSON(xelk_typed_layout.value)"
   ]
  },
  {
   "cell_type": "markdown",
   "metadata": {},
   "source": [
    "## Flat structure\n",
    "\n",
    "A `networkx.MultiDigraph` can be used to create a flat graph.\n",
    "\n",
    "> _TODO: There should be an option to specify if ports should be created or only connect\n",
    "> edges between the nodes_"
   ]
  },
  {
   "cell_type": "code",
   "execution_count": null,
   "metadata": {},
   "outputs": [],
   "source": [
    "flat_graph = networkx.readwrite.json_graph.node_link_graph(\n",
    "    json.loads(pathlib.Path(\"flat_graph.json\").read_text(encoding=\"utf-8\"))\n",
    ")\n",
    "\n",
    "flat_elk = ipyelk.ElkDiagram()\n",
    "flat_xelk = ipyelk.nx.XELK(\n",
    "    source=(flat_graph, None),\n",
    "    layouts=xelk_typed_layout.value,\n",
    ")\n",
    "flat_xelk.connect(flat_elk)\n",
    "\n",
    "\n",
    "def _element_type_opt_change(change):\n",
    "    flat_xelk.layouts = xelk_typed_layout.value\n",
    "    flat_xelk.refresh()\n",
    "\n",
    "\n",
    "xelk_typed_layout.observe(_element_type_opt_change, \"value\")\n",
    "flat_elk"
   ]
  },
  {
   "cell_type": "code",
   "execution_count": null,
   "metadata": {},
   "outputs": [],
   "source": [
    "xelk_typed_layout"
   ]
  },
  {
   "cell_type": "markdown",
   "metadata": {},
   "source": [
    "### The `ElkJSON` structure passed to `ElkJS` for layout purposes"
   ]
  },
  {
   "cell_type": "code",
   "execution_count": null,
   "metadata": {},
   "outputs": [],
   "source": [
    "from IPython.display import JSON\n",
    "\n",
    "JSON(flat_xelk.value)"
   ]
  },
  {
   "cell_type": "markdown",
   "metadata": {},
   "source": [
    "## Hierarchical Diagram with Ports"
   ]
  },
  {
   "cell_type": "code",
   "execution_count": null,
   "metadata": {},
   "outputs": [],
   "source": [
    "hier_tree = networkx.readwrite.json_graph.node_link_graph(\n",
    "    json.loads(pathlib.Path(\"hier_tree.json\").read_text(encoding=\"utf-8\"))\n",
    ")\n",
    "hier_ports = networkx.readwrite.json_graph.node_link_graph(\n",
    "    json.loads(pathlib.Path(\"hier_ports.json\").read_text(encoding=\"utf-8\"))\n",
    ")\n",
    "\n",
    "hier_elk = ipyelk.ElkDiagram()\n",
    "hier_xelk_layout = ipyelk.nx.XELKTypedLayout()\n",
    "hier_xelk = ipyelk.nx.XELK(\n",
    "    source=(hier_ports, hier_tree), layouts=hier_xelk_layout.value\n",
    ")\n",
    "\n",
    "\n",
    "def _type_opt_change(change):\n",
    "    hier_xelk.layouts = hier_xelk_layout.value\n",
    "    hier_xelk.refresh()\n",
    "\n",
    "\n",
    "hier_xelk_layout.observe(_type_opt_change, \"value\")\n",
    "hier_xelk.connect(hier_elk)\n",
    "\n",
    "\n",
    "toggle = ipywidgets.Button(description=\"Toggle Collapsed\")\n",
    "\n",
    "\n",
    "@toggle.on_click\n",
    "def toggle_node(widget):\n",
    "    for element_id in hier_elk.selected:\n",
    "        if element_id in hier_tree:\n",
    "            for child in hier_tree.neighbors(element_id):\n",
    "                state = hier_tree.nodes[child].get(\"hidden\", False)\n",
    "                hier_tree.nodes[child][\"hidden\"] = not state\n",
    "            hier_xelk.refresh()\n",
    "\n",
    "\n",
    "ipywidgets.VBox(\n",
    "    [\n",
    "        ipywidgets.HBox(\n",
    "            [ipywidgets.HTML(\"<h2>👇 click a group node then click 👉</h2>\"), toggle]\n",
    "        ),\n",
    "        hier_elk,\n",
    "        hier_xelk_layout,\n",
    "    ]\n",
    ")"
   ]
  },
  {
   "cell_type": "code",
   "execution_count": null,
   "metadata": {},
   "outputs": [],
   "source": [
    "hier_xelk_layout.children = hier_xelk_layout._ui()"
   ]
  },
  {
   "cell_type": "markdown",
   "metadata": {},
   "source": [
    "## 🦌 Learn More 📖\n",
    "\n",
    "- [🦌 Introducing ELK 👋](./00_Introduction.ipynb)\n",
    "- [🦌 Linking ELK Diagrams 🔗](./01_Linking.ipynb)\n",
    "- [🦌 ELK Transformer 🤖](./02_Transformer.ipynb)\n",
    "- [🦌 ELK App 🚀](./03_App.ipynb)\n",
    "- [🦌 Interactive ELK App 🕹️](./04_Interactive.ipynb)\n",
    "- [🦌 Node Label Placement 🏷️](./100_node_label_placement.ipynb)\n",
    "- [🦌 Text Sizer 📏](./101_text_sizer.ipynb)"
   ]
  }
 ],
 "metadata": {
  "kernelspec": {
   "display_name": "Python 3",
   "language": "python",
   "name": "python3"
  },
  "language_info": {
   "codemirror_mode": {
    "name": "ipython",
    "version": 3
   },
   "file_extension": ".py",
   "mimetype": "text/x-python",
   "name": "python",
   "nbconvert_exporter": "python",
   "pygments_lexer": "ipython3",
   "version": "3.7.8"
  }
 },
 "nbformat": 4,
 "nbformat_minor": 4
}
