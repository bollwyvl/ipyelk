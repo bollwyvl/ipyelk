{
 "cells": [
  {
   "cell_type": "markdown",
   "metadata": {},
   "source": [
    "# 🦌 ELK Transformer 🤖\n",
    "\n",
    "A transformer object that will convert some input source into valid Elk Json. This\n",
    "example using a transformer around a networkx graph."
   ]
  },
  {
   "cell_type": "code",
   "execution_count": null,
   "metadata": {},
   "outputs": [],
   "source": [
    "import json\n",
    "import pathlib\n",
    "\n",
    "import ipywidgets\n",
    "import networkx\n",
    "import traitlets\n",
    "from IPython.display import JSON\n",
    "\n",
    "import ipyelk\n",
    "import ipyelk.nx\n",
    "import ipyelk.tools\n",
    "from ipyelk.diagram import layout_options"
   ]
  },
  {
   "cell_type": "code",
   "execution_count": null,
   "metadata": {},
   "outputs": [],
   "source": [
    "l = ipyelk.nx.XELKTypedLayout()"
   ]
  },
  {
   "cell_type": "code",
   "execution_count": null,
   "metadata": {},
   "outputs": [],
   "source": [
    "JSON(l.value)"
   ]
  },
  {
   "cell_type": "markdown",
   "metadata": {},
   "source": [
    "## Flat structure\n",
    "\n",
    "A `networkx.MultiDigraph` can be used to create a flat graph.\n",
    "\n",
    "> _TODO: There should be an option to specify if ports should be created or only connect\n",
    "> edges between the nodes_"
   ]
  },
  {
   "cell_type": "code",
   "execution_count": null,
   "metadata": {},
   "outputs": [],
   "source": [
    "flat_graph = networkx.readwrite.json_graph.node_link_graph(\n",
    "    json.loads(pathlib.Path(\"flat_graph.json\").read_text(encoding=\"utf-8\"))\n",
    ")\n",
    "\n",
    "flat_elk = ipyelk.ElkDiagram()\n",
    "flat_xelk = ipyelk.nx.XELK(\n",
    "    source=(flat_graph, None),\n",
    "    layouts=l.value,\n",
    ")\n",
    "flat_xelk.connect(flat_elk)\n",
    "\n",
    "\n",
    "def _element_type_opt_change(change):\n",
    "    flat_xelk.layouts = l.value\n",
    "    flat_xelk.refresh()\n",
    "\n",
    "\n",
    "l.observe(_element_type_opt_change, \"value\")\n",
    "flat_elk"
   ]
  },
  {
   "cell_type": "code",
   "execution_count": null,
   "metadata": {},
   "outputs": [],
   "source": [
    "l"
   ]
  },
  {
   "cell_type": "code",
   "execution_count": null,
   "metadata": {},
   "outputs": [],
   "source": [
    "flat_xelk.refresh()"
   ]
  },
  {
   "cell_type": "code",
   "execution_count": null,
   "metadata": {},
   "outputs": [],
   "source": [
    "flat_xelk.get_layout(None, ipyelk.diagram.elk_model.ElkNode)"
   ]
  },
  {
   "cell_type": "code",
   "execution_count": null,
   "metadata": {},
   "outputs": [],
   "source": [
    "from IPython.display import JSON\n",
    "\n",
    "JSON(flat_xelk.value)"
   ]
  },
  {
   "cell_type": "markdown",
   "metadata": {},
   "source": [
    "## Hierarchical Diagram with Ports"
   ]
  },
  {
   "cell_type": "code",
   "execution_count": null,
   "metadata": {},
   "outputs": [],
   "source": [
    "hier_tree = networkx.readwrite.json_graph.node_link_graph(\n",
    "    json.loads(pathlib.Path(\"hier_tree.json\").read_text(encoding=\"utf-8\"))\n",
    ")\n",
    "hier_ports = networkx.readwrite.json_graph.node_link_graph(\n",
    "    json.loads(pathlib.Path(\"hier_ports.json\").read_text(encoding=\"utf-8\"))\n",
    ")\n",
    "\n",
    "hier_elk = ipyelk.ElkDiagram()\n",
    "hier_xelk_layout = ipyelk.nx.XELKTypedLayout()\n",
    "hier_xelk = ipyelk.nx.XELK(\n",
    "    source=(hier_ports, hier_tree), layouts=hier_xelk_layout.value\n",
    ")\n",
    "\n",
    "\n",
    "def _type_opt_change(change):\n",
    "    hier_xelk.layouts = hier_xelk_layout.value\n",
    "    hier_xelk.refresh()\n",
    "\n",
    "\n",
    "hier_xelk_layout.observe(_type_opt_change, \"value\")\n",
    "hier_xelk.connect(hier_elk)\n",
    "\n",
    "\n",
    "toggle = ipywidgets.Button(description=\"Toggle Collapsed\")\n",
    "\n",
    "\n",
    "@toggle.on_click\n",
    "def toggle_node(widget):\n",
    "    for element_id in hier_elk.selected:\n",
    "        if element_id in hier_tree:\n",
    "            for child in hier_tree.neighbors(element_id):\n",
    "                state = hier_tree.nodes[child].get(\"hidden\", False)\n",
    "                hier_tree.nodes[child][\"hidden\"] = not state\n",
    "            hier_xelk.refresh()\n",
    "\n",
    "\n",
    "ipywidgets.VBox(\n",
    "    [\n",
    "        ipywidgets.HBox(\n",
    "            [ipywidgets.HTML(\"<h2>👇 click a group node then click 👉</h2>\"), toggle]\n",
    "        ),\n",
    "        hier_elk,\n",
    "        hier_xelk_layout,\n",
    "    ]\n",
    ")"
   ]
  },
  {
   "cell_type": "code",
   "execution_count": null,
   "metadata": {},
   "outputs": [],
   "source": [
    "JSON(hier_xelk_layout.value)"
   ]
  },
  {
   "cell_type": "code",
   "execution_count": null,
   "metadata": {},
   "outputs": [],
   "source": [
    "hier_xelk_layout.children = hier_xelk_layout._ui()"
   ]
  },
  {
   "cell_type": "code",
   "execution_count": null,
   "metadata": {},
   "outputs": [],
   "source": [
    "JSON(hier_elk.value)"
   ]
  },
  {
   "cell_type": "markdown",
   "metadata": {},
   "source": [
    "## 🦌 Learn More 📖\n",
    "\n",
    "- [🦌 Introducing ELK 👋](./00_Introduction.ipynb)\n",
    "- [🦌 Linking ELK Diagrams 🔗](./01_Linking.ipynb)\n",
    "- [🦌 ELK Transformer 🤖](./02_Transformer.ipynb)\n",
    "- [🦌 ELK App 🚀](./03_App.ipynb)\n",
    "- [🦌 Interactive ELK App 🕹️](./04_Interactive.ipynb)\n",
    "- [🦌 Node Label Placement 🏷️](./100_node_label_placement.ipynb)\n",
    "- [🦌 Text Sizer 📏](./101_text_sizer.ipynb)"
   ]
  }
 ],
 "metadata": {
  "kernelspec": {
   "display_name": "Python 3",
   "language": "python",
   "name": "python3"
  },
  "language_info": {
   "codemirror_mode": {
    "name": "ipython",
    "version": 3
   },
   "file_extension": ".py",
   "mimetype": "text/x-python",
   "name": "python",
   "nbconvert_exporter": "python",
   "pygments_lexer": "ipython3",
   "version": "3.7.8"
  }
 },
 "nbformat": 4,
 "nbformat_minor": 4
}
