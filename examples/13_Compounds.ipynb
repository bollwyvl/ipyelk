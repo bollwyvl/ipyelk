{
 "cells": [
  {
   "cell_type": "markdown",
   "metadata": {},
   "source": [
    "# 🦌 Compounds 🧪\n",
    "\n",
    "```python\n",
    "\n",
    "```"
   ]
  },
  {
   "cell_type": "code",
   "execution_count": null,
   "metadata": {},
   "outputs": [],
   "source": [
    "from collections import defaultdict\n",
    "from dataclasses import dataclass, field\n",
    "from inspect import isclass\n",
    "from typing import ClassVar, Dict, List, Optional, Tuple, Union\n",
    "from uuid import uuid4\n",
    "\n",
    "import importnb\n",
    "\n",
    "# import ipyelk.diagram.elk_export\n",
    "import ipywidgets as W\n",
    "import networkx as nx\n",
    "from IPython.display import JSON, SVG, display\n",
    "\n",
    "import ipyelk\n",
    "import ipyelk.nx\n",
    "import ipyelk.tools\n",
    "import ipyelk.tools.tools\n",
    "\n",
    "# from ipyelk.contrib.library import logic_gates as logic\n",
    "from ipyelk import Elk\n",
    "from ipyelk.contrib.elements import Compound, Edge, Label, Node, Port, Registry\n",
    "from ipyelk.contrib.library import logic_gates\n",
    "from ipyelk.contrib.shapes import connectors as conn\n",
    "from ipyelk.contrib.shapes import shapes\n",
    "from ipyelk.diagram import elk_export, elk_model\n",
    "from ipyelk.diagram import layout_options as opt\n",
    "from ipyelk.diagram import symbol\n",
    "from ipyelk.diagram.defs import ConnectorDef, Def\n",
    "from ipyelk.diagram.elk_model import strip_none\n",
    "from ipyelk.diagram.layout_options.layout import ELKRectanglePacking\n",
    "from ipyelk.diagram.symbol import Symbol\n",
    "from ipyelk.transform import merge"
   ]
  },
  {
   "cell_type": "markdown",
   "metadata": {},
   "source": [
    "### TODO\n",
    "\n",
    "- how transformer deals with layoutOptions / properties / cssClasses\n",
    "  - probably not great to have them in too many places...\n",
    "  - \"inherited\" from higher nodes in the graph vs explicitly set in the node data"
   ]
  },
  {
   "cell_type": "code",
   "execution_count": null,
   "metadata": {},
   "outputs": [],
   "source": [
    "n1 = Node(labels=[Label(text=\"hello\")])\n",
    "\n",
    "n1.add_child(Node())\n",
    "n2 = Node(labels=[])\n",
    "n2.a = Port()\n",
    "\n",
    "n1.add_edge(n2.a, n1)\n",
    "\n",
    "ilk = Compound()\n",
    "ilk(n1)"
   ]
  },
  {
   "cell_type": "code",
   "execution_count": null,
   "metadata": {},
   "outputs": [],
   "source": [
    "def nx_wrap(node: Node, context: Registry) -> Tuple[str, Node]:\n",
    "    \"\"\"Wrap the given node in another tuple so it can be used multiple times as\n",
    "    a networkx node.\n",
    "\n",
    "    :param node: Incomming Node Element to wrap\n",
    "    :type node: Node\n",
    "    :return: Tuple that describes this current node and context to be used in a\n",
    "    networkx graph.\n",
    "    :rtype: Tuple[str, Node]\n",
    "    \"\"\"\n",
    "    return (context, node)\n",
    "\n",
    "\n",
    "def get_children(node: Node):\n",
    "    return getattr(node, \"children\", [])\n",
    "\n",
    "\n",
    "@dataclass\n",
    "class Compound:\n",
    "    registry: Registry = field(default_factory=Registry)\n",
    "\n",
    "    def _add(self, node, g, tree):\n",
    "        context = self.registry\n",
    "        with context:\n",
    "            nx_node = nx_wrap(node, context)\n",
    "            if nx_node not in g:\n",
    "                g.add_node(nx_node, **node.to_json())\n",
    "\n",
    "            for edge in getattr(node, \"_edges\", []):\n",
    "                endpts = edge.points()\n",
    "                nx_u, nx_v = map(lambda n: nx_wrap(n, context), endpts)\n",
    "                for nx_pt, pt in zip([nx_u, nx_v], endpts):\n",
    "                    if nx_pt not in g:\n",
    "                        g.add_node(nx_pt, **pt.to_json())\n",
    "\n",
    "                g.add_edge(nx_u, nx_v, **edge.to_json())\n",
    "\n",
    "            for child in get_children(node):\n",
    "                nx_child = self._add(child, g, tree)\n",
    "                tree.add_edge(nx_node, nx_child)\n",
    "            return nx_node\n",
    "\n",
    "    def __call__(self, *nodes):\n",
    "        g = nx.MultiDiGraph()\n",
    "        tree = nx.DiGraph()\n",
    "        for node in nodes:\n",
    "            self._add(node, g, tree)\n",
    "        return (g, tree)"
   ]
  },
  {
   "cell_type": "code",
   "execution_count": null,
   "metadata": {},
   "outputs": [],
   "source": [
    "# configure app\n",
    "app = Elk(\n",
    "    transformer=ipyelk.nx.XELK(\n",
    "        source=ilk(n1),\n",
    "    ),\n",
    "    layout={\"height\": \"100%\"},\n",
    "    style={\n",
    "        \" .hidden\": {\n",
    "            #             \"display\": \"none\",\n",
    "        }\n",
    "    },\n",
    ")\n",
    "app"
   ]
  },
  {
   "cell_type": "markdown",
   "metadata": {},
   "source": [
    "### mutating the compound and updating the transformer"
   ]
  },
  {
   "cell_type": "code",
   "execution_count": null,
   "metadata": {},
   "outputs": [],
   "source": [
    "ng = Node(shape=logic_gates.Nand_Gate())\n",
    "nor = Node(shape=logic_gates.Nor_Gate())\n",
    "n1.add_child(ng)\n",
    "\n",
    "n1.add_child(nor)\n",
    "\n",
    "app.diagram.defs = logic_gates.Gate.make_defs()\n",
    "app.transformer.source = ilk(n1)"
   ]
  },
  {
   "cell_type": "markdown",
   "metadata": {},
   "source": [
    "### Adding edge"
   ]
  },
  {
   "cell_type": "code",
   "execution_count": null,
   "metadata": {},
   "outputs": [],
   "source": [
    "c2 = n1.add_edge(ng.b, ng.out)\n",
    "app.transformer.source = ilk(n1)"
   ]
  },
  {
   "cell_type": "code",
   "execution_count": null,
   "metadata": {},
   "outputs": [],
   "source": [
    "c2 = ng.add_edge(nor.b, ng.a)\n",
    "app.transformer.source = ilk(n1)"
   ]
  },
  {
   "cell_type": "code",
   "execution_count": null,
   "metadata": {},
   "outputs": [],
   "source": [
    "JSON(\n",
    "    [\n",
    "        {\"u\": str(u), \"v\": str(v), **d}\n",
    "        for u, v, d in app.transformer.source[0].edges(data=True)\n",
    "    ]\n",
    ")"
   ]
  },
  {
   "cell_type": "code",
   "execution_count": null,
   "metadata": {},
   "outputs": [],
   "source": [
    "# ng.shape = logic_gates.Nand_Gate()\n",
    "ng.shape = logic_gates.Nor_Gate()\n",
    "app.transformer.source = ilk(n1)"
   ]
  },
  {
   "cell_type": "code",
   "execution_count": null,
   "metadata": {},
   "outputs": [],
   "source": [
    "from IPython.display import JSON\n",
    "\n",
    "JSON([d for *_, d in app.transformer.source[0].edges(data=True)])"
   ]
  },
  {
   "cell_type": "markdown",
   "metadata": {},
   "source": [
    "# Experiments for Record Nodes"
   ]
  },
  {
   "cell_type": "code",
   "execution_count": null,
   "metadata": {},
   "outputs": [],
   "source": [
    "app = Elk(\n",
    "    transformer=ipyelk.nx.XELK(\n",
    "        #                 layouts={\n",
    "        # #                     elk_model.ElkRoot: {\n",
    "        # #                         \"parents\": opt.OptionsWidget(options=[opt.HierarchyHandling()]).value,\n",
    "        # #                     },\n",
    "        #                 },\n",
    "        #         source=(g, tree),\n",
    "    ),\n",
    "    layout={\"height\": \"100%\"},\n",
    "    style={\n",
    "        \" .hidden\": {\n",
    "            #             \"display\": \"none\",\n",
    "        }\n",
    "    },\n",
    ")\n",
    "app"
   ]
  },
  {
   "cell_type": "code",
   "execution_count": null,
   "metadata": {},
   "outputs": [],
   "source": [
    "from dataclasses import dataclass, field\n",
    "from typing import Dict\n",
    "\n",
    "record_opts = opt.OptionsWidget(\n",
    "    options=[\n",
    "        #         opt.LayoutAlgorithm(value=ELKRectanglePacking.identifier),\n",
    "        opt.HierarchyHandling(),\n",
    "        opt.Padding(left=0, right=0, bottom=0, top=0),\n",
    "        opt.NodeSpacing(spacing=0),\n",
    "        opt.EdgeNodeSpacing(spacing=0),\n",
    "        opt.AspectRatio(ratio=100),\n",
    "        opt.ExpandNodes(activate=True),\n",
    "        opt.NodeLabelPlacement(horizontal=\"center\", vertical=\"center\"),\n",
    "        opt.NodeSizeConstraints(),\n",
    "        opt.ComponentsSpacing(spacing=0),\n",
    "        opt.NodeSpacing(spacing=0),\n",
    "    ]\n",
    ").value\n",
    "\n",
    "label_opts = opt.OptionsWidget(\n",
    "    options=[\n",
    "        opt.NodeLabelPlacement(horizontal=\"center\", vertical=\"center\"),\n",
    "        opt.LabelSpacing(spacing=10),\n",
    "    ]\n",
    ").value\n",
    "\n",
    "\n",
    "@dataclass\n",
    "class Record(Node):\n",
    "    layoutOptions: Dict = field(default_factory=lambda: {**record_opts})\n",
    "    width: float = field(default=80)\n",
    "\n",
    "    def __hash__(self):\n",
    "        return hash(id(self))\n",
    "\n",
    "    def to_json(self):\n",
    "        for child in self.children:\n",
    "            child.layoutOptions = merge(\n",
    "                opt.OptionsWidget(\n",
    "                    options=[\n",
    "                        opt.NodeSizeConstraints(),\n",
    "                        opt.NodeSizeMinimum(width=self.width, height=20),\n",
    "                    ]\n",
    "                ).value,\n",
    "                child.layoutOptions,\n",
    "            )\n",
    "        return super().to_json()"
   ]
  },
  {
   "cell_type": "code",
   "execution_count": null,
   "metadata": {},
   "outputs": [],
   "source": [
    "r = Record(\n",
    "    #     labels=[Label(text=\"Class\")]\n",
    "    #     shape=symbol.Rect(width=150),\n",
    "    width=180\n",
    ")\n",
    "\n",
    "\n",
    "def make_labels(texts):\n",
    "    return [\n",
    "        Label(\n",
    "            text=t,\n",
    "            layoutOptions=label_opts,\n",
    "        )\n",
    "        for t in texts\n",
    "    ]\n",
    "\n",
    "\n",
    "r.add_child(\n",
    "    Node(\n",
    "        labels=make_labels([\"methods\", \"subtitle\"]),\n",
    "        #     layoutOptions=compartment_opts,\n",
    "        #     shape=symbol.Rect(width=60, height=20)\n",
    "    )\n",
    ")\n",
    "\n",
    "r.add_child(n1)\n",
    "\n",
    "cp = Compound()\n",
    "# cp.add_node(r)\n",
    "# cp.add_node(n1)\n",
    "\n",
    "r.width = 300\n",
    "\n",
    "app.diagram.defs = logic_gates.Gate.make_defs()\n",
    "app.transformer.source = cp(r)"
   ]
  },
  {
   "cell_type": "code",
   "execution_count": null,
   "metadata": {},
   "outputs": [],
   "source": [
    "display(JSON(app.diagram.mark_layout))"
   ]
  },
  {
   "cell_type": "markdown",
   "metadata": {},
   "source": [
    "# Label Icons"
   ]
  },
  {
   "cell_type": "code",
   "execution_count": null,
   "metadata": {},
   "outputs": [],
   "source": [
    "conversation_icon = Def(\n",
    "    children=[\n",
    "        symbol.SVG(\n",
    "            value=\"\"\"<path d=\"M24,17H8a1,1,0,0,0,0,2H24a1,1,0,0,0,0-2Z\"/><path d=\"M24,7H8A1,1,0,0,0,8,9H24a1,1,0,0,0,0-2Z\"/><path d=\"M24,12H8a1,1,0,0,0,0,2H24a1,1,0,0,0,0-2Z\"/><path d=\"M25,2H7A5,5,0,0,0,2,7V27.11a3,3,0,0,0,3,3,3,3,0,0,0,1.75-.56l6.81-4.87A3,3,0,0,1,15.45,24H25a5,5,0,0,0,5-5V7A5,5,0,0,0,25,2Zm3,17a3,3,0,0,1-3,3H15.45a4.94,4.94,0,0,0-3.11,1.09L5.58,27.92a1,1,0,0,1-1,.08A1,1,0,0,1,4,27.11V7A3,3,0,0,1,7,4H25a3,3,0,0,1,3,3Z\"/>\"\"\"\n",
    "        )\n",
    "    ],\n",
    "    width=32,\n",
    "    height=32,\n",
    ")\n",
    "icons = {\"conversation\": conversation_icon}"
   ]
  },
  {
   "cell_type": "code",
   "execution_count": null,
   "metadata": {},
   "outputs": [],
   "source": [
    "app = Elk(\n",
    "    transformer=ipyelk.nx.XELK(\n",
    "        #                 layouts={\n",
    "        # #                     elk_model.ElkRoot: {\n",
    "        # #                         \"parents\": opt.OptionsWidget(options=[opt.HierarchyHandling()]).value,\n",
    "        # #                     },\n",
    "        #                 },\n",
    "        #         source=(g, tree),\n",
    "    ),\n",
    "    layout={\"height\": \"100%\"},\n",
    "    style={\n",
    "        \" .hidden\": {\n",
    "            #             \"display\": \"none\",\n",
    "        }\n",
    "    },\n",
    ")\n",
    "app.diagram.defs = icons\n",
    "app"
   ]
  },
  {
   "cell_type": "code",
   "execution_count": null,
   "metadata": {},
   "outputs": [],
   "source": [
    "await app.transformer._refresh()"
   ]
  },
  {
   "cell_type": "code",
   "execution_count": null,
   "metadata": {},
   "outputs": [],
   "source": [
    "%debug"
   ]
  },
  {
   "cell_type": "code",
   "execution_count": null,
   "metadata": {},
   "outputs": [],
   "source": [
    "@dataclass\n",
    "class Icon(Symbol):\n",
    "    type = \"label:icon\"\n",
    "    value: str = \" \"\n",
    "\n",
    "    def get_shape_props(self):\n",
    "        props = super().get_shape_props()\n",
    "        if self.value:\n",
    "            props.update({\"use\": str(self.value)})\n",
    "        return props\n",
    "\n",
    "\n",
    "icon = Icon(value=\"conversation\", width=20, height=50)\n",
    "l1 = Label(shape=icon, layoutOptions=label_opts)\n",
    "l2 = Label(text=\"something to talk about\", layoutOptions=label_opts)\n",
    "cn = Node(\n",
    "    labels=[\n",
    "        l1,\n",
    "        l2,\n",
    "    ]\n",
    ")\n",
    "cmp = Compound()\n",
    "app.transformer.source = cmp(cn)"
   ]
  },
  {
   "cell_type": "code",
   "execution_count": null,
   "metadata": {},
   "outputs": [],
   "source": [
    "icon.height = 40\n",
    "cn.labels = [l2]\n",
    "l2.labels = [l1]\n",
    "app.transformer.source = cmp(cn)"
   ]
  },
  {
   "cell_type": "code",
   "execution_count": null,
   "metadata": {},
   "outputs": [],
   "source": [
    "cn = Node(\n",
    "    labels=[\n",
    "        Label(\n",
    "            text=\"something to talk about\",\n",
    "            layoutOptions=label_opts,\n",
    "            labels=[\n",
    "                Label(shape=icon, layoutOptions=label_opts),\n",
    "            ],\n",
    "        ),\n",
    "    ]\n",
    ")\n",
    "# cmp = Compound()\n",
    "app.transformer.source = cmp(cn)"
   ]
  },
  {
   "cell_type": "code",
   "execution_count": null,
   "metadata": {},
   "outputs": [],
   "source": [
    "icon.height = 40\n",
    "cn.labels = [l1, l2]\n",
    "l2.labels = []\n",
    "app.transformer.source = cmp(cn)"
   ]
  },
  {
   "cell_type": "code",
   "execution_count": null,
   "metadata": {},
   "outputs": [],
   "source": [
    "app.transformer.value"
   ]
  }
 ],
 "metadata": {
  "kernelspec": {
   "display_name": "Python 3",
   "language": "python",
   "name": "python3"
  },
  "language_info": {
   "codemirror_mode": {
    "name": "ipython",
    "version": 3
   },
   "file_extension": ".py",
   "mimetype": "text/x-python",
   "name": "python",
   "nbconvert_exporter": "python",
   "pygments_lexer": "ipython3",
   "version": "3.7.9"
  }
 },
 "nbformat": 4,
 "nbformat_minor": 4
}
