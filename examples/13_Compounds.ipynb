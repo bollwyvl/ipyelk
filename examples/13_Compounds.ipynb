{
 "cells": [
  {
   "cell_type": "markdown",
   "metadata": {},
   "source": [
    "# 🦌 Compounds 🧪\n",
    "\n",
    "```python\n",
    "\n",
    "```"
   ]
  },
  {
   "cell_type": "code",
   "execution_count": null,
   "metadata": {},
   "outputs": [],
   "source": [
    "from collections import defaultdict\n",
    "from dataclasses import dataclass, field\n",
    "from inspect import isclass\n",
    "from typing import ClassVar, Dict, List, Optional, Tuple, Union\n",
    "from uuid import uuid4\n",
    "\n",
    "import importnb\n",
    "\n",
    "# import ipyelk.diagram.elk_export\n",
    "import ipywidgets as W\n",
    "import networkx as nx\n",
    "from IPython.display import JSON, SVG, display\n",
    "\n",
    "import ipyelk\n",
    "import ipyelk.nx\n",
    "import ipyelk.tools\n",
    "import ipyelk.tools.tools\n",
    "\n",
    "# from ipyelk.contrib.library import logic_gates as logic\n",
    "from ipyelk import Elk\n",
    "from ipyelk.contrib.elements import Compound, Label, Node, Port, Registry\n",
    "from ipyelk.contrib.library import logic_gates\n",
    "from ipyelk.contrib.shapes import connectors as conn\n",
    "from ipyelk.contrib.shapes import shapes\n",
    "from ipyelk.diagram import elk_export, elk_model\n",
    "from ipyelk.diagram import layout_options as opt\n",
    "from ipyelk.diagram import symbol\n",
    "from ipyelk.diagram.defs import ConnectorDef, Def\n",
    "from ipyelk.diagram.elk_model import strip_none\n",
    "from ipyelk.diagram.layout_options.layout import ELKRectanglePacking\n",
    "from ipyelk.diagram.symbol import Symbol\n",
    "from ipyelk.transform import merge"
   ]
  },
  {
   "cell_type": "markdown",
   "metadata": {},
   "source": [
    "### TODO\n",
    "\n",
    "- how transformer deals with layoutOptions / properties / cssClasses\n",
    "  - probably not great to have them in too many places...\n",
    "  - \"inherited\" from higher nodes in the graph vs explicitly set in the node data\n",
    "- label shapes\n",
    "  - icon view\n",
    "- sizing for record compounds\n",
    "- composing compounds"
   ]
  },
  {
   "cell_type": "code",
   "execution_count": null,
   "metadata": {},
   "outputs": [],
   "source": [
    "with Registry():\n",
    "    n1 = Node(ports={\"a\": Port()}, labels=[Label(text=\"hello\")])\n",
    "    n1.a._parent\n",
    "    n1.add_child(Node())\n",
    "\n",
    "    data = n1.to_json()\n",
    "\n",
    "JSON(data)"
   ]
  },
  {
   "cell_type": "code",
   "execution_count": null,
   "metadata": {},
   "outputs": [],
   "source": [
    "n1 = Node(labels=[Label(text=\"hello\", labels=[Label(text=\"subtext\")])])\n",
    "# n1.a = Port()\n",
    "\n",
    "n1.add_child(Node())\n",
    "n2 = Node()\n",
    "n2.a = Port()\n",
    "ilk = Compound()\n",
    "ilk.connect(n2.a, n1)"
   ]
  },
  {
   "cell_type": "code",
   "execution_count": null,
   "metadata": {},
   "outputs": [],
   "source": [
    "with Registry():\n",
    "    display(JSON(n1.to_json()))"
   ]
  },
  {
   "cell_type": "code",
   "execution_count": null,
   "metadata": {},
   "outputs": [],
   "source": [
    "# configure app\n",
    "app = Elk(\n",
    "    transformer=ipyelk.nx.XELK(\n",
    "        #         layouts={\n",
    "        #             elk_model.ElkRoot: {\n",
    "        #                 \"parents\": diagram_opts,\n",
    "        #             },\n",
    "        #         },\n",
    "        source=ilk.source(),\n",
    "    ),\n",
    "    layout={\"height\": \"100%\"},\n",
    "    style={\n",
    "        \" .hidden\": {\n",
    "            #             \"display\": \"none\",\n",
    "        }\n",
    "    },\n",
    ")\n",
    "app"
   ]
  },
  {
   "cell_type": "code",
   "execution_count": null,
   "metadata": {},
   "outputs": [],
   "source": [
    "ng = Node(shape=logic_gates.Nand_Gate())\n",
    "n1.add_child(ng)\n",
    "\n",
    "app.diagram.defs = {logic_gates.Nand_Gate.identifier: logic_gates.Nand_Gate.shape}\n",
    "app.transformer.source = ilk.source()\n",
    "from ipyelk.contrib.elements.compound import nx_wrap\n",
    "\n",
    "nx_ng = nx_wrap(ng, ilk.registry)"
   ]
  },
  {
   "cell_type": "code",
   "execution_count": null,
   "metadata": {},
   "outputs": [],
   "source": [
    "ng.shape = logic_gates.Nand_Gate()\n",
    "app.transformer.source = ilk.source()"
   ]
  },
  {
   "cell_type": "code",
   "execution_count": null,
   "metadata": {},
   "outputs": [],
   "source": [
    "app.transformer.get_properties(nx_ng)"
   ]
  },
  {
   "cell_type": "code",
   "execution_count": null,
   "metadata": {},
   "outputs": [],
   "source": [
    "JSON(app.transformer.value)"
   ]
  },
  {
   "cell_type": "code",
   "execution_count": null,
   "metadata": {},
   "outputs": [],
   "source": [
    "from IPython.display import JSON\n",
    "\n",
    "JSON([d for *_, d in app.transformer.source[0].edges(data=True)])"
   ]
  },
  {
   "cell_type": "code",
   "execution_count": null,
   "metadata": {},
   "outputs": [],
   "source": [
    "JSON(app.transformer.value)"
   ]
  },
  {
   "cell_type": "code",
   "execution_count": null,
   "metadata": {},
   "outputs": [],
   "source": [
    "JSON([d for _, d in ilk.source()[0].nodes(data=True)])"
   ]
  },
  {
   "cell_type": "code",
   "execution_count": null,
   "metadata": {},
   "outputs": [],
   "source": [
    "logic_gates.Nand_Gate.shape"
   ]
  },
  {
   "cell_type": "code",
   "execution_count": null,
   "metadata": {},
   "outputs": [],
   "source": [
    "g, tree = ilk.source(context=Registry())"
   ]
  },
  {
   "cell_type": "code",
   "execution_count": null,
   "metadata": {},
   "outputs": [],
   "source": [
    "from IPython.display import JSON\n",
    "\n",
    "JSON([d for _, d in ilk.source()[0].nodes(data=True)])"
   ]
  },
  {
   "cell_type": "code",
   "execution_count": null,
   "metadata": {},
   "outputs": [],
   "source": [
    "from IPython.display import JSON\n",
    "\n",
    "JSON([d for *_, d in ilk.source()[0].edges(data=True)])"
   ]
  },
  {
   "cell_type": "markdown",
   "metadata": {},
   "source": [
    "# Experiments for Record Nodes"
   ]
  },
  {
   "cell_type": "code",
   "execution_count": null,
   "metadata": {},
   "outputs": [],
   "source": [
    "app = Elk(\n",
    "    transformer=ipyelk.nx.XELK(\n",
    "        #         layouts={\n",
    "        #             elk_model.ElkRoot: {\n",
    "        #                 \"parents\": diagram_opts,\n",
    "        #             },\n",
    "        #         },\n",
    "        #         source=(g, tree),\n",
    "    ),\n",
    "    layout={\"height\": \"100%\"},\n",
    "    style={\n",
    "        \" .hidden\": {\n",
    "            #             \"display\": \"none\",\n",
    "        }\n",
    "    },\n",
    ")\n",
    "app"
   ]
  },
  {
   "cell_type": "code",
   "execution_count": null,
   "metadata": {},
   "outputs": [],
   "source": [
    "from dataclasses import dataclass\n",
    "from typing import Dict\n",
    "\n",
    "\n",
    "@dataclass\n",
    "class Record(symbol.Symbol):\n",
    "    def get_layoutOptions(self) -> Dict:\n",
    "        return opt.OptionsWidget(\n",
    "            options=[\n",
    "                opt.HierarchyHandling(),\n",
    "                opt.Padding(left=0, right=0, bottom=0, top=0),\n",
    "                opt.NodeSpacing(spacing=0),\n",
    "                opt.EdgeNodeSpacing(spacing=0),\n",
    "                opt.AspectRatio(),\n",
    "                opt.ExpandNodes(activate=True),\n",
    "                opt.NodeLabelPlacement(horizontal=\"center\", vertical=\"center\"),\n",
    "                #         opt.NodeSizeConstraints(),\n",
    "                opt.ComponentsSpacing(spacing=0),\n",
    "                opt.NodeSpacing(spacing=0),\n",
    "            ]\n",
    "        ).value\n",
    "\n",
    "\n",
    "# .to_json()\n",
    "g = nx.Graph()\n",
    "tree = nx.DiGraph()\n",
    "r = Record()\n",
    "g.add_node(\"a\", **r.to_json(id=\"a\"))"
   ]
  },
  {
   "cell_type": "code",
   "execution_count": null,
   "metadata": {},
   "outputs": [],
   "source": [
    "g = nx.Graph()\n",
    "tree = nx.DiGraph()\n",
    "\n",
    "diagram_opts = opt.OptionsWidget(\n",
    "    options=[\n",
    "        opt.LayoutAlgorithm(),\n",
    "        opt.HierarchyHandling(),\n",
    "        #         opt.NodeSpacing(spacing=0),\n",
    "    ]\n",
    ").value\n",
    "record_layout = opt.OptionsWidget(\n",
    "    options=[\n",
    "        #         opt.LayoutAlgorithm(value=ELKRectanglePacking.identifier),\n",
    "        opt.HierarchyHandling(),\n",
    "        opt.Padding(left=0, right=0, bottom=0, top=0),\n",
    "        opt.NodeSpacing(spacing=0),\n",
    "        opt.EdgeNodeSpacing(spacing=0),\n",
    "        opt.AspectRatio(),\n",
    "        opt.ExpandNodes(activate=True),\n",
    "        opt.NodeLabelPlacement(horizontal=\"center\", vertical=\"center\"),\n",
    "        #         opt.NodeSizeConstraints(),\n",
    "        opt.ComponentsSpacing(spacing=0),\n",
    "        opt.NodeSpacing(spacing=0),\n",
    "    ]\n",
    ").value\n",
    "\n",
    "compartment_opts = opt.OptionsWidget(\n",
    "    options=[\n",
    "        opt.NodeLabelPlacement(horizontal=\"center\", vertical=\"center\"),\n",
    "        #         opt.NodeSizeConstraints(),\n",
    "        opt.NodeSpacing(spacing=0),\n",
    "    ]\n",
    ").value\n",
    "\n",
    "g.add_node(\"record\", labels=[], layoutOptions=record_layout)\n",
    "\n",
    "compartments = [\"a\", \"b\"]\n",
    "for i, c in enumerate(compartments):\n",
    "    g.add_node(\n",
    "        c, width=40, height=36, layoutOptions=compartment_opts, ports=[c + str(i)]\n",
    "    )\n",
    "    tree.add_edge(\"record\", c)\n",
    "\n",
    "# g.add_node(\"n1\")\n",
    "\n",
    "# configure app\n",
    "app = Elk(\n",
    "    transformer=ipyelk.nx.XELK(\n",
    "        layouts={\n",
    "            elk_model.ElkRoot: {\n",
    "                \"parents\": diagram_opts,\n",
    "            },\n",
    "        },\n",
    "        source=(g, tree),\n",
    "    ),\n",
    "    layout={\"height\": \"100%\"},\n",
    "    style={\n",
    "        \" .hidden\": {\n",
    "            #             \"display\": \"none\",\n",
    "        }\n",
    "    },\n",
    ")\n",
    "app"
   ]
  },
  {
   "cell_type": "code",
   "execution_count": null,
   "metadata": {},
   "outputs": [],
   "source": [
    "app.diagram.mark_layout"
   ]
  },
  {
   "cell_type": "code",
   "execution_count": null,
   "metadata": {},
   "outputs": [],
   "source": [
    "g = nx.Graph()\n",
    "tree = nx.DiGraph()\n",
    "\n",
    "record_layout = opt.OptionsWidget(\n",
    "    options=[\n",
    "        opt.LayoutAlgorithm(value=ELKRectanglePacking.identifier),\n",
    "        opt.HierarchyHandling(),\n",
    "        opt.Padding(left=0, right=0, bottom=0, top=0),\n",
    "        opt.NodeSpacing(spacing=0),\n",
    "        opt.EdgeNodeSpacing(spacing=0),\n",
    "        opt.AspectRatio(),\n",
    "        opt.ExpandNodes(activate=True),\n",
    "    ]\n",
    ").value\n",
    "\n",
    "compartment_opts = opt.OptionsWidget(\n",
    "    options=[\n",
    "        opt.NodeLabelPlacement(horizontal=\"center\", vertical=\"center\"),\n",
    "        opt.NodeSizeConstraints(),\n",
    "    ]\n",
    ").value\n",
    "\n",
    "compartments = [\"a\", \"b\"]\n",
    "for i, c in enumerate(compartments):\n",
    "    g.add_node(\n",
    "        c,\n",
    "        width=40 + 2 * i,\n",
    "        height=30,\n",
    "        layoutOptions=compartment_opts,\n",
    "        #         ports=[c + str(i)]\n",
    "    )\n",
    "\n",
    "\n",
    "# configure app\n",
    "app = Elk(\n",
    "    transformer=ipyelk.nx.XELK(\n",
    "        layouts={\n",
    "            elk_model.ElkRoot: {\n",
    "                \"parents\": record_layout,\n",
    "            },\n",
    "        },\n",
    "        source=(g, tree),\n",
    "    ),\n",
    "    layout={\"height\": \"100%\"},\n",
    "    style={\n",
    "        \" .hidden\": {\n",
    "            #             \"display\": \"none\",\n",
    "        }\n",
    "    },\n",
    ")\n",
    "app"
   ]
  }
 ],
 "metadata": {
  "kernelspec": {
   "display_name": "Python 3",
   "language": "python",
   "name": "python3"
  },
  "language_info": {
   "codemirror_mode": {
    "name": "ipython",
    "version": 3
   },
   "file_extension": ".py",
   "mimetype": "text/x-python",
   "name": "python",
   "nbconvert_exporter": "python",
   "pygments_lexer": "ipython3",
   "version": "3.7.9"
  }
 },
 "nbformat": 4,
 "nbformat_minor": 4
}
