{
 "cells": [
  {
   "cell_type": "markdown",
   "metadata": {},
   "source": [
    "# 🦌 Compounds 🧪\n",
    "\n",
    "\n",
    "```python\n",
    "\n",
    "```"
   ]
  },
  {
   "cell_type": "code",
   "execution_count": 1,
   "metadata": {},
   "outputs": [],
   "source": [
    "import importnb\n",
    "\n",
    "# import ipyelk.diagram.elk_export\n",
    "import ipywidgets as W\n",
    "import networkx as nx\n",
    "from IPython.display import SVG, JSON, display\n",
    "\n",
    "import ipyelk\n",
    "import ipyelk.nx\n",
    "import ipyelk.tools\n",
    "import ipyelk.tools.tools\n",
    "\n",
    "# from ipyelk.contrib.library import logic_gates as logic\n",
    "from ipyelk import Elk\n",
    "from ipyelk.contrib.shapes import connectors as conn\n",
    "from ipyelk.contrib.shapes import shapes\n",
    "from ipyelk.diagram import elk_export, elk_model\n",
    "from ipyelk.diagram import layout_options as opt\n",
    "from ipyelk.diagram import symbol\n",
    "from ipyelk.diagram.symbol import Symbol\n",
    "from ipyelk.diagram.defs import ConnectorDef, Def\n",
    "from ipyelk.diagram.layout_options.layout import ELKRectanglePacking\n",
    "\n",
    "from typing import Tuple, Union, ClassVar, List, Optional, Dict\n",
    "from dataclasses import field, dataclass\n",
    "\n",
    "from uuid import uuid4\n",
    "\n",
    "from collections import defaultdict\n",
    "from inspect import isclass\n",
    "from ipyelk.transform import merge\n",
    "from ipyelk.diagram.elk_model import strip_none\n",
    "\n",
    "from ipyelk.contrib.elements import Registry, Node, Port, Compound , Label\n",
    "from ipyelk.contrib.library import logic_gates"
   ]
  },
  {
   "cell_type": "markdown",
   "metadata": {},
   "source": [
    "### TODO\n",
    "* how transformer deals with layoutOptions / properties / cssClasses\n",
    "    * probably not great to have them in too many places...\n",
    "    * \"inherited\" from higher nodes in the graph vs explicitly set in the node data\n",
    "* label shapes\n",
    "    * icon view\n",
    "* sizing for record compounds\n",
    "* composing compounds"
   ]
  },
  {
   "cell_type": "code",
   "execution_count": 2,
   "metadata": {},
   "outputs": [
    {
     "data": {
      "application/json": {
       "id": "1c14b154-db79-42ef-b280-8443dd5b8b88",
       "labels": [
        {
         "id": "26bc0ddc-9eec-4ed9-8370-46392b34cb73",
         "labels": [],
         "text": "hello"
        }
       ],
       "ports": [
        {
         "id": "1c14b154-db79-42ef-b280-8443dd5b8b88.956dd8bf-5406-48f3-9097-480cd7d80069",
         "labels": []
        }
       ]
      },
      "text/plain": [
       "<IPython.core.display.JSON object>"
      ]
     },
     "execution_count": 2,
     "metadata": {
      "application/json": {
       "expanded": false,
       "root": "root"
      }
     },
     "output_type": "execute_result"
    }
   ],
   "source": [
    "with Registry():\n",
    "    n1 = Node(\n",
    "        ports={\"a\":Port()},\n",
    "        labels=[Label(text=\"hello\")]\n",
    "    )\n",
    "    n1.a._parent\n",
    "    n1.add_child(Node())\n",
    "    \n",
    "    data = n1.to_json()\n",
    "    \n",
    "JSON(data)"
   ]
  },
  {
   "cell_type": "code",
   "execution_count": 3,
   "metadata": {},
   "outputs": [
    {
     "data": {
      "text/plain": [
       "Connection(source=Port(shape=None, labels=[], properties={}, layoutOptions={}, _parent=Node(shape=None, labels=[], properties={}, layoutOptions={}, ports={'a': ...}, children=[])), target=Node(shape=None, labels=[Label(shape=None, labels=[Label(shape=None, labels=[], properties={}, layoutOptions={}, text='subtext')], properties={}, layoutOptions={}, text='hello')], properties={}, layoutOptions={}, ports={}, children=[Node(shape=None, labels=[], properties={}, layoutOptions={}, ports={}, children=[])]))"
      ]
     },
     "execution_count": 3,
     "metadata": {},
     "output_type": "execute_result"
    }
   ],
   "source": [
    "n1 = Node(labels=[Label(text=\"hello\", labels=[Label(text=\"subtext\")])])\n",
    "# n1.a = Port()\n",
    "\n",
    "n1.add_child(Node())\n",
    "n2 = Node()\n",
    "n2.a = Port()\n",
    "ilk = Compound()\n",
    "ilk.connect(n2.a, n1)\n"
   ]
  },
  {
   "cell_type": "code",
   "execution_count": 4,
   "metadata": {},
   "outputs": [
    {
     "data": {
      "application/json": {
       "id": "173371ed-67c2-40a2-ae02-accd104eba28",
       "labels": [
        {
         "id": "a4ce8562-08ea-48dc-ad22-a29cb2bed444",
         "labels": [
          {
           "id": "82eda323-493b-482d-95c0-f329b277c9c5",
           "labels": [],
           "text": "subtext"
          }
         ],
         "text": "hello"
        }
       ],
       "ports": []
      },
      "text/plain": [
       "<IPython.core.display.JSON object>"
      ]
     },
     "metadata": {
      "application/json": {
       "expanded": false,
       "root": "root"
      }
     },
     "output_type": "display_data"
    }
   ],
   "source": [
    "with Registry():\n",
    "    display(JSON(n1.to_json()))"
   ]
  },
  {
   "cell_type": "code",
   "execution_count": 5,
   "metadata": {},
   "outputs": [
    {
     "data": {
      "application/vnd.jupyter.widget-view+json": {
       "model_id": "832f57ac3a27460c9bb091a4927c7fcf",
       "version_major": 2,
       "version_minor": 0
      },
      "text/plain": [
       "Elk(children=[HTML(value='<style>.styled-widget-140342780585872 .hidden{}</style>', layout=Layout(display='Non…"
      ]
     },
     "metadata": {},
     "output_type": "display_data"
    }
   ],
   "source": [
    "# configure app\n",
    "app = Elk(\n",
    "    transformer=ipyelk.nx.XELK(\n",
    "#         layouts={\n",
    "#             elk_model.ElkRoot: {\n",
    "#                 \"parents\": diagram_opts,\n",
    "#             },\n",
    "#         },\n",
    "        source=ilk.source(),\n",
    "    ),\n",
    "    layout={\"height\": \"100%\"},\n",
    "    style={\n",
    "        \" .hidden\": {\n",
    "            #             \"display\": \"none\",\n",
    "        }\n",
    "    },\n",
    ")\n",
    "app"
   ]
  },
  {
   "cell_type": "code",
   "execution_count": 7,
   "metadata": {},
   "outputs": [],
   "source": [
    "ng = Node(\n",
    "        shape= logic_gates.Nand_Gate()\n",
    "    )\n",
    "n1.add_child(\n",
    "    ng\n",
    ")\n",
    "\n",
    "app.diagram.defs = {\n",
    "    logic_gates.Nand_Gate.identifier:logic_gates.Nand_Gate.shape\n",
    "}\n",
    "app.transformer.source = ilk.source()\n",
    "from ipyelk.contrib.elements.compond import nx_wrap\n",
    "nx_ng = nx_wrap(ng, ilk.registry)"
   ]
  },
  {
   "cell_type": "code",
   "execution_count": 10,
   "metadata": {},
   "outputs": [],
   "source": [
    "ng.shape = logic_gates.Nand_Gate()\n",
    "app.transformer.source = ilk.source()"
   ]
  },
  {
   "cell_type": "code",
   "execution_count": 8,
   "metadata": {},
   "outputs": [
    {
     "data": {
      "text/plain": [
       "{'type': 'node:use', 'shape': {'use': 'nand_gate'}}"
      ]
     },
     "execution_count": 8,
     "metadata": {},
     "output_type": "execute_result"
    }
   ],
   "source": [
    "app.transformer.get_properties(nx_ng)"
   ]
  },
  {
   "cell_type": "code",
   "execution_count": 12,
   "metadata": {},
   "outputs": [
    {
     "data": {
      "application/json": {
       "children": [
        {
         "children": [
          {
           "children": [],
           "id": "6ec4b155-9f74-43fa-81e1-f7abe07107b6",
           "labels": [],
           "layoutOptions": {
            "org.eclipse.elk.nodeSize.constraints": "NODE_LABELS PORTS PORT_LABELS MINIMUM_SIZE"
           }
          },
          {
           "children": [],
           "height": 26,
           "id": "c338edf8-1831-4f10-894b-6833194dc85f",
           "labels": [
            {
             "height": 12.828125,
             "id": "22cf7233-44b5-42b0-8284-c4787909fab8",
             "layoutOptions": {
              "org.eclipse.elk.nodeLabels.placement": "H_CENTER V_BOTTOM OUTSIDE"
             },
             "text": "Nand_Gate",
             "width": 60.375
            }
           ],
           "layoutOptions": {
            "org.eclipse.elk.nodeSize.constraints": "NODE_LABELS PORTS PORT_LABELS MINIMUM_SIZE",
            "org.eclipse.elk.portConstraints": "FIXED_SIDE"
           },
           "ports": [
            {
             "height": 0.1,
             "id": "c338edf8-1831-4f10-894b-6833194dc85f.a",
             "layoutOptions": {
              "org.eclipse.elk.port.side": "WEST"
             },
             "width": 0.1
            },
            {
             "height": 0.1,
             "id": "c338edf8-1831-4f10-894b-6833194dc85f.b",
             "layoutOptions": {
              "org.eclipse.elk.port.side": "WEST"
             },
             "width": 0.1
            },
            {
             "height": 0.1,
             "id": "c338edf8-1831-4f10-894b-6833194dc85f.out",
             "layoutOptions": {
              "org.eclipse.elk.port.side": "EAST"
             },
             "width": 0.1
            }
           ],
           "properties": {
            "shape": {
             "use": "nand_gate"
            },
            "type": "node:use"
           },
           "width": 45.4
          },
          {
           "children": [],
           "height": 26,
           "id": "6423870f-cf00-473f-94cc-5de0bb63d14f",
           "labels": [
            {
             "height": 12.828125,
             "id": "16d0f337-1ac7-4996-a844-0c95f2bdf1a9",
             "layoutOptions": {
              "org.eclipse.elk.nodeLabels.placement": "H_CENTER V_BOTTOM OUTSIDE"
             },
             "text": "Nand_Gate",
             "width": 60.375
            }
           ],
           "layoutOptions": {
            "org.eclipse.elk.nodeSize.constraints": "NODE_LABELS PORTS PORT_LABELS MINIMUM_SIZE",
            "org.eclipse.elk.portConstraints": "FIXED_SIDE"
           },
           "ports": [
            {
             "height": 0.1,
             "id": "6423870f-cf00-473f-94cc-5de0bb63d14f.a",
             "layoutOptions": {
              "org.eclipse.elk.port.side": "WEST"
             },
             "width": 0.1
            },
            {
             "height": 0.1,
             "id": "6423870f-cf00-473f-94cc-5de0bb63d14f.b",
             "layoutOptions": {
              "org.eclipse.elk.port.side": "WEST"
             },
             "width": 0.1
            },
            {
             "height": 0.1,
             "id": "6423870f-cf00-473f-94cc-5de0bb63d14f.out",
             "layoutOptions": {
              "org.eclipse.elk.port.side": "EAST"
             },
             "width": 0.1
            }
           ],
           "properties": {
            "shape": {
             "use": "nand_gate"
            },
            "type": "node:use"
           },
           "width": 45.4
          }
         ],
         "id": "607bb734-da85-45b9-be38-7e0d494f657a",
         "labels": [
          {
           "height": 12.828125,
           "id": "dc0106a4-025d-4c99-9446-73c57415e7b5",
           "labels": [
            {
             "id": "c47f9c1e-48ff-45ee-88dc-45634722c7bd",
             "labels": [],
             "text": "subtext"
            }
           ],
           "layoutOptions": {
            "org.eclipse.elk.nodeLabels.placement": "H_CENTER V_TOP INSIDE"
           },
           "text": "hello",
           "width": 25.359375
          }
         ],
         "layoutOptions": {
          "org.eclipse.elk.nodeSize.constraints": "NODE_LABELS PORTS PORT_LABELS MINIMUM_SIZE"
         }
        },
        {
         "id": "f17df1b0-51bd-4924-8b9a-bc31c25adc59",
         "labels": [],
         "layoutOptions": {
          "org.eclipse.elk.nodeSize.constraints": "NODE_LABELS PORTS PORT_LABELS MINIMUM_SIZE"
         },
         "ports": [
          {
           "height": 5,
           "id": "f17df1b0-51bd-4924-8b9a-bc31c25adc59.a9267e58-a569-419b-b2f6-e37fc55112de",
           "labels": [],
           "width": 5
          }
         ]
        }
       ],
       "edges": [
        {
         "id": "(Registry(_ids=defaultdict(<function id_factory.<locals>.<lambda> at 0x7fa419934ef0>, {Node(shape=None, labels=[], properties={}, layoutOptions={}, ports={'a': Port(shape=None, labels=[], properties={}, layoutOptions={}, _parent=...)}, children=[]): 'f17df1b0-51bd-4924-8b9a-bc31c25adc59', Port(shape=None, labels=[], properties={}, layoutOptions={}, _parent=Node(shape=None, labels=[], properties={}, layoutOptions={}, ports={'a': ...}, children=[])): 'a9267e58-a569-419b-b2f6-e37fc55112de', Node(shape=None, labels=[Label(shape=None, labels=[Label(shape=None, labels=[], properties={}, layoutOptions={}, text='subtext')], properties={}, layoutOptions={}, text='hello')], properties={}, layoutOptions={}, ports={}, children=[Node(shape=None, labels=[], properties={}, layoutOptions={}, ports={}, children=[]), Node(shape=Nand_Gate(children=[], x=None, y=None), labels=[], properties={}, layoutOptions={}, ports={}, children=[]), Node(shape=Nand_Gate(children=[], x=None, y=None), labels=[], properties={}, layoutOptions={}, ports={}, children=[])]): '607bb734-da85-45b9-be38-7e0d494f657a', Label(shape=None, labels=[Label(shape=None, labels=[], properties={}, layoutOptions={}, text='subtext')], properties={}, layoutOptions={}, text='hello'): 'dc0106a4-025d-4c99-9446-73c57415e7b5', Label(shape=None, labels=[], properties={}, layoutOptions={}, text='subtext'): 'c47f9c1e-48ff-45ee-88dc-45634722c7bd', Node(shape=None, labels=[], properties={}, layoutOptions={}, ports={}, children=[]): '6ec4b155-9f74-43fa-81e1-f7abe07107b6', Connection(source=Port(shape=None, labels=[], properties={}, layoutOptions={}, _parent=Node(shape=None, labels=[], properties={}, layoutOptions={}, ports={'a': ...}, children=[])), target=Node(shape=None, labels=[Label(shape=None, labels=[Label(shape=None, labels=[], properties={}, layoutOptions={}, text='subtext')], properties={}, layoutOptions={}, text='hello')], properties={}, layoutOptions={}, ports={}, children=[Node(shape=None, labels=[], properties={}, layoutOptions={}, ports={}, children=[]), Node(shape=Nand_Gate(children=[], x=None, y=None), labels=[], properties={}, layoutOptions={}, ports={}, children=[]), Node(shape=Nand_Gate(children=[], x=None, y=None), labels=[], properties={}, layoutOptions={}, ports={}, children=[])])): 'e39761f9-c3e2-4ed4-be8b-5f849ac0fcc3', Node(shape=Nand_Gate(children=[], x=None, y=None), labels=[], properties={}, layoutOptions={}, ports={}, children=[]): 'c338edf8-1831-4f10-894b-6833194dc85f', Node(shape=Nand_Gate(children=[], x=None, y=None), labels=[], properties={}, layoutOptions={}, ports={}, children=[]): '6423870f-cf00-473f-94cc-5de0bb63d14f'})), Node(shape=None, labels=[], properties={}, layoutOptions={}, ports={'a': Port(shape=None, labels=[], properties={}, layoutOptions={}, _parent=...)}, children=[]))__a9267e58-a569-419b-b2f6-e37fc55112de___(Registry(_ids=defaultdict(<function id_factory.<locals>.<lambda> at 0x7fa419934ef0>, {Node(shape=None, labels=[], properties={}, layoutOptions={}, ports={'a': Port(shape=None, labels=[], properties={}, layoutOptions={}, _parent=...)}, children=[]): 'f17df1b0-51bd-4924-8b9a-bc31c25adc59', Port(shape=None, labels=[], properties={}, layoutOptions={}, _parent=Node(shape=None, labels=[], properties={}, layoutOptions={}, ports={'a': ...}, children=[])): 'a9267e58-a569-419b-b2f6-e37fc55112de', Node(shape=None, labels=[Label(shape=None, labels=[Label(shape=None, labels=[], properties={}, layoutOptions={}, text='subtext')], properties={}, layoutOptions={}, text='hello')], properties={}, layoutOptions={}, ports={}, children=[Node(shape=None, labels=[], properties={}, layoutOptions={}, ports={}, children=[]), Node(shape=Nand_Gate(children=[], x=None, y=None), labels=[], properties={}, layoutOptions={}, ports={}, children=[]), Node(shape=Nand_Gate(children=[], x=None, y=None), labels=[], properties={}, layoutOptions={}, ports={}, children=[])]): '607bb734-da85-45b9-be38-7e0d494f657a', Label(shape=None, labels=[Label(shape=None, labels=[], properties={}, layoutOptions={}, text='subtext')], properties={}, layoutOptions={}, text='hello'): 'dc0106a4-025d-4c99-9446-73c57415e7b5', Label(shape=None, labels=[], properties={}, layoutOptions={}, text='subtext'): 'c47f9c1e-48ff-45ee-88dc-45634722c7bd', Node(shape=None, labels=[], properties={}, layoutOptions={}, ports={}, children=[]): '6ec4b155-9f74-43fa-81e1-f7abe07107b6', Connection(source=Port(shape=None, labels=[], properties={}, layoutOptions={}, _parent=Node(shape=None, labels=[], properties={}, layoutOptions={}, ports={'a': ...}, children=[])), target=Node(shape=None, labels=[Label(shape=None, labels=[Label(shape=None, labels=[], properties={}, layoutOptions={}, text='subtext')], properties={}, layoutOptions={}, text='hello')], properties={}, layoutOptions={}, ports={}, children=[Node(shape=None, labels=[], properties={}, layoutOptions={}, ports={}, children=[]), Node(shape=Nand_Gate(children=[], x=None, y=None), labels=[], properties={}, layoutOptions={}, ports={}, children=[]), Node(shape=Nand_Gate(children=[], x=None, y=None), labels=[], properties={}, layoutOptions={}, ports={}, children=[])])): 'e39761f9-c3e2-4ed4-be8b-5f849ac0fcc3', Node(shape=Nand_Gate(children=[], x=None, y=None), labels=[], properties={}, layoutOptions={}, ports={}, children=[]): 'c338edf8-1831-4f10-894b-6833194dc85f', Node(shape=Nand_Gate(children=[], x=None, y=None), labels=[], properties={}, layoutOptions={}, ports={}, children=[]): '6423870f-cf00-473f-94cc-5de0bb63d14f'})), Node(shape=None, labels=[Label(shape=None, labels=[Label(shape=None, labels=[], properties={}, layoutOptions={}, text='subtext')], properties={}, layoutOptions={}, text='hello')], properties={}, layoutOptions={}, ports={}, children=[Node(shape=None, labels=[], properties={}, layoutOptions={}, ports={}, children=[]), Node(shape=Nand_Gate(children=[], x=None, y=None), labels=[], properties={}, layoutOptions={}, ports={}, children=[]), Node(shape=Nand_Gate(children=[], x=None, y=None), labels=[], properties={}, layoutOptions={}, ports={}, children=[])]))__None",
         "sources": [
          "f17df1b0-51bd-4924-8b9a-bc31c25adc59.a9267e58-a569-419b-b2f6-e37fc55112de"
         ],
         "targets": [
          "607bb734-da85-45b9-be38-7e0d494f657a"
         ]
        }
       ],
       "id": "root",
       "labels": [
        {
         "id": "140342764353568",
         "text": ""
        }
       ],
       "layoutOptions": {
        "org.eclipse.elk.hierarchyHandling": "INCLUDE_CHILDREN"
       }
      },
      "text/plain": [
       "<IPython.core.display.JSON object>"
      ]
     },
     "execution_count": 12,
     "metadata": {
      "application/json": {
       "expanded": false,
       "root": "root"
      }
     },
     "output_type": "execute_result"
    }
   ],
   "source": [
    "JSON(app.transformer.value)"
   ]
  },
  {
   "cell_type": "code",
   "execution_count": 14,
   "metadata": {},
   "outputs": [
    {
     "data": {
      "application/json": [
       {
        "id": "e39761f9-c3e2-4ed4-be8b-5f849ac0fcc3",
        "labels": [],
        "layoutOptions": {},
        "properties": {},
        "sourcePort": "a9267e58-a569-419b-b2f6-e37fc55112de"
       }
      ],
      "text/plain": [
       "<IPython.core.display.JSON object>"
      ]
     },
     "execution_count": 14,
     "metadata": {
      "application/json": {
       "expanded": false,
       "root": "root"
      }
     },
     "output_type": "execute_result"
    }
   ],
   "source": [
    "from IPython.display import JSON\n",
    "JSON([d for *_, d in app.transformer.source[0].edges(data=True)])"
   ]
  },
  {
   "cell_type": "code",
   "execution_count": 10,
   "metadata": {},
   "outputs": [
    {
     "data": {
      "application/json": {
       "children": [
        {
         "children": [
          {
           "children": [],
           "id": "5023d6e8-8b55-4a9f-a2f5-ec6cfb8453bf",
           "labels": [],
           "layoutOptions": {
            "org.eclipse.elk.nodeSize.constraints": "NODE_LABELS PORTS PORT_LABELS MINIMUM_SIZE"
           }
          },
          {
           "children": [],
           "height": 26,
           "id": "708ebce2-d27b-49e7-be9d-2538bdcdc7c9",
           "labels": [
            {
             "height": 12.828125,
             "id": "b8b18e4c-d0e7-40fd-8016-6c8b80f56645",
             "layoutOptions": {
              "org.eclipse.elk.nodeLabels.placement": "H_CENTER V_BOTTOM OUTSIDE"
             },
             "text": "Nand_Gate",
             "width": 60.375
            }
           ],
           "layoutOptions": {
            "org.eclipse.elk.nodeSize.constraints": "NODE_LABELS PORTS PORT_LABELS MINIMUM_SIZE",
            "org.eclipse.elk.portConstraints": "FIXED_SIDE"
           },
           "ports": [
            {
             "height": 0.1,
             "id": "708ebce2-d27b-49e7-be9d-2538bdcdc7c9.a",
             "layoutOptions": {
              "org.eclipse.elk.port.side": "WEST"
             },
             "width": 0.1
            },
            {
             "height": 0.1,
             "id": "708ebce2-d27b-49e7-be9d-2538bdcdc7c9.b",
             "layoutOptions": {
              "org.eclipse.elk.port.side": "WEST"
             },
             "width": 0.1
            },
            {
             "height": 0.1,
             "id": "708ebce2-d27b-49e7-be9d-2538bdcdc7c9.out",
             "layoutOptions": {
              "org.eclipse.elk.port.side": "EAST"
             },
             "width": 0.1
            }
           ],
           "width": 45.4
          },
          {
           "children": [],
           "height": 26,
           "id": "e3d4d99c-c391-4ba2-b2b5-1174126ab7da",
           "labels": [
            {
             "height": 12.828125,
             "id": "250ca5a7-5112-400c-b162-5d16ebbed827",
             "layoutOptions": {
              "org.eclipse.elk.nodeLabels.placement": "H_CENTER V_BOTTOM OUTSIDE"
             },
             "text": "Nand_Gate",
             "width": 60.375
            }
           ],
           "layoutOptions": {
            "org.eclipse.elk.nodeSize.constraints": "NODE_LABELS PORTS PORT_LABELS MINIMUM_SIZE",
            "org.eclipse.elk.portConstraints": "FIXED_SIDE"
           },
           "ports": [
            {
             "height": 0.1,
             "id": "e3d4d99c-c391-4ba2-b2b5-1174126ab7da.a",
             "layoutOptions": {
              "org.eclipse.elk.port.side": "WEST"
             },
             "width": 0.1
            },
            {
             "height": 0.1,
             "id": "e3d4d99c-c391-4ba2-b2b5-1174126ab7da.b",
             "layoutOptions": {
              "org.eclipse.elk.port.side": "WEST"
             },
             "width": 0.1
            },
            {
             "height": 0.1,
             "id": "e3d4d99c-c391-4ba2-b2b5-1174126ab7da.out",
             "layoutOptions": {
              "org.eclipse.elk.port.side": "EAST"
             },
             "width": 0.1
            }
           ],
           "width": 45.4
          }
         ],
         "id": "8bcdd34b-763a-4781-b272-99f7f6b8f91b",
         "labels": [
          {
           "height": 12.828125,
           "id": "22557996-b8f5-4a37-85d7-d9fce327f79d",
           "labels": [
            {
             "id": "9779ca0e-e476-433b-bddc-f2bd09600faf",
             "labels": [],
             "text": "subtext"
            }
           ],
           "layoutOptions": {
            "org.eclipse.elk.nodeLabels.placement": "H_CENTER V_TOP INSIDE"
           },
           "text": "hello",
           "width": 25.359375
          }
         ],
         "layoutOptions": {
          "org.eclipse.elk.nodeSize.constraints": "NODE_LABELS PORTS PORT_LABELS MINIMUM_SIZE"
         }
        },
        {
         "id": "ac4bd668-d86a-4901-9261-e733ea9648a7",
         "labels": [],
         "layoutOptions": {
          "org.eclipse.elk.nodeSize.constraints": "NODE_LABELS PORTS PORT_LABELS MINIMUM_SIZE"
         },
         "ports": [
          {
           "height": 5,
           "id": "ac4bd668-d86a-4901-9261-e733ea9648a7.d4e89a41-f443-4be6-a43d-dc986169c1dd",
           "labels": [],
           "width": 5
          }
         ]
        }
       ],
       "edges": [
        {
         "id": "(Registry(_ids=defaultdict(<function id_factory.<locals>.<lambda> at 0x7fe09cefeef0>, {Node(shape=None, labels=[], properties={}, layoutOptions={}, ports={'a': Port(shape=None, labels=[], properties={}, layoutOptions={}, _parent=...)}, children=[]): 'ac4bd668-d86a-4901-9261-e733ea9648a7', Port(shape=None, labels=[], properties={}, layoutOptions={}, _parent=Node(shape=None, labels=[], properties={}, layoutOptions={}, ports={'a': ...}, children=[])): 'd4e89a41-f443-4be6-a43d-dc986169c1dd', Node(shape=None, labels=[Label(shape=None, labels=[Label(shape=None, labels=[], properties={}, layoutOptions={}, text='subtext')], properties={}, layoutOptions={}, text='hello')], properties={}, layoutOptions={}, ports={}, children=[Node(shape=None, labels=[], properties={}, layoutOptions={}, ports={}, children=[]), Node(shape=Nand_Gate(children=[], x=None, y=None), labels=[], properties={}, layoutOptions={}, ports={}, children=[]), Node(shape=Nand_Gate(children=[], x=None, y=None), labels=[], properties={}, layoutOptions={}, ports={}, children=[])]): '8bcdd34b-763a-4781-b272-99f7f6b8f91b', Label(shape=None, labels=[Label(shape=None, labels=[], properties={}, layoutOptions={}, text='subtext')], properties={}, layoutOptions={}, text='hello'): '22557996-b8f5-4a37-85d7-d9fce327f79d', Label(shape=None, labels=[], properties={}, layoutOptions={}, text='subtext'): '9779ca0e-e476-433b-bddc-f2bd09600faf', Node(shape=None, labels=[], properties={}, layoutOptions={}, ports={}, children=[]): '5023d6e8-8b55-4a9f-a2f5-ec6cfb8453bf', Connection(source=Port(shape=None, labels=[], properties={}, layoutOptions={}, _parent=Node(shape=None, labels=[], properties={}, layoutOptions={}, ports={'a': ...}, children=[])), target=Node(shape=None, labels=[Label(shape=None, labels=[Label(shape=None, labels=[], properties={}, layoutOptions={}, text='subtext')], properties={}, layoutOptions={}, text='hello')], properties={}, layoutOptions={}, ports={}, children=[Node(shape=None, labels=[], properties={}, layoutOptions={}, ports={}, children=[]), Node(shape=Nand_Gate(children=[], x=None, y=None), labels=[], properties={}, layoutOptions={}, ports={}, children=[]), Node(shape=Nand_Gate(children=[], x=None, y=None), labels=[], properties={}, layoutOptions={}, ports={}, children=[])])): '64b54cdd-ad5f-4d2d-ab35-2d7e4d30baf5', Node(shape=Nand_Gate(children=[], x=None, y=None), labels=[], properties={}, layoutOptions={}, ports={}, children=[]): '708ebce2-d27b-49e7-be9d-2538bdcdc7c9', Node(shape=Nand_Gate(children=[], x=None, y=None), labels=[], properties={}, layoutOptions={}, ports={}, children=[]): 'e3d4d99c-c391-4ba2-b2b5-1174126ab7da'})), Node(shape=None, labels=[], properties={}, layoutOptions={}, ports={'a': Port(shape=None, labels=[], properties={}, layoutOptions={}, _parent=...)}, children=[]))__d4e89a41-f443-4be6-a43d-dc986169c1dd___(Registry(_ids=defaultdict(<function id_factory.<locals>.<lambda> at 0x7fe09cefeef0>, {Node(shape=None, labels=[], properties={}, layoutOptions={}, ports={'a': Port(shape=None, labels=[], properties={}, layoutOptions={}, _parent=...)}, children=[]): 'ac4bd668-d86a-4901-9261-e733ea9648a7', Port(shape=None, labels=[], properties={}, layoutOptions={}, _parent=Node(shape=None, labels=[], properties={}, layoutOptions={}, ports={'a': ...}, children=[])): 'd4e89a41-f443-4be6-a43d-dc986169c1dd', Node(shape=None, labels=[Label(shape=None, labels=[Label(shape=None, labels=[], properties={}, layoutOptions={}, text='subtext')], properties={}, layoutOptions={}, text='hello')], properties={}, layoutOptions={}, ports={}, children=[Node(shape=None, labels=[], properties={}, layoutOptions={}, ports={}, children=[]), Node(shape=Nand_Gate(children=[], x=None, y=None), labels=[], properties={}, layoutOptions={}, ports={}, children=[]), Node(shape=Nand_Gate(children=[], x=None, y=None), labels=[], properties={}, layoutOptions={}, ports={}, children=[])]): '8bcdd34b-763a-4781-b272-99f7f6b8f91b', Label(shape=None, labels=[Label(shape=None, labels=[], properties={}, layoutOptions={}, text='subtext')], properties={}, layoutOptions={}, text='hello'): '22557996-b8f5-4a37-85d7-d9fce327f79d', Label(shape=None, labels=[], properties={}, layoutOptions={}, text='subtext'): '9779ca0e-e476-433b-bddc-f2bd09600faf', Node(shape=None, labels=[], properties={}, layoutOptions={}, ports={}, children=[]): '5023d6e8-8b55-4a9f-a2f5-ec6cfb8453bf', Connection(source=Port(shape=None, labels=[], properties={}, layoutOptions={}, _parent=Node(shape=None, labels=[], properties={}, layoutOptions={}, ports={'a': ...}, children=[])), target=Node(shape=None, labels=[Label(shape=None, labels=[Label(shape=None, labels=[], properties={}, layoutOptions={}, text='subtext')], properties={}, layoutOptions={}, text='hello')], properties={}, layoutOptions={}, ports={}, children=[Node(shape=None, labels=[], properties={}, layoutOptions={}, ports={}, children=[]), Node(shape=Nand_Gate(children=[], x=None, y=None), labels=[], properties={}, layoutOptions={}, ports={}, children=[]), Node(shape=Nand_Gate(children=[], x=None, y=None), labels=[], properties={}, layoutOptions={}, ports={}, children=[])])): '64b54cdd-ad5f-4d2d-ab35-2d7e4d30baf5', Node(shape=Nand_Gate(children=[], x=None, y=None), labels=[], properties={}, layoutOptions={}, ports={}, children=[]): '708ebce2-d27b-49e7-be9d-2538bdcdc7c9', Node(shape=Nand_Gate(children=[], x=None, y=None), labels=[], properties={}, layoutOptions={}, ports={}, children=[]): 'e3d4d99c-c391-4ba2-b2b5-1174126ab7da'})), Node(shape=None, labels=[Label(shape=None, labels=[Label(shape=None, labels=[], properties={}, layoutOptions={}, text='subtext')], properties={}, layoutOptions={}, text='hello')], properties={}, layoutOptions={}, ports={}, children=[Node(shape=None, labels=[], properties={}, layoutOptions={}, ports={}, children=[]), Node(shape=Nand_Gate(children=[], x=None, y=None), labels=[], properties={}, layoutOptions={}, ports={}, children=[]), Node(shape=Nand_Gate(children=[], x=None, y=None), labels=[], properties={}, layoutOptions={}, ports={}, children=[])]))__None",
         "sources": [
          "ac4bd668-d86a-4901-9261-e733ea9648a7.d4e89a41-f443-4be6-a43d-dc986169c1dd"
         ],
         "targets": [
          "8bcdd34b-763a-4781-b272-99f7f6b8f91b"
         ]
        }
       ],
       "id": "root",
       "labels": [
        {
         "id": "140602681862896",
         "text": ""
        }
       ],
       "layoutOptions": {
        "org.eclipse.elk.hierarchyHandling": "INCLUDE_CHILDREN"
       }
      },
      "text/plain": [
       "<IPython.core.display.JSON object>"
      ]
     },
     "execution_count": 10,
     "metadata": {
      "application/json": {
       "expanded": false,
       "root": "root"
      }
     },
     "output_type": "execute_result"
    }
   ],
   "source": [
    "JSON(app.transformer.value)"
   ]
  },
  {
   "cell_type": "code",
   "execution_count": 11,
   "metadata": {},
   "outputs": [
    {
     "data": {
      "application/json": [
       {
        "id": "ac4bd668-d86a-4901-9261-e733ea9648a7",
        "labels": [],
        "ports": [
         {
          "id": "ac4bd668-d86a-4901-9261-e733ea9648a7.d4e89a41-f443-4be6-a43d-dc986169c1dd",
          "labels": []
         }
        ]
       },
       {
        "id": "8bcdd34b-763a-4781-b272-99f7f6b8f91b",
        "labels": [
         {
          "id": "22557996-b8f5-4a37-85d7-d9fce327f79d",
          "labels": [
           {
            "id": "9779ca0e-e476-433b-bddc-f2bd09600faf",
            "labels": [],
            "text": "subtext"
           }
          ],
          "text": "hello"
         }
        ],
        "ports": []
       },
       {
        "id": "5023d6e8-8b55-4a9f-a2f5-ec6cfb8453bf",
        "labels": [],
        "ports": []
       },
       {
        "children": [],
        "height": 26,
        "id": "708ebce2-d27b-49e7-be9d-2538bdcdc7c9",
        "labels": [
         {
          "id": "6eb7c914-dce2-4f38-a071-0df8ec942e5c",
          "layoutOptions": {
           "org.eclipse.elk.nodeLabels.placement": "H_CENTER V_BOTTOM OUTSIDE"
          },
          "text": "Nand_Gate"
         }
        ],
        "layoutOptions": {
         "org.eclipse.elk.portConstraints": "FIXED_SIDE"
        },
        "ports": [
         {
          "height": 0.1,
          "id": "708ebce2-d27b-49e7-be9d-2538bdcdc7c9.a",
          "layoutOptions": {
           "org.eclipse.elk.port.side": "WEST"
          },
          "width": 0.1
         },
         {
          "height": 0.1,
          "id": "708ebce2-d27b-49e7-be9d-2538bdcdc7c9.b",
          "layoutOptions": {
           "org.eclipse.elk.port.side": "WEST"
          },
          "width": 0.1
         },
         {
          "height": 0.1,
          "id": "708ebce2-d27b-49e7-be9d-2538bdcdc7c9.out",
          "layoutOptions": {
           "org.eclipse.elk.port.side": "EAST"
          },
          "width": 0.1
         }
        ],
        "properties": {
         "shape": {
          "use": "nand_gate"
         },
         "type": "node:use"
        },
        "width": 45.4
       },
       {
        "children": [],
        "height": 26,
        "id": "e3d4d99c-c391-4ba2-b2b5-1174126ab7da",
        "labels": [
         {
          "id": "5711493d-e80a-4de0-a5f4-3d12b9997685",
          "layoutOptions": {
           "org.eclipse.elk.nodeLabels.placement": "H_CENTER V_BOTTOM OUTSIDE"
          },
          "text": "Nand_Gate"
         }
        ],
        "layoutOptions": {
         "org.eclipse.elk.portConstraints": "FIXED_SIDE"
        },
        "ports": [
         {
          "height": 0.1,
          "id": "e3d4d99c-c391-4ba2-b2b5-1174126ab7da.a",
          "layoutOptions": {
           "org.eclipse.elk.port.side": "WEST"
          },
          "width": 0.1
         },
         {
          "height": 0.1,
          "id": "e3d4d99c-c391-4ba2-b2b5-1174126ab7da.b",
          "layoutOptions": {
           "org.eclipse.elk.port.side": "WEST"
          },
          "width": 0.1
         },
         {
          "height": 0.1,
          "id": "e3d4d99c-c391-4ba2-b2b5-1174126ab7da.out",
          "layoutOptions": {
           "org.eclipse.elk.port.side": "EAST"
          },
          "width": 0.1
         }
        ],
        "properties": {
         "shape": {
          "use": "nand_gate"
         },
         "type": "node:use"
        },
        "width": 45.4
       }
      ],
      "text/plain": [
       "<IPython.core.display.JSON object>"
      ]
     },
     "execution_count": 11,
     "metadata": {
      "application/json": {
       "expanded": false,
       "root": "root"
      }
     },
     "output_type": "execute_result"
    }
   ],
   "source": [
    "JSON([d for _, d in ilk.source()[0].nodes(data=True)])"
   ]
  },
  {
   "cell_type": "code",
   "execution_count": 12,
   "metadata": {},
   "outputs": [
    {
     "data": {
      "text/plain": [
       "Def(width=None, height=None, children=[SVG(width=None, height=None, children=[], x=-219.5, y=-55, value='<path xmlns=\"http://www.w3.org/2000/svg\" d=\"M\\n                219.98902,54.008713 L 219.98902,80.967304 C 266.13267,83.386665\\n                267.20732,51.416541 219.98902,54.008713 z \"/>'), SVG(width=None, height=None, children=[], x=-209, y=-221.5, value='<path xmlns=\"http://www.w3.org/2000/svg\" d=\"M 254.10886\\n                234.75238 A 4.7229962 4.7229962 0 1 1  244.66287,234.75238 A\\n                4.7229962 4.7229962 0 1 1  254.10886 234.75238 z\"/>')], x=None, y=None)"
      ]
     },
     "execution_count": 12,
     "metadata": {},
     "output_type": "execute_result"
    }
   ],
   "source": [
    "logic_gates.Nand_Gate.shape"
   ]
  },
  {
   "cell_type": "code",
   "execution_count": 13,
   "metadata": {},
   "outputs": [],
   "source": []
  },
  {
   "cell_type": "code",
   "execution_count": 15,
   "metadata": {},
   "outputs": [
    {
     "name": "stdout",
     "output_type": "stream",
     "text": [
      "0b88f331-9243-4dab-b345-23eae26f6378.7a2685cc-eb09-474e-8d59-eca742601189\n"
     ]
    }
   ],
   "source": [
    "g, tree = ilk.source(context=Registry())"
   ]
  },
  {
   "cell_type": "code",
   "execution_count": null,
   "metadata": {},
   "outputs": [],
   "source": []
  },
  {
   "cell_type": "code",
   "execution_count": 313,
   "metadata": {},
   "outputs": [
    {
     "data": {
      "text/plain": [
       "ElkPort(id=\"Node(labels=[], properties={}, layoutOptions={}, ports={'a': Port(labels=[], properties={}, layoutOptions={}, _parent=...)}, children=[]).77f46c2e-36b7-4b9c-8e61-58fcf23c2012\", labels=None, layoutOptions=None, height=5, width=5, x=None, y=None, properties=None)"
      ]
     },
     "execution_count": 313,
     "metadata": {},
     "output_type": "execute_result"
    }
   ],
   "source": [
    "p = app.selected[0]\n",
    "p.elkport"
   ]
  },
  {
   "cell_type": "code",
   "execution_count": 286,
   "metadata": {},
   "outputs": [
    {
     "ename": "UnboundLocalError",
     "evalue": "local variable 'elkport' referenced before assignment",
     "output_type": "error",
     "traceback": [
      "\u001b[0;31m---------------------------------------------------------------------------\u001b[0m",
      "\u001b[0;31mUnboundLocalError\u001b[0m                         Traceback (most recent call last)",
      "\u001b[0;32m<ipython-input-286-46b1f424a307>\u001b[0m in \u001b[0;36masync-def-wrapper\u001b[0;34m()\u001b[0m\n",
      "\u001b[0;32m~/Documents/ipyelk/py_src/ipyelk/transform.py\u001b[0m in \u001b[0;36m_refresh\u001b[0;34m(self)\u001b[0m\n\u001b[1;32m     76\u001b[0m \u001b[0;34m\u001b[0m\u001b[0m\n\u001b[1;32m     77\u001b[0m     \u001b[0;32masync\u001b[0m \u001b[0;32mdef\u001b[0m \u001b[0m_refresh\u001b[0m\u001b[0;34m(\u001b[0m\u001b[0mself\u001b[0m\u001b[0;34m)\u001b[0m\u001b[0;34m:\u001b[0m\u001b[0;34m\u001b[0m\u001b[0;34m\u001b[0m\u001b[0m\n\u001b[0;32m---> 78\u001b[0;31m         \u001b[0mroot_node\u001b[0m \u001b[0;34m=\u001b[0m \u001b[0;32mawait\u001b[0m \u001b[0mself\u001b[0m\u001b[0;34m.\u001b[0m\u001b[0mtransform\u001b[0m\u001b[0;34m(\u001b[0m\u001b[0;34m)\u001b[0m\u001b[0;34m\u001b[0m\u001b[0;34m\u001b[0m\u001b[0m\n\u001b[0m\u001b[1;32m     79\u001b[0m         \u001b[0mvalue\u001b[0m \u001b[0;34m=\u001b[0m \u001b[0mroot_node\u001b[0m\u001b[0;34m.\u001b[0m\u001b[0mto_dict\u001b[0m\u001b[0;34m(\u001b[0m\u001b[0;34m)\u001b[0m\u001b[0;34m\u001b[0m\u001b[0;34m\u001b[0m\u001b[0m\n\u001b[1;32m     80\u001b[0m \u001b[0;34m\u001b[0m\u001b[0m\n",
      "\u001b[0;32m~/Documents/ipyelk/py_src/ipyelk/nx/transformer.py\u001b[0m in \u001b[0;36mtransform\u001b[0;34m(self)\u001b[0m\n\u001b[1;32m    138\u001b[0m         \u001b[0mports\u001b[0m\u001b[0;34m:\u001b[0m \u001b[0mPortMap\u001b[0m \u001b[0;34m=\u001b[0m \u001b[0;34m{\u001b[0m\u001b[0;34m}\u001b[0m\u001b[0;34m\u001b[0m\u001b[0;34m\u001b[0m\u001b[0m\n\u001b[1;32m    139\u001b[0m         \u001b[0;32mfor\u001b[0m \u001b[0mnode\u001b[0m \u001b[0;32min\u001b[0m \u001b[0mvisible_nodes\u001b[0m\u001b[0;34m:\u001b[0m\u001b[0;34m\u001b[0m\u001b[0;34m\u001b[0m\u001b[0m\n\u001b[0;32m--> 140\u001b[0;31m             \u001b[0melknode\u001b[0m\u001b[0;34m,\u001b[0m \u001b[0mnode_ports\u001b[0m \u001b[0;34m=\u001b[0m \u001b[0;32mawait\u001b[0m \u001b[0mself\u001b[0m\u001b[0;34m.\u001b[0m\u001b[0mmake_elknode\u001b[0m\u001b[0;34m(\u001b[0m\u001b[0mnode\u001b[0m\u001b[0;34m)\u001b[0m\u001b[0;34m\u001b[0m\u001b[0;34m\u001b[0m\u001b[0m\n\u001b[0m\u001b[1;32m    141\u001b[0m             \u001b[0;32mfor\u001b[0m \u001b[0mkey\u001b[0m\u001b[0;34m,\u001b[0m \u001b[0mvalue\u001b[0m \u001b[0;32min\u001b[0m \u001b[0mnode_ports\u001b[0m\u001b[0;34m.\u001b[0m\u001b[0mitems\u001b[0m\u001b[0;34m(\u001b[0m\u001b[0;34m)\u001b[0m\u001b[0;34m:\u001b[0m\u001b[0;34m\u001b[0m\u001b[0;34m\u001b[0m\u001b[0m\n\u001b[1;32m    142\u001b[0m                 \u001b[0mports\u001b[0m\u001b[0;34m[\u001b[0m\u001b[0mkey\u001b[0m\u001b[0;34m]\u001b[0m \u001b[0;34m=\u001b[0m \u001b[0mvalue\u001b[0m\u001b[0;34m\u001b[0m\u001b[0;34m\u001b[0m\u001b[0m\n",
      "\u001b[0;32m~/Documents/ipyelk/py_src/ipyelk/nx/transformer.py\u001b[0m in \u001b[0;36mmake_elknode\u001b[0;34m(self, node)\u001b[0m\n\u001b[1;32m    198\u001b[0m \u001b[0;34m\u001b[0m\u001b[0m\n\u001b[1;32m    199\u001b[0m         \u001b[0;31m# update port map with declared ports in the networkx node data\u001b[0m\u001b[0;34m\u001b[0m\u001b[0;34m\u001b[0m\u001b[0;34m\u001b[0m\u001b[0m\n\u001b[0;32m--> 200\u001b[0;31m         \u001b[0mnode_ports\u001b[0m \u001b[0;34m=\u001b[0m \u001b[0;32mawait\u001b[0m \u001b[0mself\u001b[0m\u001b[0;34m.\u001b[0m\u001b[0mcollect_ports\u001b[0m\u001b[0;34m(\u001b[0m\u001b[0mnode\u001b[0m\u001b[0;34m)\u001b[0m\u001b[0;34m\u001b[0m\u001b[0;34m\u001b[0m\u001b[0m\n\u001b[0m\u001b[1;32m    201\u001b[0m \u001b[0;34m\u001b[0m\u001b[0m\n\u001b[1;32m    202\u001b[0m         \u001b[0mproperties\u001b[0m \u001b[0;34m=\u001b[0m \u001b[0mself\u001b[0m\u001b[0;34m.\u001b[0m\u001b[0mget_properties\u001b[0m\u001b[0;34m(\u001b[0m\u001b[0mnode\u001b[0m\u001b[0;34m,\u001b[0m \u001b[0mself\u001b[0m\u001b[0;34m.\u001b[0m\u001b[0mget_css\u001b[0m\u001b[0;34m(\u001b[0m\u001b[0mnode\u001b[0m\u001b[0;34m,\u001b[0m \u001b[0mElkNode\u001b[0m\u001b[0;34m)\u001b[0m\u001b[0;34m)\u001b[0m \u001b[0;32mor\u001b[0m \u001b[0;32mNone\u001b[0m\u001b[0;34m\u001b[0m\u001b[0;34m\u001b[0m\u001b[0m\n",
      "\u001b[0;32m~/Documents/ipyelk/py_src/ipyelk/nx/transformer.py\u001b[0m in \u001b[0;36mcollect_ports\u001b[0;34m(self, *nodes)\u001b[0m\n\u001b[1;32m    432\u001b[0m                     \u001b[0melkport\u001b[0m \u001b[0;34m=\u001b[0m \u001b[0mElkPort\u001b[0m\u001b[0;34m.\u001b[0m\u001b[0mfrom_dict\u001b[0m\u001b[0;34m(\u001b[0m\u001b[0mport\u001b[0m\u001b[0;34m)\u001b[0m\u001b[0;34m\u001b[0m\u001b[0;34m\u001b[0m\u001b[0m\n\u001b[1;32m    433\u001b[0m \u001b[0;34m\u001b[0m\u001b[0m\n\u001b[0;32m--> 434\u001b[0;31m                 \u001b[0;32mif\u001b[0m \u001b[0melkport\u001b[0m\u001b[0;34m.\u001b[0m\u001b[0mwidth\u001b[0m \u001b[0;32mis\u001b[0m \u001b[0;32mNone\u001b[0m\u001b[0;34m:\u001b[0m\u001b[0;34m\u001b[0m\u001b[0;34m\u001b[0m\u001b[0m\n\u001b[0m\u001b[1;32m    435\u001b[0m                     \u001b[0melkport\u001b[0m\u001b[0;34m.\u001b[0m\u001b[0mwidth\u001b[0m \u001b[0;34m=\u001b[0m \u001b[0mself\u001b[0m\u001b[0;34m.\u001b[0m\u001b[0mport_scale\u001b[0m\u001b[0;34m\u001b[0m\u001b[0;34m\u001b[0m\u001b[0m\n\u001b[1;32m    436\u001b[0m                 \u001b[0;32mif\u001b[0m \u001b[0melkport\u001b[0m\u001b[0;34m.\u001b[0m\u001b[0mheight\u001b[0m \u001b[0;32mis\u001b[0m \u001b[0;32mNone\u001b[0m\u001b[0;34m:\u001b[0m\u001b[0;34m\u001b[0m\u001b[0;34m\u001b[0m\u001b[0m\n",
      "\u001b[0;31mUnboundLocalError\u001b[0m: local variable 'elkport' referenced before assignment"
     ]
    }
   ],
   "source": [
    "await app.transformer._refresh()"
   ]
  },
  {
   "cell_type": "code",
   "execution_count": 282,
   "metadata": {},
   "outputs": [
    {
     "data": {
      "text/plain": [
       "[Node(labels=[], properties={}, layoutOptions={}, ports={'a': Port(labels=[], properties={}, layoutOptions={}, _parent=...)}, children=[]),\n",
       " Node(labels=[Label(labels=[Label(labels=[], properties={}, layoutOptions={}, text='subtext')], properties={}, layoutOptions={}, text='hello')], properties={}, layoutOptions={}, ports={}, children=[Node(labels=[], properties={}, layoutOptions={}, ports={}, children=[])]),\n",
       " Node(labels=[], properties={}, layoutOptions={}, ports={}, children=[])]"
      ]
     },
     "execution_count": 282,
     "metadata": {},
     "output_type": "execute_result"
    }
   ],
   "source": [
    "[d for d in ilk.source()[0].nodes()]"
   ]
  },
  {
   "cell_type": "code",
   "execution_count": 177,
   "metadata": {},
   "outputs": [
    {
     "data": {
      "application/json": [
       {
        "children": [],
        "height": 0,
        "id": "26906bd4-7de4-437a-9bdd-cd3eb131b3ef",
        "labels": [],
        "layoutOptions": {},
        "ports": [],
        "properties": {
         "type": "node"
        },
        "width": 0
       },
       {
        "children": [],
        "height": 0,
        "id": "2964e49d-38c4-476e-9256-998a2fef37b7",
        "labels": [],
        "layoutOptions": {},
        "ports": [],
        "properties": {
         "type": "node"
        },
        "width": 0
       }
      ],
      "text/plain": [
       "<IPython.core.display.JSON object>"
      ]
     },
     "execution_count": 177,
     "metadata": {
      "application/json": {
       "expanded": false,
       "root": "root"
      }
     },
     "output_type": "execute_result"
    }
   ],
   "source": [
    "from IPython.display import JSON\n",
    "JSON([d for _, d in ilk.source()[0].nodes(data=True)])"
   ]
  },
  {
   "cell_type": "code",
   "execution_count": 178,
   "metadata": {},
   "outputs": [
    {
     "data": {
      "application/json": [
       {
        "id": "de7fbe32-2aa7-46ae-9e8a-bfc807285bc1",
        "labels": [],
        "layoutOptions": {},
        "properties": {},
        "sources": [
         "b08e5255-bd0d-4d18-96f5-b06c1154051a"
        ],
        "targets": [
         "2964e49d-38c4-476e-9256-998a2fef37b7"
        ]
       }
      ],
      "text/plain": [
       "<IPython.core.display.JSON object>"
      ]
     },
     "execution_count": 178,
     "metadata": {
      "application/json": {
       "expanded": false,
       "root": "root"
      }
     },
     "output_type": "execute_result"
    }
   ],
   "source": [
    "from IPython.display import JSON\n",
    "JSON([d for *_, d in ilk.source()[0].edges(data=True)])"
   ]
  },
  {
   "cell_type": "code",
   "execution_count": 157,
   "metadata": {},
   "outputs": [
    {
     "ename": "AttributeError",
     "evalue": "'Port' object has no attribute 'get'",
     "output_type": "error",
     "traceback": [
      "\u001b[0;31m---------------------------------------------------------------------------\u001b[0m",
      "\u001b[0;31mAttributeError\u001b[0m                            Traceback (most recent call last)",
      "\u001b[0;32m<ipython-input-157-46b1f424a307>\u001b[0m in \u001b[0;36masync-def-wrapper\u001b[0;34m()\u001b[0m\n",
      "\u001b[0;32m~/Documents/ipyelk/py_src/ipyelk/transform.py\u001b[0m in \u001b[0;36m_refresh\u001b[0;34m(self)\u001b[0m\n\u001b[1;32m     76\u001b[0m \u001b[0;34m\u001b[0m\u001b[0m\n\u001b[1;32m     77\u001b[0m     \u001b[0;32masync\u001b[0m \u001b[0;32mdef\u001b[0m \u001b[0m_refresh\u001b[0m\u001b[0;34m(\u001b[0m\u001b[0mself\u001b[0m\u001b[0;34m)\u001b[0m\u001b[0;34m:\u001b[0m\u001b[0;34m\u001b[0m\u001b[0;34m\u001b[0m\u001b[0m\n\u001b[0;32m---> 78\u001b[0;31m         \u001b[0mroot_node\u001b[0m \u001b[0;34m=\u001b[0m \u001b[0;32mawait\u001b[0m \u001b[0mself\u001b[0m\u001b[0;34m.\u001b[0m\u001b[0mtransform\u001b[0m\u001b[0;34m(\u001b[0m\u001b[0;34m)\u001b[0m\u001b[0;34m\u001b[0m\u001b[0;34m\u001b[0m\u001b[0m\n\u001b[0m\u001b[1;32m     79\u001b[0m         \u001b[0mvalue\u001b[0m \u001b[0;34m=\u001b[0m \u001b[0mroot_node\u001b[0m\u001b[0;34m.\u001b[0m\u001b[0mto_dict\u001b[0m\u001b[0;34m(\u001b[0m\u001b[0;34m)\u001b[0m\u001b[0;34m\u001b[0m\u001b[0;34m\u001b[0m\u001b[0m\n\u001b[1;32m     80\u001b[0m \u001b[0;34m\u001b[0m\u001b[0m\n",
      "\u001b[0;32m~/Documents/ipyelk/py_src/ipyelk/nx/transformer.py\u001b[0m in \u001b[0;36mtransform\u001b[0;34m(self)\u001b[0m\n\u001b[1;32m    138\u001b[0m         \u001b[0mports\u001b[0m\u001b[0;34m:\u001b[0m \u001b[0mPortMap\u001b[0m \u001b[0;34m=\u001b[0m \u001b[0;34m{\u001b[0m\u001b[0;34m}\u001b[0m\u001b[0;34m\u001b[0m\u001b[0;34m\u001b[0m\u001b[0m\n\u001b[1;32m    139\u001b[0m         \u001b[0;32mfor\u001b[0m \u001b[0mnode\u001b[0m \u001b[0;32min\u001b[0m \u001b[0mvisible_nodes\u001b[0m\u001b[0;34m:\u001b[0m\u001b[0;34m\u001b[0m\u001b[0;34m\u001b[0m\u001b[0m\n\u001b[0;32m--> 140\u001b[0;31m             \u001b[0melknode\u001b[0m\u001b[0;34m,\u001b[0m \u001b[0mnode_ports\u001b[0m \u001b[0;34m=\u001b[0m \u001b[0;32mawait\u001b[0m \u001b[0mself\u001b[0m\u001b[0;34m.\u001b[0m\u001b[0mmake_elknode\u001b[0m\u001b[0;34m(\u001b[0m\u001b[0mnode\u001b[0m\u001b[0;34m)\u001b[0m\u001b[0;34m\u001b[0m\u001b[0;34m\u001b[0m\u001b[0m\n\u001b[0m\u001b[1;32m    141\u001b[0m             \u001b[0;32mfor\u001b[0m \u001b[0mkey\u001b[0m\u001b[0;34m,\u001b[0m \u001b[0mvalue\u001b[0m \u001b[0;32min\u001b[0m \u001b[0mnode_ports\u001b[0m\u001b[0;34m.\u001b[0m\u001b[0mitems\u001b[0m\u001b[0;34m(\u001b[0m\u001b[0;34m)\u001b[0m\u001b[0;34m:\u001b[0m\u001b[0;34m\u001b[0m\u001b[0;34m\u001b[0m\u001b[0m\n\u001b[1;32m    142\u001b[0m                 \u001b[0mports\u001b[0m\u001b[0;34m[\u001b[0m\u001b[0mkey\u001b[0m\u001b[0;34m]\u001b[0m \u001b[0;34m=\u001b[0m \u001b[0mvalue\u001b[0m\u001b[0;34m\u001b[0m\u001b[0;34m\u001b[0m\u001b[0m\n",
      "\u001b[0;32m~/Documents/ipyelk/py_src/ipyelk/nx/transformer.py\u001b[0m in \u001b[0;36mmake_elknode\u001b[0;34m(self, node)\u001b[0m\n\u001b[1;32m    200\u001b[0m         \u001b[0mnode_ports\u001b[0m \u001b[0;34m=\u001b[0m \u001b[0;32mawait\u001b[0m \u001b[0mself\u001b[0m\u001b[0;34m.\u001b[0m\u001b[0mcollect_ports\u001b[0m\u001b[0;34m(\u001b[0m\u001b[0mnode\u001b[0m\u001b[0;34m)\u001b[0m\u001b[0;34m\u001b[0m\u001b[0;34m\u001b[0m\u001b[0m\n\u001b[1;32m    201\u001b[0m \u001b[0;34m\u001b[0m\u001b[0m\n\u001b[0;32m--> 202\u001b[0;31m         \u001b[0mproperties\u001b[0m \u001b[0;34m=\u001b[0m \u001b[0mself\u001b[0m\u001b[0;34m.\u001b[0m\u001b[0mget_properties\u001b[0m\u001b[0;34m(\u001b[0m\u001b[0mnode\u001b[0m\u001b[0;34m,\u001b[0m \u001b[0mself\u001b[0m\u001b[0;34m.\u001b[0m\u001b[0mget_css\u001b[0m\u001b[0;34m(\u001b[0m\u001b[0mnode\u001b[0m\u001b[0;34m,\u001b[0m \u001b[0mElkNode\u001b[0m\u001b[0;34m)\u001b[0m\u001b[0;34m)\u001b[0m \u001b[0;32mor\u001b[0m \u001b[0;32mNone\u001b[0m\u001b[0;34m\u001b[0m\u001b[0;34m\u001b[0m\u001b[0m\n\u001b[0m\u001b[1;32m    203\u001b[0m \u001b[0;34m\u001b[0m\u001b[0m\n\u001b[1;32m    204\u001b[0m         elk_node = ElkNode(\n",
      "\u001b[0;32m~/Documents/ipyelk/py_src/ipyelk/nx/transformer.py\u001b[0m in \u001b[0;36mget_properties\u001b[0;34m(self, element, dom_classes)\u001b[0m\n\u001b[1;32m    261\u001b[0m                     \u001b[0mproperties\u001b[0m \u001b[0;34m+=\u001b[0m \u001b[0;34m[\u001b[0m\u001b[0mg_props\u001b[0m\u001b[0;34m]\u001b[0m\u001b[0;34m\u001b[0m\u001b[0;34m\u001b[0m\u001b[0m\n\u001b[1;32m    262\u001b[0m         \u001b[0;32melif\u001b[0m \u001b[0mhasattr\u001b[0m\u001b[0;34m(\u001b[0m\u001b[0melement\u001b[0m\u001b[0;34m,\u001b[0m \u001b[0;34m\"data\"\u001b[0m\u001b[0;34m)\u001b[0m\u001b[0;34m:\u001b[0m\u001b[0;34m\u001b[0m\u001b[0;34m\u001b[0m\u001b[0m\n\u001b[0;32m--> 263\u001b[0;31m             \u001b[0mproperties\u001b[0m \u001b[0;34m+=\u001b[0m \u001b[0;34m[\u001b[0m\u001b[0melement\u001b[0m\u001b[0;34m.\u001b[0m\u001b[0mdata\u001b[0m\u001b[0;34m.\u001b[0m\u001b[0mget\u001b[0m\u001b[0;34m(\u001b[0m\u001b[0;34m\"properties\"\u001b[0m\u001b[0;34m,\u001b[0m \u001b[0;34m{\u001b[0m\u001b[0;34m}\u001b[0m\u001b[0;34m)\u001b[0m\u001b[0;34m]\u001b[0m\u001b[0;34m\u001b[0m\u001b[0;34m\u001b[0m\u001b[0m\n\u001b[0m\u001b[1;32m    264\u001b[0m         \u001b[0;32melif\u001b[0m \u001b[0misinstance\u001b[0m\u001b[0;34m(\u001b[0m\u001b[0melement\u001b[0m\u001b[0;34m,\u001b[0m \u001b[0mdict\u001b[0m\u001b[0;34m)\u001b[0m\u001b[0;34m:\u001b[0m\u001b[0;34m\u001b[0m\u001b[0;34m\u001b[0m\u001b[0m\n\u001b[1;32m    265\u001b[0m             \u001b[0mproperties\u001b[0m \u001b[0;34m+=\u001b[0m \u001b[0;34m[\u001b[0m\u001b[0melement\u001b[0m\u001b[0;34m.\u001b[0m\u001b[0mget\u001b[0m\u001b[0;34m(\u001b[0m\u001b[0;34m\"properties\"\u001b[0m\u001b[0;34m,\u001b[0m \u001b[0;34m{\u001b[0m\u001b[0;34m}\u001b[0m\u001b[0;34m)\u001b[0m\u001b[0;34m]\u001b[0m\u001b[0;34m\u001b[0m\u001b[0;34m\u001b[0m\u001b[0m\n",
      "\u001b[0;31mAttributeError\u001b[0m: 'Port' object has no attribute 'get'"
     ]
    }
   ],
   "source": [
    "await app.transformer._refresh()"
   ]
  },
  {
   "cell_type": "code",
   "execution_count": 161,
   "metadata": {},
   "outputs": [
    {
     "name": "stdout",
     "output_type": "stream",
     "text": [
      "> \u001b[0;32m/home/dfreeman6/Documents/ipyelk/py_src/ipyelk/nx/transformer.py\u001b[0m(263)\u001b[0;36mget_properties\u001b[0;34m()\u001b[0m\n",
      "\u001b[0;32m    261 \u001b[0;31m                    \u001b[0mproperties\u001b[0m \u001b[0;34m+=\u001b[0m \u001b[0;34m[\u001b[0m\u001b[0mg_props\u001b[0m\u001b[0;34m]\u001b[0m\u001b[0;34m\u001b[0m\u001b[0;34m\u001b[0m\u001b[0m\n",
      "\u001b[0m\u001b[0;32m    262 \u001b[0;31m        \u001b[0;32melif\u001b[0m \u001b[0mhasattr\u001b[0m\u001b[0;34m(\u001b[0m\u001b[0melement\u001b[0m\u001b[0;34m,\u001b[0m \u001b[0;34m\"data\"\u001b[0m\u001b[0;34m)\u001b[0m\u001b[0;34m:\u001b[0m\u001b[0;34m\u001b[0m\u001b[0;34m\u001b[0m\u001b[0m\n",
      "\u001b[0m\u001b[0;32m--> 263 \u001b[0;31m            \u001b[0mproperties\u001b[0m \u001b[0;34m+=\u001b[0m \u001b[0;34m[\u001b[0m\u001b[0melement\u001b[0m\u001b[0;34m.\u001b[0m\u001b[0mdata\u001b[0m\u001b[0;34m.\u001b[0m\u001b[0mget\u001b[0m\u001b[0;34m(\u001b[0m\u001b[0;34m\"properties\"\u001b[0m\u001b[0;34m,\u001b[0m \u001b[0;34m{\u001b[0m\u001b[0;34m}\u001b[0m\u001b[0;34m)\u001b[0m\u001b[0;34m]\u001b[0m\u001b[0;34m\u001b[0m\u001b[0;34m\u001b[0m\u001b[0m\n",
      "\u001b[0m\u001b[0;32m    264 \u001b[0;31m        \u001b[0;32melif\u001b[0m \u001b[0misinstance\u001b[0m\u001b[0;34m(\u001b[0m\u001b[0melement\u001b[0m\u001b[0;34m,\u001b[0m \u001b[0mdict\u001b[0m\u001b[0;34m)\u001b[0m\u001b[0;34m:\u001b[0m\u001b[0;34m\u001b[0m\u001b[0;34m\u001b[0m\u001b[0m\n",
      "\u001b[0m\u001b[0;32m    265 \u001b[0;31m            \u001b[0mproperties\u001b[0m \u001b[0;34m+=\u001b[0m \u001b[0;34m[\u001b[0m\u001b[0melement\u001b[0m\u001b[0;34m.\u001b[0m\u001b[0mget\u001b[0m\u001b[0;34m(\u001b[0m\u001b[0;34m\"properties\"\u001b[0m\u001b[0;34m,\u001b[0m \u001b[0;34m{\u001b[0m\u001b[0;34m}\u001b[0m\u001b[0;34m)\u001b[0m\u001b[0;34m]\u001b[0m\u001b[0;34m\u001b[0m\u001b[0;34m\u001b[0m\u001b[0m\n",
      "\u001b[0m\n"
     ]
    },
    {
     "name": "stdin",
     "output_type": "stream",
     "text": [
      "ipdb>  u\n"
     ]
    },
    {
     "name": "stdout",
     "output_type": "stream",
     "text": [
      "> \u001b[0;32m/home/dfreeman6/Documents/ipyelk/py_src/ipyelk/nx/transformer.py\u001b[0m(202)\u001b[0;36mmake_elknode\u001b[0;34m()\u001b[0m\n",
      "\u001b[0;32m    200 \u001b[0;31m        \u001b[0mnode_ports\u001b[0m \u001b[0;34m=\u001b[0m \u001b[0;32mawait\u001b[0m \u001b[0mself\u001b[0m\u001b[0;34m.\u001b[0m\u001b[0mcollect_ports\u001b[0m\u001b[0;34m(\u001b[0m\u001b[0mnode\u001b[0m\u001b[0;34m)\u001b[0m\u001b[0;34m\u001b[0m\u001b[0;34m\u001b[0m\u001b[0m\n",
      "\u001b[0m\u001b[0;32m    201 \u001b[0;31m\u001b[0;34m\u001b[0m\u001b[0m\n",
      "\u001b[0m\u001b[0;32m--> 202 \u001b[0;31m        \u001b[0mproperties\u001b[0m \u001b[0;34m=\u001b[0m \u001b[0mself\u001b[0m\u001b[0;34m.\u001b[0m\u001b[0mget_properties\u001b[0m\u001b[0;34m(\u001b[0m\u001b[0mnode\u001b[0m\u001b[0;34m,\u001b[0m \u001b[0mself\u001b[0m\u001b[0;34m.\u001b[0m\u001b[0mget_css\u001b[0m\u001b[0;34m(\u001b[0m\u001b[0mnode\u001b[0m\u001b[0;34m,\u001b[0m \u001b[0mElkNode\u001b[0m\u001b[0;34m)\u001b[0m\u001b[0;34m)\u001b[0m \u001b[0;32mor\u001b[0m \u001b[0;32mNone\u001b[0m\u001b[0;34m\u001b[0m\u001b[0;34m\u001b[0m\u001b[0m\n",
      "\u001b[0m\u001b[0;32m    203 \u001b[0;31m\u001b[0;34m\u001b[0m\u001b[0m\n",
      "\u001b[0m\u001b[0;32m    204 \u001b[0;31m        elk_node = ElkNode(\n",
      "\u001b[0m\n"
     ]
    },
    {
     "name": "stdin",
     "output_type": "stream",
     "text": [
      "ipdb>  node\n"
     ]
    },
    {
     "name": "stdout",
     "output_type": "stream",
     "text": [
      "Node(labels=[], _ports={'a': Port(labels=[], _parent=...), 'data': Port(labels=[], _parent=...)})\n"
     ]
    },
    {
     "name": "stdin",
     "output_type": "stream",
     "text": [
      "ipdb>  type(Node)\n"
     ]
    },
    {
     "name": "stdout",
     "output_type": "stream",
     "text": [
      "*** NameError: name 'Node' is not defined\n"
     ]
    },
    {
     "name": "stdin",
     "output_type": "stream",
     "text": [
      "ipdb>  type(node)\n"
     ]
    },
    {
     "name": "stdout",
     "output_type": "stream",
     "text": [
      "<class '__main__.Node'>\n"
     ]
    },
    {
     "name": "stdin",
     "output_type": "stream",
     "text": [
      "ipdb>  u\n"
     ]
    },
    {
     "name": "stdout",
     "output_type": "stream",
     "text": [
      "> \u001b[0;32m/home/dfreeman6/Documents/ipyelk/py_src/ipyelk/nx/transformer.py\u001b[0m(140)\u001b[0;36mtransform\u001b[0;34m()\u001b[0m\n",
      "\u001b[0;32m    138 \u001b[0;31m        \u001b[0mports\u001b[0m\u001b[0;34m:\u001b[0m \u001b[0mPortMap\u001b[0m \u001b[0;34m=\u001b[0m \u001b[0;34m{\u001b[0m\u001b[0;34m}\u001b[0m\u001b[0;34m\u001b[0m\u001b[0;34m\u001b[0m\u001b[0m\n",
      "\u001b[0m\u001b[0;32m    139 \u001b[0;31m        \u001b[0;32mfor\u001b[0m \u001b[0mnode\u001b[0m \u001b[0;32min\u001b[0m \u001b[0mvisible_nodes\u001b[0m\u001b[0;34m:\u001b[0m\u001b[0;34m\u001b[0m\u001b[0;34m\u001b[0m\u001b[0m\n",
      "\u001b[0m\u001b[0;32m--> 140 \u001b[0;31m            \u001b[0melknode\u001b[0m\u001b[0;34m,\u001b[0m \u001b[0mnode_ports\u001b[0m \u001b[0;34m=\u001b[0m \u001b[0;32mawait\u001b[0m \u001b[0mself\u001b[0m\u001b[0;34m.\u001b[0m\u001b[0mmake_elknode\u001b[0m\u001b[0;34m(\u001b[0m\u001b[0mnode\u001b[0m\u001b[0;34m)\u001b[0m\u001b[0;34m\u001b[0m\u001b[0;34m\u001b[0m\u001b[0m\n",
      "\u001b[0m\u001b[0;32m    141 \u001b[0;31m            \u001b[0;32mfor\u001b[0m \u001b[0mkey\u001b[0m\u001b[0;34m,\u001b[0m \u001b[0mvalue\u001b[0m \u001b[0;32min\u001b[0m \u001b[0mnode_ports\u001b[0m\u001b[0;34m.\u001b[0m\u001b[0mitems\u001b[0m\u001b[0;34m(\u001b[0m\u001b[0;34m)\u001b[0m\u001b[0;34m:\u001b[0m\u001b[0;34m\u001b[0m\u001b[0;34m\u001b[0m\u001b[0m\n",
      "\u001b[0m\u001b[0;32m    142 \u001b[0;31m                \u001b[0mports\u001b[0m\u001b[0;34m[\u001b[0m\u001b[0mkey\u001b[0m\u001b[0;34m]\u001b[0m \u001b[0;34m=\u001b[0m \u001b[0mvalue\u001b[0m\u001b[0;34m\u001b[0m\u001b[0;34m\u001b[0m\u001b[0m\n",
      "\u001b[0m\n"
     ]
    },
    {
     "name": "stdin",
     "output_type": "stream",
     "text": [
      "ipdb>  visible_nodes\n"
     ]
    },
    {
     "name": "stdout",
     "output_type": "stream",
     "text": [
      "[Node(labels=[], _ports={'a': Port(labels=[], _parent=...), 'data': Port(labels=[], _parent=...)}), Node(labels=[Label(labels=[], text='hello')], _ports={})]\n"
     ]
    },
    {
     "name": "stdin",
     "output_type": "stream",
     "text": [
      "ipdb>  u\n"
     ]
    },
    {
     "name": "stdout",
     "output_type": "stream",
     "text": [
      "> \u001b[0;32m/home/dfreeman6/Documents/ipyelk/py_src/ipyelk/transform.py\u001b[0m(78)\u001b[0;36m_refresh\u001b[0;34m()\u001b[0m\n",
      "\u001b[0;32m     76 \u001b[0;31m\u001b[0;34m\u001b[0m\u001b[0m\n",
      "\u001b[0m\u001b[0;32m     77 \u001b[0;31m    \u001b[0;32masync\u001b[0m \u001b[0;32mdef\u001b[0m \u001b[0m_refresh\u001b[0m\u001b[0;34m(\u001b[0m\u001b[0mself\u001b[0m\u001b[0;34m)\u001b[0m\u001b[0;34m:\u001b[0m\u001b[0;34m\u001b[0m\u001b[0;34m\u001b[0m\u001b[0m\n",
      "\u001b[0m\u001b[0;32m---> 78 \u001b[0;31m        \u001b[0mroot_node\u001b[0m \u001b[0;34m=\u001b[0m \u001b[0;32mawait\u001b[0m \u001b[0mself\u001b[0m\u001b[0;34m.\u001b[0m\u001b[0mtransform\u001b[0m\u001b[0;34m(\u001b[0m\u001b[0;34m)\u001b[0m\u001b[0;34m\u001b[0m\u001b[0;34m\u001b[0m\u001b[0m\n",
      "\u001b[0m\u001b[0;32m     79 \u001b[0;31m        \u001b[0mvalue\u001b[0m \u001b[0;34m=\u001b[0m \u001b[0mroot_node\u001b[0m\u001b[0;34m.\u001b[0m\u001b[0mto_dict\u001b[0m\u001b[0;34m(\u001b[0m\u001b[0;34m)\u001b[0m\u001b[0;34m\u001b[0m\u001b[0;34m\u001b[0m\u001b[0m\n",
      "\u001b[0m\u001b[0;32m     80 \u001b[0;31m\u001b[0;34m\u001b[0m\u001b[0m\n",
      "\u001b[0m\n"
     ]
    },
    {
     "name": "stdin",
     "output_type": "stream",
     "text": [
      "ipdb>  d\n"
     ]
    },
    {
     "name": "stdout",
     "output_type": "stream",
     "text": [
      "> \u001b[0;32m/home/dfreeman6/Documents/ipyelk/py_src/ipyelk/nx/transformer.py\u001b[0m(140)\u001b[0;36mtransform\u001b[0;34m()\u001b[0m\n",
      "\u001b[0;32m    138 \u001b[0;31m        \u001b[0mports\u001b[0m\u001b[0;34m:\u001b[0m \u001b[0mPortMap\u001b[0m \u001b[0;34m=\u001b[0m \u001b[0;34m{\u001b[0m\u001b[0;34m}\u001b[0m\u001b[0;34m\u001b[0m\u001b[0;34m\u001b[0m\u001b[0m\n",
      "\u001b[0m\u001b[0;32m    139 \u001b[0;31m        \u001b[0;32mfor\u001b[0m \u001b[0mnode\u001b[0m \u001b[0;32min\u001b[0m \u001b[0mvisible_nodes\u001b[0m\u001b[0;34m:\u001b[0m\u001b[0;34m\u001b[0m\u001b[0;34m\u001b[0m\u001b[0m\n",
      "\u001b[0m\u001b[0;32m--> 140 \u001b[0;31m            \u001b[0melknode\u001b[0m\u001b[0;34m,\u001b[0m \u001b[0mnode_ports\u001b[0m \u001b[0;34m=\u001b[0m \u001b[0;32mawait\u001b[0m \u001b[0mself\u001b[0m\u001b[0;34m.\u001b[0m\u001b[0mmake_elknode\u001b[0m\u001b[0;34m(\u001b[0m\u001b[0mnode\u001b[0m\u001b[0;34m)\u001b[0m\u001b[0;34m\u001b[0m\u001b[0;34m\u001b[0m\u001b[0m\n",
      "\u001b[0m\u001b[0;32m    141 \u001b[0;31m            \u001b[0;32mfor\u001b[0m \u001b[0mkey\u001b[0m\u001b[0;34m,\u001b[0m \u001b[0mvalue\u001b[0m \u001b[0;32min\u001b[0m \u001b[0mnode_ports\u001b[0m\u001b[0;34m.\u001b[0m\u001b[0mitems\u001b[0m\u001b[0;34m(\u001b[0m\u001b[0;34m)\u001b[0m\u001b[0;34m:\u001b[0m\u001b[0;34m\u001b[0m\u001b[0;34m\u001b[0m\u001b[0m\n",
      "\u001b[0m\u001b[0;32m    142 \u001b[0;31m                \u001b[0mports\u001b[0m\u001b[0;34m[\u001b[0m\u001b[0mkey\u001b[0m\u001b[0;34m]\u001b[0m \u001b[0;34m=\u001b[0m \u001b[0mvalue\u001b[0m\u001b[0;34m\u001b[0m\u001b[0;34m\u001b[0m\u001b[0m\n",
      "\u001b[0m\n"
     ]
    },
    {
     "name": "stdin",
     "output_type": "stream",
     "text": [
      "ipdb>  ll\n"
     ]
    },
    {
     "name": "stdout",
     "output_type": "stream",
     "text": [
      "\u001b[1;32m    121 \u001b[0m    \u001b[0;32masync\u001b[0m \u001b[0;32mdef\u001b[0m \u001b[0mtransform\u001b[0m\u001b[0;34m(\u001b[0m\u001b[0mself\u001b[0m\u001b[0;34m)\u001b[0m \u001b[0;34m->\u001b[0m \u001b[0mElkNode\u001b[0m\u001b[0;34m:\u001b[0m\u001b[0;34m\u001b[0m\u001b[0;34m\u001b[0m\u001b[0m\n",
      "\u001b[1;32m    122 \u001b[0m        \"\"\"Generate ELK dictionary structure\n",
      "\u001b[1;32m    123 \u001b[0m        \u001b[0;34m:\u001b[0m\u001b[0;32mreturn\u001b[0m\u001b[0;34m:\u001b[0m \u001b[0mRoot\u001b[0m \u001b[0mElk\u001b[0m \u001b[0mnode\u001b[0m\u001b[0;34m\u001b[0m\u001b[0;34m\u001b[0m\u001b[0m\n",
      "\u001b[1;32m    124 \u001b[0m        \u001b[0;34m:\u001b[0m\u001b[0mrtype\u001b[0m\u001b[0;34m:\u001b[0m \u001b[0mElkNode\u001b[0m\u001b[0;34m\u001b[0m\u001b[0;34m\u001b[0m\u001b[0m\n",
      "\u001b[1;32m    125 \u001b[0m        \"\"\"\n",
      "\u001b[1;32m    126 \u001b[0m        \u001b[0;31m# TODO decide behavior for nodes that exist in the tree but not g\u001b[0m\u001b[0;34m\u001b[0m\u001b[0;34m\u001b[0m\u001b[0;34m\u001b[0m\u001b[0m\n",
      "\u001b[1;32m    127 \u001b[0m        \u001b[0mg\u001b[0m\u001b[0;34m,\u001b[0m \u001b[0mtree\u001b[0m \u001b[0;34m=\u001b[0m \u001b[0mself\u001b[0m\u001b[0;34m.\u001b[0m\u001b[0msource\u001b[0m\u001b[0;34m\u001b[0m\u001b[0;34m\u001b[0m\u001b[0m\n",
      "\u001b[1;32m    128 \u001b[0m        \u001b[0mself\u001b[0m\u001b[0;34m.\u001b[0m\u001b[0mclear_registry\u001b[0m\u001b[0;34m(\u001b[0m\u001b[0;34m)\u001b[0m\u001b[0;34m\u001b[0m\u001b[0;34m\u001b[0m\u001b[0m\n",
      "\u001b[1;32m    129 \u001b[0m        \u001b[0mvisible_edges\u001b[0m\u001b[0;34m,\u001b[0m \u001b[0mhidden_edges\u001b[0m \u001b[0;34m=\u001b[0m \u001b[0mself\u001b[0m\u001b[0;34m.\u001b[0m\u001b[0mcollect_edges\u001b[0m\u001b[0;34m(\u001b[0m\u001b[0;34m)\u001b[0m\u001b[0;34m\u001b[0m\u001b[0;34m\u001b[0m\u001b[0m\n",
      "\u001b[1;32m    130 \u001b[0m\u001b[0;34m\u001b[0m\u001b[0m\n",
      "\u001b[1;32m    131 \u001b[0m        \u001b[0;31m# Process visible networkx nodes into elknodes\u001b[0m\u001b[0;34m\u001b[0m\u001b[0;34m\u001b[0m\u001b[0;34m\u001b[0m\u001b[0m\n",
      "\u001b[1;32m    132 \u001b[0m        visible_nodes = [\n",
      "\u001b[1;32m    133 \u001b[0m            \u001b[0mn\u001b[0m \u001b[0;32mfor\u001b[0m \u001b[0mn\u001b[0m \u001b[0;32min\u001b[0m \u001b[0mg\u001b[0m\u001b[0;34m.\u001b[0m\u001b[0mnodes\u001b[0m\u001b[0;34m(\u001b[0m\u001b[0;34m)\u001b[0m \u001b[0;32mif\u001b[0m \u001b[0;32mnot\u001b[0m \u001b[0mis_hidden\u001b[0m\u001b[0;34m(\u001b[0m\u001b[0mtree\u001b[0m\u001b[0;34m,\u001b[0m \u001b[0mn\u001b[0m\u001b[0;34m,\u001b[0m \u001b[0mself\u001b[0m\u001b[0;34m.\u001b[0m\u001b[0mHIDDEN_ATTR\u001b[0m\u001b[0;34m)\u001b[0m\u001b[0;34m\u001b[0m\u001b[0;34m\u001b[0m\u001b[0m\n",
      "\u001b[1;32m    134 \u001b[0m        ]\n",
      "\u001b[1;32m    135 \u001b[0m\u001b[0;34m\u001b[0m\u001b[0m\n",
      "\u001b[1;32m    136 \u001b[0m        \u001b[0;31m# make elknodes then connect their hierarchy\u001b[0m\u001b[0;34m\u001b[0m\u001b[0;34m\u001b[0m\u001b[0;34m\u001b[0m\u001b[0m\n",
      "\u001b[1;32m    137 \u001b[0m        \u001b[0melknodes\u001b[0m\u001b[0;34m:\u001b[0m \u001b[0mNodeMap\u001b[0m \u001b[0;34m=\u001b[0m \u001b[0;34m{\u001b[0m\u001b[0;34m}\u001b[0m\u001b[0;34m\u001b[0m\u001b[0;34m\u001b[0m\u001b[0m\n",
      "\u001b[1;32m    138 \u001b[0m        \u001b[0mports\u001b[0m\u001b[0;34m:\u001b[0m \u001b[0mPortMap\u001b[0m \u001b[0;34m=\u001b[0m \u001b[0;34m{\u001b[0m\u001b[0;34m}\u001b[0m\u001b[0;34m\u001b[0m\u001b[0;34m\u001b[0m\u001b[0m\n",
      "\u001b[1;32m    139 \u001b[0m        \u001b[0;32mfor\u001b[0m \u001b[0mnode\u001b[0m \u001b[0;32min\u001b[0m \u001b[0mvisible_nodes\u001b[0m\u001b[0;34m:\u001b[0m\u001b[0;34m\u001b[0m\u001b[0;34m\u001b[0m\u001b[0m\n",
      "\u001b[0;32m--> 140 \u001b[0;31m            \u001b[0melknode\u001b[0m\u001b[0;34m,\u001b[0m \u001b[0mnode_ports\u001b[0m \u001b[0;34m=\u001b[0m \u001b[0;32mawait\u001b[0m \u001b[0mself\u001b[0m\u001b[0;34m.\u001b[0m\u001b[0mmake_elknode\u001b[0m\u001b[0;34m(\u001b[0m\u001b[0mnode\u001b[0m\u001b[0;34m)\u001b[0m\u001b[0;34m\u001b[0m\u001b[0;34m\u001b[0m\u001b[0m\n",
      "\u001b[0m\u001b[1;32m    141 \u001b[0m            \u001b[0;32mfor\u001b[0m \u001b[0mkey\u001b[0m\u001b[0;34m,\u001b[0m \u001b[0mvalue\u001b[0m \u001b[0;32min\u001b[0m \u001b[0mnode_ports\u001b[0m\u001b[0;34m.\u001b[0m\u001b[0mitems\u001b[0m\u001b[0;34m(\u001b[0m\u001b[0;34m)\u001b[0m\u001b[0;34m:\u001b[0m\u001b[0;34m\u001b[0m\u001b[0;34m\u001b[0m\u001b[0m\n",
      "\u001b[1;32m    142 \u001b[0m                \u001b[0mports\u001b[0m\u001b[0;34m[\u001b[0m\u001b[0mkey\u001b[0m\u001b[0;34m]\u001b[0m \u001b[0;34m=\u001b[0m \u001b[0mvalue\u001b[0m\u001b[0;34m\u001b[0m\u001b[0;34m\u001b[0m\u001b[0m\n",
      "\u001b[1;32m    143 \u001b[0m            \u001b[0melknodes\u001b[0m\u001b[0;34m[\u001b[0m\u001b[0mnode\u001b[0m\u001b[0;34m]\u001b[0m \u001b[0;34m=\u001b[0m \u001b[0melknode\u001b[0m\u001b[0;34m\u001b[0m\u001b[0;34m\u001b[0m\u001b[0m\n",
      "\u001b[1;32m    144 \u001b[0m\u001b[0;34m\u001b[0m\u001b[0m\n",
      "\u001b[1;32m    145 \u001b[0m        \u001b[0;31m# make top level ElkNode and attach all others as children\u001b[0m\u001b[0;34m\u001b[0m\u001b[0;34m\u001b[0m\u001b[0;34m\u001b[0m\u001b[0m\n",
      "\u001b[1;32m    146 \u001b[0m        elknodes[ElkRoot] = top = ElkNode(\n",
      "\u001b[1;32m    147 \u001b[0m            \u001b[0mid\u001b[0m\u001b[0;34m=\u001b[0m\u001b[0mself\u001b[0m\u001b[0;34m.\u001b[0m\u001b[0mELK_ROOT_ID\u001b[0m\u001b[0;34m,\u001b[0m\u001b[0;34m\u001b[0m\u001b[0;34m\u001b[0m\u001b[0m\n",
      "\u001b[1;32m    148 \u001b[0m            \u001b[0mchildren\u001b[0m\u001b[0;34m=\u001b[0m\u001b[0mbuild_hierarchy\u001b[0m\u001b[0;34m(\u001b[0m\u001b[0mg\u001b[0m\u001b[0;34m,\u001b[0m \u001b[0mtree\u001b[0m\u001b[0;34m,\u001b[0m \u001b[0melknodes\u001b[0m\u001b[0;34m,\u001b[0m \u001b[0mself\u001b[0m\u001b[0;34m.\u001b[0m\u001b[0mHIDDEN_ATTR\u001b[0m\u001b[0;34m)\u001b[0m\u001b[0;34m,\u001b[0m\u001b[0;34m\u001b[0m\u001b[0;34m\u001b[0m\u001b[0m\n",
      "\u001b[1;32m    149 \u001b[0m            \u001b[0mlayoutOptions\u001b[0m\u001b[0;34m=\u001b[0m\u001b[0mself\u001b[0m\u001b[0;34m.\u001b[0m\u001b[0mget_layout\u001b[0m\u001b[0;34m(\u001b[0m\u001b[0mElkRoot\u001b[0m\u001b[0;34m,\u001b[0m \u001b[0;34m\"parents\"\u001b[0m\u001b[0;34m)\u001b[0m\u001b[0;34m,\u001b[0m\u001b[0;34m\u001b[0m\u001b[0;34m\u001b[0m\u001b[0m\n",
      "\u001b[1;32m    150 \u001b[0m        )\n",
      "\u001b[1;32m    151 \u001b[0m\u001b[0;34m\u001b[0m\u001b[0m\n",
      "\u001b[1;32m    152 \u001b[0m        \u001b[0;31m# map of original nodes to the generated elknodes\u001b[0m\u001b[0;34m\u001b[0m\u001b[0;34m\u001b[0m\u001b[0;34m\u001b[0m\u001b[0m\n",
      "\u001b[1;32m    153 \u001b[0m        \u001b[0;32mfor\u001b[0m \u001b[0mnode\u001b[0m\u001b[0;34m,\u001b[0m \u001b[0melk_node\u001b[0m \u001b[0;32min\u001b[0m \u001b[0melknodes\u001b[0m\u001b[0;34m.\u001b[0m\u001b[0mitems\u001b[0m\u001b[0;34m(\u001b[0m\u001b[0;34m)\u001b[0m\u001b[0;34m:\u001b[0m\u001b[0;34m\u001b[0m\u001b[0;34m\u001b[0m\u001b[0m\n",
      "\u001b[1;32m    154 \u001b[0m            \u001b[0mself\u001b[0m\u001b[0;34m.\u001b[0m\u001b[0mregister\u001b[0m\u001b[0;34m(\u001b[0m\u001b[0melk_node\u001b[0m\u001b[0;34m,\u001b[0m \u001b[0mnode\u001b[0m\u001b[0;34m)\u001b[0m\u001b[0;34m\u001b[0m\u001b[0;34m\u001b[0m\u001b[0m\n",
      "\u001b[1;32m    155 \u001b[0m\u001b[0;34m\u001b[0m\u001b[0m\n",
      "\u001b[1;32m    156 \u001b[0m        \u001b[0melknodes\u001b[0m\u001b[0;34m,\u001b[0m \u001b[0mports\u001b[0m \u001b[0;34m=\u001b[0m \u001b[0;32mawait\u001b[0m \u001b[0mself\u001b[0m\u001b[0;34m.\u001b[0m\u001b[0mprocess_edges\u001b[0m\u001b[0;34m(\u001b[0m\u001b[0melknodes\u001b[0m\u001b[0;34m,\u001b[0m \u001b[0mports\u001b[0m\u001b[0;34m,\u001b[0m \u001b[0mvisible_edges\u001b[0m\u001b[0;34m)\u001b[0m\u001b[0;34m\u001b[0m\u001b[0;34m\u001b[0m\u001b[0m\n",
      "\u001b[1;32m    157 \u001b[0m        \u001b[0;31m# process edges with one or both original endpoints are hidden\u001b[0m\u001b[0;34m\u001b[0m\u001b[0;34m\u001b[0m\u001b[0;34m\u001b[0m\u001b[0m\n",
      "\u001b[1;32m    158 \u001b[0m        \u001b[0;32mif\u001b[0m \u001b[0mself\u001b[0m\u001b[0;34m.\u001b[0m\u001b[0mhoist_hidden_edges\u001b[0m\u001b[0;34m:\u001b[0m\u001b[0;34m\u001b[0m\u001b[0;34m\u001b[0m\u001b[0m\n",
      "\u001b[1;32m    159 \u001b[0m            elknodes, ports = await self.process_edges(\n",
      "\u001b[1;32m    160 \u001b[0m                \u001b[0melknodes\u001b[0m\u001b[0;34m,\u001b[0m\u001b[0;34m\u001b[0m\u001b[0;34m\u001b[0m\u001b[0m\n",
      "\u001b[1;32m    161 \u001b[0m                \u001b[0mports\u001b[0m\u001b[0;34m,\u001b[0m\u001b[0;34m\u001b[0m\u001b[0;34m\u001b[0m\u001b[0m\n",
      "\u001b[1;32m    162 \u001b[0m                \u001b[0mhidden_edges\u001b[0m\u001b[0;34m,\u001b[0m\u001b[0;34m\u001b[0m\u001b[0;34m\u001b[0m\u001b[0m\n",
      "\u001b[1;32m    163 \u001b[0m                \u001b[0medge_style\u001b[0m\u001b[0;34m=\u001b[0m\u001b[0;34m{\u001b[0m\u001b[0;34m\"slack-edge\"\u001b[0m\u001b[0;34m}\u001b[0m\u001b[0;34m,\u001b[0m\u001b[0;34m\u001b[0m\u001b[0;34m\u001b[0m\u001b[0m\n",
      "\u001b[1;32m    164 \u001b[0m                \u001b[0mport_style\u001b[0m\u001b[0;34m=\u001b[0m\u001b[0;34m{\u001b[0m\u001b[0;34m\"slack-port\"\u001b[0m\u001b[0;34m}\u001b[0m\u001b[0;34m,\u001b[0m\u001b[0;34m\u001b[0m\u001b[0;34m\u001b[0m\u001b[0m\n",
      "\u001b[1;32m    165 \u001b[0m            )\n",
      "\u001b[1;32m    166 \u001b[0m\u001b[0;34m\u001b[0m\u001b[0m\n",
      "\u001b[1;32m    167 \u001b[0m        \u001b[0;31m# iterate through the port map and add ports to ElkNodes\u001b[0m\u001b[0;34m\u001b[0m\u001b[0;34m\u001b[0m\u001b[0;34m\u001b[0m\u001b[0m\n",
      "\u001b[1;32m    168 \u001b[0m        \u001b[0;32mfor\u001b[0m \u001b[0mport_id\u001b[0m\u001b[0;34m,\u001b[0m \u001b[0mport\u001b[0m \u001b[0;32min\u001b[0m \u001b[0mports\u001b[0m\u001b[0;34m.\u001b[0m\u001b[0mitems\u001b[0m\u001b[0;34m(\u001b[0m\u001b[0;34m)\u001b[0m\u001b[0;34m:\u001b[0m\u001b[0;34m\u001b[0m\u001b[0;34m\u001b[0m\u001b[0m\n",
      "\u001b[1;32m    169 \u001b[0m            \u001b[0mowner\u001b[0m \u001b[0;34m=\u001b[0m \u001b[0mport\u001b[0m\u001b[0;34m.\u001b[0m\u001b[0mnode\u001b[0m\u001b[0;34m\u001b[0m\u001b[0;34m\u001b[0m\u001b[0m\n",
      "\u001b[1;32m    170 \u001b[0m            \u001b[0melkport\u001b[0m \u001b[0;34m=\u001b[0m \u001b[0mport\u001b[0m\u001b[0;34m.\u001b[0m\u001b[0melkport\u001b[0m\u001b[0;34m\u001b[0m\u001b[0;34m\u001b[0m\u001b[0m\n",
      "\u001b[1;32m    171 \u001b[0m            \u001b[0;32mif\u001b[0m \u001b[0mowner\u001b[0m \u001b[0;32mnot\u001b[0m \u001b[0;32min\u001b[0m \u001b[0melknodes\u001b[0m\u001b[0;34m:\u001b[0m\u001b[0;34m\u001b[0m\u001b[0;34m\u001b[0m\u001b[0m\n",
      "\u001b[1;32m    172 \u001b[0m                \u001b[0;31m# TODO skip generating port to begin with\u001b[0m\u001b[0;34m\u001b[0m\u001b[0;34m\u001b[0m\u001b[0;34m\u001b[0m\u001b[0m\n",
      "\u001b[1;32m    173 \u001b[0m                \u001b[0;32mbreak\u001b[0m\u001b[0;34m\u001b[0m\u001b[0;34m\u001b[0m\u001b[0m\n",
      "\u001b[1;32m    174 \u001b[0m            \u001b[0melknode\u001b[0m \u001b[0;34m=\u001b[0m \u001b[0melknodes\u001b[0m\u001b[0;34m[\u001b[0m\u001b[0mowner\u001b[0m\u001b[0;34m]\u001b[0m\u001b[0;34m\u001b[0m\u001b[0;34m\u001b[0m\u001b[0m\n",
      "\u001b[1;32m    175 \u001b[0m            \u001b[0;32mif\u001b[0m \u001b[0melknode\u001b[0m\u001b[0;34m.\u001b[0m\u001b[0mports\u001b[0m \u001b[0;32mis\u001b[0m \u001b[0;32mNone\u001b[0m\u001b[0;34m:\u001b[0m\u001b[0;34m\u001b[0m\u001b[0;34m\u001b[0m\u001b[0m\n",
      "\u001b[1;32m    176 \u001b[0m                \u001b[0melknode\u001b[0m\u001b[0;34m.\u001b[0m\u001b[0mports\u001b[0m \u001b[0;34m=\u001b[0m \u001b[0;34m[\u001b[0m\u001b[0;34m]\u001b[0m\u001b[0;34m\u001b[0m\u001b[0;34m\u001b[0m\u001b[0m\n",
      "\u001b[1;32m    177 \u001b[0m            \u001b[0mlayout\u001b[0m \u001b[0;34m=\u001b[0m \u001b[0mself\u001b[0m\u001b[0;34m.\u001b[0m\u001b[0mget_layout\u001b[0m\u001b[0;34m(\u001b[0m\u001b[0mowner\u001b[0m\u001b[0;34m,\u001b[0m \u001b[0mElkPort\u001b[0m\u001b[0;34m)\u001b[0m\u001b[0;34m\u001b[0m\u001b[0;34m\u001b[0m\u001b[0m\n",
      "\u001b[1;32m    178 \u001b[0m            \u001b[0melkport\u001b[0m\u001b[0;34m.\u001b[0m\u001b[0mlayoutOptions\u001b[0m \u001b[0;34m=\u001b[0m \u001b[0mmerge\u001b[0m\u001b[0;34m(\u001b[0m\u001b[0melkport\u001b[0m\u001b[0;34m.\u001b[0m\u001b[0mlayoutOptions\u001b[0m\u001b[0;34m,\u001b[0m \u001b[0mlayout\u001b[0m\u001b[0;34m)\u001b[0m\u001b[0;34m\u001b[0m\u001b[0;34m\u001b[0m\u001b[0m\n",
      "\u001b[1;32m    179 \u001b[0m            \u001b[0melknode\u001b[0m\u001b[0;34m.\u001b[0m\u001b[0mports\u001b[0m \u001b[0;34m+=\u001b[0m \u001b[0;34m[\u001b[0m\u001b[0melkport\u001b[0m\u001b[0;34m]\u001b[0m\u001b[0;34m\u001b[0m\u001b[0;34m\u001b[0m\u001b[0m\n",
      "\u001b[1;32m    180 \u001b[0m\u001b[0;34m\u001b[0m\u001b[0m\n",
      "\u001b[1;32m    181 \u001b[0m            \u001b[0;31m# map of ports to the generated elkports\u001b[0m\u001b[0;34m\u001b[0m\u001b[0;34m\u001b[0m\u001b[0;34m\u001b[0m\u001b[0m\n",
      "\u001b[1;32m    182 \u001b[0m            \u001b[0mself\u001b[0m\u001b[0;34m.\u001b[0m\u001b[0mregister\u001b[0m\u001b[0;34m(\u001b[0m\u001b[0melkport\u001b[0m\u001b[0;34m,\u001b[0m \u001b[0mport\u001b[0m\u001b[0;34m)\u001b[0m\u001b[0;34m\u001b[0m\u001b[0;34m\u001b[0m\u001b[0m\n",
      "\u001b[1;32m    183 \u001b[0m\u001b[0;34m\u001b[0m\u001b[0m\n",
      "\u001b[1;32m    184 \u001b[0m        \u001b[0;31m# bulk calculate label sizes\u001b[0m\u001b[0;34m\u001b[0m\u001b[0;34m\u001b[0m\u001b[0;34m\u001b[0m\u001b[0m\n",
      "\u001b[1;32m    185 \u001b[0m        \u001b[0;32mawait\u001b[0m \u001b[0msize_labels\u001b[0m\u001b[0;34m(\u001b[0m\u001b[0mself\u001b[0m\u001b[0;34m.\u001b[0m\u001b[0mtext_sizer\u001b[0m\u001b[0;34m,\u001b[0m \u001b[0mcollect_labels\u001b[0m\u001b[0;34m(\u001b[0m\u001b[0;34m[\u001b[0m\u001b[0mtop\u001b[0m\u001b[0;34m]\u001b[0m\u001b[0;34m)\u001b[0m\u001b[0;34m)\u001b[0m\u001b[0;34m\u001b[0m\u001b[0;34m\u001b[0m\u001b[0m\n",
      "\u001b[1;32m    186 \u001b[0m\u001b[0;34m\u001b[0m\u001b[0m\n",
      "\u001b[1;32m    187 \u001b[0m        \u001b[0;32mreturn\u001b[0m \u001b[0mtop\u001b[0m\u001b[0;34m\u001b[0m\u001b[0;34m\u001b[0m\u001b[0m\n",
      "\u001b[1;32m    188 \u001b[0m\u001b[0;34m\u001b[0m\u001b[0m\n",
      "\n"
     ]
    },
    {
     "name": "stdin",
     "output_type": "stream",
     "text": [
      "ipdb>  c\n"
     ]
    }
   ],
   "source": [
    "%debug"
   ]
  },
  {
   "cell_type": "code",
   "execution_count": 132,
   "metadata": {},
   "outputs": [
    {
     "name": "stdout",
     "output_type": "stream",
     "text": [
      "{'id': '9320643c-9795-499e-ade6-1c67e327c1f7', 'children': [], 'properties': {'type': 'node'}, 'labels': [], 'layoutOptions': {}, 'ports': [], 'width': 0, 'height': 0}\n"
     ]
    }
   ],
   "source": [
    "with ilk.registry:\n",
    "    print(n1.to_json())"
   ]
  },
  {
   "cell_type": "code",
   "execution_count": 122,
   "metadata": {},
   "outputs": [
    {
     "name": "stdout",
     "output_type": "stream",
     "text": [
      "{'id': 'b519b08e-8ad6-4371-bb19-b6d0ac01d349', 'sources': ['133ec525-c823-47f6-abba-d22a04802de5'], 'targets': ['77fdb214-64fc-4c1d-b143-ba8eaa28d8df'], 'properties': {}, 'layoutOptions': {}, 'labels': []}\n"
     ]
    }
   ],
   "source": [
    "with reg:\n",
    "    print(list(ilk.edges)[0].to_json())"
   ]
  },
  {
   "cell_type": "code",
   "execution_count": 11,
   "metadata": {},
   "outputs": [
    {
     "ename": "IndentationError",
     "evalue": "expected an indented block (<ipython-input-11-a99f2461d8f3>, line 14)",
     "output_type": "error",
     "traceback": [
      "\u001b[0;36m  File \u001b[0;32m\"<ipython-input-11-a99f2461d8f3>\"\u001b[0;36m, line \u001b[0;32m14\u001b[0m\n\u001b[0;31m    def source(self)->Tuple[nx.MultiDiGraph, nx.DiGraph]:\u001b[0m\n\u001b[0m    ^\u001b[0m\n\u001b[0;31mIndentationError\u001b[0m\u001b[0;31m:\u001b[0m expected an indented block\n"
     ]
    }
   ],
   "source": [
    "\n",
    "\n",
    "class Compound(symbol.Symbol):\n",
    "    \n",
    "    ids = {}\n",
    "    \n",
    "    def __init__(self):\n",
    "        \n",
    "    \n",
    "    def ids(self):\n",
    "        for node in self.nodes:\n",
    "            \n",
    "    def source(self)->Tuple[nx.MultiDiGraph, nx.DiGraph]:\n",
    "        id_map = dict()\n",
    "        g = nx.MultiDiGraph()\n",
    "        tree = nx.DiGraph()\n",
    "        # needs to maintain mapping of ids to children nodes\n",
    "        return (g, tree)\n",
    "    \n",
    "    \n"
   ]
  },
  {
   "cell_type": "markdown",
   "metadata": {},
   "source": [
    "# Experiments for Record Nodes"
   ]
  },
  {
   "cell_type": "code",
   "execution_count": null,
   "metadata": {},
   "outputs": [],
   "source": [
    "app = Elk(\n",
    "    transformer=ipyelk.nx.XELK(\n",
    "        #         layouts={\n",
    "        #             elk_model.ElkRoot: {\n",
    "        #                 \"parents\": diagram_opts,\n",
    "        #             },\n",
    "        #         },\n",
    "        #         source=(g, tree),\n",
    "    ),\n",
    "    layout={\"height\": \"100%\"},\n",
    "    style={\n",
    "        \" .hidden\": {\n",
    "            #             \"display\": \"none\",\n",
    "        }\n",
    "    },\n",
    ")\n",
    "app"
   ]
  },
  {
   "cell_type": "code",
   "execution_count": null,
   "metadata": {},
   "outputs": [],
   "source": [
    "from dataclasses import dataclass\n",
    "from typing import Dict\n",
    "\n",
    "\n",
    "@dataclass\n",
    "class Record(symbol.Symbol):\n",
    "    def get_layoutOptions(self) -> Dict:\n",
    "        return opt.OptionsWidget(\n",
    "            options=[\n",
    "                opt.HierarchyHandling(),\n",
    "                opt.Padding(left=0, right=0, bottom=0, top=0),\n",
    "                opt.NodeSpacing(spacing=0),\n",
    "                opt.EdgeNodeSpacing(spacing=0),\n",
    "                opt.AspectRatio(),\n",
    "                opt.ExpandNodes(activate=True),\n",
    "                opt.NodeLabelPlacement(horizontal=\"center\", vertical=\"center\"),\n",
    "                #         opt.NodeSizeConstraints(),\n",
    "                opt.ComponentsSpacing(spacing=0),\n",
    "                opt.NodeSpacing(spacing=0),\n",
    "            ]\n",
    "        ).value\n",
    "\n",
    "\n",
    "# .to_json()\n",
    "g = nx.Graph()\n",
    "tree = nx.DiGraph()\n",
    "r = Record()\n",
    "g.add_node(\"a\", **r.to_json(id=\"a\"))"
   ]
  },
  {
   "cell_type": "code",
   "execution_count": null,
   "metadata": {},
   "outputs": [],
   "source": [
    "g = nx.Graph()\n",
    "tree = nx.DiGraph()\n",
    "\n",
    "diagram_opts = opt.OptionsWidget(\n",
    "    options=[\n",
    "        opt.LayoutAlgorithm(),\n",
    "        opt.HierarchyHandling(),\n",
    "        #         opt.NodeSpacing(spacing=0),\n",
    "    ]\n",
    ").value\n",
    "record_layout = opt.OptionsWidget(\n",
    "    options=[\n",
    "        #         opt.LayoutAlgorithm(value=ELKRectanglePacking.identifier),\n",
    "        opt.HierarchyHandling(),\n",
    "        opt.Padding(left=0, right=0, bottom=0, top=0),\n",
    "        opt.NodeSpacing(spacing=0),\n",
    "        opt.EdgeNodeSpacing(spacing=0),\n",
    "        opt.AspectRatio(),\n",
    "        opt.ExpandNodes(activate=True),\n",
    "        opt.NodeLabelPlacement(horizontal=\"center\", vertical=\"center\"),\n",
    "        #         opt.NodeSizeConstraints(),\n",
    "        opt.ComponentsSpacing(spacing=0),\n",
    "        opt.NodeSpacing(spacing=0),\n",
    "    ]\n",
    ").value\n",
    "\n",
    "compartment_opts = opt.OptionsWidget(\n",
    "    options=[\n",
    "        opt.NodeLabelPlacement(horizontal=\"center\", vertical=\"center\"),\n",
    "        #         opt.NodeSizeConstraints(),\n",
    "        opt.NodeSpacing(spacing=0),\n",
    "    ]\n",
    ").value\n",
    "\n",
    "g.add_node(\"record\", labels=[], layoutOptions=record_layout)\n",
    "\n",
    "compartments = [\"a\", \"b\"]\n",
    "for i, c in enumerate(compartments):\n",
    "    g.add_node(\n",
    "        c, width=40, height=36, layoutOptions=compartment_opts, ports=[c + str(i)]\n",
    "    )\n",
    "    tree.add_edge(\"record\", c)\n",
    "\n",
    "# g.add_node(\"n1\")\n",
    "\n",
    "# configure app\n",
    "app = Elk(\n",
    "    transformer=ipyelk.nx.XELK(\n",
    "        layouts={\n",
    "            elk_model.ElkRoot: {\n",
    "                \"parents\": diagram_opts,\n",
    "            },\n",
    "        },\n",
    "        source=(g, tree),\n",
    "    ),\n",
    "    layout={\"height\": \"100%\"},\n",
    "    style={\n",
    "        \" .hidden\": {\n",
    "            #             \"display\": \"none\",\n",
    "        }\n",
    "    },\n",
    ")\n",
    "app"
   ]
  },
  {
   "cell_type": "code",
   "execution_count": null,
   "metadata": {},
   "outputs": [],
   "source": [
    "app.diagram.mark_layout"
   ]
  },
  {
   "cell_type": "code",
   "execution_count": null,
   "metadata": {},
   "outputs": [],
   "source": [
    "g = nx.Graph()\n",
    "tree = nx.DiGraph()\n",
    "\n",
    "record_layout = opt.OptionsWidget(\n",
    "    options=[\n",
    "        opt.LayoutAlgorithm(value=ELKRectanglePacking.identifier),\n",
    "        opt.HierarchyHandling(),\n",
    "        opt.Padding(left=0, right=0, bottom=0, top=0),\n",
    "        opt.NodeSpacing(spacing=0),\n",
    "        opt.EdgeNodeSpacing(spacing=0),\n",
    "        opt.AspectRatio(),\n",
    "        opt.ExpandNodes(activate=True),\n",
    "    ]\n",
    ").value\n",
    "\n",
    "compartment_opts = opt.OptionsWidget(\n",
    "    options=[\n",
    "        opt.NodeLabelPlacement(horizontal=\"center\", vertical=\"center\"),\n",
    "        opt.NodeSizeConstraints(),\n",
    "    ]\n",
    ").value\n",
    "\n",
    "compartments = [\"a\", \"b\"]\n",
    "for i, c in enumerate(compartments):\n",
    "    g.add_node(\n",
    "        c,\n",
    "        width=40 + 2 * i,\n",
    "        height=30,\n",
    "        layoutOptions=compartment_opts,\n",
    "        #         ports=[c + str(i)]\n",
    "    )\n",
    "\n",
    "\n",
    "# configure app\n",
    "app = Elk(\n",
    "    transformer=ipyelk.nx.XELK(\n",
    "        layouts={\n",
    "            elk_model.ElkRoot: {\n",
    "                \"parents\": record_layout,\n",
    "            },\n",
    "        },\n",
    "        source=(g, tree),\n",
    "    ),\n",
    "    layout={\"height\": \"100%\"},\n",
    "    style={\n",
    "        \" .hidden\": {\n",
    "            #             \"display\": \"none\",\n",
    "        }\n",
    "    },\n",
    ")\n",
    "app"
   ]
  }
 ],
 "metadata": {
  "kernelspec": {
   "display_name": "Python 3",
   "language": "python",
   "name": "python3"
  },
  "language_info": {
   "codemirror_mode": {
    "name": "ipython",
    "version": 3
   },
   "file_extension": ".py",
   "mimetype": "text/x-python",
   "name": "python",
   "nbconvert_exporter": "python",
   "pygments_lexer": "ipython3",
   "version": "3.7.9"
  }
 },
 "nbformat": 4,
 "nbformat_minor": 4
}
