{
 "cells": [
  {
   "cell_type": "markdown",
   "metadata": {},
   "source": [
    "# 🦌 ELK Transformer 🤖\n",
    "\n",
    "A transformer object that will convert some input source into valid Elk Json. This\n",
    "example using a transformer around a networkx graph."
   ]
  },
  {
   "cell_type": "code",
   "execution_count": 1,
   "metadata": {},
   "outputs": [],
   "source": [
    "import json\n",
    "import pathlib\n",
    "\n",
    "import ipywidgets\n",
    "import networkx\n",
    "import traitlets\n",
    "from IPython.display import JSON\n",
    "\n",
    "import ipyelk\n",
    "import ipyelk.nx\n",
    "import ipyelk.tools\n",
    "from ipyelk import Elk\n",
    "from ipyelk.diagram import layout_options\n",
    "from ipyelk.diagram.elk_model import ElkLabel, ElkNode"
   ]
  },
  {
   "cell_type": "markdown",
   "metadata": {},
   "source": [
    "# Example building a simple Networkx Graph with explicit ElkLabels\n",
    "This demonstrates passing a list of labels from the Networkx node data to the `XELK` transformer. These labels can be either a string, a dictionary with correct ElkLabel schema, or an instance of an ElkLabel.\n",
    "`layoutOptions` explicitly set on the labels take priority over those inherited."
   ]
  },
  {
   "cell_type": "code",
   "execution_count": 2,
   "metadata": {},
   "outputs": [],
   "source": [
    "typed_layout = ipyelk.nx.XELKTypedLayout()\n",
    "\n",
    "\n",
    "g = networkx.Graph()\n",
    "g.add_node(\"complex_label\", labels=[\n",
    "    \"Main Node Label\",  # will move according to typed_layout NodeLabelPlacement\n",
    "    ElkLabel(\n",
    "        id=\"node_type_label\",\n",
    "        text=\"«Type»\",\n",
    "        properties={\n",
    "            \"cssClasses\":\"node_type_label\",\n",
    "        }\n",
    "    ),\n",
    "    ElkLabel(\n",
    "        id=\"value_label\",\n",
    "        text=\"Value: ☠️\",\n",
    "        layoutOptions=layout_options.OptionsWidget(\n",
    "            options=[\n",
    "                layout_options.NodeLabelPlacement(vertical=\"bottom\", horizontal=\"left\"),\n",
    "            ]\n",
    "        ).value\n",
    "    ),\n",
    "    dict(\n",
    "        id=\"new_value_label\",\n",
    "        text=\"New Value: 👻\",\n",
    "        layoutOptions=layout_options.OptionsWidget(\n",
    "            options=[\n",
    "                layout_options.NodeLabelPlacement(vertical=\"bottom\", horizontal=\"right\"),\n",
    "            ]\n",
    "        ).value\n",
    "    ),    \n",
    "])"
   ]
  },
  {
   "cell_type": "code",
   "execution_count": 3,
   "metadata": {},
   "outputs": [
    {
     "data": {
      "application/vnd.jupyter.widget-view+json": {
       "model_id": "23e733182d6649b999767c5e68475709",
       "version_major": 2,
       "version_minor": 0
      },
      "text/plain": [
       "Elk(children=[HTML(value='<style>.styled-widget-140142769613904 text.elklabel.node_type_label{font-style: ital…"
      ]
     },
     "metadata": {},
     "output_type": "display_data"
    }
   ],
   "source": [
    "elk = Elk(\n",
    "    transformer=ipyelk.nx.XELK(\n",
    "        source=(g, None), label_key=\"labels\",\n",
    "        layouts=typed_layout.value,\n",
    "    ),\n",
    "    style={\n",
    "        \" text.elklabel.node_type_label\":{\n",
    "            \"font-style\": \"italic\",\n",
    "        }\n",
    "    }\n",
    ")\n",
    "\n",
    "def _element_type_opt_change(change):\n",
    "    elk.transformer.layouts = typed_layout.value\n",
    "    elk.refresh()\n",
    "typed_layout.observe(_element_type_opt_change, \"value\")\n",
    "\n",
    "elk"
   ]
  },
  {
   "cell_type": "markdown",
   "metadata": {},
   "source": [
    "The `typed_layout` widget can be used to adjust main title position by changing `Label` -> `Node Label Placement` "
   ]
  },
  {
   "cell_type": "code",
   "execution_count": 4,
   "metadata": {},
   "outputs": [
    {
     "data": {
      "application/vnd.jupyter.widget-view+json": {
       "model_id": "cdfb2ca5a0fa4f969d593d21fd3b3d38",
       "version_major": 2,
       "version_minor": 0
      },
      "text/plain": [
       "XELKTypedLayout(children=(OptionsWidget(children=(EdgeLabelSideSelection(children=(Dropdown(description='Edge …"
      ]
     },
     "metadata": {},
     "output_type": "display_data"
    }
   ],
   "source": [
    "typed_layout"
   ]
  },
  {
   "cell_type": "code",
   "execution_count": null,
   "metadata": {},
   "outputs": [],
   "source": []
  }
 ],
 "metadata": {
  "kernelspec": {
   "display_name": "Python 3",
   "language": "python",
   "name": "python3"
  },
  "language_info": {
   "codemirror_mode": {
    "name": "ipython",
    "version": 3
   },
   "file_extension": ".py",
   "mimetype": "text/x-python",
   "name": "python",
   "nbconvert_exporter": "python",
   "pygments_lexer": "ipython3",
   "version": "3.7.8"
  }
 },
 "nbformat": 4,
 "nbformat_minor": 4
}
