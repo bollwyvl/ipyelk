{
 "cells": [
  {
   "cell_type": "markdown",
   "metadata": {},
   "source": [
    "# 🦌 ELK Examples 🚀"
   ]
  },
  {
   "cell_type": "markdown",
   "metadata": {},
   "source": [
    "## Basic Examples\n",
    "\n",
    "- [🦌 Introducing ELK 👋](./00_Introduction.ipynb)\n",
    "- [🦌 Linking ELK Diagrams 🔗](./01_Linking.ipynb)"
   ]
  },
  {
   "cell_type": "markdown",
   "metadata": {},
   "source": [
    "## Working with `networkx`\n",
    "\n",
    "- [🦌 ELK Transformer 🤖](./02_Transformer.ipynb)\n",
    "- [🦌 ELK App 🚀](./03_App.ipynb)\n",
    "- [🦌 Interactive ELK App 🕹️](./04_Interactive.ipynb)"
   ]
  },
  {
   "cell_type": "markdown",
   "metadata": {},
   "source": [
    "## Exporting Diagrams\n",
    "\n",
    "- [🦌 SVG Exporter 🥡](./05_SVG_Exporter.ipynb)\n",
    "- [🦌 SVG App Exporter 🥡](./06_SVG_App_Exporter.ipynb)"
   ]
  },
  {
   "cell_type": "markdown",
   "metadata": {},
   "source": [
    "## Advanced Layout Options\n",
    "\n",
    "- [🦌 Node Label Placement 🏷️](./100_node_label_placement.ipynb)\n",
    "- [🦌 Text Sizer 📏](./101_text_sizer.ipynb)\n",
    "- [🦌 Layout Options](./102_layout_options.ipynb)\n",
    "- [🦌 Transformer Layout Options](./103_transformer_layout_options.ipynb)"
   ]
  }
 ],
 "metadata": {
  "kernelspec": {
   "display_name": "Python 3",
   "language": "python",
   "name": "python3"
  },
  "language_info": {
   "codemirror_mode": {
    "name": "ipython",
    "version": 3
   },
   "file_extension": ".py",
   "mimetype": "text/x-python",
   "name": "python",
   "nbconvert_exporter": "python",
   "pygments_lexer": "ipython3",
   "version": "3.7.8"
  }
 },
 "nbformat": 4,
 "nbformat_minor": 4
}
