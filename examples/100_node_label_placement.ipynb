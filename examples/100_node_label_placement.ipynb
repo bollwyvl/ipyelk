{
 "cells": [
  {
   "cell_type": "markdown",
   "metadata": {},
   "source": [
    "# Widget Experiments for Creating UI to control Label Placement"
   ]
  },
  {
   "cell_type": "code",
   "execution_count": null,
   "metadata": {},
   "outputs": [],
   "source": [
    "import json\n",
    "import pathlib\n",
    "\n",
    "import ipywidgets as W\n",
    "import traitlets as T\n",
    "\n",
    "import ipyelk\n",
    "\n",
    "\n",
    "class NodeLabelPlacement(W.HBox):\n",
    "    horizontal = T.Enum(values=[\"left\", \"center\", \"right\"], allow_none=True)\n",
    "    h_priority = T.Bool(allow_none=True)\n",
    "    vertical = T.Enum(values=[\"top\", \"center\", \"bottom\"], allow_none=True)\n",
    "    inside = T.Enum(values=[\"inside\", \"outside\"], default_value=\"inside\")\n",
    "    value = T.Unicode(allow_none=True)\n",
    "\n",
    "    def __init__(self, *args, **kwargs):\n",
    "        \"\"\"Simple widget to help format the ELK Node Label Placement. \n",
    "        \n",
    "        Hints for where node labels are to be placed; if empty, the node \n",
    "        label’s position is not modified.\n",
    "        \"\"\"\n",
    "        super().__init__(*args, **kwargs)\n",
    "\n",
    "        self.horizontal_options = W.RadioButtons(\n",
    "            description=\"Horizontal\",\n",
    "            options=((\"Left\", \"left\"), (\"Center\", \"center\"), (\"Right\", \"right\"),),\n",
    "        )\n",
    "        self.vertical_options = W.RadioButtons(\n",
    "            description=\"Vertical\",\n",
    "            options=((\"Top\", \"top\"), (\"Center\", \"center\"), (\"Bottom\", \"bottom\"),),\n",
    "        )\n",
    "        self.inside_options = W.Checkbox(description=\"Inside\")\n",
    "        self.horizontal_priority_options = W.Checkbox(description=\"Horizontal Priority\")\n",
    "\n",
    "        T.link((self, \"horizontal\"), (self.horizontal_options, \"value\"))\n",
    "        T.link((self, \"vertical\"), (self.vertical_options, \"value\"))\n",
    "        T.link((self, \"h_priority\"), (self.horizontal_priority_options, \"value\"))\n",
    "\n",
    "        def _handle_inside_change(change):\n",
    "            self.inside = \"inside\" if self.inside_options.value is True else \"outside\"\n",
    "\n",
    "        self.inside_options.observe(_handle_inside_change, \"value\")\n",
    "\n",
    "        self.children = [\n",
    "            self.horizontal_options,\n",
    "            self.vertical_options,\n",
    "            W.VBox([self.inside_options, self.horizontal_priority_options,]),\n",
    "        ]\n",
    "\n",
    "        self._update_value()\n",
    "\n",
    "    @T.observe(\"horizontal\", \"vertical\", \"inside\", \"h_priority\")\n",
    "    def _update_value(self, change=None):\n",
    "        self.inside_options.value = self.inside == \"inside\"\n",
    "        self.horizontal_priority_options.value = self.h_priority\n",
    "        options = []\n",
    "        if self.horizontal:\n",
    "            options.append(f\"H_{self.horizontal.upper()}\")\n",
    "        if self.vertical:\n",
    "            options.append(f\"V_{self.vertical.upper()}\")\n",
    "        if self.inside:\n",
    "            options.append(self.inside.upper())\n",
    "        if self.h_priority:\n",
    "            options.append(\"H_PRIORITY\")\n",
    "        if options:\n",
    "            self.value = f\"[{' '.join(options)}]\"\n",
    "        else:\n",
    "            self.value = None\n",
    "\n",
    "\n",
    "nlp = NodeLabelPlacement()\n",
    "nlp"
   ]
  },
  {
   "cell_type": "markdown",
   "metadata": {},
   "source": [
    "### ELKJSON build acceptable value for the label placement"
   ]
  },
  {
   "cell_type": "code",
   "execution_count": null,
   "metadata": {},
   "outputs": [],
   "source": [
    "nlp.value"
   ]
  },
  {
   "cell_type": "code",
   "execution_count": null,
   "metadata": {},
   "outputs": [],
   "source": [
    "nlp.horizontal = \"center\"\n",
    "nlp.vertical = \"top\""
   ]
  },
  {
   "cell_type": "code",
   "execution_count": null,
   "metadata": {},
   "outputs": [],
   "source": [
    "simple = ipyelk.ElkDiagram()\n",
    "\n",
    "\n",
    "def update_layout_options(node, options):\n",
    "    \"Recurse through the nodes and update layout options\"\n",
    "    for label in node.get(\"labels\", []):\n",
    "        if \"layoutOptions\" in label:\n",
    "            label[\"layoutOptions\"].update(options)\n",
    "        else:\n",
    "            label[\"layoutOptions\"] = options\n",
    "\n",
    "        label.pop(\"x\", None)\n",
    "        label.pop(\"y\", None)\n",
    "        label[\"height\"] = 15\n",
    "        label[\"width\"] = 5.4 * len(label[\"text\"])\n",
    "    for child in node.get(\"children\", []):\n",
    "        update_layout_options(child, options)\n",
    "\n",
    "\n",
    "def update_json(change):\n",
    "    elk_json = json.loads(pathlib.Path(\"simple.json\").read_text(encoding=\"utf-8\"))\n",
    "\n",
    "    layoutOptions = {\"nodeLabels.placement\": nlp.value}\n",
    "\n",
    "    #     elk_json[\"layoutOptions\"] = layoutOptions\n",
    "    #     elk_json[\"children\"][0][\"labels\"] = [\n",
    "    #         {'text': 'kernel', 'id': 'kernel_label', \"layoutOptions\": layoutOptions, \"width\":30, \"height\":15},\n",
    "    #         {'text': \"line 2\", 'id': 'kernel_label3', \"layoutOptions\": layoutOptions, \"width\":30, \"height\":15}\n",
    "    #     ]\n",
    "    update_layout_options(elk_json, layoutOptions)\n",
    "    simple.value = elk_json\n",
    "\n",
    "\n",
    "nlp.observe(update_json, \"value\")\n",
    "update_json(None)\n",
    "W.HBox([simple, nlp], layout={\"height\": \"400px\"})"
   ]
  },
  {
   "cell_type": "code",
   "execution_count": null,
   "metadata": {},
   "outputs": [],
   "source": [
    "from IPython.display import JSON\n",
    "\n",
    "JSON(simple.value)"
   ]
  }
 ],
 "metadata": {
  "kernelspec": {
   "display_name": "Python 3",
   "language": "python",
   "name": "python3"
  },
  "language_info": {
   "codemirror_mode": {
    "name": "ipython",
    "version": 3
   },
   "file_extension": ".py",
   "mimetype": "text/x-python",
   "name": "python",
   "nbconvert_exporter": "python",
   "pygments_lexer": "ipython3",
   "version": "3.7.8"
  }
 },
 "nbformat": 4,
 "nbformat_minor": 4
}
