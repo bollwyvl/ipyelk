{
 "cells": [
  {
   "cell_type": "markdown",
   "metadata": {},
   "source": [
    "# 🦌 Node Label Placement 🏷️"
   ]
  },
  {
   "cell_type": "code",
   "execution_count": null,
   "metadata": {},
   "outputs": [],
   "source": [
    "import asyncio\n",
    "import json\n",
    "import pathlib\n",
    "\n",
    "import ipywidgets as W\n",
    "import traitlets as T\n",
    "\n",
    "import ipyelk\n",
    "from ipyelk.diagram import layout_options"
   ]
  },
  {
   "cell_type": "code",
   "execution_count": null,
   "metadata": {},
   "outputs": [],
   "source": [
    "nlp = layout_options.NodeLabelPlacement()\n",
    "nlp"
   ]
  },
  {
   "cell_type": "markdown",
   "metadata": {},
   "source": [
    "ELKJSON build acceptable value for the label placement"
   ]
  },
  {
   "cell_type": "code",
   "execution_count": null,
   "metadata": {},
   "outputs": [],
   "source": [
    "nlp.value"
   ]
  },
  {
   "cell_type": "markdown",
   "metadata": {},
   "source": [
    "### Example connecting NodeLabelPlacement widget value to the label layoutOptions"
   ]
  },
  {
   "cell_type": "code",
   "execution_count": null,
   "metadata": {},
   "outputs": [],
   "source": [
    "simple = ipyelk.ElkDiagram()\n",
    "sizer = ipyelk.diagram.ElkTextSizer()\n",
    "\n",
    "\n",
    "async def update_label_layout_options(node, options):\n",
    "    \"Recurse through the nodes and update layout options\"\n",
    "    for label in node.get(\"labels\", []):\n",
    "        if \"layoutOptions\" in label:\n",
    "            label[\"layoutOptions\"].update(options)\n",
    "        else:\n",
    "            label[\"layoutOptions\"] = options\n",
    "\n",
    "        # removing rigid x and y placement\n",
    "        label.pop(\"x\", None)\n",
    "        label.pop(\"y\", None)\n",
    "\n",
    "        # updating label size with measured values from the DOM\n",
    "        size = await sizer.measure(label.get(\"text\"))\n",
    "        label[\"height\"] = size.height\n",
    "        label[\"width\"] = size.width\n",
    "    for child in node.get(\"children\", []):\n",
    "        await update_label_layout_options(child, options)\n",
    "\n",
    "\n",
    "async def update_json():\n",
    "    elk_json = json.loads(pathlib.Path(\"simple.json\").read_text(encoding=\"utf-8\"))\n",
    "    elk_json[\"properties\"] = {\"algorithm\": \"layered\"}\n",
    "    layoutOptions = {\"nodeLabels.placement\": nlp.value}\n",
    "    await update_label_layout_options(elk_json, layoutOptions)\n",
    "    simple.value = elk_json\n",
    "\n",
    "\n",
    "def refresh(change=None):\n",
    "    \"\"\"Wrapper function for scheduling the async update_json function\"\"\"\n",
    "    asyncio.create_task(update_json())\n",
    "\n",
    "\n",
    "nlp.observe(refresh, \"value\")\n",
    "refresh()\n",
    "W.HBox([simple, nlp], layout={\"height\": \"400px\"})"
   ]
  },
  {
   "cell_type": "markdown",
   "metadata": {},
   "source": [
    "## 🦌 Learn More 📖\n",
    "\n",
    "- [🦌 Introducing ELK 👋](./00_Introduction.ipynb)\n",
    "- [🦌 Linking ELK Diagrams 🔗](./01_Linking.ipynb)\n",
    "- [🦌 ELK Transformer 🤖](./02_Transformer.ipynb)\n",
    "- [🦌 ELK App 🚀](./03_App.ipynb)\n",
    "- [🦌 Interactive ELK App 🕹️](./04_Interactive.ipynb)\n",
    "- [🦌 Node Label Placement 🏷️](./100_node_label_placement.ipynb)\n",
    "- [🦌 Text Sizer 📏](./101_text_sizer.ipynb)"
   ]
  }
 ],
 "metadata": {
  "kernelspec": {
   "display_name": "Python 3",
   "language": "python",
   "name": "python3"
  },
  "language_info": {
   "codemirror_mode": {
    "name": "ipython",
    "version": 3
   },
   "file_extension": ".py",
   "mimetype": "text/x-python",
   "name": "python",
   "nbconvert_exporter": "python",
   "pygments_lexer": "ipython3",
   "version": "3.7.8"
  }
 },
 "nbformat": 4,
 "nbformat_minor": 4
}
